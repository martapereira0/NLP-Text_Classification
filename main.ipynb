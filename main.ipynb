{
  "cells": [
    {
      "cell_type": "code",
      "execution_count": 1,
      "metadata": {
        "colab": {
          "base_uri": "https://localhost:8080/"
        },
        "id": "jff9afchpGf3",
        "outputId": "3d2853fd-910a-4f95-9580-bdeaa0ac351b"
      },
      "outputs": [
        {
          "data": {
            "text/plain": [
              "'! pip install datasets\\n! pip install matplotlib\\n! pip install scikit-learn\\n! pip install spacy\\n! pip install nltk\\n! pip install pattern\\n! pip install wordcloud\\n! pip install gensim\\n! pip install xgboost\\n# ! python -m spacy download pt_core_news_sm\\n! python -m spacy download pt_core_news_lg'"
            ]
          },
          "execution_count": 1,
          "metadata": {},
          "output_type": "execute_result"
        }
      ],
      "source": [
        "\"\"\"! pip install datasets\n",
        "! pip install matplotlib\n",
        "! pip install scikit-learn\n",
        "! pip install spacy\n",
        "! pip install nltk\n",
        "! pip install pattern\n",
        "! pip install wordcloud\n",
        "! pip install gensim\n",
        "! pip install xgboost\n",
        "# ! python -m spacy download pt_core_news_sm\n",
        "! python -m spacy download pt_core_news_lg\"\"\""
      ]
    },
    {
      "cell_type": "code",
      "execution_count": 2,
      "metadata": {
        "id": "ZvZEpzSwpGf5"
      },
      "outputs": [
        {
          "name": "stderr",
          "output_type": "stream",
          "text": [
            "/opt/anaconda3/envs/NLP_Ass1/lib/python3.10/site-packages/tqdm/auto.py:21: TqdmWarning: IProgress not found. Please update jupyter and ipywidgets. See https://ipywidgets.readthedocs.io/en/stable/user_install.html\n",
            "  from .autonotebook import tqdm as notebook_tqdm\n",
            "[nltk_data] Downloading package stopwords to\n",
            "[nltk_data]     /Users/martapereira/nltk_data...\n",
            "[nltk_data]   Package stopwords is already up-to-date!\n"
          ]
        }
      ],
      "source": [
        "from sklearn.metrics import classification_report, f1_score, hamming_loss, confusion_matrix\n",
        "from sklearn.feature_extraction.text import TfidfVectorizer\n",
        "from sklearn.exceptions import UndefinedMetricWarning\n",
        "from sklearn.linear_model import LogisticRegression\n",
        "from sklearn.metrics import precision_recall_curve\n",
        "from sklearn.multiclass import OneVsRestClassifier\n",
        "from sklearn.naive_bayes import MultinomialNB\n",
        "from sklearn.pipeline import Pipeline\n",
        "from nltk.stem import SnowballStemmer\n",
        "from gensim.models import Word2Vec\n",
        "from xgboost import XGBClassifier\n",
        "from sklearn.svm import LinearSVC\n",
        "from datasets import load_dataset\n",
        "from nltk.corpus import stopwords\n",
        "import matplotlib.pyplot as plt\n",
        "from collections import Counter\n",
        "from scipy.sparse import vstack\n",
        "import pandas as pd\n",
        "import numpy as np\n",
        "import warnings\n",
        "import spacy\n",
        "import nltk\n",
        "import re\n",
        "\n",
        "nltk.download('stopwords')\n",
        "\n",
        "warnings.filterwarnings(\"ignore\", category=UndefinedMetricWarning)\n"
      ]
    },
    {
      "cell_type": "markdown",
      "metadata": {
        "id": "dHv1V0r_pGf5"
      },
      "source": [
        "## **Data Loading and Understanding**"
      ]
    },
    {
      "cell_type": "code",
      "execution_count": 3,
      "metadata": {
        "colab": {
          "base_uri": "https://localhost:8080/",
          "height": 365,
          "referenced_widgets": [
            "55dbd4d9933a46d5a230f2ba98ab38d4",
            "ff25792dde18424189d6dde2f6a094bc",
            "2603110cb02649169e9abad90d473da0",
            "90dc904528b846ad823bfb43b7fcb113",
            "85623f4d39f349d19344dbea0db495cc",
            "1247ac16448847e3a7450df0761e5fe5",
            "b94a0901eced4cfbac0dc6352961e0fd",
            "76158fec5e0b455c8d9bec3c6f9272f0",
            "9193c870b4bb4433a334e567723aac5b",
            "01c16b1bdeb9431aa822b9fcdcfcf85a",
            "55876ce7e3e14d49b49a1eca387cc79a",
            "c47cce0dd15740868d1101da7345516f",
            "a7dbb0968bb746e19fef157837a92523",
            "a94aa845077548c58f19e95505f9c94a",
            "05b1d177fe1944879070794a7ba6524c",
            "bc262c84e7d14d879f2273d5199e994b",
            "5e4182a626724a1cadd620c73091950d",
            "054face69c9e489da83f7b0c9a13e2f2",
            "13c77c0d994d4b078fddfbb65b22568b",
            "4f921a19a08945daadf4234b922dd8d9",
            "db03ef3faf634723937bd63b0bdf5743",
            "ff83d248844442a6b0a9515edc2408cf",
            "580253ecc45f4abdbace93950ccf3555",
            "47c345ae9e4248c1ada37593163e4954",
            "f8a77ead79ba44d2822dfd542dc7ee74",
            "81e071c1fba14b43b3e77bc720ea5ad4",
            "8992e482e377457da2fa98f1bbca822c",
            "8920dc1efafb40579401906ded8a65bc",
            "84acb679f49143638a92daaeb5a17c51",
            "a76c5da2514d4f2197e78f11c6cf0e0c",
            "fdebe9ec20484e379e4ae5b8f1e90b49",
            "d2621e038a434c6db6cb7f89482de60f",
            "fa476e39cd7d40df8810cdc229b1aafa",
            "f249bc03ed774224a105fddeb848fe85",
            "73ddc4cfa7734011bb1fa917b1052002",
            "01eb65ca545847e6b37e527f75e8483b",
            "ed0232a544e9463dbb465e5aca4844e6",
            "a9b0a370b948487cbaa398f93a5ac29e",
            "03ce90df7012481887d8cb6f7d9a80b1",
            "44501831425d4374bebf10373eb8a12d",
            "ee28779cea59400398cc71c1221dc031",
            "621f61898aad461c83b66201dc5e35e2",
            "d115796a58f9402f8cf600e53f38c5da",
            "6169e12f5ab14872b3aab1dde74aafb2",
            "a9f18a93c4a24124aac07d6bc95ec464",
            "522d39c715e0479cb08ed92a52a851b4",
            "5b5da53e65744dad8ddcad236f87df63",
            "3efb3b3c8a8a48149ece9a7d8d138214",
            "288c951d86aa4aeab0beaa03b7d84b5d",
            "131e022346fa41e9abefa39dc71a05f4",
            "26f4e16dcf394f14a5885d414e3b3a6f",
            "b718396bebea458b80653bb19f239474",
            "66d48b1ec3074c56a9b20735e72f5900",
            "022aafa327a3457b87539066390136e7",
            "49e36ab5c36242079573965fff7041d9",
            "2657aea3695a44e78363c13ebe0fcca4",
            "f8ed7d9c007a4465a75744444e9bf82d",
            "c946ffde64c24542b2020b55354abee7",
            "616c26649fac416faa36fd6d862912c1",
            "e413fc2e24c94e1aa74b17fb379af604",
            "f7d71b43b2ee4ddea005d55d894e5055",
            "783e4bcb81e64d148e1ca0ea4a7a2d73",
            "8f1e2989b11e4de281a4d88f16020c7c",
            "dda2a3005aa74050a38a146f593439d8",
            "bffa851ed08b492a8bbbc5e344330662",
            "9898897ec09d4a23b5aa55718a978497",
            "116f4d3f3ac94b918c86da53c5ad5563",
            "3086ea9f69ba4589b76be54883e961bd",
            "44311693ec4e4666aafb8584aa2f4ffb",
            "ec7c298ca2654039ac0f5ba61a1817fd",
            "305ad6740e214bd99f5278a9abfd53b6",
            "103bf2d329034b4596c3101b75e24ac6",
            "f00644a1498c49bcad5dd8e5489711cc",
            "8fd68620b9c44caea4de01b21da98fb4",
            "54e52e2e7824487ca38d95149210f9d8",
            "9fbe2a03768e4ce1872daff2313a8d5c",
            "008bbb24a07a44269a22ffa7d7aa137a"
          ]
        },
        "id": "6ISNk-4GpGf6",
        "outputId": "f6ad7fdf-1aa3-4c8a-dbf7-f381c080f1c1"
      },
      "outputs": [],
      "source": [
        "dataset = load_dataset(\"higopires/RePro-categories-multilabel\")"
      ]
    },
    {
      "cell_type": "code",
      "execution_count": 4,
      "metadata": {
        "colab": {
          "base_uri": "https://localhost:8080/"
        },
        "id": "fcaV-dlWpGf6",
        "outputId": "0e443320-61a3-4b84-e4eb-7903ef57f37a"
      },
      "outputs": [
        {
          "name": "stdout",
          "output_type": "stream",
          "text": [
            "train: 8002 examples\n",
            "validation: 994 examples\n",
            "test: 1007 examples\n"
          ]
        }
      ],
      "source": [
        "# Ver número de exemplos em cada divisão do dataset\n",
        "for split in dataset.keys():\n",
        "    print(f\"{split}: {len(dataset[split])} examples\")"
      ]
    },
    {
      "cell_type": "code",
      "execution_count": 5,
      "metadata": {
        "id": "zh10cZ4ApGf6"
      },
      "outputs": [],
      "source": [
        "train_dataset = dataset[\"train\"]\n",
        "val_dataset = dataset[\"validation\"]\n",
        "test_dataset = dataset[\"test\"]\n",
        "\n",
        "train_data = pd.DataFrame(train_dataset)\n",
        "val_data = pd.DataFrame(val_dataset)\n",
        "test_data = pd.DataFrame(test_dataset)"
      ]
    },
    {
      "cell_type": "code",
      "execution_count": 6,
      "metadata": {
        "colab": {
          "base_uri": "https://localhost:8080/",
          "height": 206
        },
        "id": "c6ysp_4spGf6",
        "outputId": "cc921369-4793-48bd-abc5-430535316081"
      },
      "outputs": [
        {
          "data": {
            "text/html": [
              "<div>\n",
              "<style scoped>\n",
              "    .dataframe tbody tr th:only-of-type {\n",
              "        vertical-align: middle;\n",
              "    }\n",
              "\n",
              "    .dataframe tbody tr th {\n",
              "        vertical-align: top;\n",
              "    }\n",
              "\n",
              "    .dataframe thead th {\n",
              "        text-align: right;\n",
              "    }\n",
              "</style>\n",
              "<table border=\"1\" class=\"dataframe\">\n",
              "  <thead>\n",
              "    <tr style=\"text-align: right;\">\n",
              "      <th></th>\n",
              "      <th>review_text</th>\n",
              "      <th>ENTREGA</th>\n",
              "      <th>OUTROS</th>\n",
              "      <th>PRODUTO</th>\n",
              "      <th>CONDICOESDERECEBIMENTO</th>\n",
              "      <th>INADEQUADA</th>\n",
              "      <th>ANUNCIO</th>\n",
              "    </tr>\n",
              "  </thead>\n",
              "  <tbody>\n",
              "    <tr>\n",
              "      <th>0</th>\n",
              "      <td>Aparelho muito bom, confiável e com valor aqui...</td>\n",
              "      <td>0</td>\n",
              "      <td>0</td>\n",
              "      <td>1</td>\n",
              "      <td>0</td>\n",
              "      <td>0</td>\n",
              "      <td>0</td>\n",
              "    </tr>\n",
              "    <tr>\n",
              "      <th>1</th>\n",
              "      <td>A história é muito boa, porém o autor \"enrolou...</td>\n",
              "      <td>0</td>\n",
              "      <td>0</td>\n",
              "      <td>1</td>\n",
              "      <td>0</td>\n",
              "      <td>0</td>\n",
              "      <td>0</td>\n",
              "    </tr>\n",
              "    <tr>\n",
              "      <th>2</th>\n",
              "      <td>Entrega rápida, produto muito bom Amei. Pratic...</td>\n",
              "      <td>1</td>\n",
              "      <td>0</td>\n",
              "      <td>1</td>\n",
              "      <td>0</td>\n",
              "      <td>0</td>\n",
              "      <td>0</td>\n",
              "    </tr>\n",
              "    <tr>\n",
              "      <th>3</th>\n",
              "      <td>Produto otimo so falta o carregador da maquina...</td>\n",
              "      <td>0</td>\n",
              "      <td>0</td>\n",
              "      <td>1</td>\n",
              "      <td>1</td>\n",
              "      <td>0</td>\n",
              "      <td>0</td>\n",
              "    </tr>\n",
              "    <tr>\n",
              "      <th>4</th>\n",
              "      <td>a proteção anti queda não é boa  se cair de fr...</td>\n",
              "      <td>0</td>\n",
              "      <td>0</td>\n",
              "      <td>1</td>\n",
              "      <td>0</td>\n",
              "      <td>0</td>\n",
              "      <td>0</td>\n",
              "    </tr>\n",
              "  </tbody>\n",
              "</table>\n",
              "</div>"
            ],
            "text/plain": [
              "                                         review_text  ENTREGA  OUTROS  \\\n",
              "0  Aparelho muito bom, confiável e com valor aqui...        0       0   \n",
              "1  A história é muito boa, porém o autor \"enrolou...        0       0   \n",
              "2  Entrega rápida, produto muito bom Amei. Pratic...        1       0   \n",
              "3  Produto otimo so falta o carregador da maquina...        0       0   \n",
              "4  a proteção anti queda não é boa  se cair de fr...        0       0   \n",
              "\n",
              "   PRODUTO  CONDICOESDERECEBIMENTO  INADEQUADA  ANUNCIO  \n",
              "0        1                       0           0        0  \n",
              "1        1                       0           0        0  \n",
              "2        1                       0           0        0  \n",
              "3        1                       1           0        0  \n",
              "4        1                       0           0        0  "
            ]
          },
          "execution_count": 6,
          "metadata": {},
          "output_type": "execute_result"
        }
      ],
      "source": [
        "train_data.head()"
      ]
    },
    {
      "cell_type": "markdown",
      "metadata": {
        "id": "F1IscX0MpGf6"
      },
      "source": [
        "Checking the missing values"
      ]
    },
    {
      "cell_type": "code",
      "execution_count": 7,
      "metadata": {
        "colab": {
          "base_uri": "https://localhost:8080/",
          "height": 303
        },
        "id": "tsMJLdC7pGf6",
        "outputId": "929c4d0c-94ec-4e88-cf3b-e4a98ff16a95"
      },
      "outputs": [
        {
          "data": {
            "text/plain": [
              "review_text               0\n",
              "ENTREGA                   0\n",
              "OUTROS                    0\n",
              "PRODUTO                   0\n",
              "CONDICOESDERECEBIMENTO    0\n",
              "INADEQUADA                0\n",
              "ANUNCIO                   0\n",
              "dtype: int64"
            ]
          },
          "execution_count": 7,
          "metadata": {},
          "output_type": "execute_result"
        }
      ],
      "source": [
        "train_data.isnull().sum()"
      ]
    },
    {
      "cell_type": "markdown",
      "metadata": {
        "id": "5MGyMvDIpGf6"
      },
      "source": [
        "Example of some reviews"
      ]
    },
    {
      "cell_type": "code",
      "execution_count": 8,
      "metadata": {
        "colab": {
          "base_uri": "https://localhost:8080/"
        },
        "id": "uIbkL7RHpGf7",
        "outputId": "d1b78b78-d1c6-473b-8520-e8090a6057ba"
      },
      "outputs": [
        {
          "name": "stdout",
          "output_type": "stream",
          "text": [
            "Entrega rápida, produto muito bom Amei. Praticidade\n"
          ]
        }
      ],
      "source": [
        "print(train_data[\"review_text\"][2])"
      ]
    },
    {
      "cell_type": "code",
      "execution_count": 9,
      "metadata": {
        "colab": {
          "base_uri": "https://localhost:8080/"
        },
        "id": "N8WisrZ-pGf7",
        "outputId": "17b829be-6fb8-45d3-a12d-d937df232a86"
      },
      "outputs": [
        {
          "name": "stdout",
          "output_type": "stream",
          "text": [
            "...................     ..........gdssdfhhbcxxxxvbjjnvvvvbbbbbvxfvhbbbnncftg\n"
          ]
        }
      ],
      "source": [
        "print(train_data[\"review_text\"][7])"
      ]
    },
    {
      "cell_type": "code",
      "execution_count": 10,
      "metadata": {
        "colab": {
          "base_uri": "https://localhost:8080/"
        },
        "id": "9DDcTix8pGf7",
        "outputId": "43d82a1e-c802-4208-e6ee-21419e02d8d6"
      },
      "outputs": [
        {
          "name": "stdout",
          "output_type": "stream",
          "text": [
            "<class 'str'>\n",
            "<class 'numpy.int64'>\n"
          ]
        }
      ],
      "source": [
        "# check data type of review_text\n",
        "print(type(train_data[\"review_text\"][0]))\n",
        "# check data type of label PRODUTO\n",
        "print(type(train_data[\"PRODUTO\"][0]))"
      ]
    },
    {
      "cell_type": "code",
      "execution_count": 11,
      "metadata": {
        "colab": {
          "base_uri": "https://localhost:8080/",
          "height": 35
        },
        "id": "TWJhfEM6pGf7",
        "outputId": "e4e497c5-8b83-4ca2-e5ed-77f04720f5fe"
      },
      "outputs": [
        {
          "data": {
            "text/plain": [
              "\"train_data['length'] = train_data['review_text'].apply(len)\\ntrain_data.head()\""
            ]
          },
          "execution_count": 11,
          "metadata": {},
          "output_type": "execute_result"
        }
      ],
      "source": [
        "\"\"\"train_data['length'] = train_data['review_text'].apply(len)\n",
        "train_data.head()\"\"\""
      ]
    },
    {
      "cell_type": "code",
      "execution_count": 12,
      "metadata": {
        "colab": {
          "base_uri": "https://localhost:8080/"
        },
        "id": "fextcby8pGf7",
        "outputId": "6a129740-50c3-4938-84c5-954e03795863"
      },
      "outputs": [
        {
          "name": "stdout",
          "output_type": "stream",
          "text": [
            "Labels: ['ENTREGA', 'OUTROS', 'PRODUTO', 'CONDICOESDERECEBIMENTO', 'INADEQUADA', 'ANUNCIO']\n",
            "Number of labels: 6\n"
          ]
        }
      ],
      "source": [
        "# Obter as colunas (nomes dos labels)\n",
        "columns = list(dataset[\"train\"].features.keys())\n",
        "labels = columns[1:]  # Excluindo 'review_text'\n",
        "\n",
        "print(\"Labels:\", labels)\n",
        "print(\"Number of labels:\", len(labels))"
      ]
    },
    {
      "cell_type": "code",
      "execution_count": 13,
      "metadata": {
        "id": "QG94N4FdpGf7"
      },
      "outputs": [],
      "source": [
        "# Label columns\n",
        "label_cols = ['ENTREGA', 'OUTROS', 'PRODUTO', 'CONDICOESDERECEBIMENTO', 'INADEQUADA', 'ANUNCIO']"
      ]
    },
    {
      "cell_type": "markdown",
      "metadata": {
        "id": "RnuvxLoMsdUr"
      },
      "source": [
        "## **EDA**"
      ]
    },
    {
      "cell_type": "code",
      "execution_count": 14,
      "metadata": {
        "colab": {
          "base_uri": "https://localhost:8080/",
          "height": 645
        },
        "id": "jHFrJLlNpGf7",
        "outputId": "6d92098b-8f2a-49e1-e2a0-a12b22cbf828"
      },
      "outputs": [
        {
          "name": "stdout",
          "output_type": "stream",
          "text": [
            "{'PRODUTO': 6258, 'ENTREGA': 2488, 'OUTROS': 1885, 'CONDICOESDERECEBIMENTO': 1369, 'ANUNCIO': 699, 'INADEQUADA': 328}\n"
          ]
        },
        {
          "data": {
            "image/png": "[encoded data removed]",
            "text/plain": [
              "<Figure size 1200x500 with 1 Axes>"
            ]
          },
          "metadata": {},
          "output_type": "display_data"
        }
      ],
      "source": [
        "label_counts = train_data.iloc[:, 1:].sum()\n",
        "\n",
        "# Ordenar por frequência\n",
        "label_counts = dict(sorted(label_counts.items(), key=lambda item: item[1], reverse=True))\n",
        "\n",
        "print(label_counts)\n",
        "\n",
        "# Plotar gráfico\n",
        "plt.figure(figsize=(12, 5))\n",
        "plt.bar(label_counts.keys(), label_counts.values(), color=\"skyblue\")\n",
        "plt.xticks(rotation=45, ha=\"right\")\n",
        "plt.xlabel(\"Categories\")\n",
        "plt.ylabel(\"Number of examples\")\n",
        "plt.title(\"Categories Distribution\")\n",
        "plt.show()"
      ]
    },
    {
      "cell_type": "code",
      "execution_count": 15,
      "metadata": {
        "colab": {
          "base_uri": "https://localhost:8080/",
          "height": 594
        },
        "id": "YirYGqhIpGf7",
        "outputId": "19b4ede5-c954-4084-d203-162821b65f1f"
      },
      "outputs": [
        {
          "name": "stdout",
          "output_type": "stream",
          "text": [
            "Number of labels per review distribution:\n",
            "1    4188\n",
            "2    2741\n",
            "3     943\n",
            "4     122\n",
            "5       8\n",
            "Name: count, dtype: int64\n"
          ]
        },
        {
          "data": {
            "image/png": "[encoded data removed]",
            "text/plain": [
              "<Figure size 640x480 with 1 Axes>"
            ]
          },
          "metadata": {},
          "output_type": "display_data"
        }
      ],
      "source": [
        "label_counts_per_review = train_data[label_cols].sum(axis=1)\n",
        "print(\"Number of labels per review distribution:\")\n",
        "print(pd.Series(label_counts_per_review).value_counts())\n",
        "\n",
        "plt.hist(label_counts_per_review, bins=range(1, 7), align='left', rwidth=0.8)\n",
        "plt.title(\"Distribution of Labels per Review\")\n",
        "plt.xlabel(\"Number of Labels\")\n",
        "plt.ylabel(\"Number of Reviews\")\n",
        "plt.show()"
      ]
    },
    {
      "cell_type": "markdown",
      "metadata": {
        "id": "uhOJhNjKpGf8"
      },
      "source": [
        "* 4188 reviews have exactly 1 label\n",
        "* 2741 reviews have exactly 2 labels\n",
        "* 943 reviews have exactly 3 labels\n",
        "* 122 reviews have exactly 4 labels\n",
        "* 8 reviews have exactly 5 labels"
      ]
    },
    {
      "cell_type": "code",
      "execution_count": 16,
      "metadata": {
        "colab": {
          "base_uri": "https://localhost:8080/",
          "height": 694
        },
        "id": "elcXQ4u0pGf8",
        "outputId": "48997cc6-5981-440e-9b8b-cb247f8794df"
      },
      "outputs": [
        {
          "data": {
            "image/png": "[encoded data removed]",
            "text/plain": [
              "<Figure size 800x800 with 1 Axes>"
            ]
          },
          "metadata": {},
          "output_type": "display_data"
        }
      ],
      "source": [
        "label_counts = label_counts_per_review.value_counts().values\n",
        "total_reviews = 8002 # number of training examples\n",
        "percentages = [count / total_reviews * 100 for count in label_counts]\n",
        "labels = ['1 Label (52%)', '2 Labels (34%)', '3 Labels (12%)', '4 Labels (2%)', '5 Labels (<1%)']\n",
        "\n",
        "# Create pie chart\n",
        "plt.figure(figsize=(8, 8))\n",
        "# Add explode to pull out small slices, and adjust label distance\n",
        "explode = [0, 0, 0, 0.2, 0.4]  # Pull out 4 and 5 labels a bit\n",
        "wedges, texts, autotexts = plt.pie(percentages, labels=labels, autopct='%1.0f%%', startangle=90,\n",
        "                                   colors=['#FF9999', '#66B2FF', '#99FF99', '#FFCC99', '#FF99CC'],\n",
        "                                   explode=explode, labeldistance=1.1, pctdistance=0.7)\n",
        "\n",
        "# Customize text for readability\n",
        "for text in texts:\n",
        "    text.set_fontsize(12)  # Bigger label text\n",
        "for autotext in autotexts:\n",
        "    autotext.set_fontsize(10)  # Bigger percentage text\n",
        "    autotext.set_color('black')  # Black for contrast\n",
        "\n",
        "plt.title(\"Distribution of Labels per Review (8002 Reviews)\", pad=20)\n",
        "plt.axis('equal')  # Keep it circular\n",
        "plt.show()"
      ]
    },
    {
      "cell_type": "code",
      "execution_count": 17,
      "metadata": {
        "colab": {
          "base_uri": "https://localhost:8080/"
        },
        "id": "FTpNBR87pGf8",
        "outputId": "7c03a91d-c94c-4dba-dc02-6565f04d8ccd"
      },
      "outputs": [
        {
          "name": "stdout",
          "output_type": "stream",
          "text": [
            "Average text length: 24.58 words\n",
            "Maximum text length: 428 words\n",
            "Minimum text length: 1 words\n"
          ]
        }
      ],
      "source": [
        "text_lengths = [len(example[\"review_text\"].split()) for example in dataset[\"train\"]]\n",
        "\n",
        "print(f\"Average text length: {np.mean(text_lengths):.2f} words\")\n",
        "print(f\"Maximum text length: {np.max(text_lengths)} words\")\n",
        "print(f\"Minimum text length: {np.min(text_lengths)} words\")"
      ]
    },
    {
      "cell_type": "code",
      "execution_count": 18,
      "metadata": {},
      "outputs": [
        {
          "name": "stdout",
          "output_type": "stream",
          "text": [
            "Raw Vocabulary Size: 12742\n",
            "Most Common Words: [('o', 7032), ('e', 6464), ('a', 5831), ('de', 5458), ('não', 4924), ('produto', 4296), ('que', 4200), ('é', 3167), ('muito', 2923), ('com', 2743), ('do', 2700), ('um', 2196), ('para', 2114), ('no', 1504), ('da', 1501), ('mas', 1429), ('bom', 1426), ('em', 1342), ('na', 1325), ('entrega', 1306)]\n",
            "Example of Rare Words: ['aquisitivo', 'gdssdfhhbcxxxxvbjjnvvvvbbbbbvxfvhbbbnncftg', 'genero', 'xxxxxxxxxxxxxxxxxxxxxxxxxxxxxxxxxx', 'constatada', 'habilitada', 'opnar', 'oproduto', 'ceição', 'soares']\n"
          ]
        },
        {
          "data": {
            "image/png": "[encoded data removed]",
            "text/plain": [
              "<Figure size 1200x500 with 1 Axes>"
            ]
          },
          "metadata": {},
          "output_type": "display_data"
        }
      ],
      "source": [
        "# Tokenize words from raw reviews\n",
        "raw_texts = \" \".join(train_data[\"review_text\"]).lower()\n",
        "raw_tokens = re.findall(r'\\b\\w+\\b', raw_texts)  # Extract words\n",
        "raw_vocab_size = len(set(raw_tokens))  # Unique words\n",
        "raw_word_counts = Counter(raw_tokens)\n",
        "\n",
        "# Most common words (before preprocessing)\n",
        "common_raw_words = raw_word_counts.most_common(20)\n",
        "\n",
        "# Least common words (words that appear once)\n",
        "rare_raw_words = [word for word, count in raw_word_counts.items() if count == 1]\n",
        "\n",
        "print(f\"Raw Vocabulary Size: {raw_vocab_size}\")\n",
        "print(f\"Most Common Words: {common_raw_words}\")\n",
        "print(f\"Example of Rare Words: {rare_raw_words[:10]}\")\n",
        "\n",
        "# plot top 20 most common words\n",
        "plt.figure(figsize=(12, 5))\n",
        "plt.bar([word for word, count in common_raw_words], [count for word, count in common_raw_words], color=\"skyblue\")\n",
        "plt.xticks(rotation=45, ha=\"right\")\n",
        "plt.xlabel(\"Words\")\n",
        "plt.ylabel(\"Frequency\")\n",
        "plt.title(\"Top 20 Most Common Words (Raw Text)\")\n",
        "plt.show()"
      ]
    },
    {
      "cell_type": "markdown",
      "metadata": {
        "id": "Ur2eEW7Msotn"
      },
      "source": [
        "## **Preprocessing**"
      ]
    },
    {
      "cell_type": "code",
      "execution_count": 19,
      "metadata": {
        "id": "yUrS88PJullN"
      },
      "outputs": [],
      "source": [
        "# Load the Portuguese language model\n",
        "nlp = spacy.load('pt_core_news_lg')\n",
        "\n",
        "# Initialize the Snowball Stemmer for Portuguese\n",
        "stemmer = SnowballStemmer(\"portuguese\")\n",
        "\n",
        "def preprocess_text(text, method=\"lemma\"):\n",
        "    \"\"\"\n",
        "    Preprocess text by applying lemmatization or stemming.\n",
        "\n",
        "    Parameters:\n",
        "    - text (str): Input text\n",
        "    - method (str): \"lemma\" for lemmatization, \"stem\" for stemming\n",
        "\n",
        "    Returns:\n",
        "    - str: Preprocessed text\n",
        "    \"\"\"\n",
        "    # Lowercase\n",
        "    text = text.lower()\n",
        "    # Remove punctuation and numbers\n",
        "    text = re.sub(r'[^\\w\\s]', '', text)\n",
        "    text = re.sub(r'\\d+', '', text)\n",
        "\n",
        "    # Tokenization and processing\n",
        "    doc = nlp(text)\n",
        "\n",
        "    if method == \"lemma\":\n",
        "        tokens = [token.lemma_ for token in doc if not token.is_stop]\n",
        "    elif method == \"stem\":\n",
        "        tokens = [stemmer.stem(token.text) for token in doc if not token.is_stop]\n",
        "    else:\n",
        "        raise ValueError(\"Method must be 'lemma' or 'stem'\")\n",
        "\n",
        "    return ' '.join(tokens)\n",
        "\n",
        "# Apply preprocessing with both methods to compare\n",
        "train_data['lemmatized_reviews'] = train_data['review_text'].apply(lambda x: preprocess_text(x, method=\"lemma\"))\n",
        "train_data['stemmed_reviews'] = train_data['review_text'].apply(lambda x: preprocess_text(x, method=\"stem\"))\n",
        "\n",
        "val_data['lemmatized_reviews'] = val_data['review_text'].apply(lambda x: preprocess_text(x, method=\"lemma\"))\n",
        "val_data['stemmed_reviews'] = val_data['review_text'].apply(lambda x: preprocess_text(x, method=\"stem\"))\n",
        "\n",
        "test_data['lemmatized_reviews'] = test_data['review_text'].apply(lambda x: preprocess_text(x, method=\"lemma\"))\n",
        "test_data['stemmed_reviews'] = test_data['review_text'].apply(lambda x: preprocess_text(x, method=\"stem\"))\n"
      ]
    },
    {
      "cell_type": "code",
      "execution_count": 20,
      "metadata": {
        "colab": {
          "base_uri": "https://localhost:8080/"
        },
        "id": "zWhSRJlquzlA",
        "outputId": "9d82d511-4192-48b7-87b0-39e65e27386e"
      },
      "outputs": [
        {
          "name": "stdout",
          "output_type": "stream",
          "text": [
            "Original: Aparelho muito bom, confiável e com valor aquisitivo em conta, ou seja: tudo que a massa precisa!\n",
            "Lemmatized: aparelho confiável aquisitivo conta ser massa precisar\n",
            "Stemmed: aparelh confiável aquisit cont sej mass precis\n"
          ]
        }
      ],
      "source": [
        "print(\"Original:\", train_data['review_text'].iloc[0])\n",
        "print(\"Lemmatized:\", train_data['lemmatized_reviews'].iloc[0])\n",
        "print(\"Stemmed:\", train_data['stemmed_reviews'].iloc[0])"
      ]
    },
    {
      "cell_type": "code",
      "execution_count": 21,
      "metadata": {
        "colab": {
          "base_uri": "https://localhost:8080/",
          "height": 293
        },
        "id": "Fw8qtfHLw4xG",
        "outputId": "371ab8d0-cd4d-496c-c144-d80e1b1d06a1"
      },
      "outputs": [
        {
          "data": {
            "text/html": [
              "<div>\n",
              "<style scoped>\n",
              "    .dataframe tbody tr th:only-of-type {\n",
              "        vertical-align: middle;\n",
              "    }\n",
              "\n",
              "    .dataframe tbody tr th {\n",
              "        vertical-align: top;\n",
              "    }\n",
              "\n",
              "    .dataframe thead th {\n",
              "        text-align: right;\n",
              "    }\n",
              "</style>\n",
              "<table border=\"1\" class=\"dataframe\">\n",
              "  <thead>\n",
              "    <tr style=\"text-align: right;\">\n",
              "      <th></th>\n",
              "      <th>review_text</th>\n",
              "      <th>ENTREGA</th>\n",
              "      <th>OUTROS</th>\n",
              "      <th>PRODUTO</th>\n",
              "      <th>CONDICOESDERECEBIMENTO</th>\n",
              "      <th>INADEQUADA</th>\n",
              "      <th>ANUNCIO</th>\n",
              "      <th>lemmatized_reviews</th>\n",
              "      <th>stemmed_reviews</th>\n",
              "    </tr>\n",
              "  </thead>\n",
              "  <tbody>\n",
              "    <tr>\n",
              "      <th>0</th>\n",
              "      <td>Aparelho muito bom, confiável e com valor aqui...</td>\n",
              "      <td>0</td>\n",
              "      <td>0</td>\n",
              "      <td>1</td>\n",
              "      <td>0</td>\n",
              "      <td>0</td>\n",
              "      <td>0</td>\n",
              "      <td>aparelho confiável aquisitivo conta ser massa ...</td>\n",
              "      <td>aparelh confiável aquisit cont sej mass precis</td>\n",
              "    </tr>\n",
              "    <tr>\n",
              "      <th>1</th>\n",
              "      <td>A história é muito boa, porém o autor \"enrolou...</td>\n",
              "      <td>0</td>\n",
              "      <td>0</td>\n",
              "      <td>1</td>\n",
              "      <td>0</td>\n",
              "      <td>0</td>\n",
              "      <td>0</td>\n",
              "      <td>história autor enrolar livro</td>\n",
              "      <td>histór autor enrol livr</td>\n",
              "    </tr>\n",
              "    <tr>\n",
              "      <th>2</th>\n",
              "      <td>Entrega rápida, produto muito bom Amei. Pratic...</td>\n",
              "      <td>1</td>\n",
              "      <td>0</td>\n",
              "      <td>1</td>\n",
              "      <td>0</td>\n",
              "      <td>0</td>\n",
              "      <td>0</td>\n",
              "      <td>entregar rápido produto amar praticidade</td>\n",
              "      <td>entreg ráp produt ame pratic</td>\n",
              "    </tr>\n",
              "    <tr>\n",
              "      <th>3</th>\n",
              "      <td>Produto otimo so falta o carregador da maquina...</td>\n",
              "      <td>0</td>\n",
              "      <td>0</td>\n",
              "      <td>1</td>\n",
              "      <td>1</td>\n",
              "      <td>0</td>\n",
              "      <td>0</td>\n",
              "      <td>produto otimo so carregador maquina pequeno</td>\n",
              "      <td>produt otim so carreg maquin pequen</td>\n",
              "    </tr>\n",
              "    <tr>\n",
              "      <th>4</th>\n",
              "      <td>a proteção anti queda não é boa  se cair de fr...</td>\n",
              "      <td>0</td>\n",
              "      <td>0</td>\n",
              "      <td>1</td>\n",
              "      <td>0</td>\n",
              "      <td>0</td>\n",
              "      <td>0</td>\n",
              "      <td>proteção anti queda   cair frente tela</td>\n",
              "      <td>proteçã anti qued   cair frent tel</td>\n",
              "    </tr>\n",
              "  </tbody>\n",
              "</table>\n",
              "</div>"
            ],
            "text/plain": [
              "                                         review_text  ENTREGA  OUTROS  \\\n",
              "0  Aparelho muito bom, confiável e com valor aqui...        0       0   \n",
              "1  A história é muito boa, porém o autor \"enrolou...        0       0   \n",
              "2  Entrega rápida, produto muito bom Amei. Pratic...        1       0   \n",
              "3  Produto otimo so falta o carregador da maquina...        0       0   \n",
              "4  a proteção anti queda não é boa  se cair de fr...        0       0   \n",
              "\n",
              "   PRODUTO  CONDICOESDERECEBIMENTO  INADEQUADA  ANUNCIO  \\\n",
              "0        1                       0           0        0   \n",
              "1        1                       0           0        0   \n",
              "2        1                       0           0        0   \n",
              "3        1                       1           0        0   \n",
              "4        1                       0           0        0   \n",
              "\n",
              "                                  lemmatized_reviews  \\\n",
              "0  aparelho confiável aquisitivo conta ser massa ...   \n",
              "1                       história autor enrolar livro   \n",
              "2           entregar rápido produto amar praticidade   \n",
              "3        produto otimo so carregador maquina pequeno   \n",
              "4             proteção anti queda   cair frente tela   \n",
              "\n",
              "                                  stemmed_reviews  \n",
              "0  aparelh confiável aquisit cont sej mass precis  \n",
              "1                         histór autor enrol livr  \n",
              "2                    entreg ráp produt ame pratic  \n",
              "3             produt otim so carreg maquin pequen  \n",
              "4              proteçã anti qued   cair frent tel  "
            ]
          },
          "execution_count": 21,
          "metadata": {},
          "output_type": "execute_result"
        }
      ],
      "source": [
        "train_data.head()"
      ]
    },
    {
      "cell_type": "code",
      "execution_count": 22,
      "metadata": {},
      "outputs": [
        {
          "data": {
            "image/png": "[encoded data removed]",
            "text/plain": [
              "<Figure size 1200x600 with 1 Axes>"
            ]
          },
          "metadata": {},
          "output_type": "display_data"
        }
      ],
      "source": [
        "# Flatten all reviews into a single list of words\n",
        "all_words = \" \".join(train_data[\"lemmatized_reviews\"]).split()\n",
        "\n",
        "# Count word occurrences\n",
        "word_counts = Counter(all_words)\n",
        "\n",
        "# Get the 20 most common words\n",
        "most_common_words = word_counts.most_common(20)\n",
        "\n",
        "# Convert to DataFrame for easier plotting\n",
        "word_most_common_df = pd.DataFrame(most_common_words, columns=[\"Word\", \"Count\"])\n",
        "\n",
        "\n",
        "plt.figure(figsize=(12, 6))\n",
        "plt.bar(word_most_common_df[\"Word\"], word_most_common_df[\"Count\"], color=\"skyblue\")\n",
        "plt.xlabel(\"Frequency\")\n",
        "plt.ylabel(\"Words\")\n",
        "plt.title(\"Top 20 Most Common Words (Excluding Stopwords)\")\n",
        "plt.xticks(rotation=45)  # Rotate x-axis labels for better readability\n",
        "plt.tight_layout()  # Adjust layout to prevent label overlap\n",
        "plt.show()"
      ]
    },
    {
      "cell_type": "code",
      "execution_count": 23,
      "metadata": {},
      "outputs": [
        {
          "name": "stdout",
          "output_type": "stream",
          "text": [
            "                                                 Word  Count\n",
            "0                                                  ni      1\n",
            "1                                          compátivel      1\n",
            "2                                           chinamate      1\n",
            "3                                     compraaquisição      1\n",
            "4                                               grife      1\n",
            "5                                              prazoe      1\n",
            "6                                   confortávelbonito      1\n",
            "7                                                Cabo      1\n",
            "8                                        excelentepor      1\n",
            "9   anunciadokkkkkkkkkkkkkkkkkkkkkkkkkkkkkkkkkkkkk...      1\n",
            "10                                               conf      1\n",
            "11                                              penso      1\n",
            "12                                        instalausar      1\n",
            "13                                            robusta      1\n",
            "14                                         outramuito      1\n",
            "15                                         opçãoachei      1\n",
            "16                                         necessidae      1\n",
            "17                                             zipper      1\n",
            "18                                             estria      1\n",
            "19                                         outrounico      1\n",
            "Number of words that appear only once: 5696\n"
          ]
        }
      ],
      "source": [
        "# Get the 20 less common words\n",
        "less_common_words = word_counts.most_common()[:-21:-1]\n",
        "\n",
        "word_less_common_df = pd.DataFrame(less_common_words, columns=[\"Word\", \"Count\"])\n",
        "\n",
        "# Print words for reference\n",
        "print(word_less_common_df)\n",
        "\n",
        "# count the number of words that only appear once\n",
        "words_appear_once = [word for word, count in word_counts.items() if count == 1]\n",
        "print(f\"Number of words that appear only once: {len(words_appear_once)}\")"
      ]
    },
    {
      "cell_type": "code",
      "execution_count": 24,
      "metadata": {},
      "outputs": [
        {
          "name": "stdout",
          "output_type": "stream",
          "text": [
            "Vocabulary size: 9957\n"
          ]
        }
      ],
      "source": [
        "# Compute vocabulary size\n",
        "vocab_size = len(set(all_words))  # all_words is the list of words from previous step\n",
        "\n",
        "print(f\"Vocabulary size: {vocab_size}\")"
      ]
    },
    {
      "cell_type": "markdown",
      "metadata": {
        "id": "K4iHThP60jKp"
      },
      "source": [
        "Part Of Speech (POS) serves to identify nouns, verbs, etc., and filtered to keep only certain POS tags (e.g., nouns) before feature extraction. We didn't apply POS, because lemmatization already simplifies terms and multi-label needs flexible features (not just nouns or adjectives), so this technique might be redundant."
      ]
    },
    {
      "cell_type": "markdown",
      "metadata": {
        "id": "MhoPLKR1pGf8"
      },
      "source": [
        "## **Feature Extraction**"
      ]
    },
    {
      "cell_type": "markdown",
      "metadata": {
        "id": "H0GWRnSz5O2I"
      },
      "source": [
        "## **1- TF-IDF**"
      ]
    },
    {
      "cell_type": "markdown",
      "metadata": {
        "id": "eWjiQNEspGf8"
      },
      "source": [
        "### **1.1- Unigram TF-IDF Vectorization**"
      ]
    },
    {
      "cell_type": "code",
      "execution_count": 25,
      "metadata": {
        "colab": {
          "base_uri": "https://localhost:8080/"
        },
        "id": "MagfhZAvpGf8",
        "outputId": "7f9f4c68-2f06-4823-86e9-afa36f42d26b"
      },
      "outputs": [
        {
          "name": "stdout",
          "output_type": "stream",
          "text": [
            "Top 20 unigrams by TF-IDF score:\n",
            "produto: 488.2262\n",
            "recomendar: 234.1057\n",
            "chegar: 203.3263\n",
            "comprar: 199.9689\n",
            "prazo: 194.0114\n",
            "qualidade: 185.3566\n",
            "gostar: 182.2771\n",
            "entregar: 181.8631\n",
            "entrega: 173.2043\n",
            "rápido: 154.2068\n",
            "excelente: 151.3629\n",
            "bom: 146.1159\n",
            "dia: 143.8600\n",
            "recebi: 136.4783\n",
            "vir: 136.1746\n",
            "super: 119.6697\n",
            "ótimo: 114.8176\n",
            "atender: 106.3468\n",
            "compra: 105.3768\n",
            "pra: 98.0093\n"
          ]
        }
      ],
      "source": [
        "# Initialize the TF-IDF vectorizer\n",
        "tfidf_vectorizer = TfidfVectorizer()\n",
        "\n",
        "# Fit on the training data and transform it into TF-IDF features\n",
        "X_train_tfidf = tfidf_vectorizer.fit_transform(train_data['lemmatized_reviews'])\n",
        "# Transform the validation and test data using the same vectorizer\n",
        "X_val_tfidf = tfidf_vectorizer.transform(val_data['lemmatized_reviews'])\n",
        "X_test_tfidf = tfidf_vectorizer.transform(test_data['lemmatized_reviews'])\n",
        "\n",
        "# Check the shape of the TF-IDF features, these are sparse matrices containing the TF-IDF features for the training, validation, and test sets, respectively.\n",
        "# each row is a document and each column is a word\n",
        "\"\"\"print(\"Training data shape:\", X_train_tfidf.shape)\n",
        "print(\"Validation data shape:\", X_val_tfidf.shape)\n",
        "print(\"Test data shape:\", X_test_tfidf.shape, end=\"\\n\\n\")\"\"\"\n",
        "\n",
        "# Sum the TF-IDF scores for each word across all documents\n",
        "tfidf_scores = np.asarray(X_train_tfidf.sum(axis=0)).flatten()\n",
        "\n",
        "# Get the feature names (words in the vocabulary)\n",
        "feature_names = tfidf_vectorizer.get_feature_names_out()\n",
        "\n",
        "# Create a dictionary of words and their corresponding TF-IDF scores\n",
        "word_tfidf_scores = dict(zip(feature_names, tfidf_scores))\n",
        "\n",
        "# Sort the words by their TF-IDF scores in descending order\n",
        "sorted_words = sorted(word_tfidf_scores.items(), key=lambda x: x[1], reverse=True)\n",
        "\n",
        "# Print the top 20 words\n",
        "print(\"Top 20 unigrams by TF-IDF score:\")\n",
        "for word, score in sorted_words[:20]:\n",
        "    print(f\"{word}: {score:.4f}\")"
      ]
    },
    {
      "cell_type": "markdown",
      "metadata": {
        "id": "wJjf4sSCpGf8"
      },
      "source": [
        "### **1.2- Bigram TF-IDF Vectorization**"
      ]
    },
    {
      "cell_type": "code",
      "execution_count": 26,
      "metadata": {
        "colab": {
          "base_uri": "https://localhost:8080/"
        },
        "id": "zcxnv5jGpGf8",
        "outputId": "94b2c099-694b-42d1-a22e-87a7c4e8ad6e"
      },
      "outputs": [
        {
          "name": "stdout",
          "output_type": "stream",
          "text": [
            "\n",
            "Top 20 bigrams by TF-IDF score:\n",
            "recebi produto: 55.4152\n",
            "chegar prazo: 55.0975\n",
            "produto chegar: 49.3651\n",
            "gostar produto: 47.2966\n",
            "entregar prazo: 47.2189\n",
            "produto entregar: 41.0208\n",
            "atender expectativa: 37.7258\n",
            "ótimo qualidade: 37.1043\n",
            "produto excelente: 34.6375\n",
            "bom produto: 33.2058\n",
            "produto qualidade: 32.6299\n",
            "produto ótimo: 32.1825\n",
            "excelente produto: 30.1993\n",
            "entregar rápido: 29.5193\n",
            "super recomendar: 29.4634\n",
            "produto atender: 28.9780\n",
            "produto vir: 28.8988\n",
            "super rápido: 28.6211\n",
            "valer pena: 28.4338\n",
            "comprar produto: 27.4269\n"
          ]
        }
      ],
      "source": [
        "# Define the TF-IDF vectorizer with unigrams and bigrams\n",
        "tfidf_bigram = TfidfVectorizer(ngram_range=(2, 2))  # Unigrams + bigrams\n",
        "\n",
        "# Fit and transform the training data\n",
        "X_train_tfidf_bi = tfidf_bigram.fit_transform(train_data['lemmatized_reviews'])\n",
        "# Transform the validation and test data\n",
        "X_val_tfidf_bi = tfidf_bigram.transform(val_data['lemmatized_reviews'])\n",
        "X_test_tfidf_bi = tfidf_bigram.transform(test_data['lemmatized_reviews'])\n",
        "\n",
        "# Calculate the sum of TF-IDF scores for each feature (word/phrase)\n",
        "tfidf_scores_bi = np.asarray(X_train_tfidf_bi.sum(axis=0)).flatten()\n",
        "# Get the feature names (words/phrases)\n",
        "feature_names_bi = tfidf_bigram.get_feature_names_out()\n",
        "# Create a dictionary of words/phrases and their corresponding TF-IDF scores\n",
        "word_tfidf_scores_bi = dict(zip(feature_names_bi, tfidf_scores_bi))\n",
        "# Sort the words/phrases by their TF-IDF scores in descending order\n",
        "sorted_words_bi = sorted(word_tfidf_scores_bi.items(), key=lambda x: x[1], reverse=True)\n",
        "\n",
        "# Print the top 20 unigrams and bigrams by TF-IDF score\n",
        "print(\"\\nTop 20 bigrams by TF-IDF score:\")\n",
        "for word, score in sorted_words_bi[:20]:\n",
        "    print(f\"{word}: {score:.4f}\")"
      ]
    },
    {
      "cell_type": "markdown",
      "metadata": {
        "id": "uOagb3IzpGf9"
      },
      "source": [
        "### **1.3- Unigram + Bigram TF-IDF Vectorization**"
      ]
    },
    {
      "cell_type": "code",
      "execution_count": 27,
      "metadata": {
        "colab": {
          "base_uri": "https://localhost:8080/"
        },
        "id": "nmgaYqp2pGf9",
        "outputId": "9b34da8f-5c15-4497-978c-f0f90d1ad060"
      },
      "outputs": [
        {
          "name": "stdout",
          "output_type": "stream",
          "text": [
            "Feature space size: 5000\n",
            "\n",
            "Top 20 unigrams + bigrams by TF-IDF score\n",
            "produto: 397.9442\n",
            "recomendar: 184.9531\n",
            "comprar: 181.4826\n",
            "chegar: 162.0091\n",
            "gostar: 155.7969\n",
            "qualidade: 146.8700\n",
            "prazo: 144.8143\n",
            "entregar: 140.2032\n",
            "entrega: 133.6801\n",
            "bom: 124.6411\n",
            "dia: 122.2652\n",
            "vir: 121.7276\n",
            "excelente: 117.9173\n",
            "rápido: 116.5107\n",
            "recebi: 114.0214\n",
            "super: 95.8461\n",
            "pra: 91.9058\n",
            "ficar: 89.7605\n",
            "ótimo: 89.1564\n",
            "atender: 87.7731\n"
          ]
        }
      ],
      "source": [
        "def create_tfidf_features_uni_bi(train_texts, val_texts, test_texts, min_df=1, max_features=None):\n",
        "    \"\"\"\n",
        "    Generate TF-IDF features with specified min_df and max_features.\n",
        "    \n",
        "    Parameters:\n",
        "    - train_texts: Training data (e.g., train_data['lemmatized_reviews'])\n",
        "    - val_texts: Validation data (e.g., val_data['lemmatized_reviews'])\n",
        "    - test_texts: Test data (e.g., test_data['lemmatized_reviews'])\n",
        "    - min_df: Minimum document frequency (default=2)\n",
        "    - max_features: Maximum number of features (default=None, no limit)\n",
        "    \n",
        "    Returns:\n",
        "    - X_train_tfidf, X_val_tfidf, X_test_tfidf: TF-IDF matrices\n",
        "    - feature_names: List of feature names\n",
        "    \"\"\"\n",
        "    # Define TF-IDF vectorizer with unigrams and bigrams\n",
        "    tfidf = TfidfVectorizer(ngram_range=(1, 2), min_df=min_df, max_features=max_features)\n",
        "    \n",
        "    # Fit and transform training data\n",
        "    X_train_tfidf = tfidf.fit_transform(train_texts)\n",
        "    # Transform validation and test data\n",
        "    X_val_tfidf = tfidf.transform(val_texts)\n",
        "    X_test_tfidf = tfidf.transform(test_texts)\n",
        "    \n",
        "    # Get feature names and scores\n",
        "    feature_names = tfidf.get_feature_names_out()\n",
        "    tfidf_scores = np.asarray(X_train_tfidf.sum(axis=0)).flatten()\n",
        "    word_tfidf_scores = dict(zip(feature_names, tfidf_scores))\n",
        "    sorted_words = sorted(word_tfidf_scores.items(), key=lambda x: x[1], reverse=True)\n",
        "    \n",
        "    \n",
        "    print(f\"Feature space size: {X_train_tfidf.shape[1]}\")\n",
        "    return X_train_tfidf, X_val_tfidf, X_test_tfidf, feature_names, sorted_words[:20]\n",
        "\n",
        "# Example usage (you can change parameters here)\n",
        "X_train_tfidf_bi, X_val_tfidf_bi, X_test_tfidf_bi, feature_names_bi, sorted_words = create_tfidf_features_uni_bi(\n",
        "    train_data['lemmatized_reviews'],\n",
        "    val_data['lemmatized_reviews'],\n",
        "    test_data['lemmatized_reviews'],\n",
        "    min_df=1,  # Change this to 2, 3, etc.\n",
        "    max_features=5000  # Change to 5000, 8000, or None\n",
        ")\n",
        "\n",
        "# Print top 20 terms\n",
        "print(f\"\\nTop 20 unigrams + bigrams by TF-IDF score\")\n",
        "for word, score in sorted_words[:20]:\n",
        "    print(f\"{word}: {score:.4f}\")"
      ]
    },
    {
      "cell_type": "markdown",
      "metadata": {
        "id": "SlSGYJLNpGf9"
      },
      "source": [
        "There's only single words in the top 20 TF-IDF scores for unigrams + bigrams, because the unigrams have higher TF-IDF scores compared to the bigrams. This can happen if the unigrams are more frequent or carry more weight in the dataset."
      ]
    },
    {
      "cell_type": "markdown",
      "metadata": {
        "id": "jINZQWqepGf9"
      },
      "source": [
        "Why unigrams + bigrams? Unigrams capture individual word importance, while bigrams preserve some context (e.g., \"não entregue\" might indicate a delivery issue better than \"não\" or \"entregue\" alone). Since reviews are short (avg. 24.58 words), bigrams add value without overwhelming the feature space.\n",
        "\n",
        "For word distribution, we choose TF-IDF with unigrams + bigrams (ngram_range=(1, 2), 5000 features) as it captures both dominant single words (e.g., \"produto\": 397.94) and contextual phrases (e.g., \"chegar prazo\") in the RePro dataset. This reflects the mix of 52% single-label and 48% multi-label reviews, providing a comprehensive view of key terms without relying on model performance."
      ]
    },
    {
      "cell_type": "code",
      "execution_count": 28,
      "metadata": {},
      "outputs": [
        {
          "name": "stdout",
          "output_type": "stream",
          "text": [
            "y_train shape: (8002, 6)\n",
            "y_val shape: (994, 6)\n",
            "y_test shape: (1007, 6)\n"
          ]
        }
      ],
      "source": [
        "label_names = ['ENTREGA', 'OUTROS', 'PRODUTO', 'CONDICOESDERECEBIMENTO', 'INADEQUADA', 'ANUNCIO']\n",
        "\n",
        "y_train = train_data[label_names].to_numpy()\n",
        "y_val = val_data[label_names].to_numpy()\n",
        "y_test = test_data[label_names].to_numpy()\n",
        "print(\"y_train shape:\", y_train.shape)\n",
        "print(\"y_val shape:\", y_val.shape)\n",
        "print(\"y_test shape:\", y_test.shape)"
      ]
    },
    {
      "cell_type": "code",
      "execution_count": 29,
      "metadata": {
        "colab": {
          "base_uri": "https://localhost:8080/",
          "height": 869
        },
        "id": "ekDVr7D-pGf9",
        "outputId": "8ec16f82-75b6-4ecf-a925-58a33ccf387d"
      },
      "outputs": [
        {
          "data": {
            "image/png": "[encoded data removed]",
            "text/plain": [
              "<Figure size 1800x1200 with 6 Axes>"
            ]
          },
          "metadata": {},
          "output_type": "display_data"
        }
      ],
      "source": [
        "n_top = 10  # Number of top terms to show per label\n",
        "fig, axes = plt.subplots(2, 3, figsize=(18, 12))  # 2x3 grid for 6 labels\n",
        "axes = axes.flatten()\n",
        "\n",
        "for i, label in enumerate(label_names):\n",
        "    # Indices of reviews where this label is true (1)\n",
        "    label_indices = np.where(y_train[:, i] == 1)[0]\n",
        "    # Average TF-IDF scores for those reviews\n",
        "    label_tfidf = X_train_tfidf_bi[label_indices].mean(axis=0).A1  # Convert sparse to 1D array\n",
        "    # Get top N terms\n",
        "    top_indices = np.argsort(label_tfidf)[-n_top:][::-1]  # Sort descending\n",
        "    top_terms = feature_names_bi[top_indices]\n",
        "    top_scores = label_tfidf[top_indices]\n",
        "\n",
        "    # Step 5: Plot horizontal bar chart\n",
        "    axes[i].barh(top_terms, top_scores, color='skyblue')\n",
        "    axes[i].set_title(f'Top {n_top} TF-IDF Terms for {label}')\n",
        "    axes[i].set_xlabel('Mean TF-IDF Score')\n",
        "    axes[i].invert_yaxis()  # Highest score at top\n",
        "\n",
        "# Adjust layout and display\n",
        "plt.tight_layout()\n",
        "plt.show()"
      ]
    },
    {
      "cell_type": "markdown",
      "metadata": {
        "id": "lh3B2ZZWzTNo"
      },
      "source": [
        "### Feature Space"
      ]
    },
    {
      "cell_type": "code",
      "execution_count": 30,
      "metadata": {
        "colab": {
          "base_uri": "https://localhost:8080/"
        },
        "id": "jlUet6PZ2lT7",
        "outputId": "1e9e86d1-c0bd-48ee-b2cf-fad172605d52"
      },
      "outputs": [
        {
          "name": "stdout",
          "output_type": "stream",
          "text": [
            "Feature space size: 9824\n"
          ]
        }
      ],
      "source": [
        "vectorizer = TfidfVectorizer(ngram_range=(1, 1))  # Unigrams\n",
        "X = vectorizer.fit_transform(train_data['lemmatized_reviews'])\n",
        "print(\"Feature space size:\", len(vectorizer.get_feature_names_out()))"
      ]
    },
    {
      "cell_type": "code",
      "execution_count": 31,
      "metadata": {},
      "outputs": [
        {
          "name": "stdout",
          "output_type": "stream",
          "text": [
            "Feature space size: 59291\n"
          ]
        }
      ],
      "source": [
        "vectorizer = TfidfVectorizer(ngram_range=(2, 2))  # Unigrams + bigrams\n",
        "X = vectorizer.fit_transform(train_data['lemmatized_reviews'])\n",
        "print(\"Feature space size:\", len(vectorizer.get_feature_names_out()))"
      ]
    },
    {
      "cell_type": "code",
      "execution_count": 32,
      "metadata": {
        "colab": {
          "base_uri": "https://localhost:8080/"
        },
        "id": "9C_e9IcnFiN7",
        "outputId": "5adb5a82-9210-4698-ae53-e37084f8d855"
      },
      "outputs": [
        {
          "name": "stdout",
          "output_type": "stream",
          "text": [
            "Feature space size: 69115\n"
          ]
        }
      ],
      "source": [
        "vectorizer = TfidfVectorizer(ngram_range=(1, 2))  # Unigrams and bigrams\n",
        "X = vectorizer.fit_transform(train_data['lemmatized_reviews'])\n",
        "print(\"Feature space size:\", len(vectorizer.get_feature_names_out()))"
      ]
    },
    {
      "cell_type": "code",
      "execution_count": 33,
      "metadata": {
        "colab": {
          "base_uri": "https://localhost:8080/"
        },
        "id": "c7MZ1yrDxkqp",
        "outputId": "f036aa93-6f9e-4c4e-97c0-5d32748147b7"
      },
      "outputs": [
        {
          "name": "stdout",
          "output_type": "stream",
          "text": [
            "Feature space size: 11400\n"
          ]
        }
      ],
      "source": [
        "vectorizer = TfidfVectorizer(ngram_range=(1, 2), min_df=2)  # Unigrams and bigrams only keeping the terms that occur more than 2 times\n",
        "X = vectorizer.fit_transform(train_data['lemmatized_reviews'])\n",
        "print(\"Feature space size:\", len(vectorizer.get_feature_names_out()))"
      ]
    },
    {
      "cell_type": "code",
      "execution_count": 34,
      "metadata": {
        "colab": {
          "base_uri": "https://localhost:8080/"
        },
        "id": "1DcTMccVFlPH",
        "outputId": "f8e99fe1-11dc-47ae-ddc8-fd48f2650b08"
      },
      "outputs": [
        {
          "name": "stdout",
          "output_type": "stream",
          "text": [
            "Feature space size: 10000\n"
          ]
        }
      ],
      "source": [
        "vectorizer = TfidfVectorizer(max_features=10000 ,ngram_range=(1, 2))  # Unigrams and bigrams with maximum number of features\n",
        "X = vectorizer.fit_transform(train_data['lemmatized_reviews'])\n",
        "print(\"Feature space size:\", len(vectorizer.get_feature_names_out()))"
      ]
    },
    {
      "cell_type": "markdown",
      "metadata": {
        "id": "MJHKTuD-z3WV"
      },
      "source": [
        "After applying TF-IDF vectorization with unigrams and bigrams our dataset, after preprocessing and vectorization, has generated a vocabulary of 69115 unique features (terms can be unigrams or bigrams).\n",
        "\n",
        "\n",
        "min_df=2 -> 11400\\\n",
        "min_df=3 -> 6142\n",
        "\n",
        "\n",
        "This is the dimensionality of our feature space—each review is represented as a sparse vector with 69115 possible positions, where most values are zero (since a single review uses only a tiny fraction of the vocabulary).\n",
        "\n",
        "Our feature space is much larger than our sample size, this can lead to sparsity, where most feature values are zero, and potentially overfitting if not handled carefully. To address this high dimensionality and reduce noise from rare terms, we set min_df=2 in the TfidfVectorizer, excluding terms that appear in fewer than two reviews. This reduced the feature space to 11400 features, making it more manageable while retaining meaningful unigrams and bigrams. This adjustment helps mitigate sparsity and overfitting by focusing the model on terms with broader relevance across the dataset, balancing computational efficiency and classification performance"
      ]
    },
    {
      "cell_type": "markdown",
      "metadata": {
        "id": "D2-TFMfSZiVr"
      },
      "source": [
        "TF-IDF is sparse—each review is a vector of length equal to the feature space (e.g., 11,400), but most entries are zero. It’s frequency-based and doesn’t capture semantic relationships (e.g., \"atraso\" and \"demora\" are treated as unrelated unless they co-occur exactly).\n",
        "\n",
        "**Benefits vs. TF-IDF**\n",
        "* Feature Space Reduction:\n",
        "TF-IDF: 69,115 → 11,400 → 10,000/5,000 (still sparse).\n",
        "Word2Vec/Doc2Vec: 100 or 300 dims (dense). This slashes dimensionality by orders of magnitude, reducing sparsity and potentially overfitting—crucial with only 8002 samples.\n",
        "* Semantic Understanding:\n",
        "TF-IDF misses relationships (e.g., \"defeito\" and \"estragado\" are separate). Embeddings group similar terms, which could boost performance on short reviews (avg. 24.58 words) with varied phrasing.\n",
        "* Imbalance Handling:\n",
        "Your labels are imbalanced (PRODUTO: 6258, INADEQUADA: 328). Embeddings might help rare labels if synonyms or related terms (e.g., \"falsificado,\" \"inadequado\") align in vector space.\n",
        "\n",
        "**Risks**\n",
        "* Data Size: 8002 reviews is modest for training embeddings from scratch. Pre-trained Word2Vec (e.g., Portuguese FastText) mitigates this, but Doc2Vec relies on your data alone.\n",
        "* Complexity: Adds a step vs. TF-IDF, and averaging Word2Vec might dilute multi-label signals (e.g., ENTREGA + PRODUTO in one review).\n",
        "* Performance: May not beat TF-IDF if your reviews are keyword-driven (e.g., \"atraso\" explicitly signals ENTREGA)."
      ]
    },
    {
      "cell_type": "markdown",
      "metadata": {
        "id": "VkG2U4Qi4vji"
      },
      "source": [
        "## **2- Word2Vec**"
      ]
    },
    {
      "cell_type": "code",
      "execution_count": 35,
      "metadata": {
        "colab": {
          "base_uri": "https://localhost:8080/",
          "height": 200
        },
        "id": "56ds_g-A5oop",
        "outputId": "7264caa0-2eb5-4dfd-e651-3d3b9f240b5b"
      },
      "outputs": [
        {
          "name": "stdout",
          "output_type": "stream",
          "text": [
            "Word2Vec features:\n",
            "Training data: [[-0.14634827  0.24421802  0.06967496 ... -0.08306288  0.21886978\n",
            "  -0.05117045]\n",
            " [-0.06800796  0.11685906  0.03146379 ... -0.03799155  0.10352755\n",
            "  -0.02521945]\n",
            " [-0.14223863  0.34789911  0.07729225 ... -0.12568219  0.3025136\n",
            "  -0.10784312]\n",
            " ...\n",
            " [-0.00128908 -0.00131401 -0.00294971 ... -0.00229093  0.00322753\n",
            "  -0.00061842]\n",
            " [ 0.          0.          0.         ...  0.          0.\n",
            "   0.        ]\n",
            " [ 0.          0.          0.         ...  0.          0.\n",
            "   0.        ]]\n"
          ]
        }
      ],
      "source": [
        "def tokenize(text):\n",
        "    doc = nlp(text)\n",
        "    return [token.text.lower() for token in doc if not token.is_stop and token.is_alpha]\n",
        "\n",
        "train_tokens = [tokenize(text) for text in train_data[\"review_text\"]]\n",
        "\n",
        "# Treinar Word2Vec \n",
        "w2v_model = Word2Vec(sentences=train_tokens, vector_size=300, window=5, min_count=1, workers=4)\n",
        "\n",
        "# Função para vetorizar uma revisão\n",
        "def get_w2v_vector(text, model):\n",
        "    tokens = tokenize(text)\n",
        "    vectors = [model.wv[token] for token in tokens if token in model.wv]\n",
        "    return np.mean(vectors, axis=0) if vectors else np.zeros(300)\n",
        "\n",
        "# Aplicar a treino e validação\n",
        "X_train_w2v = np.array([get_w2v_vector(text, w2v_model) for text in train_data[\"review_text\"]])\n",
        "X_val_w2v = np.array([get_w2v_vector(text, w2v_model) for text in val_data[\"review_text\"]])\n",
        "\n",
        "print(\"Word2Vec features:\")\n",
        "print(\"Training data:\", X_train_w2v[:10])"
      ]
    },
    {
      "cell_type": "code",
      "execution_count": 36,
      "metadata": {},
      "outputs": [
        {
          "name": "stdout",
          "output_type": "stream",
          "text": [
            "(8002, 5000)\n",
            "(8002, 300)\n"
          ]
        }
      ],
      "source": [
        "print(X_train_tfidf_bi.shape)\n",
        "print(X_train_w2v.shape)"
      ]
    },
    {
      "cell_type": "markdown",
      "metadata": {},
      "source": [
        "## **3-Combination of TF-IDF with Word2Vec**"
      ]
    },
    {
      "cell_type": "code",
      "execution_count": 37,
      "metadata": {},
      "outputs": [
        {
          "name": "stdout",
          "output_type": "stream",
          "text": [
            "Combined feature shape (train): (8002, 5300)\n",
            "Combined feature shape (val): (994, 5300)\n"
          ]
        }
      ],
      "source": [
        "def combine_tfidf_w2v(tfidf_matrix, w2v_matrix, method=\"concat\"):\n",
        "    \"\"\"\n",
        "    Combine TF-IDF and Word2Vec features.\n",
        "    \n",
        "    Parameters:\n",
        "    - tfidf_matrix: TF-IDF feature matrix (sparse or dense)\n",
        "    - w2v_matrix: Word2Vec feature matrix (dense)\n",
        "    - method: \"concat\" for simple concatenation, \"weighted\" for TF-IDF-weighted Word2Vec\n",
        "    \n",
        "    Returns:\n",
        "    - Combined feature matrix\n",
        "    \"\"\"\n",
        "    if method == \"concat\":\n",
        "        tfidf_matrix = tfidf_matrix.toarray()\n",
        "        return np.hstack((tfidf_matrix, w2v_matrix))\n",
        "    else:\n",
        "        raise ValueError(\"Method must be 'concat' or 'weighted'\")\n",
        "\n",
        "X_train_combined = combine_tfidf_w2v(X_train_tfidf_bi, X_train_w2v, method=\"concat\")\n",
        "X_val_combined = combine_tfidf_w2v(X_val_tfidf_bi, X_val_w2v, method=\"concat\")\n",
        "\n",
        "print(\"Combined feature shape (train):\", X_train_combined.shape)  # (8002, 5300) = 5000 TF-IDF + 300 W2V\n",
        "print(\"Combined feature shape (val):\", X_val_combined.shape)"
      ]
    },
    {
      "cell_type": "markdown",
      "metadata": {
        "id": "MeN_nW5npGf9"
      },
      "source": [
        "## **Models Training and Evaluation**"
      ]
    },
    {
      "cell_type": "markdown",
      "metadata": {
        "id": "gqFDuR42Pc_3"
      },
      "source": [
        "``One-vs-Rest (OvR)`` não é um classificador em si, mas uma estratégia para transformar classificadores binários (como Naive Bayes e Regressão Logística) em modelos que suportam multi-label ou multi-classe.\n",
        "\n",
        "O ``Multinomial Naive Bayes (MultinomialNB)`` é um modelo estatístico ideal para classificação de texto porque:\n",
        "\n",
        "✅ Lida bem com representações baseadas em frequência, como o TF-IDF.\\\n",
        "✅ É eficiente e rápido, pois calcula probabilidades de forma simples.\\\n",
        "✅ Funciona bem para problemas onde as palavras aparecem independentemente, como em reviews de produtos.\n",
        "\n",
        "\n",
        "### Razão da Escolha das Métricas de Avaliação\n",
        "\n",
        "Na classificação multi-label, onde cada amostra pode ter múltiplos rótulos e há desbalanceamento (e.g., PRODUTO: 782 vs. INADEQUADA: 42 no validation), usamos **Macro F1**, **Micro F1** e **Hamming Loss** para capturar diferentes aspectos do desempenho do modelo:\n",
        "\n",
        "- **Macro F1**: Dá peso igual a cada rótulo, destacando o desempenho em rótulos raros, essencial para balanceamento.\n",
        "- **Micro F1**: Avalia o desempenho global, agregando predições e refletindo a força em rótulos frequentes.\n",
        "- **Hamming Loss**: Mede a fração de erros por rótulo, oferecendo uma visão granular da consistência.\n",
        "\n",
        "Essas métricas juntas avaliam equilíbrio (Macro F1), desempenho geral (Micro F1) e erro médio (Hamming Loss)"
      ]
    },
    {
      "cell_type": "code",
      "execution_count": 38,
      "metadata": {
        "id": "acNfwfSSpGf9"
      },
      "outputs": [],
      "source": [
        "# Function to train and evaluate the baseline classifier\n",
        "def evaluate_baseline(X_train, X_val, y_train, y_val, label_names, config_name):\n",
        "    baseline_clf = OneVsRestClassifier(MultinomialNB())\n",
        "    baseline_clf.fit(X_train, y_train)\n",
        "    y_pred = baseline_clf.predict(X_val)\n",
        "    \n",
        "    print(f\"\\n=== Baseline Results for {config_name} ===\")\n",
        "    print(\"Relatório de Classificação por Rótulo:\")\n",
        "    print(classification_report(y_val, y_pred, target_names=label_names))\n",
        "    \n",
        "    macro_f1 = f1_score(y_val, y_pred, average='macro')\n",
        "    micro_f1 = f1_score(y_val, y_pred, average='micro')\n",
        "    hamming_value = hamming_loss(y_val, y_pred)\n",
        "    \n",
        "    print(\"\\nMétricas Gerais:\")\n",
        "    print(f\"Macro F1: {macro_f1:.4f}\")\n",
        "    print(f\"Micro F1: {micro_f1:.4f}\")\n",
        "    print(f\"Hamming Loss: {hamming_value:.4f}\")\n",
        "    return macro_f1, micro_f1, hamming_value\n",
        "\n",
        "# Função para avaliar modelos \n",
        "def evaluate_model(X_train, X_val, y_train, y_val, model_name, classifier):\n",
        "    classifier.fit(X_train, y_train)\n",
        "    y_pred = classifier.predict(X_val)\n",
        "    \n",
        "    print(f\"\\n=== {model_name} ===\")\n",
        "    print(\"Relatório de Classificação por Rótulo:\")\n",
        "    print(classification_report(y_val, y_pred, target_names=label_names))\n",
        "    \n",
        "    macro_f1 = f1_score(y_val, y_pred, average='macro')\n",
        "    micro_f1 = f1_score(y_val, y_pred, average='micro')\n",
        "    hamming_value = hamming_loss(y_val, y_pred)\n",
        "    \n",
        "    print(f\"Macro F1: {macro_f1:.4f}\")\n",
        "    print(f\"Micro F1: {micro_f1:.4f}\")\n",
        "    print(f\"Hamming Loss: {hamming_value:.4f}\")\n",
        "    return macro_f1, micro_f1, hamming_value, y_pred"
      ]
    },
    {
      "cell_type": "markdown",
      "metadata": {},
      "source": [
        "### Baseline Classifier - Naive Bayes"
      ]
    },
    {
      "cell_type": "code",
      "execution_count": 39,
      "metadata": {},
      "outputs": [
        {
          "name": "stdout",
          "output_type": "stream",
          "text": [
            "Feature space size: 69115\n",
            "\n",
            "=== Baseline Results for original ===\n",
            "Relatório de Classificação por Rótulo:\n",
            "                        precision    recall  f1-score   support\n",
            "\n",
            "               ENTREGA       0.97      0.68      0.80       311\n",
            "                OUTROS       0.95      0.17      0.29       235\n",
            "               PRODUTO       0.82      1.00      0.90       782\n",
            "CONDICOESDERECEBIMENTO       1.00      0.01      0.01       171\n",
            "            INADEQUADA       0.00      0.00      0.00        42\n",
            "               ANUNCIO       0.00      0.00      0.00        88\n",
            "\n",
            "             micro avg       0.85      0.63      0.73      1629\n",
            "             macro avg       0.62      0.31      0.33      1629\n",
            "          weighted avg       0.82      0.63      0.63      1629\n",
            "           samples avg       0.85      0.72      0.76      1629\n",
            "\n",
            "\n",
            "Métricas Gerais:\n",
            "Macro F1: 0.3336\n",
            "Micro F1: 0.7264\n",
            "Hamming Loss: 0.1306\n",
            "\n",
            "=== Baseline Results for original (Word2Vec) ===\n",
            "Relatório de Classificação por Rótulo:\n",
            "                        precision    recall  f1-score   support\n",
            "\n",
            "               ENTREGA       0.49      0.65      0.56       311\n",
            "                OUTROS       0.19      0.09      0.12       235\n",
            "               PRODUTO       0.80      0.88      0.84       782\n",
            "CONDICOESDERECEBIMENTO       0.00      0.00      0.00       171\n",
            "            INADEQUADA       0.05      0.14      0.08        42\n",
            "               ANUNCIO       0.00      0.00      0.00        88\n",
            "\n",
            "             micro avg       0.61      0.56      0.59      1629\n",
            "             macro avg       0.25      0.29      0.26      1629\n",
            "          weighted avg       0.50      0.56      0.53      1629\n",
            "           samples avg       0.66      0.65      0.62      1629\n",
            "\n",
            "\n",
            "Métricas Gerais:\n",
            "Macro F1: 0.2650\n",
            "Micro F1: 0.5866\n",
            "Hamming Loss: 0.2165\n",
            "\n",
            "=== Baseline Results for original (TF-IDF + Word2Vec) ===\n",
            "Relatório de Classificação por Rótulo:\n",
            "                        precision    recall  f1-score   support\n",
            "\n",
            "               ENTREGA       0.80      0.06      0.12       311\n",
            "                OUTROS       0.00      0.00      0.00       235\n",
            "               PRODUTO       0.79      1.00      0.88       782\n",
            "CONDICOESDERECEBIMENTO       0.00      0.00      0.00       171\n",
            "            INADEQUADA       0.00      0.00      0.00        42\n",
            "               ANUNCIO       0.00      0.00      0.00        88\n",
            "\n",
            "             micro avg       0.79      0.49      0.61      1629\n",
            "             macro avg       0.26      0.18      0.17      1629\n",
            "          weighted avg       0.53      0.49      0.45      1629\n",
            "           samples avg       0.79      0.60      0.66      1629\n",
            "\n",
            "\n",
            "Métricas Gerais:\n",
            "Macro F1: 0.1666\n",
            "Micro F1: 0.6057\n",
            "Hamming Loss: 0.1751\n",
            "Feature space size: 11400\n",
            "\n",
            "=== Baseline Results for min_df=2 -> features = 11400 ===\n",
            "Relatório de Classificação por Rótulo:\n",
            "                        precision    recall  f1-score   support\n",
            "\n",
            "               ENTREGA       0.94      0.80      0.87       311\n",
            "                OUTROS       0.91      0.46      0.61       235\n",
            "               PRODUTO       0.87      0.99      0.93       782\n",
            "CONDICOESDERECEBIMENTO       0.91      0.18      0.29       171\n",
            "            INADEQUADA       0.00      0.00      0.00        42\n",
            "               ANUNCIO       1.00      0.05      0.09        88\n",
            "\n",
            "             micro avg       0.89      0.72      0.79      1629\n",
            "             macro avg       0.77      0.41      0.46      1629\n",
            "          weighted avg       0.88      0.72      0.73      1629\n",
            "           samples avg       0.90      0.79      0.82      1629\n",
            "\n",
            "\n",
            "Métricas Gerais:\n",
            "Macro F1: 0.4638\n",
            "Micro F1: 0.7940\n",
            "Hamming Loss: 0.1014\n",
            "\n",
            "=== Baseline Results for min_df=2 -> features = 11400 (Word2Vec) ===\n",
            "Relatório de Classificação por Rótulo:\n",
            "                        precision    recall  f1-score   support\n",
            "\n",
            "               ENTREGA       0.49      0.65      0.56       311\n",
            "                OUTROS       0.19      0.09      0.12       235\n",
            "               PRODUTO       0.80      0.88      0.84       782\n",
            "CONDICOESDERECEBIMENTO       0.00      0.00      0.00       171\n",
            "            INADEQUADA       0.05      0.14      0.08        42\n",
            "               ANUNCIO       0.00      0.00      0.00        88\n",
            "\n",
            "             micro avg       0.61      0.56      0.59      1629\n",
            "             macro avg       0.25      0.29      0.26      1629\n",
            "          weighted avg       0.50      0.56      0.53      1629\n",
            "           samples avg       0.66      0.65      0.62      1629\n",
            "\n",
            "\n",
            "Métricas Gerais:\n",
            "Macro F1: 0.2650\n",
            "Micro F1: 0.5866\n",
            "Hamming Loss: 0.2165\n",
            "\n",
            "=== Baseline Results for min_df=2 -> features = 11400 (TF-IDF + Word2Vec) ===\n",
            "Relatório de Classificação por Rótulo:\n",
            "                        precision    recall  f1-score   support\n",
            "\n",
            "               ENTREGA       0.67      0.66      0.66       311\n",
            "                OUTROS       0.94      0.14      0.24       235\n",
            "               PRODUTO       0.82      1.00      0.90       782\n",
            "CONDICOESDERECEBIMENTO       0.00      0.00      0.00       171\n",
            "            INADEQUADA       0.00      0.00      0.00        42\n",
            "               ANUNCIO       0.00      0.00      0.00        88\n",
            "\n",
            "             micro avg       0.78      0.62      0.70      1629\n",
            "             macro avg       0.40      0.30      0.30      1629\n",
            "          weighted avg       0.65      0.62      0.59      1629\n",
            "           samples avg       0.80      0.71      0.73      1629\n",
            "\n",
            "\n",
            "Métricas Gerais:\n",
            "Macro F1: 0.2997\n",
            "Micro F1: 0.6951\n",
            "Hamming Loss: 0.1496\n",
            "Feature space size: 6142\n",
            "\n",
            "=== Baseline Results for min_df=3 -> features = 6142 ===\n",
            "Relatório de Classificação por Rótulo:\n",
            "                        precision    recall  f1-score   support\n",
            "\n",
            "               ENTREGA       0.91      0.82      0.86       311\n",
            "                OUTROS       0.84      0.52      0.64       235\n",
            "               PRODUTO       0.89      0.98      0.94       782\n",
            "CONDICOESDERECEBIMENTO       0.90      0.27      0.42       171\n",
            "            INADEQUADA       0.00      0.00      0.00        42\n",
            "               ANUNCIO       0.91      0.11      0.20        88\n",
            "\n",
            "             micro avg       0.89      0.74      0.81      1629\n",
            "             macro avg       0.74      0.45      0.51      1629\n",
            "          weighted avg       0.87      0.74      0.76      1629\n",
            "           samples avg       0.91      0.81      0.83      1629\n",
            "\n",
            "\n",
            "Métricas Gerais:\n",
            "Macro F1: 0.5108\n",
            "Micro F1: 0.8081\n",
            "Hamming Loss: 0.0959\n",
            "\n",
            "=== Baseline Results for min_df=3 -> features = 6142 (Word2Vec) ===\n",
            "Relatório de Classificação por Rótulo:\n",
            "                        precision    recall  f1-score   support\n",
            "\n",
            "               ENTREGA       0.49      0.65      0.56       311\n",
            "                OUTROS       0.19      0.09      0.12       235\n",
            "               PRODUTO       0.80      0.88      0.84       782\n",
            "CONDICOESDERECEBIMENTO       0.00      0.00      0.00       171\n",
            "            INADEQUADA       0.05      0.14      0.08        42\n",
            "               ANUNCIO       0.00      0.00      0.00        88\n",
            "\n",
            "             micro avg       0.61      0.56      0.59      1629\n",
            "             macro avg       0.25      0.29      0.26      1629\n",
            "          weighted avg       0.50      0.56      0.53      1629\n",
            "           samples avg       0.66      0.65      0.62      1629\n",
            "\n",
            "\n",
            "Métricas Gerais:\n",
            "Macro F1: 0.2650\n",
            "Micro F1: 0.5866\n",
            "Hamming Loss: 0.2165\n",
            "\n",
            "=== Baseline Results for min_df=3 -> features = 6142 (TF-IDF + Word2Vec) ===\n",
            "Relatório de Classificação por Rótulo:\n",
            "                        precision    recall  f1-score   support\n",
            "\n",
            "               ENTREGA       0.63      0.71      0.67       311\n",
            "                OUTROS       0.86      0.38      0.53       235\n",
            "               PRODUTO       0.86      0.98      0.92       782\n",
            "CONDICOESDERECEBIMENTO       1.00      0.05      0.10       171\n",
            "            INADEQUADA       0.00      0.00      0.00        42\n",
            "               ANUNCIO       0.00      0.00      0.00        88\n",
            "\n",
            "             micro avg       0.80      0.67      0.73      1629\n",
            "             macro avg       0.56      0.35      0.37      1629\n",
            "          weighted avg       0.76      0.67      0.65      1629\n",
            "           samples avg       0.82      0.75      0.75      1629\n",
            "\n",
            "\n",
            "Métricas Gerais:\n",
            "Macro F1: 0.3690\n",
            "Micro F1: 0.7282\n",
            "Hamming Loss: 0.1356\n",
            "Feature space size: 7000\n",
            "\n",
            "=== Baseline Results for max_features=7000 ===\n",
            "Relatório de Classificação por Rótulo:\n",
            "                        precision    recall  f1-score   support\n",
            "\n",
            "               ENTREGA       0.92      0.81      0.86       311\n",
            "                OUTROS       0.87      0.52      0.65       235\n",
            "               PRODUTO       0.89      0.99      0.93       782\n",
            "CONDICOESDERECEBIMENTO       0.92      0.26      0.40       171\n",
            "            INADEQUADA       0.00      0.00      0.00        42\n",
            "               ANUNCIO       0.89      0.09      0.16        88\n",
            "\n",
            "             micro avg       0.89      0.74      0.81      1629\n",
            "             macro avg       0.75      0.44      0.50      1629\n",
            "          weighted avg       0.87      0.74      0.76      1629\n",
            "           samples avg       0.90      0.81      0.83      1629\n",
            "\n",
            "\n",
            "Métricas Gerais:\n",
            "Macro F1: 0.5020\n",
            "Micro F1: 0.8059\n",
            "Hamming Loss: 0.0967\n",
            "\n",
            "=== Baseline Results for max_features=7000 (Word2Vec) ===\n",
            "Relatório de Classificação por Rótulo:\n",
            "                        precision    recall  f1-score   support\n",
            "\n",
            "               ENTREGA       0.49      0.65      0.56       311\n",
            "                OUTROS       0.19      0.09      0.12       235\n",
            "               PRODUTO       0.80      0.88      0.84       782\n",
            "CONDICOESDERECEBIMENTO       0.00      0.00      0.00       171\n",
            "            INADEQUADA       0.05      0.14      0.08        42\n",
            "               ANUNCIO       0.00      0.00      0.00        88\n",
            "\n",
            "             micro avg       0.61      0.56      0.59      1629\n",
            "             macro avg       0.25      0.29      0.26      1629\n",
            "          weighted avg       0.50      0.56      0.53      1629\n",
            "           samples avg       0.66      0.65      0.62      1629\n",
            "\n",
            "\n",
            "Métricas Gerais:\n",
            "Macro F1: 0.2650\n",
            "Micro F1: 0.5866\n",
            "Hamming Loss: 0.2165\n",
            "\n",
            "=== Baseline Results for max_features=7000 (TF-IDF + Word2Vec) ===\n",
            "Relatório de Classificação por Rótulo:\n",
            "                        precision    recall  f1-score   support\n",
            "\n",
            "               ENTREGA       0.65      0.71      0.67       311\n",
            "                OUTROS       0.89      0.34      0.49       235\n",
            "               PRODUTO       0.85      0.98      0.91       782\n",
            "CONDICOESDERECEBIMENTO       1.00      0.02      0.05       171\n",
            "            INADEQUADA       0.00      0.00      0.00        42\n",
            "               ANUNCIO       0.00      0.00      0.00        88\n",
            "\n",
            "             micro avg       0.80      0.66      0.72      1629\n",
            "             macro avg       0.56      0.34      0.35      1629\n",
            "          weighted avg       0.77      0.66      0.64      1629\n",
            "           samples avg       0.82      0.74      0.75      1629\n",
            "\n",
            "\n",
            "Métricas Gerais:\n",
            "Macro F1: 0.3542\n",
            "Micro F1: 0.7229\n",
            "Hamming Loss: 0.1377\n",
            "Feature space size: 5000\n",
            "\n",
            "=== Baseline Results for max_features=5000 ===\n",
            "Relatório de Classificação por Rótulo:\n",
            "                        precision    recall  f1-score   support\n",
            "\n",
            "               ENTREGA       0.90      0.83      0.86       311\n",
            "                OUTROS       0.84      0.54      0.65       235\n",
            "               PRODUTO       0.90      0.98      0.94       782\n",
            "CONDICOESDERECEBIMENTO       0.92      0.32      0.48       171\n",
            "            INADEQUADA       0.00      0.00      0.00        42\n",
            "               ANUNCIO       0.85      0.12      0.22        88\n",
            "\n",
            "             micro avg       0.89      0.75      0.81      1629\n",
            "             macro avg       0.73      0.47      0.52      1629\n",
            "          weighted avg       0.87      0.75      0.77      1629\n",
            "           samples avg       0.91      0.81      0.84      1629\n",
            "\n",
            "\n",
            "Métricas Gerais:\n",
            "Macro F1: 0.5247\n",
            "Micro F1: 0.8130\n",
            "Hamming Loss: 0.0939\n",
            "\n",
            "=== Baseline Results for max_features=5000 (Word2Vec) ===\n",
            "Relatório de Classificação por Rótulo:\n",
            "                        precision    recall  f1-score   support\n",
            "\n",
            "               ENTREGA       0.49      0.65      0.56       311\n",
            "                OUTROS       0.19      0.09      0.12       235\n",
            "               PRODUTO       0.80      0.88      0.84       782\n",
            "CONDICOESDERECEBIMENTO       0.00      0.00      0.00       171\n",
            "            INADEQUADA       0.05      0.14      0.08        42\n",
            "               ANUNCIO       0.00      0.00      0.00        88\n",
            "\n",
            "             micro avg       0.61      0.56      0.59      1629\n",
            "             macro avg       0.25      0.29      0.26      1629\n",
            "          weighted avg       0.50      0.56      0.53      1629\n",
            "           samples avg       0.66      0.65      0.62      1629\n",
            "\n",
            "\n",
            "Métricas Gerais:\n",
            "Macro F1: 0.2650\n",
            "Micro F1: 0.5866\n",
            "Hamming Loss: 0.2165\n",
            "\n",
            "=== Baseline Results for max_features=5000 (TF-IDF + Word2Vec) ===\n",
            "Relatório de Classificação por Rótulo:\n",
            "                        precision    recall  f1-score   support\n",
            "\n",
            "               ENTREGA       0.63      0.73      0.67       311\n",
            "                OUTROS       0.80      0.43      0.56       235\n",
            "               PRODUTO       0.88      0.97      0.92       782\n",
            "CONDICOESDERECEBIMENTO       0.95      0.12      0.22       171\n",
            "            INADEQUADA       0.00      0.00      0.00        42\n",
            "               ANUNCIO       0.00      0.00      0.00        88\n",
            "\n",
            "             micro avg       0.81      0.68      0.74      1629\n",
            "             macro avg       0.54      0.38      0.40      1629\n",
            "          weighted avg       0.76      0.68      0.68      1629\n",
            "           samples avg       0.83      0.76      0.76      1629\n",
            "\n",
            "\n",
            "Métricas Gerais:\n",
            "Macro F1: 0.3962\n",
            "Micro F1: 0.7386\n",
            "Hamming Loss: 0.1316\n",
            "\n",
            "=== Summary of Baseline Results ===\n",
            "original(TF-IDF): Macro F1=0.3336, Micro F1=0.7264, Hamming Loss=0.1306\n",
            "original (Word2Vec): Macro F1=0.2650, Micro F1=0.5866, Hamming Loss=0.2165\n",
            "original(TF-IDF + Word2Vec): Macro F1=0.1666, Micro F1=0.6057, Hamming Loss=0.1751\n",
            "min_df=2 -> features = 11400(TF-IDF): Macro F1=0.4638, Micro F1=0.7940, Hamming Loss=0.1014\n",
            "min_df=2 -> features = 11400 (Word2Vec): Macro F1=0.2650, Micro F1=0.5866, Hamming Loss=0.2165\n",
            "min_df=2 -> features = 11400(TF-IDF + Word2Vec): Macro F1=0.2997, Micro F1=0.6951, Hamming Loss=0.1496\n",
            "min_df=3 -> features = 6142(TF-IDF): Macro F1=0.5108, Micro F1=0.8081, Hamming Loss=0.0959\n",
            "min_df=3 -> features = 6142 (Word2Vec): Macro F1=0.2650, Micro F1=0.5866, Hamming Loss=0.2165\n",
            "min_df=3 -> features = 6142(TF-IDF + Word2Vec): Macro F1=0.3690, Micro F1=0.7282, Hamming Loss=0.1356\n",
            "max_features=7000(TF-IDF): Macro F1=0.5020, Micro F1=0.8059, Hamming Loss=0.0967\n",
            "max_features=7000 (Word2Vec): Macro F1=0.2650, Micro F1=0.5866, Hamming Loss=0.2165\n",
            "max_features=7000(TF-IDF + Word2Vec): Macro F1=0.3542, Micro F1=0.7229, Hamming Loss=0.1377\n",
            "max_features=5000(TF-IDF): Macro F1=0.5247, Micro F1=0.8130, Hamming Loss=0.0939\n",
            "max_features=5000 (Word2Vec): Macro F1=0.2650, Micro F1=0.5866, Hamming Loss=0.2165\n",
            "max_features=5000(TF-IDF + Word2Vec): Macro F1=0.3962, Micro F1=0.7386, Hamming Loss=0.1316\n"
          ]
        }
      ],
      "source": [
        "from sklearn.preprocessing import MinMaxScaler\n",
        "\n",
        "# List of configurations to test\n",
        "configs = [\n",
        "    {'min_df': 1, 'max_features': None, 'name': 'original'},\n",
        "    {'min_df': 2, 'max_features': None, 'name': 'min_df=2 -> features = 11400'},\n",
        "    {'min_df': 3, 'max_features': None, 'name': 'min_df=3 -> features = 6142'},\n",
        "    {'min_df': 1, 'max_features': 7000, 'name': 'max_features=7000'},\n",
        "    {'min_df': 1, 'max_features': 5000, 'name': 'max_features=5000'}\n",
        "]\n",
        "\n",
        "# Dictionary to store results\n",
        "results = {}\n",
        "\n",
        "# Loop through configurations\n",
        "for config in configs:\n",
        "    min_df = config['min_df']\n",
        "    max_features = config['max_features']\n",
        "    config_name = config['name']\n",
        "    # print(f\"\\n\\n=== Testing Configuration: {config_name} ===\")\n",
        "    \n",
        "    # Generate TF-IDF features\n",
        "    tfidf_result = create_tfidf_features_uni_bi(\n",
        "        train_data['lemmatized_reviews'],\n",
        "        val_data['lemmatized_reviews'],\n",
        "        test_data['lemmatized_reviews'],\n",
        "        min_df=min_df,\n",
        "        max_features=max_features\n",
        "    )\n",
        "    \n",
        "    # Unpack return values\n",
        "    X_train_tfidf_bi, X_val_tfidf_bi, X_test_tfidf_bi, feature_names_bi, sorted_words = tfidf_result\n",
        "    \n",
        "    # Evaluate baseline classifier\n",
        "    macro_f1, micro_f1, hamming = evaluate_baseline(\n",
        "        X_train_tfidf_bi, X_val_tfidf_bi, y_train, y_val, label_names, config_name\n",
        "    )\n",
        "    \n",
        "    # Store results for tf-idf\n",
        "    results[f\"{config_name}(TF-IDF)\"] = {'macro_f1': macro_f1, 'micro_f1': micro_f1, 'hamming_loss': hamming}\n",
        "\n",
        "    # Generate Word2Vec features\n",
        "    X_train_w2v = np.array([get_w2v_vector(text, w2v_model) for text in train_data['lemmatized_reviews']])\n",
        "    X_val_w2v = np.array([get_w2v_vector(text, w2v_model) for text in val_data['lemmatized_reviews']])\n",
        "    X_test_w2v = np.array([get_w2v_vector(text, w2v_model) for text in test_data['lemmatized_reviews']])\n",
        "    \n",
        "    # Normalize Word2Vec features to non-negative values\n",
        "    scaler = MinMaxScaler()\n",
        "    X_train_w2v = scaler.fit_transform(X_train_w2v)\n",
        "    X_val_w2v = scaler.transform(X_val_w2v)\n",
        "    X_test_w2v = scaler.transform(X_test_w2v)\n",
        "\n",
        "    # Evaluate baseline classifier with Word2Vec\n",
        "    macro_f1, micro_f1, hamming = evaluate_baseline(\n",
        "        X_train_w2v, X_val_w2v, y_train, y_val, label_names, f\"{config_name} (Word2Vec)\"\n",
        "    )\n",
        "    \n",
        "    # Store results for Word2Vec\n",
        "    results[f\"{config_name} (Word2Vec)\"] = {'macro_f1': macro_f1, 'micro_f1': micro_f1, 'hamming_loss': hamming}\n",
        "    \n",
        "    # Combine TF-IDF and Word2Vec features\n",
        "    X_train_combined = combine_tfidf_w2v(X_train_tfidf_bi, X_train_w2v, method=\"concat\")\n",
        "    X_val_combined = combine_tfidf_w2v(X_val_tfidf_bi, X_val_w2v, method=\"concat\")\n",
        "    X_test_combined = combine_tfidf_w2v(X_test_tfidf_bi, X_test_w2v, method=\"concat\")\n",
        "    \n",
        "    # Evaluate baseline classifier with TF-IDF + Word2Vec\n",
        "    macro_f1, micro_f1, hamming = evaluate_baseline(\n",
        "        X_train_combined, X_val_combined, y_train, y_val, label_names, f\"{config_name} (TF-IDF + Word2Vec)\"\n",
        "    )\n",
        "    \n",
        "    # Store results for TF-IDF + Word2Vec\n",
        "    results[f\"{config_name}(TF-IDF + Word2Vec)\"] = {'macro_f1': macro_f1, 'micro_f1': micro_f1, 'hamming_loss': hamming}\n",
        "\n",
        "# Print summary of results\n",
        "print(\"\\n=== Summary of Baseline Results ===\")\n",
        "for config_name, metrics in results.items():\n",
        "    print(f\"{config_name}: Macro F1={metrics['macro_f1']:.4f}, Micro F1={metrics['micro_f1']:.4f}, Hamming Loss={metrics['hamming_loss']:.4f}\")"
      ]
    },
    {
      "cell_type": "markdown",
      "metadata": {
        "id": "nfWXlpS3R8sZ"
      },
      "source": [
        "### Other classifiers\n",
        "##### 1. Fine-tuned Logistic Regression\n",
        "* TF-IDF"
      ]
    },
    {
      "cell_type": "code",
      "execution_count": 40,
      "metadata": {},
      "outputs": [
        {
          "name": "stdout",
          "output_type": "stream",
          "text": [
            "\n",
            "=== Logistic Regression (TF-IDF, C=0.01) ===\n",
            "Relatório de Classificação por Rótulo:\n",
            "                        precision    recall  f1-score   support\n",
            "\n",
            "               ENTREGA       0.91      0.85      0.88       311\n",
            "                OUTROS       0.67      0.71      0.69       235\n",
            "               PRODUTO       0.93      0.91      0.92       782\n",
            "CONDICOESDERECEBIMENTO       0.69      0.71      0.70       171\n",
            "            INADEQUADA       0.17      0.69      0.27        42\n",
            "               ANUNCIO       0.74      0.82      0.78        88\n",
            "\n",
            "             micro avg       0.78      0.84      0.81      1629\n",
            "             macro avg       0.68      0.78      0.70      1629\n",
            "          weighted avg       0.83      0.84      0.83      1629\n",
            "           samples avg       0.83      0.87      0.83      1629\n",
            "\n",
            "Macro F1: 0.7045\n",
            "Micro F1: 0.8059\n",
            "Hamming Loss: 0.1102\n",
            "\n",
            "=== Logistic Regression (TF-IDF, C=0.1) ===\n",
            "Relatório de Classificação por Rótulo:\n",
            "                        precision    recall  f1-score   support\n",
            "\n",
            "               ENTREGA       0.90      0.89      0.89       311\n",
            "                OUTROS       0.68      0.75      0.71       235\n",
            "               PRODUTO       0.94      0.91      0.92       782\n",
            "CONDICOESDERECEBIMENTO       0.70      0.79      0.74       171\n",
            "            INADEQUADA       0.18      0.62      0.28        42\n",
            "               ANUNCIO       0.75      0.82      0.78        88\n",
            "\n",
            "             micro avg       0.79      0.86      0.82      1629\n",
            "             macro avg       0.69      0.80      0.72      1629\n",
            "          weighted avg       0.84      0.86      0.84      1629\n",
            "           samples avg       0.84      0.88      0.84      1629\n",
            "\n",
            "Macro F1: 0.7214\n",
            "Micro F1: 0.8240\n",
            "Hamming Loss: 0.0999\n",
            "\n",
            "=== Logistic Regression (TF-IDF, C=1.0) ===\n",
            "Relatório de Classificação por Rótulo:\n",
            "                        precision    recall  f1-score   support\n",
            "\n",
            "               ENTREGA       0.90      0.94      0.92       311\n",
            "                OUTROS       0.74      0.80      0.77       235\n",
            "               PRODUTO       0.95      0.90      0.93       782\n",
            "CONDICOESDERECEBIMENTO       0.75      0.80      0.77       171\n",
            "            INADEQUADA       0.18      0.48      0.26        42\n",
            "               ANUNCIO       0.81      0.84      0.83        88\n",
            "\n",
            "             micro avg       0.83      0.87      0.85      1629\n",
            "             macro avg       0.72      0.79      0.75      1629\n",
            "          weighted avg       0.87      0.87      0.86      1629\n",
            "           samples avg       0.87      0.90      0.86      1629\n",
            "\n",
            "Macro F1: 0.7464\n",
            "Micro F1: 0.8509\n",
            "Hamming Loss: 0.0832\n",
            "\n",
            "=== Logistic Regression (TF-IDF, C=10.0) ===\n",
            "Relatório de Classificação por Rótulo:\n",
            "                        precision    recall  f1-score   support\n",
            "\n",
            "               ENTREGA       0.92      0.94      0.93       311\n",
            "                OUTROS       0.76      0.79      0.77       235\n",
            "               PRODUTO       0.94      0.91      0.93       782\n",
            "CONDICOESDERECEBIMENTO       0.75      0.73      0.74       171\n",
            "            INADEQUADA       0.19      0.33      0.24        42\n",
            "               ANUNCIO       0.78      0.81      0.79        88\n",
            "\n",
            "             micro avg       0.85      0.86      0.85      1629\n",
            "             macro avg       0.72      0.75      0.73      1629\n",
            "          weighted avg       0.86      0.86      0.86      1629\n",
            "           samples avg       0.88      0.89      0.86      1629\n",
            "\n",
            "Macro F1: 0.7335\n",
            "Micro F1: 0.8543\n",
            "Hamming Loss: 0.0801\n",
            "\n",
            "=== Best C Value ===\n",
            "Best C: 1.0 with Macro F1=0.7464, Micro F1=0.8509, Hamming Loss=0.0832\n"
          ]
        }
      ],
      "source": [
        "C_values = [0.01, 0.1, 1.0, 10.0]\n",
        "results = {}\n",
        "train_results = [] # store results for training set to plot at the end and compare\n",
        "\n",
        "for C in C_values:\n",
        "    model_logreg = Pipeline([\n",
        "        ('tfidf', TfidfVectorizer(ngram_range=(1, 2), min_df=1, max_features=5000)),\n",
        "        ('Logistic Regression', OneVsRestClassifier(LogisticRegression(\n",
        "            C=C, max_iter=1000, random_state=42, class_weight='balanced')))\n",
        "    ])\n",
        "    \n",
        "    # Usar evaluate_model para treinar e avaliar\n",
        "    macro_f1, micro_f1, hamming, _ = evaluate_model(\n",
        "        train_data['lemmatized_reviews'],  # Texto bruto de treino\n",
        "        val_data['lemmatized_reviews'],    # Texto bruto de validação\n",
        "        y_train,\n",
        "        y_val,\n",
        "        f\"Logistic Regression (TF-IDF, C={C})\",\n",
        "        model_logreg\n",
        "    )\n",
        "    \n",
        "    # Armazenar resultados\n",
        "    results[C] = {'Macro F1': macro_f1, 'Micro F1': micro_f1, 'Hamming Loss': hamming}\n",
        "\n",
        "# Find and print the best C based on Macro F1\n",
        "best_C = max(results, key=lambda x: results[x]['Macro F1'])\n",
        "\n",
        "train_results.append({\n",
        "    'Model': 'Logistic Regression',\n",
        "    'Feature Set': 'TF-IDF',\n",
        "    'Macro F1': results[best_C]['Macro F1'],\n",
        "    'Micro F1': results[best_C]['Micro F1'],\n",
        "    'Hamming Loss': results[best_C]['Hamming Loss']\n",
        "})\n",
        "\n",
        "print(f\"\\n=== Best C Value ===\")\n",
        "print(f\"Best C: {best_C} with Macro F1={results[best_C]['Macro F1']:.4f}, \"\n",
        "      f\"Micro F1={results[best_C]['Micro F1']:.4f}, Hamming Loss={results[best_C]['Hamming Loss']:.4f}\")"
      ]
    },
    {
      "cell_type": "markdown",
      "metadata": {},
      "source": [
        "* Word2Vec"
      ]
    },
    {
      "cell_type": "code",
      "execution_count": 41,
      "metadata": {},
      "outputs": [
        {
          "name": "stdout",
          "output_type": "stream",
          "text": [
            "\n",
            "=== Logistic Regression (Word2Vec, C=0.01) ===\n",
            "Relatório de Classificação por Rótulo:\n",
            "                        precision    recall  f1-score   support\n",
            "\n",
            "               ENTREGA       0.55      0.73      0.63       311\n",
            "                OUTROS       0.42      0.66      0.51       235\n",
            "               PRODUTO       0.91      0.78      0.84       782\n",
            "CONDICOESDERECEBIMENTO       0.26      0.63      0.36       171\n",
            "            INADEQUADA       0.05      0.38      0.08        42\n",
            "               ANUNCIO       0.12      0.74      0.21        88\n",
            "\n",
            "             micro avg       0.43      0.73      0.54      1629\n",
            "             macro avg       0.39      0.65      0.44      1629\n",
            "          weighted avg       0.64      0.73      0.65      1629\n",
            "           samples avg       0.49      0.76      0.56      1629\n",
            "\n",
            "Macro F1: 0.4404\n",
            "Micro F1: 0.5415\n",
            "Hamming Loss: 0.3357\n",
            "\n",
            "=== Logistic Regression (Word2Vec, C=0.1) ===\n",
            "Relatório de Classificação por Rótulo:\n",
            "                        precision    recall  f1-score   support\n",
            "\n",
            "               ENTREGA       0.67      0.78      0.72       311\n",
            "                OUTROS       0.44      0.65      0.52       235\n",
            "               PRODUTO       0.92      0.81      0.86       782\n",
            "CONDICOESDERECEBIMENTO       0.26      0.63      0.37       171\n",
            "            INADEQUADA       0.06      0.43      0.10        42\n",
            "               ANUNCIO       0.12      0.70      0.20        88\n",
            "\n",
            "             micro avg       0.46      0.75      0.57      1629\n",
            "             macro avg       0.41      0.67      0.46      1629\n",
            "          weighted avg       0.67      0.75      0.68      1629\n",
            "           samples avg       0.53      0.78      0.59      1629\n",
            "\n",
            "Macro F1: 0.4629\n",
            "Micro F1: 0.5678\n",
            "Hamming Loss: 0.3109\n",
            "\n",
            "=== Logistic Regression (Word2Vec, C=1.0) ===\n",
            "Relatório de Classificação por Rótulo:\n",
            "                        precision    recall  f1-score   support\n",
            "\n",
            "               ENTREGA       0.69      0.80      0.74       311\n",
            "                OUTROS       0.47      0.69      0.56       235\n",
            "               PRODUTO       0.92      0.84      0.88       782\n",
            "CONDICOESDERECEBIMENTO       0.28      0.66      0.39       171\n",
            "            INADEQUADA       0.07      0.52      0.12        42\n",
            "               ANUNCIO       0.14      0.77      0.24        88\n",
            "\n",
            "             micro avg       0.49      0.78      0.60      1629\n",
            "             macro avg       0.43      0.71      0.49      1629\n",
            "          weighted avg       0.68      0.78      0.70      1629\n",
            "           samples avg       0.55      0.81      0.62      1629\n",
            "\n",
            "Macro F1: 0.4893\n",
            "Micro F1: 0.5982\n",
            "Hamming Loss: 0.2859\n",
            "\n",
            "=== Logistic Regression (Word2Vec, C=10.0) ===\n",
            "Relatório de Classificação por Rótulo:\n",
            "                        precision    recall  f1-score   support\n",
            "\n",
            "               ENTREGA       0.80      0.85      0.82       311\n",
            "                OUTROS       0.54      0.74      0.62       235\n",
            "               PRODUTO       0.93      0.84      0.89       782\n",
            "CONDICOESDERECEBIMENTO       0.39      0.73      0.51       171\n",
            "            INADEQUADA       0.08      0.57      0.14        42\n",
            "               ANUNCIO       0.20      0.73      0.32        88\n",
            "\n",
            "             micro avg       0.57      0.80      0.66      1629\n",
            "             macro avg       0.49      0.74      0.55      1629\n",
            "          weighted avg       0.73      0.80      0.74      1629\n",
            "           samples avg       0.64      0.82      0.69      1629\n",
            "\n",
            "Macro F1: 0.5478\n",
            "Micro F1: 0.6650\n",
            "Hamming Loss: 0.2207\n",
            "\n",
            "=== Best C Value (Word2Vec) ===\n",
            "Best C: 10.0 with Macro F1=0.5478, Micro F1=0.6650, Hamming Loss=0.2207\n"
          ]
        }
      ],
      "source": [
        "# Logistic Regression com Word2Vec\n",
        "C_values = [0.01, 0.1, 1.0, 10.0]\n",
        "results_w2v_logreg = {}\n",
        "for C in C_values:\n",
        "    model_logreg_w2v = OneVsRestClassifier(LogisticRegression(C=C, max_iter=1000, random_state=42, class_weight='balanced'))\n",
        "    macro_f1, micro_f1, hamming, _ = evaluate_model(X_train_w2v, X_val_w2v, y_train, y_val, \n",
        "                                                 f\"Logistic Regression (Word2Vec, C={C})\", model_logreg_w2v)\n",
        "    results_w2v_logreg[C] = {'Macro F1': macro_f1, 'Micro F1': micro_f1, 'Hamming Loss': hamming}\n",
        "\n",
        "best_C_w2v = max(results_w2v_logreg, key=lambda x: results_w2v_logreg[x]['Macro F1'])\n",
        "\n",
        "train_results.append({\n",
        "    'Model': 'Logistic Regression',\n",
        "    'Feature Set': 'Word2Vec',\n",
        "    'Macro F1': results_w2v_logreg[best_C_w2v]['Macro F1'],\n",
        "    'Micro F1': results_w2v_logreg[best_C_w2v]['Micro F1'],\n",
        "    'Hamming Loss': results_w2v_logreg[best_C_w2v]['Hamming Loss']\n",
        "})\n",
        "\n",
        "print(f\"\\n=== Best C Value (Word2Vec) ===\")\n",
        "print(f\"Best C: {best_C_w2v} with Macro F1={results_w2v_logreg[best_C_w2v]['Macro F1']:.4f}, \"\n",
        "      f\"Micro F1={results_w2v_logreg[best_C_w2v]['Micro F1']:.4f}, Hamming Loss={results_w2v_logreg[best_C_w2v]['Hamming Loss']:.4f}\")\n"
      ]
    },
    {
      "cell_type": "markdown",
      "metadata": {},
      "source": [
        "* Combination"
      ]
    },
    {
      "cell_type": "code",
      "execution_count": 42,
      "metadata": {},
      "outputs": [
        {
          "name": "stdout",
          "output_type": "stream",
          "text": [
            "\n",
            "=== Logistic Regression (TF-IDF + Word2Vec, C=0.01) ===\n",
            "Relatório de Classificação por Rótulo:\n",
            "                        precision    recall  f1-score   support\n",
            "\n",
            "               ENTREGA       0.61      0.77      0.68       311\n",
            "                OUTROS       0.50      0.68      0.57       235\n",
            "               PRODUTO       0.92      0.84      0.88       782\n",
            "CONDICOESDERECEBIMENTO       0.40      0.73      0.52       171\n",
            "            INADEQUADA       0.05      0.36      0.09        42\n",
            "               ANUNCIO       0.22      0.84      0.35        88\n",
            "\n",
            "             micro avg       0.54      0.78      0.64      1629\n",
            "             macro avg       0.45      0.70      0.51      1629\n",
            "          weighted avg       0.68      0.78      0.71      1629\n",
            "           samples avg       0.61      0.80      0.65      1629\n",
            "\n",
            "Macro F1: 0.5146\n",
            "Micro F1: 0.6363\n",
            "Hamming Loss: 0.2425\n",
            "\n",
            "=== Logistic Regression (TF-IDF + Word2Vec, C=0.1) ===\n",
            "Relatório de Classificação por Rótulo:\n",
            "                        precision    recall  f1-score   support\n",
            "\n",
            "               ENTREGA       0.82      0.87      0.84       311\n",
            "                OUTROS       0.62      0.74      0.68       235\n",
            "               PRODUTO       0.94      0.88      0.91       782\n",
            "CONDICOESDERECEBIMENTO       0.63      0.78      0.70       171\n",
            "            INADEQUADA       0.14      0.60      0.23        42\n",
            "               ANUNCIO       0.66      0.82      0.73        88\n",
            "\n",
            "             micro avg       0.74      0.84      0.79      1629\n",
            "             macro avg       0.64      0.78      0.68      1629\n",
            "          weighted avg       0.80      0.84      0.81      1629\n",
            "           samples avg       0.79      0.86      0.80      1629\n",
            "\n",
            "Macro F1: 0.6808\n",
            "Micro F1: 0.7857\n",
            "Hamming Loss: 0.1246\n",
            "\n",
            "=== Logistic Regression (TF-IDF + Word2Vec, C=1.0) ===\n",
            "Relatório de Classificação por Rótulo:\n",
            "                        precision    recall  f1-score   support\n",
            "\n",
            "               ENTREGA       0.91      0.94      0.92       311\n",
            "                OUTROS       0.72      0.81      0.76       235\n",
            "               PRODUTO       0.95      0.90      0.92       782\n",
            "CONDICOESDERECEBIMENTO       0.74      0.80      0.77       171\n",
            "            INADEQUADA       0.22      0.57      0.32        42\n",
            "               ANUNCIO       0.80      0.84      0.82        88\n",
            "\n",
            "             micro avg       0.83      0.87      0.85      1629\n",
            "             macro avg       0.72      0.81      0.75      1629\n",
            "          weighted avg       0.86      0.87      0.86      1629\n",
            "           samples avg       0.86      0.89      0.86      1629\n",
            "\n",
            "Macro F1: 0.7516\n",
            "Micro F1: 0.8490\n",
            "Hamming Loss: 0.0845\n",
            "\n",
            "=== Logistic Regression (TF-IDF + Word2Vec, C=10.0) ===\n",
            "Relatório de Classificação por Rótulo:\n",
            "                        precision    recall  f1-score   support\n",
            "\n",
            "               ENTREGA       0.92      0.94      0.93       311\n",
            "                OUTROS       0.75      0.79      0.77       235\n",
            "               PRODUTO       0.94      0.91      0.93       782\n",
            "CONDICOESDERECEBIMENTO       0.74      0.73      0.73       171\n",
            "            INADEQUADA       0.25      0.38      0.30        42\n",
            "               ANUNCIO       0.76      0.81      0.78        88\n",
            "\n",
            "             micro avg       0.85      0.86      0.86      1629\n",
            "             macro avg       0.73      0.76      0.74      1629\n",
            "          weighted avg       0.86      0.86      0.86      1629\n",
            "           samples avg       0.88      0.89      0.87      1629\n",
            "\n",
            "Macro F1: 0.7414\n",
            "Micro F1: 0.8565\n",
            "Hamming Loss: 0.0788\n",
            "\n",
            "=== Best C Value (TF-IDF + Word2Vec) ===\n",
            "Best C: 1.0 with Macro F1=0.7516, Micro F1=0.8490, Hamming Loss=0.0845\n"
          ]
        }
      ],
      "source": [
        "# Logistic Regression com Combinação\n",
        "results_combined_logreg = {}\n",
        "for C in C_values:\n",
        "    model_logreg_combined = OneVsRestClassifier(LogisticRegression(C=C, max_iter=1000, random_state=42, class_weight='balanced'))\n",
        "    macro_f1, micro_f1, hamming, _ = evaluate_model(X_train_combined, X_val_combined, y_train, y_val, \n",
        "                                                 f\"Logistic Regression (TF-IDF + Word2Vec, C={C})\", model_logreg_combined)\n",
        "    results_combined_logreg[C] = {'Macro F1': macro_f1, 'Micro F1': micro_f1, 'Hamming Loss': hamming}\n",
        "\n",
        "best_C_combined = max(results_combined_logreg, key=lambda x: results_combined_logreg[x]['Macro F1'])\n",
        "\n",
        "train_results.append({\n",
        "    'Model': 'Logistic Regression',\n",
        "    'Feature Set': 'TF-IDF + Word2Vec',\n",
        "    'Macro F1': results_combined_logreg[best_C_combined]['Macro F1'],\n",
        "    'Micro F1': results_combined_logreg[best_C_combined]['Micro F1'],\n",
        "    'Hamming Loss': results_combined_logreg[best_C_combined]['Hamming Loss']\n",
        "})\n",
        "\n",
        "print(f\"\\n=== Best C Value (TF-IDF + Word2Vec) ===\")\n",
        "print(f\"Best C: {best_C_combined} with Macro F1={results_combined_logreg[best_C_combined]['Macro F1']:.4f}, \"\n",
        "      f\"Micro F1={results_combined_logreg[best_C_combined]['Micro F1']:.4f}, Hamming Loss={results_combined_logreg[best_C_combined]['Hamming Loss']:.4f}\")\n"
      ]
    },
    {
      "cell_type": "markdown",
      "metadata": {},
      "source": [
        "##### 2. Linear Support Vector Classification (SVC)"
      ]
    },
    {
      "cell_type": "markdown",
      "metadata": {},
      "source": [
        "* TF-IDF"
      ]
    },
    {
      "cell_type": "code",
      "execution_count": 43,
      "metadata": {},
      "outputs": [
        {
          "name": "stdout",
          "output_type": "stream",
          "text": [
            "\n",
            "=== SVM (TF-IDF) ===\n",
            "Relatório de Classificação por Rótulo:\n",
            "                        precision    recall  f1-score   support\n",
            "\n",
            "               ENTREGA       0.91      0.95      0.93       311\n",
            "                OUTROS       0.74      0.77      0.76       235\n",
            "               PRODUTO       0.94      0.91      0.93       782\n",
            "CONDICOESDERECEBIMENTO       0.73      0.72      0.72       171\n",
            "            INADEQUADA       0.19      0.33      0.24        42\n",
            "               ANUNCIO       0.76      0.78      0.77        88\n",
            "\n",
            "             micro avg       0.84      0.86      0.85      1629\n",
            "             macro avg       0.71      0.75      0.72      1629\n",
            "          weighted avg       0.86      0.86      0.86      1629\n",
            "           samples avg       0.87      0.89      0.86      1629\n",
            "\n",
            "Macro F1: 0.7248\n",
            "Micro F1: 0.8485\n",
            "Hamming Loss: 0.0835\n"
          ]
        }
      ],
      "source": [
        "model_svc = Pipeline([\n",
        "    ('tfidf', TfidfVectorizer(ngram_range=(1, 2), min_df=1, max_features=5000)),\n",
        "    ('Linear SVM', OneVsRestClassifier(LinearSVC(max_iter=1000, random_state=42, class_weight='balanced')))\n",
        "])\n",
        "\n",
        "# Usar evaluate_model para treinar e avaliar\n",
        "macro_f1, micro_f1, hamming, _ = evaluate_model(\n",
        "    train_data['lemmatized_reviews'],  # Texto bruto de treino\n",
        "    val_data['lemmatized_reviews'],    # Texto bruto de validação\n",
        "    y_train,\n",
        "    y_val,\n",
        "    \"SVM (TF-IDF)\",\n",
        "    model_svc\n",
        ")\n",
        "\n",
        "train_results.append({\n",
        "    'Model': 'SVM',\n",
        "    'Feature Set': 'TF-IDF',\n",
        "    'Macro F1': macro_f1,\n",
        "    'Micro F1': micro_f1,\n",
        "    'Hamming Loss': hamming\n",
        "})"
      ]
    },
    {
      "cell_type": "markdown",
      "metadata": {},
      "source": [
        "* Word2Vec"
      ]
    },
    {
      "cell_type": "code",
      "execution_count": 44,
      "metadata": {},
      "outputs": [
        {
          "name": "stdout",
          "output_type": "stream",
          "text": [
            "\n",
            "=== SVM (Word2Vec) ===\n",
            "Relatório de Classificação por Rótulo:\n",
            "                        precision    recall  f1-score   support\n",
            "\n",
            "               ENTREGA       0.81      0.85      0.83       311\n",
            "                OUTROS       0.54      0.75      0.63       235\n",
            "               PRODUTO       0.93      0.85      0.89       782\n",
            "CONDICOESDERECEBIMENTO       0.38      0.73      0.50       171\n",
            "            INADEQUADA       0.08      0.57      0.14        42\n",
            "               ANUNCIO       0.21      0.77      0.33        88\n",
            "\n",
            "             micro avg       0.57      0.81      0.67      1629\n",
            "             macro avg       0.49      0.75      0.55      1629\n",
            "          weighted avg       0.74      0.81      0.75      1629\n",
            "           samples avg       0.65      0.83      0.70      1629\n",
            "\n",
            "Macro F1: 0.5525\n",
            "Micro F1: 0.6684\n",
            "Hamming Loss: 0.2193\n"
          ]
        }
      ],
      "source": [
        "# SVC com Word2Vec\n",
        "model_svc_w2v = OneVsRestClassifier(LinearSVC(max_iter=1000, random_state=42, class_weight='balanced'))\n",
        "macro_f1, micro_f1, hamming, _ = evaluate_model(X_train_w2v, X_val_w2v, y_train, y_val, \"SVM (Word2Vec)\", model_svc_w2v)\n",
        "\n",
        "train_results.append({\n",
        "    'Model': 'SVM',\n",
        "    'Feature Set': 'Word2Vec',\n",
        "    'Macro F1': macro_f1,\n",
        "    'Micro F1': micro_f1,\n",
        "    'Hamming Loss': hamming\n",
        "})"
      ]
    },
    {
      "cell_type": "markdown",
      "metadata": {},
      "source": [
        "* Combination"
      ]
    },
    {
      "cell_type": "code",
      "execution_count": 45,
      "metadata": {},
      "outputs": [
        {
          "name": "stdout",
          "output_type": "stream",
          "text": [
            "\n",
            "=== SVM (TF-IDF + Word2Vec) ===\n",
            "Relatório de Classificação por Rótulo:\n",
            "                        precision    recall  f1-score   support\n",
            "\n",
            "               ENTREGA       0.92      0.95      0.93       311\n",
            "                OUTROS       0.73      0.78      0.76       235\n",
            "               PRODUTO       0.94      0.91      0.92       782\n",
            "CONDICOESDERECEBIMENTO       0.74      0.72      0.73       171\n",
            "            INADEQUADA       0.27      0.38      0.32        42\n",
            "               ANUNCIO       0.77      0.78      0.78        88\n",
            "\n",
            "             micro avg       0.85      0.86      0.85      1629\n",
            "             macro avg       0.73      0.75      0.74      1629\n",
            "          weighted avg       0.86      0.86      0.86      1629\n",
            "           samples avg       0.88      0.89      0.86      1629\n",
            "\n",
            "Macro F1: 0.7388\n",
            "Micro F1: 0.8540\n",
            "Hamming Loss: 0.0801\n"
          ]
        }
      ],
      "source": [
        "# SVC com Combinação\n",
        "model_svc_combined = OneVsRestClassifier(LinearSVC(max_iter=1000, random_state=42, class_weight='balanced'))\n",
        "macro_f1, micro_f1, hamming, _ = evaluate_model(X_train_combined, X_val_combined, y_train, y_val, \"SVM (TF-IDF + Word2Vec)\", model_svc_combined)\n",
        "\n",
        "train_results.append({\n",
        "    'Model': 'SVM',\n",
        "    'Feature Set': 'TF-IDF + Word2Vec',\n",
        "    'Macro F1': macro_f1,\n",
        "    'Micro F1': micro_f1,\n",
        "    'Hamming Loss': hamming\n",
        "})"
      ]
    },
    {
      "cell_type": "markdown",
      "metadata": {},
      "source": [
        "##### 3. XGBoost"
      ]
    },
    {
      "cell_type": "code",
      "execution_count": 46,
      "metadata": {},
      "outputs": [],
      "source": [
        "def compute_scale_pos_weight(y_train):\n",
        "    n_samples, n_classes = y_train.shape\n",
        "    scale_pos_weights = []\n",
        "    for i in range(n_classes):\n",
        "        pos_count = np.sum(y_train[:, i])\n",
        "        neg_count = n_samples - pos_count\n",
        "        if pos_count > 0:  # Avoid division by zero\n",
        "            scale_pos_weights.append(neg_count / pos_count)\n",
        "        else:\n",
        "            scale_pos_weights.append(1.0)  # Default if no positive samples\n",
        "    return scale_pos_weights"
      ]
    },
    {
      "cell_type": "code",
      "execution_count": 47,
      "metadata": {},
      "outputs": [],
      "source": [
        "# Custom XGBoost classifier to handle per-label scale_pos_weight\n",
        "class CustomXGBClassifier:\n",
        "    def __init__(self, scale_pos_weights, **kwargs):\n",
        "        self.scale_pos_weights = scale_pos_weights  # List of weights for each label\n",
        "        self.kwargs = kwargs  # Other XGBoost parameters\n",
        "        self.estimators_ = []  # Store one classifier per label\n",
        "\n",
        "    def fit(self, X, y):\n",
        "        self.estimators_ = []\n",
        "        for i in range(y.shape[1]):  # Iterate over each label\n",
        "            xgb = XGBClassifier(\n",
        "                scale_pos_weight=self.scale_pos_weights[i],  # Assign unique weight\n",
        "                n_estimators=100,\n",
        "                max_depth=6,\n",
        "                learning_rate=0.1,\n",
        "                random_state=42,\n",
        "                eval_metric='logloss',\n",
        "                **self.kwargs  # Pass additional parameters if any\n",
        "            )\n",
        "            xgb.fit(X, y[:, i])  # Fit binary classifier for this label\n",
        "            self.estimators_.append(xgb)\n",
        "        return self\n",
        "\n",
        "    def predict(self, X):\n",
        "        # Stack predictions for all labels\n",
        "        predictions = np.array([est.predict(X) for est in self.estimators_]).T\n",
        "        return predictions\n",
        "\n",
        "    def predict_proba(self, X):\n",
        "        # Stack probabilities (positive class) for all labels\n",
        "        probas = np.array([est.predict_proba(X)[:, 1] for est in self.estimators_]).T\n",
        "        return probas"
      ]
    },
    {
      "cell_type": "markdown",
      "metadata": {},
      "source": [
        "* TF-IDF"
      ]
    },
    {
      "cell_type": "code",
      "execution_count": 48,
      "metadata": {},
      "outputs": [
        {
          "name": "stdout",
          "output_type": "stream",
          "text": [
            "\n",
            "=== XGBoost (TF-IDF) ===\n",
            "Relatório de Classificação por Rótulo:\n",
            "                        precision    recall  f1-score   support\n",
            "\n",
            "               ENTREGA       0.88      0.93      0.91       311\n",
            "                OUTROS       0.76      0.72      0.74       235\n",
            "               PRODUTO       0.93      0.86      0.90       782\n",
            "CONDICOESDERECEBIMENTO       0.71      0.77      0.74       171\n",
            "            INADEQUADA       0.11      0.43      0.17        42\n",
            "               ANUNCIO       0.78      0.83      0.81        88\n",
            "\n",
            "             micro avg       0.79      0.83      0.81      1629\n",
            "             macro avg       0.70      0.76      0.71      1629\n",
            "          weighted avg       0.85      0.83      0.84      1629\n",
            "           samples avg       0.82      0.86      0.82      1629\n",
            "\n",
            "Macro F1: 0.7100\n",
            "Micro F1: 0.8104\n",
            "Hamming Loss: 0.1065\n"
          ]
        }
      ],
      "source": [
        "scale_pos_weights = compute_scale_pos_weight(y_train)\n",
        "\n",
        "# Define the XGBoost pipeline\n",
        "model_xgb = Pipeline([\n",
        "    ('tfidf', TfidfVectorizer(ngram_range=(1, 2), min_df=1, max_features=5000)),\n",
        "    ('XGBoost', CustomXGBClassifier(scale_pos_weights=scale_pos_weights))\n",
        "])\n",
        "\n",
        "# Usar evaluate_model para treinar e avaliar\n",
        "macro_f1, micro_f1, hamming, _ = evaluate_model(\n",
        "    train_data['lemmatized_reviews'],  # Texto bruto de treino\n",
        "    val_data['lemmatized_reviews'],    # Texto bruto de validação\n",
        "    y_train,\n",
        "    y_val,\n",
        "    \"XGBoost (TF-IDF)\",\n",
        "    model_xgb\n",
        ")\n",
        "\n",
        "train_results.append({\n",
        "    'Model': 'XGBoost',\n",
        "    'Feature Set': 'TF-IDF',\n",
        "    'Macro F1': macro_f1,\n",
        "    'Micro F1': micro_f1,\n",
        "    'Hamming Loss': hamming\n",
        "})"
      ]
    },
    {
      "cell_type": "markdown",
      "metadata": {},
      "source": [
        "* Word2Vec"
      ]
    },
    {
      "cell_type": "code",
      "execution_count": 49,
      "metadata": {},
      "outputs": [
        {
          "name": "stdout",
          "output_type": "stream",
          "text": [
            "\n",
            "=== XGBoost (Word2Vec) ===\n",
            "Relatório de Classificação por Rótulo:\n",
            "                        precision    recall  f1-score   support\n",
            "\n",
            "               ENTREGA       0.79      0.84      0.81       311\n",
            "                OUTROS       0.55      0.67      0.60       235\n",
            "               PRODUTO       0.92      0.85      0.88       782\n",
            "CONDICOESDERECEBIMENTO       0.35      0.53      0.42       171\n",
            "            INADEQUADA       0.22      0.21      0.22        42\n",
            "               ANUNCIO       0.23      0.36      0.28        88\n",
            "\n",
            "             micro avg       0.68      0.75      0.71      1629\n",
            "             macro avg       0.51      0.58      0.54      1629\n",
            "          weighted avg       0.72      0.75      0.73      1629\n",
            "           samples avg       0.76      0.79      0.74      1629\n",
            "\n",
            "Macro F1: 0.5367\n",
            "Micro F1: 0.7134\n",
            "Hamming Loss: 0.1638\n"
          ]
        }
      ],
      "source": [
        "model_xgb_w2v = CustomXGBClassifier(scale_pos_weights=scale_pos_weights)\n",
        "\n",
        "macro_f1, micro_f1, hamming, _ = evaluate_model(X_train_w2v, X_val_w2v, y_train, y_val, \"XGBoost (Word2Vec)\", model_xgb_w2v)\n",
        "\n",
        "train_results.append({\n",
        "    'Model': 'XGBoost',\n",
        "    'Feature Set': 'Word2Vec',\n",
        "    'Macro F1': macro_f1,\n",
        "    'Micro F1': micro_f1,\n",
        "    'Hamming Loss': hamming\n",
        "})"
      ]
    },
    {
      "cell_type": "markdown",
      "metadata": {},
      "source": [
        "* Combination"
      ]
    },
    {
      "cell_type": "code",
      "execution_count": 50,
      "metadata": {},
      "outputs": [
        {
          "name": "stdout",
          "output_type": "stream",
          "text": [
            "\n",
            "=== XGBoost (TF-IDF + Word2Vec) ===\n",
            "Relatório de Classificação por Rótulo:\n",
            "                        precision    recall  f1-score   support\n",
            "\n",
            "               ENTREGA       0.89      0.92      0.90       311\n",
            "                OUTROS       0.67      0.76      0.71       235\n",
            "               PRODUTO       0.93      0.86      0.90       782\n",
            "CONDICOESDERECEBIMENTO       0.71      0.73      0.72       171\n",
            "            INADEQUADA       0.30      0.43      0.35        42\n",
            "               ANUNCIO       0.76      0.82      0.79        88\n",
            "\n",
            "             micro avg       0.83      0.83      0.83      1629\n",
            "             macro avg       0.71      0.75      0.73      1629\n",
            "          weighted avg       0.84      0.83      0.83      1629\n",
            "           samples avg       0.85      0.85      0.83      1629\n",
            "\n",
            "Macro F1: 0.7286\n",
            "Micro F1: 0.8277\n",
            "Hamming Loss: 0.0944\n"
          ]
        }
      ],
      "source": [
        "# XGBoost com Combinação\n",
        "model_xgb_combined = CustomXGBClassifier(scale_pos_weights=scale_pos_weights)\n",
        "\n",
        "macro_f1, micro_f1, hamming, _ = evaluate_model(X_train_combined, X_val_combined, y_train, y_val, \"XGBoost (TF-IDF + Word2Vec)\", model_xgb_combined)\n",
        "\n",
        "train_results.append({\n",
        "    'Model': 'XGBoost',\n",
        "    'Feature Set': 'TF-IDF + Word2Vec',\n",
        "    'Macro F1': macro_f1,\n",
        "    'Micro F1': micro_f1,\n",
        "    'Hamming Loss': hamming\n",
        "})"
      ]
    },
    {
      "cell_type": "markdown",
      "metadata": {},
      "source": [
        "#### Comparison Table\n",
        "\n",
        "| Model         | Feature Set   | Macro F1 | Micro F1 | Hamming Loss |\n",
        "|---------------|---------------|----------|----------|--------------|\n",
        "| Logistic Reg. | TF-IDF (C=1.0)       | 0.7464   | 0.8509   | 0.0832       |\n",
        "| Logistic Reg. | Word2Vec (C=10.0)      | 0.5306   | 0.6435   | 0.2411       |\n",
        "| **Logistic Reg.** | **Combination (C=1.0)**   | **0.7549**   | **0.8533**   | **0.0818**       |\n",
        "| SVC           | TF-IDF        | 0.7248   | 0.8485   | 0.0835       |\n",
        "| SVC           | Word2Vec      | 0.5351   | 0.6466   | 0.2378       |\n",
        "| **SVC**           | **Combination**   | **0.7372**   | **0.8542**   | **0.0803**       |\n",
        "| XGBoost       | TF-IDF       | 0.7193   | 0.8552   | 0.0798      |\n",
        "| XGBoost       | Word2Vec      | 0.5252   | 0.7876   | 0.1150       |\n",
        "| **XGBoost**       | **Combination**   | **0.7349**   | **0.8661**   | **0.0741**       |"
      ]
    },
    {
      "cell_type": "markdown",
      "metadata": {},
      "source": [
        "The Combination of TF-IDF and Word2Vec is generally the best choice for most models, as it leverages the strengths of both feature sets. For the XGBoost classifier, we decided to choose the combination, that is the best, and TF-IDF even though does not achieve the highest Macro F1, it performs well in Micro F1 and Hamming Loss, making it a good candidate for comparison."
      ]
    },
    {
      "cell_type": "code",
      "execution_count": 51,
      "metadata": {},
      "outputs": [
        {
          "data": {
            "image/png": "[encoded data removed]",
            "text/plain": [
              "<Figure size 1500x800 with 1 Axes>"
            ]
          },
          "metadata": {},
          "output_type": "display_data"
        }
      ],
      "source": [
        "# Extract data for the graph\n",
        "models = [result['Model'] for result in train_results]\n",
        "feature_sets = [result['Feature Set'] for result in train_results]\n",
        "macro_f1 = [result['Macro F1'] for result in train_results]\n",
        "micro_f1 = [result['Micro F1'] for result in train_results]\n",
        "hamming_loss = [result['Hamming Loss'] for result in train_results]\n",
        "\n",
        "# Create a bar chart\n",
        "x = np.arange(len(models))  # the label locations\n",
        "width = 0.25  # the width of the bars\n",
        "\n",
        "fig, ax = plt.subplots(figsize=(15, 8))\n",
        "bars1 = ax.bar(x - width, macro_f1, width, label='Macro F1', color='skyblue')\n",
        "bars2 = ax.bar(x, micro_f1, width, label='Micro F1', color='orange')\n",
        "bars3 = ax.bar(x + width, hamming_loss, width, label='Hamming Loss', color='green')\n",
        "\n",
        "# Add labels, title, and legend\n",
        "ax.set_xlabel('Models')\n",
        "ax.set_ylabel('Scores')\n",
        "ax.set_title('Comparison of Model Performance on Test Set')\n",
        "ax.set_xticks(x)\n",
        "ax.set_xticklabels([f\"{model}\\n({feature_set})\" for model, feature_set in zip(models, feature_sets)])\n",
        "ax.legend()\n",
        "\n",
        "# Add value annotations on the bars\n",
        "for bars in [bars1, bars2, bars3]:\n",
        "    ax.bar_label(bars, fmt='%.4f', padding=3)\n",
        "\n",
        "plt.tight_layout()\n",
        "plt.show()"
      ]
    },
    {
      "cell_type": "markdown",
      "metadata": {},
      "source": [
        "## **Testing**"
      ]
    },
    {
      "cell_type": "code",
      "execution_count": 52,
      "metadata": {},
      "outputs": [
        {
          "name": "stdout",
          "output_type": "stream",
          "text": [
            "Feature space size: 5000\n",
            "Shape do TF-IDF (train): (8002, 5000)\n",
            "Shape do TF-IDF (val): (994, 5000)\n",
            "Shape do TF-IDF (test): (1007, 5000)\n"
          ]
        }
      ],
      "source": [
        "results = []\n",
        "\n",
        "X_train_tfidf, X_val_tfidf, X_test_tfidf_bi, _, _ = create_tfidf_features_uni_bi(\n",
        "    train_data['lemmatized_reviews'],\n",
        "    val_data['lemmatized_reviews'],\n",
        "    test_data['lemmatized_reviews'],\n",
        "    min_df=1,\n",
        "    max_features=5000\n",
        ")\n",
        "print(\"Shape do TF-IDF (train):\", X_train_tfidf.shape)\n",
        "print(\"Shape do TF-IDF (val):\", X_val_tfidf.shape)\n",
        "print(\"Shape do TF-IDF (test):\", X_test_tfidf_bi.shape)"
      ]
    },
    {
      "cell_type": "code",
      "execution_count": 53,
      "metadata": {},
      "outputs": [
        {
          "name": "stdout",
          "output_type": "stream",
          "text": [
            "(8002, 5000) (994, 5000)\n",
            "(8996, 5000)\n",
            "(8002, 5300) (994, 5300)\n"
          ]
        }
      ],
      "source": [
        "# Combine training and validation sets\n",
        "X_train_full_tfidf = vstack((X_train_tfidf, X_val_tfidf))\n",
        "\n",
        "print(X_train_tfidf.shape, X_val_tfidf.shape)\n",
        "print(X_train_full_tfidf.shape)\n",
        "print(X_train_combined.shape, X_val_combined.shape)\n",
        "\n",
        "y_train_full = np.vstack((y_train, y_val))\n",
        "\n",
        "X_train_full_combined = np.vstack((X_train_combined, X_val_combined))"
      ]
    },
    {
      "cell_type": "code",
      "execution_count": 54,
      "metadata": {},
      "outputs": [
        {
          "name": "stdout",
          "output_type": "stream",
          "text": [
            "(8996, 5300)\n"
          ]
        }
      ],
      "source": [
        "print(X_train_full_combined.shape)"
      ]
    },
    {
      "cell_type": "code",
      "execution_count": 55,
      "metadata": {},
      "outputs": [],
      "source": [
        "# Step 2: Generate Word2Vec features for the test set\n",
        "X_test_w2v = np.array([get_w2v_vector(text, w2v_model) for text in test_data['lemmatized_reviews']])"
      ]
    },
    {
      "cell_type": "code",
      "execution_count": 56,
      "metadata": {},
      "outputs": [
        {
          "name": "stdout",
          "output_type": "stream",
          "text": [
            "Combined feature shape (test): (1007, 5300)\n"
          ]
        }
      ],
      "source": [
        "# Step 3: Combine TF-IDF and Word2Vec features for the test set\n",
        "X_test_combined = combine_tfidf_w2v(X_test_tfidf_bi, X_test_w2v, method=\"concat\")\n",
        "\n",
        "# Print the shape of the combined test features\n",
        "print(\"Combined feature shape (test):\", X_test_combined.shape)"
      ]
    },
    {
      "cell_type": "markdown",
      "metadata": {},
      "source": [
        "### Logistic Regression with Combined TF-IDF + Word2Vec"
      ]
    },
    {
      "cell_type": "code",
      "execution_count": 57,
      "metadata": {},
      "outputs": [
        {
          "name": "stdout",
          "output_type": "stream",
          "text": [
            "Tipo de hamming_loss: <class 'function'>\n"
          ]
        }
      ],
      "source": [
        "# Reimportar métricas para evitar sobrescrição\n",
        "from sklearn.metrics import f1_score, hamming_loss\n",
        "\n",
        "print(\"Tipo de hamming_loss:\", type(hamming_loss))  # Deve ser <class 'function'>"
      ]
    },
    {
      "cell_type": "code",
      "execution_count": 58,
      "metadata": {},
      "outputs": [
        {
          "name": "stdout",
          "output_type": "stream",
          "text": [
            "X_train_full_combined shape: (8996, 5300)\n",
            "X_test_combined shape: (1007, 5300)\n"
          ]
        }
      ],
      "source": [
        "print(\"X_train_full_combined shape:\", X_train_full_combined.shape)\n",
        "print(\"X_test_combined shape:\", X_test_combined.shape)"
      ]
    },
    {
      "cell_type": "code",
      "execution_count": 59,
      "metadata": {},
      "outputs": [
        {
          "name": "stdout",
          "output_type": "stream",
          "text": [
            "\n",
            "=== Logistic Regression (TF-IDF + Word2Vec) ===\n",
            "Relatório de Classificação por Rótulo:\n",
            "                        precision    recall  f1-score   support\n",
            "\n",
            "               ENTREGA       0.47      1.00      0.64       311\n",
            "                OUTROS       0.26      1.00      0.42       236\n",
            "               PRODUTO       1.00      0.60      0.75       782\n",
            "CONDICOESDERECEBIMENTO       0.24      1.00      0.39       171\n",
            "            INADEQUADA       0.24      0.20      0.22        41\n",
            "               ANUNCIO       0.24      0.97      0.38        87\n",
            "\n",
            "             micro avg       0.41      0.78      0.54      1628\n",
            "             macro avg       0.41      0.79      0.46      1628\n",
            "          weighted avg       0.65      0.78      0.61      1628\n",
            "           samples avg       0.43      0.80      0.53      1628\n",
            "\n",
            "Macro F1: 0.4647\n",
            "Micro F1: 0.5375\n",
            "Hamming Loss: 0.3631\n"
          ]
        }
      ],
      "source": [
        "model_logreg_combined = OneVsRestClassifier(LogisticRegression(C=1.0, max_iter=1000, class_weight='balanced'))\n",
        "\n",
        "macro_f1, micro_f1, hamming_value, y_pred_logreg_combined = evaluate_model(X_train_full_combined, X_test_combined, y_train_full, y_test, \n",
        "               \"Logistic Regression (TF-IDF + Word2Vec)\", model_logreg_combined)\n",
        "\n",
        "results.append({\n",
        "    'Model': 'Logistic Regression',\n",
        "    'Feature Set': 'Combined TF-IDF + Word2Vec',\n",
        "    'Macro F1': macro_f1,\n",
        "    'Micro F1': micro_f1,\n",
        "    'Hamming Loss': hamming_value\n",
        "})"
      ]
    },
    {
      "cell_type": "markdown",
      "metadata": {},
      "source": [
        "### SVM"
      ]
    },
    {
      "cell_type": "code",
      "execution_count": 60,
      "metadata": {},
      "outputs": [
        {
          "name": "stdout",
          "output_type": "stream",
          "text": [
            "\n",
            "=== SVM (Pipeline-Combined TF-IDF + Word2Vec) ===\n",
            "Relatório de Classificação por Rótulo:\n",
            "                        precision    recall  f1-score   support\n",
            "\n",
            "               ENTREGA       0.47      1.00      0.64       311\n",
            "                OUTROS       0.29      0.99      0.45       236\n",
            "               PRODUTO       0.97      0.80      0.88       782\n",
            "CONDICOESDERECEBIMENTO       0.26      0.98      0.42       171\n",
            "            INADEQUADA       0.23      0.12      0.16        41\n",
            "               ANUNCIO       0.19      0.95      0.31        87\n",
            "\n",
            "             micro avg       0.44      0.88      0.59      1628\n",
            "             macro avg       0.40      0.81      0.47      1628\n",
            "          weighted avg       0.64      0.88      0.67      1628\n",
            "           samples avg       0.47      0.89      0.59      1628\n",
            "\n",
            "Macro F1: 0.4748\n",
            "Micro F1: 0.5886\n",
            "Hamming Loss: 0.3302\n"
          ]
        }
      ],
      "source": [
        "model_svc = Pipeline([\n",
        "    ('Linear SVM', OneVsRestClassifier(LinearSVC(max_iter=1000, random_state=42, class_weight='balanced')))\n",
        "])\n",
        "\n",
        "macro_f1, micro_f1, hamming, y_pred_svm_combined = evaluate_model(\n",
        "    X_train_full_combined,  # Texto bruto de treino\n",
        "    X_test_combined,    # Texto bruto de validação\n",
        "    y_train_full,\n",
        "    y_test,\n",
        "    \"SVM (Pipeline-Combined TF-IDF + Word2Vec)\",\n",
        "    model_svc\n",
        ")\n",
        "\n",
        "results.append({\n",
        "    'Model': 'SVM',\n",
        "    'Feature Set': 'Combined TF-IDF + Word2Vec',\n",
        "    'Macro F1': macro_f1,\n",
        "    'Micro F1': micro_f1,\n",
        "    'Hamming Loss': hamming\n",
        "})"
      ]
    },
    {
      "cell_type": "markdown",
      "metadata": {},
      "source": [
        "### XGBoost"
      ]
    },
    {
      "cell_type": "markdown",
      "metadata": {},
      "source": [
        "* TF-IDF"
      ]
    },
    {
      "cell_type": "code",
      "execution_count": 61,
      "metadata": {},
      "outputs": [
        {
          "name": "stdout",
          "output_type": "stream",
          "text": [
            "\n",
            "=== XGBoost (TF-IDF) ===\n",
            "Relatório de Classificação por Rótulo:\n",
            "                        precision    recall  f1-score   support\n",
            "\n",
            "               ENTREGA       0.88      0.94      0.91       311\n",
            "                OUTROS       0.75      0.73      0.74       236\n",
            "               PRODUTO       0.94      0.87      0.90       782\n",
            "CONDICOESDERECEBIMENTO       0.74      0.81      0.77       171\n",
            "            INADEQUADA       0.10      0.41      0.16        41\n",
            "               ANUNCIO       0.69      0.85      0.76        87\n",
            "\n",
            "             micro avg       0.78      0.84      0.81      1628\n",
            "             macro avg       0.68      0.77      0.71      1628\n",
            "          weighted avg       0.84      0.84      0.84      1628\n",
            "           samples avg       0.82      0.86      0.82      1628\n",
            "\n",
            "Macro F1: 0.7084\n",
            "Micro F1: 0.8136\n",
            "Hamming Loss: 0.1043\n"
          ]
        }
      ],
      "source": [
        "scale_pos_weights_full = compute_scale_pos_weight(y_train_full)\n",
        "\n",
        "# Train and evaluate XGBoost with precomputed TF-IDF features\n",
        "model_xgb_tfidf = CustomXGBClassifier(scale_pos_weights=scale_pos_weights_full)\n",
        "\n",
        "# Evaluate the model on the test set\n",
        "macro_f1, micro_f1, hamming, y_pred_xgb_tfidf = evaluate_model(\n",
        "    X_train_full_tfidf,  \n",
        "    X_test_tfidf_bi,     \n",
        "    y_train_full,\n",
        "    y_test,\n",
        "    \"XGBoost (TF-IDF)\",\n",
        "    model_xgb_tfidf\n",
        ")\n",
        "\n",
        "results.append({\n",
        "    'Model': 'XGBoost',\n",
        "    'Feature Set': 'TF-IDF',\n",
        "    'Macro F1': macro_f1,\n",
        "    'Micro F1': micro_f1,\n",
        "    'Hamming Loss': hamming\n",
        "})"
      ]
    },
    {
      "cell_type": "code",
      "execution_count": 62,
      "metadata": {},
      "outputs": [
        {
          "name": "stdout",
          "output_type": "stream",
          "text": [
            "\n",
            "=== XGBoost (TF-IDF + Word2Vec) ===\n",
            "Relatório de Classificação por Rótulo:\n",
            "                        precision    recall  f1-score   support\n",
            "\n",
            "               ENTREGA       0.88      0.92      0.90       311\n",
            "                OUTROS       0.68      0.76      0.72       235\n",
            "               PRODUTO       0.93      0.86      0.90       782\n",
            "CONDICOESDERECEBIMENTO       0.72      0.73      0.72       171\n",
            "            INADEQUADA       0.23      0.38      0.28        42\n",
            "               ANUNCIO       0.76      0.80      0.78        88\n",
            "\n",
            "             micro avg       0.82      0.83      0.82      1629\n",
            "             macro avg       0.70      0.74      0.72      1629\n",
            "          weighted avg       0.84      0.83      0.83      1629\n",
            "           samples avg       0.84      0.85      0.83      1629\n",
            "\n",
            "Macro F1: 0.7163\n",
            "Micro F1: 0.8242\n",
            "Hamming Loss: 0.0966\n"
          ]
        }
      ],
      "source": [
        "from sklearn.metrics import hamming_loss\n",
        "\n",
        "# Train and evaluate XGBoost with precomputed TF-IDF features\n",
        "model_xgb_combined = CustomXGBClassifier(scale_pos_weights=scale_pos_weights_full)\n",
        "\n",
        "macro_f1, micro_f1, hamming, y_pred_xgb_combined = evaluate_model(\n",
        "    X_train_combined, \n",
        "    X_val_combined, \n",
        "    y_train, \n",
        "    y_val, \n",
        "    \"XGBoost (TF-IDF + Word2Vec)\", \n",
        "    model_xgb_combined\n",
        ")\n",
        "\n",
        "results.append({\n",
        "    'Model': 'XGBoost',\n",
        "    'Feature Set': 'TF-IDF + Word2Vec',\n",
        "    'Macro F1': macro_f1,\n",
        "    'Micro F1': micro_f1,\n",
        "    'Hamming Loss': hamming\n",
        "})"
      ]
    },
    {
      "cell_type": "code",
      "execution_count": 63,
      "metadata": {},
      "outputs": [
        {
          "data": {
            "image/png": "[encoded data removed]",
            "text/plain": [
              "<Figure size 1000x600 with 1 Axes>"
            ]
          },
          "metadata": {},
          "output_type": "display_data"
        }
      ],
      "source": [
        "models = [result['Model'] for result in results]\n",
        "feature_sets = [result['Feature Set'] for result in results]\n",
        "macro_f1 = [result['Macro F1'] for result in results]\n",
        "micro_f1 = [result['Micro F1'] for result in results]\n",
        "hamming_loss = [result['Hamming Loss'] for result in results]\n",
        "\n",
        "# Create a bar chart\n",
        "x = np.arange(len(models))  # the label locations\n",
        "width = 0.25  # the width of the bars\n",
        "\n",
        "fig, ax = plt.subplots(figsize=(10, 6))\n",
        "bars1 = ax.bar(x - width, macro_f1, width, label='Macro F1', color='skyblue')\n",
        "bars2 = ax.bar(x, micro_f1, width, label='Micro F1', color='orange')\n",
        "bars3 = ax.bar(x + width, hamming_loss, width, label='Hamming Loss', color='green')\n",
        "\n",
        "# Add labels, title, and legend\n",
        "ax.set_xlabel('Models')\n",
        "ax.set_ylabel('Scores')\n",
        "ax.set_title('Comparison of Model Performance on Test Set')\n",
        "ax.set_xticks(x)\n",
        "ax.set_xticklabels([f\"{model}\\n({feature_set})\" for model, feature_set in zip(models, feature_sets)])\n",
        "ax.legend()\n",
        "\n",
        "# Add value annotations on the bars\n",
        "for bars in [bars1, bars2, bars3]:\n",
        "    ax.bar_label(bars, fmt='%.4f', padding=3)\n",
        "\n",
        "plt.tight_layout()\n",
        "plt.show()"
      ]
    },
    {
      "cell_type": "markdown",
      "metadata": {
        "id": "Az4wGp0lSfk1"
      },
      "source": [
        "## **Error Analysis**\n",
        "For your best model (highest macro-F1, say), analyze misclassifications:\n",
        "\n",
        "* False Positives/Negatives: Look at reviews where the model predicted a label incorrectly. Are short reviews (e.g., 1 word) harder to classify? Are rare labels (INADEQUADA) often missed due to imbalance?\n",
        "* Feature Importance: For Logistic Regression, check the top TF-IDF features per label (highest coefficients). Do they make sense (e.g., \"atraso\" for ENTREGA)?\n",
        "* Confusion: Since it’s multi-label, examine label co-occurrence (e.g., PRODUTO + ENTREGA misclassified as just PRODUTO)."
      ]
    },
    {
      "cell_type": "code",
      "execution_count": 64,
      "metadata": {},
      "outputs": [],
      "source": [
        "# Function to print confusion matrices for each label\n",
        "def print_confusion_matrices(y_true, y_pred, model_name):\n",
        "    print(f\"\\n=== Confusion Matrices for {model_name} ===\")\n",
        "    for i, label in enumerate(label_names):\n",
        "        # Extract true and predicted values for this label\n",
        "        y_true_label = y_true[:, i]\n",
        "        y_pred_label = y_pred[:, i]\n",
        "        \n",
        "        # Compute confusion matrix\n",
        "        cm = confusion_matrix(y_true_label, y_pred_label)\n",
        "        \n",
        "        # Extract TP, FP, FN, TN\n",
        "        tn, fp, fn, tp = cm.ravel()\n",
        "        \n",
        "        print(f\"\\nLabel: {label}\")\n",
        "        print(f\"Confusion Matrix:\\n{cm}\")\n",
        "        print(f\"True Positives (TP): {tp}\")\n",
        "        print(f\"False Positives (FP): {fp}\")\n",
        "        print(f\"False Negatives (FN): {fn}\")\n",
        "        print(f\"True Negatives (TN): {tn}\")"
      ]
    },
    {
      "cell_type": "markdown",
      "metadata": {},
      "source": [
        "### Logistic Regression"
      ]
    },
    {
      "cell_type": "code",
      "execution_count": 65,
      "metadata": {},
      "outputs": [
        {
          "name": "stdout",
          "output_type": "stream",
          "text": [
            "\n",
            "=== Confusion Matrices for Logistic Regression (Combined TF-IDF + Word2Vec) ===\n",
            "\n",
            "Label: ENTREGA\n",
            "Confusion Matrix:\n",
            "[[342 354]\n",
            " [  1 310]]\n",
            "True Positives (TP): 310\n",
            "False Positives (FP): 354\n",
            "False Negatives (FN): 1\n",
            "True Negatives (TN): 342\n",
            "\n",
            "Label: OUTROS\n",
            "Confusion Matrix:\n",
            "[[115 656]\n",
            " [  0 236]]\n",
            "True Positives (TP): 236\n",
            "False Positives (FP): 656\n",
            "False Negatives (FN): 0\n",
            "True Negatives (TN): 115\n",
            "\n",
            "Label: PRODUTO\n",
            "Confusion Matrix:\n",
            "[[224   1]\n",
            " [316 466]]\n",
            "True Positives (TP): 466\n",
            "False Positives (FP): 1\n",
            "False Negatives (FN): 316\n",
            "True Negatives (TN): 224\n",
            "\n",
            "Label: CONDICOESDERECEBIMENTO\n",
            "Confusion Matrix:\n",
            "[[300 536]\n",
            " [  0 171]]\n",
            "True Positives (TP): 171\n",
            "False Positives (FP): 536\n",
            "False Negatives (FN): 0\n",
            "True Negatives (TN): 300\n",
            "\n",
            "Label: INADEQUADA\n",
            "Confusion Matrix:\n",
            "[[941  25]\n",
            " [ 33   8]]\n",
            "True Positives (TP): 8\n",
            "False Positives (FP): 25\n",
            "False Negatives (FN): 33\n",
            "True Negatives (TN): 941\n",
            "\n",
            "Label: ANUNCIO\n",
            "Confusion Matrix:\n",
            "[[651 269]\n",
            " [  3  84]]\n",
            "True Positives (TP): 84\n",
            "False Positives (FP): 269\n",
            "False Negatives (FN): 3\n",
            "True Negatives (TN): 651\n",
            "\n",
            "=== Classification Report ===\n",
            "                        precision    recall  f1-score   support\n",
            "\n",
            "               ENTREGA       0.47      1.00      0.64       311\n",
            "                OUTROS       0.26      1.00      0.42       236\n",
            "               PRODUTO       1.00      0.60      0.75       782\n",
            "CONDICOESDERECEBIMENTO       0.24      1.00      0.39       171\n",
            "            INADEQUADA       0.24      0.20      0.22        41\n",
            "               ANUNCIO       0.24      0.97      0.38        87\n",
            "\n",
            "             micro avg       0.41      0.78      0.54      1628\n",
            "             macro avg       0.41      0.79      0.46      1628\n",
            "          weighted avg       0.65      0.78      0.61      1628\n",
            "           samples avg       0.43      0.80      0.53      1628\n",
            "\n",
            "\n",
            "=== Errors for Label: ENTREGA ===\n",
            "False Positives (354):\n",
            "Review: Eu ameiii o produto, pena que veio com  o espelho quebrado.\n",
            "Review: Quero saber quando chegará mais pois gostaria de comprar\n",
            "Review: Não Gostei..............................................................................................................................................................................................................................................................................................................\n",
            "\n",
            "False Negatives (1):\n",
            "Review: O celular é mesmo muito completo. Gostei do hardware em sua maioria. Tem um android bem fiel. Ao ligá-lo é necessário atualizar o sistema. Rodou bem até agora, sem travar. É um celular simples, modesto, não adianta enfiar uma série de apks e querer que ele funcione. Tem que ponderar bem o que pretende usar. A maior desvantagem é a câmera, que apesar de ser muito potente, infelizmente embaixo do sol fica tudo escuro, pq ela se baseia na luz de fundo e escurece as pessoas. tem o jeito certo de usar. Recomendo o produto para quem deseja um celular de entrada a um preço justo.\n",
            "\n",
            "=== Errors for Label: OUTROS ===\n",
            "False Positives (656):\n",
            "Review: Eu ameiii o produto, pena que veio com  o espelho quebrado.\n",
            "Review: bom....................................................................................................................................\n",
            "Review: Não Gostei..............................................................................................................................................................................................................................................................................................................\n",
            "\n",
            "False Negatives (0):\n",
            "\n",
            "=== Errors for Label: PRODUTO ===\n",
            "False Positives (1):\n",
            "Review: Infelizmente pela má qualidade da embalagem as bordas dos livros estavam amassadas e muitas etiquetas na capa deixando o livro marcado como se fossem usados.\n",
            "\n",
            "False Negatives (316):\n",
            "Review: Eu ameiii o produto, pena que veio com  o espelho quebrado.\n",
            "Review: bom....................................................................................................................................\n",
            "Review: Comprei banquetas pelo site da loja e achei excelente todo o procedimento, desde a compra até a entrega.  To das as etapas foram informadas e chegou bem rápido. Gostei muito.\n",
            "\n",
            "=== Errors for Label: CONDICOESDERECEBIMENTO ===\n",
            "False Positives (536):\n",
            "Review: ESSE PRODUTO PODE ATÉ SER BOM, PORÉM, A AMERICANAS JÁ NÃO ME INSPIRA MUITA CONFIANÇA. NÃO PELA AMERICANAS EM SI, POIS SEMPRE FORA UMA EMPRESA SÉRIA. A ÚLTIMA COMPRA QUE EFETUEI, A AMERICANAS COLOCOU AOS CUIDADOS DA \"DIRECT\". ME CAUSARAM MUITOS PROBLEMAS PARA ENTREGAR O PRODUTO, QUE NA OCASIÃO ERA UM CELULAR. PRECISEI ACIONAR O RECLAME AQUI PARA ME AJUDAR.... NÃO FOI FÁCIL!!!!! GOSTARIA DE COMPRAR ESSE PRODUTO : Kit Com 10 Cuecas Boxer de Cotton 4.0 - Polo Match....., PORÉM NÃO SEI SE TEREI PROBLEMAS NOVAMENTE. COMPLICADO!!\n",
            "Review: Quero saber quando chegará mais pois gostaria de comprar\n",
            "Review: Comprei banquetas pelo site da loja e achei excelente todo o procedimento, desde a compra até a entrega.  To das as etapas foram informadas e chegou bem rápido. Gostei muito.\n",
            "\n",
            "False Negatives (0):\n",
            "\n",
            "=== Errors for Label: INADEQUADA ===\n",
            "False Positives (25):\n",
            "Review: bom....................................................................................................................................\n",
            "Review: Demorou demais a entregar, então cancelei e comprei na loja física, parece até q estava vindo da China e parou em Curitiba\n",
            "Review: A borracha estourou quando fui usar o forno,estou tentando entrar em contato e não consigo.ja deixei um e mail pra vcs mais até agora não me retornaram\n",
            "\n",
            "False Negatives (33):\n",
            "Review: Não Gostei..............................................................................................................................................................................................................................................................................................................\n",
            "Review: vcs estão loucos?? desde quando uma lapiseira é 4 mil e seiscentos reais??? perderam a noção mesmo\n",
            "Review: RECEBI O PRODUTO EM JANEIRO DE 2018 E QUANDO FUI UTILIZAR A TV EM FEVEREIRO DE 2018, QUANDO ABRI A CAIXA TIVE A TRISTE SURPRESA QUE A TELA ESTAVA QUEBRADA E A AMERICANAS.COM SE NEGA A FAZER A TROCA, MESMO ESTANDO NO PRAZO DE 90 DIAS DO CÓDIGO DE DEFESA DO CONSUMIDOR E AINDA FOI INFORMADO QUE TENHO VÍDEO QUE PROVA A TV ESTAVA NA CAIXA COM AS FITAS DE SEGURANÇA E MESMO ASSIM SE NEGA A FAZER A TROCA.\n",
            "\n",
            "=== Errors for Label: ANUNCIO ===\n",
            "False Positives (269):\n",
            "Review: Quero saber quando chegará mais pois gostaria de comprar\n",
            "Review: Bom dia! Não me mandaram esse produto que escolhi, mandaram outro completamente diferente. Inclusive já devolvi, estou esperando a loja receber para fazer o estorno do cartão, me mandaram uma mercadoria completamente diferente da que escolhi.\n",
            "Review: Comprei banquetas pelo site da loja e achei excelente todo o procedimento, desde a compra até a entrega.  To das as etapas foram informadas e chegou bem rápido. Gostei muito.\n",
            "\n",
            "False Negatives (3):\n",
            "Review: Assim que chegaram, coloquei na máquina pra lavar e sair o cheiro ruim que vem neles. Quando tirei, um dos panos de prato estava com uma lateral totalmente esparrapado, ou seja, praticamente ficou aleijado de um lado. Ainda não usei, mas achei todos ralinhos.\n",
            "Review: Produto atende ao anunciado, vendedor eficiente e entrega antes do prometido. Recomendo!\n",
            "Review: Não é tão bom como pintam, só dá um esticada não funciona como chapinha, deixa armado e é necessário passar a chapinha depois para tirar todo o volume\n"
          ]
        }
      ],
      "source": [
        "# Print confusion matrices for both models\n",
        "print_confusion_matrices(y_test, y_pred_logreg_combined, \"Logistic Regression (Combined TF-IDF + Word2Vec)\")\n",
        "\n",
        "# Step 3: Classification Report\n",
        "print(\"\\n=== Classification Report ===\")\n",
        "print(classification_report(y_test, y_pred_logreg_combined, target_names=label_cols))\n",
        "\n",
        "# Step 4: Analyze False Positives and False Negatives\n",
        "def analyze_errors(y_true, y_pred, test_data, label_cols):\n",
        "    for i, label in enumerate(label_cols):\n",
        "        print(f\"\\n=== Errors for Label: {label} ===\")\n",
        "        \n",
        "        # False Positives: Predicted 1 but true label is 0\n",
        "        false_positives = np.where((y_pred[:, i] == 1) & (y_true[:, i] == 0))[0]\n",
        "        print(f\"False Positives ({len(false_positives)}):\")\n",
        "        for idx in false_positives[:3]:  # Show up to 5 examples\n",
        "            print(f\"Review: {test_data['review_text'].iloc[idx]}\")\n",
        "        \n",
        "        # False Negatives: Predicted 0 but true label is 1\n",
        "        false_negatives = np.where((y_pred[:, i] == 0) & (y_true[:, i] == 1))[0]\n",
        "        print(f\"\\nFalse Negatives ({len(false_negatives)}):\")\n",
        "        for idx in false_negatives[:3]:  # Show up to 5 examples\n",
        "            print(f\"Review: {test_data['review_text'].iloc[idx]}\")\n",
        "\n",
        "# Analyze errors for Logistic Regression\n",
        "analyze_errors(y_test, y_pred_logreg_combined, test_data, label_cols)"
      ]
    },
    {
      "cell_type": "markdown",
      "metadata": {},
      "source": [
        "### SVM"
      ]
    },
    {
      "cell_type": "code",
      "execution_count": 66,
      "metadata": {},
      "outputs": [
        {
          "name": "stdout",
          "output_type": "stream",
          "text": [
            "Shape of y_pred_svm_combined: (1007, 6)\n",
            "Shape of y_test: (1007, 6)\n"
          ]
        }
      ],
      "source": [
        "\n",
        "print(\"Shape of y_pred_svm_combined:\", y_pred_svm_combined.shape)\n",
        "print(\"Shape of y_test:\", y_test.shape)"
      ]
    },
    {
      "cell_type": "code",
      "execution_count": 67,
      "metadata": {},
      "outputs": [
        {
          "name": "stdout",
          "output_type": "stream",
          "text": [
            "\n",
            "=== Confusion Matrices for SVM (TF-IDF + Word2Vec) ===\n",
            "\n",
            "Label: ENTREGA\n",
            "Confusion Matrix:\n",
            "[[343 353]\n",
            " [  1 310]]\n",
            "True Positives (TP): 310\n",
            "False Positives (FP): 353\n",
            "False Negatives (FN): 1\n",
            "True Negatives (TN): 343\n",
            "\n",
            "Label: OUTROS\n",
            "Confusion Matrix:\n",
            "[[200 571]\n",
            " [  2 234]]\n",
            "True Positives (TP): 234\n",
            "False Positives (FP): 571\n",
            "False Negatives (FN): 2\n",
            "True Negatives (TN): 200\n",
            "\n",
            "Label: PRODUTO\n",
            "Confusion Matrix:\n",
            "[[203  22]\n",
            " [155 627]]\n",
            "True Positives (TP): 627\n",
            "False Positives (FP): 22\n",
            "False Negatives (FN): 155\n",
            "True Negatives (TN): 203\n",
            "\n",
            "Label: CONDICOESDERECEBIMENTO\n",
            "Confusion Matrix:\n",
            "[[369 467]\n",
            " [  3 168]]\n",
            "True Positives (TP): 168\n",
            "False Positives (FP): 467\n",
            "False Negatives (FN): 3\n",
            "True Negatives (TN): 369\n",
            "\n",
            "Label: INADEQUADA\n",
            "Confusion Matrix:\n",
            "[[949  17]\n",
            " [ 36   5]]\n",
            "True Positives (TP): 5\n",
            "False Positives (FP): 17\n",
            "False Negatives (FN): 36\n",
            "True Negatives (TN): 949\n",
            "\n",
            "Label: ANUNCIO\n",
            "Confusion Matrix:\n",
            "[[556 364]\n",
            " [  4  83]]\n",
            "True Positives (TP): 83\n",
            "False Positives (FP): 364\n",
            "False Negatives (FN): 4\n",
            "True Negatives (TN): 556\n",
            "\n",
            "=== Classification Report for SVM ===\n",
            "                        precision    recall  f1-score   support\n",
            "\n",
            "               ENTREGA       0.47      1.00      0.64       311\n",
            "                OUTROS       0.29      0.99      0.45       236\n",
            "               PRODUTO       0.97      0.80      0.88       782\n",
            "CONDICOESDERECEBIMENTO       0.26      0.98      0.42       171\n",
            "            INADEQUADA       0.23      0.12      0.16        41\n",
            "               ANUNCIO       0.19      0.95      0.31        87\n",
            "\n",
            "             micro avg       0.44      0.88      0.59      1628\n",
            "             macro avg       0.40      0.81      0.47      1628\n",
            "          weighted avg       0.64      0.88      0.67      1628\n",
            "           samples avg       0.47      0.89      0.59      1628\n",
            "\n",
            "\n",
            "=== Error Analysis for SVM ===\n",
            "\n",
            "=== Errors for Label: ENTREGA ===\n",
            "False Positives (353):\n",
            "Review: Eu ameiii o produto, pena que veio com  o espelho quebrado.\n",
            "Review: Quero saber quando chegará mais pois gostaria de comprar\n",
            "Review: Não Gostei..............................................................................................................................................................................................................................................................................................................\n",
            "\n",
            "False Negatives (1):\n",
            "Review: Recomendo,ótimo atendimento . Só o correi deixa a desejar.\n",
            "\n",
            "=== Errors for Label: OUTROS ===\n",
            "False Positives (571):\n",
            "Review: Eu ameiii o produto, pena que veio com  o espelho quebrado.\n",
            "Review: Não Gostei..............................................................................................................................................................................................................................................................................................................\n",
            "Review: muito lindas confortável leves lindas amei muito super recomendo.\n",
            "\n",
            "False Negatives (2):\n",
            "Review: Não gostei, quero saber, vou ficar no prejuízo? Camisa de péssima qualidade\n",
            "Review: \"Toda a praticidade do alumínio forjado em 4.5mm de espessura. A expessura é 3.5mm ou 4,5mm?\n",
            "\n",
            "=== Errors for Label: PRODUTO ===\n",
            "False Positives (22):\n",
            "Review: Gostaria de saber se e 3 ou 5 peças? Pois queria finalizar ,mais nao quero finalizar com a dúvida. Obg\n",
            "Review: O PRODUTO PARECE IGUAL, MAS NÃO VEM NA CAIXA ORIGINAL DA Flashlimp\n",
            "Review: Comprei esse produto justamente porque constava o adaptador para Iphone, porém ao abrir a embalagem verifiquei que o Adaptador Iphone não veio junto com o produto.\n",
            "\n",
            "False Negatives (155):\n",
            "Review: bom....................................................................................................................................\n",
            "Review: Comprei banquetas pelo site da loja e achei excelente todo o procedimento, desde a compra até a entrega.  To das as etapas foram informadas e chegou bem rápido. Gostei muito.\n",
            "Review: Escrevi 100%, mas este avaliador quer que façamos uma dissertação, o que não tenho tempo, então não mais avaliarei nada.\n",
            "\n",
            "=== Errors for Label: CONDICOESDERECEBIMENTO ===\n",
            "False Positives (467):\n",
            "Review: ESSE PRODUTO PODE ATÉ SER BOM, PORÉM, A AMERICANAS JÁ NÃO ME INSPIRA MUITA CONFIANÇA. NÃO PELA AMERICANAS EM SI, POIS SEMPRE FORA UMA EMPRESA SÉRIA. A ÚLTIMA COMPRA QUE EFETUEI, A AMERICANAS COLOCOU AOS CUIDADOS DA \"DIRECT\". ME CAUSARAM MUITOS PROBLEMAS PARA ENTREGAR O PRODUTO, QUE NA OCASIÃO ERA UM CELULAR. PRECISEI ACIONAR O RECLAME AQUI PARA ME AJUDAR.... NÃO FOI FÁCIL!!!!! GOSTARIA DE COMPRAR ESSE PRODUTO : Kit Com 10 Cuecas Boxer de Cotton 4.0 - Polo Match....., PORÉM NÃO SEI SE TEREI PROBLEMAS NOVAMENTE. COMPLICADO!!\n",
            "Review: Quero saber quando chegará mais pois gostaria de comprar\n",
            "Review: Comprei banquetas pelo site da loja e achei excelente todo o procedimento, desde a compra até a entrega.  To das as etapas foram informadas e chegou bem rápido. Gostei muito.\n",
            "\n",
            "False Negatives (3):\n",
            "Review: A entrega foi antes do previsto! Bem embaladinho... ótimo! O produto é eficaz!!! Recomendo\n",
            "Review: Produto bom. Porém a entrega deixou muito a desejar. Demorou muito para ser entregue. Fazemos outras compras pela internet que não demorou tanto, estas outras compras chegaram no prazo de 4 dias uteis depois da confirmação do pagamento. Mais chegou sem problemas mesmo  ter achando que a entrega demorou muito,\n",
            "Review: Produto é de boa qualidade ! Vem bem embalado....Recomendo sim !\n",
            "\n",
            "=== Errors for Label: INADEQUADA ===\n",
            "False Positives (17):\n",
            "Review: Demorou demais a entregar, então cancelei e comprei na loja física, parece até q estava vindo da China e parou em Curitiba\n",
            "Review: A TV é ótima, meu marido joga com o Xbox e adorou a imagem, porém, o controle está com problemas, mas vezes não funciona e as vezes funciona sozinho, fica abrindo os menus da TV. Nós vamos procurar a assistência aqui na cidade para comprar um novo, o trabalho e a demora inviabilizam pedir a troca.\n",
            "Review: A borracha estourou quando fui usar o forno,estou tentando entrar em contato e não consigo.ja deixei um e mail pra vcs mais até agora não me retornaram\n",
            "\n",
            "False Negatives (36):\n",
            "Review: Não Gostei..............................................................................................................................................................................................................................................................................................................\n",
            "Review: vcs estão loucos?? desde quando uma lapiseira é 4 mil e seiscentos reais??? perderam a noção mesmo\n",
            "Review: O produto foi entregue muito mais rápido do que o esperado. Porém a qualidade não é Boa. O produto é de aglomerado de Madeira/pó de serra. E não podemos justificar a má qualidade, alegamos que o preço é barato. Eu tinha cotado alguns berços em lojas físicas, e à diferença de preço não era tão grande. Até voltei em uma das lojas para confirmar, pois eu não havia me atentado ao mais importante, que é a qualidade do material,e nas lojas, eram de MDF.\n",
            "\n",
            "=== Errors for Label: ANUNCIO ===\n",
            "False Positives (364):\n",
            "Review: Quero saber quando chegará mais pois gostaria de comprar\n",
            "Review: Não Gostei..............................................................................................................................................................................................................................................................................................................\n",
            "Review: muito lindas confortável leves lindas amei muito super recomendo.\n",
            "\n",
            "False Negatives (4):\n",
            "Review: Ainda não instalei. Mas fiquei decepcionada de comprar Acqualimp e receber Pentair. Vocês vendem uma marca e entregam outra.\n",
            "Review: Tenho informações de que o produto e muito bom, mas preciso saber os sabores disponíveis para efetuar a compra.............................................................................................................................................................................................................................................................................................\n",
            "Review: Produto atende ao anunciado, vendedor eficiente e entrega antes do prometido. Recomendo!\n"
          ]
        }
      ],
      "source": [
        "# Confusion Matrices for SVM\n",
        "print_confusion_matrices(y_test, y_pred_svm_combined, \"SVM (TF-IDF + Word2Vec)\")\n",
        "\n",
        "# Classification Report for SVM\n",
        "print(\"\\n=== Classification Report for SVM ===\")\n",
        "print(classification_report(y_test, y_pred_svm_combined, target_names=label_cols))\n",
        "\n",
        "# Analyze Errors for SVM\n",
        "print(\"\\n=== Error Analysis for SVM ===\")\n",
        "analyze_errors(y_test, y_pred_svm_combined, test_data, label_cols)\n"
      ]
    },
    {
      "cell_type": "markdown",
      "metadata": {},
      "source": [
        "### XGBoost"
      ]
    },
    {
      "cell_type": "code",
      "execution_count": 68,
      "metadata": {},
      "outputs": [
        {
          "name": "stdout",
          "output_type": "stream",
          "text": [
            "\n",
            "=== Confusion Matrices for XGBoost (TF-IDF + Word2Vec) ===\n",
            "\n",
            "Label: ENTREGA\n",
            "Confusion Matrix:\n",
            "[[657  39]\n",
            " [ 34 277]]\n",
            "True Positives (TP): 277\n",
            "False Positives (FP): 39\n",
            "False Negatives (FN): 34\n",
            "True Negatives (TN): 657\n",
            "\n",
            "Label: OUTROS\n",
            "Confusion Matrix:\n",
            "[[747  24]\n",
            " [102 134]]\n",
            "True Positives (TP): 134\n",
            "False Positives (FP): 24\n",
            "False Negatives (FN): 102\n",
            "True Negatives (TN): 747\n",
            "\n",
            "Label: PRODUTO\n",
            "Confusion Matrix:\n",
            "[[178  47]\n",
            " [223 559]]\n",
            "True Positives (TP): 559\n",
            "False Positives (FP): 47\n",
            "False Negatives (FN): 223\n",
            "True Negatives (TN): 178\n",
            "\n",
            "Label: CONDICOESDERECEBIMENTO\n",
            "Confusion Matrix:\n",
            "[[828   8]\n",
            " [ 88  83]]\n",
            "True Positives (TP): 83\n",
            "False Positives (FP): 8\n",
            "False Negatives (FN): 88\n",
            "True Negatives (TN): 828\n",
            "\n",
            "Label: INADEQUADA\n",
            "Confusion Matrix:\n",
            "[[966   0]\n",
            " [ 38   3]]\n",
            "True Positives (TP): 3\n",
            "False Positives (FP): 0\n",
            "False Negatives (FN): 38\n",
            "True Negatives (TN): 966\n",
            "\n",
            "Label: ANUNCIO\n",
            "Confusion Matrix:\n",
            "[[911   9]\n",
            " [ 26  61]]\n",
            "True Positives (TP): 61\n",
            "False Positives (FP): 9\n",
            "False Negatives (FN): 26\n",
            "True Negatives (TN): 911\n",
            "\n",
            "=== Classification Report for XGBoost ===\n",
            "                        precision    recall  f1-score   support\n",
            "\n",
            "               ENTREGA       0.88      0.89      0.88       311\n",
            "                OUTROS       0.85      0.57      0.68       236\n",
            "               PRODUTO       0.92      0.71      0.81       782\n",
            "CONDICOESDERECEBIMENTO       0.91      0.49      0.63       171\n",
            "            INADEQUADA       1.00      0.07      0.14        41\n",
            "               ANUNCIO       0.87      0.70      0.78        87\n",
            "\n",
            "             micro avg       0.90      0.69      0.78      1628\n",
            "             macro avg       0.91      0.57      0.65      1628\n",
            "          weighted avg       0.90      0.69      0.77      1628\n",
            "           samples avg       0.77      0.70      0.72      1628\n",
            "\n",
            "\n",
            "=== Error Analysis for XGBoost ===\n",
            "\n",
            "=== Errors for Label: ENTREGA ===\n",
            "False Positives (39):\n",
            "Review: Quero saber quando chegará mais pois gostaria de comprar\n",
            "Review: RECEBI O PRODUTO EM JANEIRO DE 2018 E QUANDO FUI UTILIZAR A TV EM FEVEREIRO DE 2018, QUANDO ABRI A CAIXA TIVE A TRISTE SURPRESA QUE A TELA ESTAVA QUEBRADA E A AMERICANAS.COM SE NEGA A FAZER A TROCA, MESMO ESTANDO NO PRAZO DE 90 DIAS DO CÓDIGO DE DEFESA DO CONSUMIDOR E AINDA FOI INFORMADO QUE TENHO VÍDEO QUE PROVA A TV ESTAVA NA CAIXA COM AS FITAS DE SEGURANÇA E MESMO ASSIM SE NEGA A FAZER A TROCA.\n",
            "Review: Esse foi o mais caro   Chegou ok   Quando fui estalar o cano do reservatório é muito maior e não cabe a mangueira    ! Não cabe a manguerinha de cima  fizeram maior que o original\n",
            "\n",
            "False Negatives (34):\n",
            "Review: ESSE PRODUTO PODE ATÉ SER BOM, PORÉM, A AMERICANAS JÁ NÃO ME INSPIRA MUITA CONFIANÇA. NÃO PELA AMERICANAS EM SI, POIS SEMPRE FORA UMA EMPRESA SÉRIA. A ÚLTIMA COMPRA QUE EFETUEI, A AMERICANAS COLOCOU AOS CUIDADOS DA \"DIRECT\". ME CAUSARAM MUITOS PROBLEMAS PARA ENTREGAR O PRODUTO, QUE NA OCASIÃO ERA UM CELULAR. PRECISEI ACIONAR O RECLAME AQUI PARA ME AJUDAR.... NÃO FOI FÁCIL!!!!! GOSTARIA DE COMPRAR ESSE PRODUTO : Kit Com 10 Cuecas Boxer de Cotton 4.0 - Polo Match....., PORÉM NÃO SEI SE TEREI PROBLEMAS NOVAMENTE. COMPLICADO!!\n",
            "Review: Celular é bom, realmente. Dei de presente, mas o pouco que tive contato é bem atraente o visual e a interface dele. Problema que você tem, é perante a película, pois a tela dele é curvada e a dificuldade de achar capinhas, pelo menos aqui na minha cidade. Foi entregue em uma semana, considerável. Mas a transportadora poderia ter forrado a caixa, pois ele veio dentro de uma caixa muito maior, assim ficava batendo. E caso esteja em dúvida sobre  a caixa de presente oferecida, não compensa comprar ela, muito cara para algo tão simples.\n",
            "Review: O aparelho é Ótimo.Entrega rápida...recomendo ! A americanas de parabéns sempre!\n",
            "\n",
            "=== Errors for Label: OUTROS ===\n",
            "False Positives (24):\n",
            "Review: Adorei o produto atendeu todas as minhas expectativas, e a americanas como sempre me surpreendendo, paguei o produto dia dia 02/01/18 dia me deram ate dia 12/01/18 Mais o produto chegou dia 04/01 super rápida a entrega!\n",
            "Review: Adorei os meus potes da Euro e a rapidez na entrega das lojas Americanas, chegou bem antes do prazo estabelecido.\n",
            "Review: Embora fiz uma compra de dois itens e a entrega veio parcelada, no momento 4/05/2018 a loja esta no credito por não ter vencido a data de entrega.\n",
            "\n",
            "False Negatives (102):\n",
            "Review: Quero saber quando chegará mais pois gostaria de comprar\n",
            "Review: Bom dia! Não me mandaram esse produto que escolhi, mandaram outro completamente diferente. Inclusive já devolvi, estou esperando a loja receber para fazer o estorno do cartão, me mandaram uma mercadoria completamente diferente da que escolhi.\n",
            "Review: Comprei banquetas pelo site da loja e achei excelente todo o procedimento, desde a compra até a entrega.  To das as etapas foram informadas e chegou bem rápido. Gostei muito.\n",
            "\n",
            "=== Errors for Label: PRODUTO ===\n",
            "False Positives (47):\n",
            "Review: ESSE PRODUTO PODE ATÉ SER BOM, PORÉM, A AMERICANAS JÁ NÃO ME INSPIRA MUITA CONFIANÇA. NÃO PELA AMERICANAS EM SI, POIS SEMPRE FORA UMA EMPRESA SÉRIA. A ÚLTIMA COMPRA QUE EFETUEI, A AMERICANAS COLOCOU AOS CUIDADOS DA \"DIRECT\". ME CAUSARAM MUITOS PROBLEMAS PARA ENTREGAR O PRODUTO, QUE NA OCASIÃO ERA UM CELULAR. PRECISEI ACIONAR O RECLAME AQUI PARA ME AJUDAR.... NÃO FOI FÁCIL!!!!! GOSTARIA DE COMPRAR ESSE PRODUTO : Kit Com 10 Cuecas Boxer de Cotton 4.0 - Polo Match....., PORÉM NÃO SEI SE TEREI PROBLEMAS NOVAMENTE. COMPLICADO!!\n",
            "Review: Enquanto as americanas continuarem usando os correios, estara dificil. 40 dias e nada do produto chegar\n",
            "Review: PÉSSIMO ATENDIMENTO, DESCASO TOTAL COM O CONSUMIDOR. 11 DIAS DE ATRASO!\n",
            "\n",
            "False Negatives (223):\n",
            "Review: Eu ameiii o produto, pena que veio com  o espelho quebrado.\n",
            "Review: bom....................................................................................................................................\n",
            "Review: Não Gostei..............................................................................................................................................................................................................................................................................................................\n",
            "\n",
            "=== Errors for Label: CONDICOESDERECEBIMENTO ===\n",
            "False Positives (8):\n",
            "Review: Além de atrasar no prazo de entrega, não era o que eu esperava. Já tenho um carregador que veio junto com o celular, aí resolvi comprar outro pra usar no trabalho, mas não é a mesma coisa.\n",
            "Review: Embora fiz uma compra de dois itens e a entrega veio parcelada, no momento 4/05/2018 a loja esta no credito por não ter vencido a data de entrega.\n",
            "Review: Eu recebi ,e me avisaram que viriam no dia seguinte para abrir e instalar e até hoje não vieram...\n",
            "\n",
            "False Negatives (88):\n",
            "Review: Bom dia! Não me mandaram esse produto que escolhi, mandaram outro completamente diferente. Inclusive já devolvi, estou esperando a loja receber para fazer o estorno do cartão, me mandaram uma mercadoria completamente diferente da que escolhi.\n",
            "Review: RECEBI O PRODUTO EM JANEIRO DE 2018 E QUANDO FUI UTILIZAR A TV EM FEVEREIRO DE 2018, QUANDO ABRI A CAIXA TIVE A TRISTE SURPRESA QUE A TELA ESTAVA QUEBRADA E A AMERICANAS.COM SE NEGA A FAZER A TROCA, MESMO ESTANDO NO PRAZO DE 90 DIAS DO CÓDIGO DE DEFESA DO CONSUMIDOR E AINDA FOI INFORMADO QUE TENHO VÍDEO QUE PROVA A TV ESTAVA NA CAIXA COM AS FITAS DE SEGURANÇA E MESMO ASSIM SE NEGA A FAZER A TROCA.\n",
            "Review: A TV é ótima, meu marido joga com o Xbox e adorou a imagem, porém, o controle está com problemas, mas vezes não funciona e as vezes funciona sozinho, fica abrindo os menus da TV. Nós vamos procurar a assistência aqui na cidade para comprar um novo, o trabalho e a demora inviabilizam pedir a troca.\n",
            "\n",
            "=== Errors for Label: INADEQUADA ===\n",
            "False Positives (0):\n",
            "\n",
            "False Negatives (38):\n",
            "Review: Não Gostei..............................................................................................................................................................................................................................................................................................................\n",
            "Review: vcs estão loucos?? desde quando uma lapiseira é 4 mil e seiscentos reais??? perderam a noção mesmo\n",
            "Review: RECEBI O PRODUTO EM JANEIRO DE 2018 E QUANDO FUI UTILIZAR A TV EM FEVEREIRO DE 2018, QUANDO ABRI A CAIXA TIVE A TRISTE SURPRESA QUE A TELA ESTAVA QUEBRADA E A AMERICANAS.COM SE NEGA A FAZER A TROCA, MESMO ESTANDO NO PRAZO DE 90 DIAS DO CÓDIGO DE DEFESA DO CONSUMIDOR E AINDA FOI INFORMADO QUE TENHO VÍDEO QUE PROVA A TV ESTAVA NA CAIXA COM AS FITAS DE SEGURANÇA E MESMO ASSIM SE NEGA A FAZER A TROCA.\n",
            "\n",
            "=== Errors for Label: ANUNCIO ===\n",
            "False Positives (9):\n",
            "Review: Olha ja tem mais de um mês  q fiz  a compra e ainda nao  recebi o produto anunciado.  Ainda no aguardo\n",
            "Review: Mercadoria entregue conforme combinado, produto de boa qualidade, recomendo\n",
            "Review: Não gostei; pois nas propagandas falam que não sai na água; e sai! E não cobre tatuagens totalmente.\n",
            "\n",
            "False Negatives (26):\n",
            "Review: Não gostei do produto.  Não tem a mesma medida do j7\n",
            "Review: Assim que chegaram, coloquei na máquina pra lavar e sair o cheiro ruim que vem neles. Quando tirei, um dos panos de prato estava com uma lateral totalmente esparrapado, ou seja, praticamente ficou aleijado de um lado. Ainda não usei, mas achei todos ralinhos.\n",
            "Review: Totalmente diferente da imagem de venda . totalmente arrependido. Nem brilho tem . he fosco horrivel.\n"
          ]
        }
      ],
      "source": [
        "# Confusion Matrices for XGBoost\n",
        "y_pred_xgb_combined = model_xgb_combined.predict(X_test_combined)\n",
        "\n",
        "print_confusion_matrices(y_test, y_pred_xgb_combined, \"XGBoost (TF-IDF + Word2Vec)\")\n",
        "\n",
        "# Classification Report for XGBoost\n",
        "print(\"\\n=== Classification Report for XGBoost ===\")\n",
        "print(classification_report(y_test, y_pred_xgb_combined, target_names=label_cols))\n",
        "\n",
        "\n",
        "# Analyze Errors for XGBoost\n",
        "print(\"\\n=== Error Analysis for XGBoost ===\")\n",
        "analyze_errors(y_test, y_pred_xgb_combined, test_data, label_cols)"
      ]
    },
    {
      "cell_type": "markdown",
      "metadata": {},
      "source": [
        "### XGBoost with optimal thresholds to improve rare labels detection"
      ]
    },
    {
      "cell_type": "code",
      "execution_count": 69,
      "metadata": {},
      "outputs": [
        {
          "name": "stdout",
          "output_type": "stream",
          "text": [
            "ENTREGA: Optimal threshold = 0.470\n",
            "OUTROS: Optimal threshold = 0.383\n",
            "PRODUTO: Optimal threshold = 0.370\n",
            "CONDICOESDERECEBIMENTO: Optimal threshold = 0.216\n",
            "INADEQUADA: Optimal threshold = 0.254\n",
            "ANUNCIO: Optimal threshold = 0.257\n",
            "                        precision    recall  f1-score   support\n",
            "\n",
            "               ENTREGA       0.88      0.92      0.90       311\n",
            "                OUTROS       0.78      0.73      0.75       236\n",
            "               PRODUTO       0.86      0.97      0.91       782\n",
            "CONDICOESDERECEBIMENTO       0.73      0.78      0.75       171\n",
            "            INADEQUADA       0.19      0.20      0.19        41\n",
            "               ANUNCIO       0.82      0.75      0.78        87\n",
            "\n",
            "             micro avg       0.82      0.87      0.84      1628\n",
            "             macro avg       0.71      0.72      0.71      1628\n",
            "          weighted avg       0.82      0.87      0.84      1628\n",
            "           samples avg       0.85      0.89      0.85      1628\n",
            "\n"
          ]
        }
      ],
      "source": [
        "# optimal thresholds were calculated to maximize F1-score per label\n",
        "y_pred_proba = model_xgb_combined.predict_proba(X_test_combined)  # For XGBoost\n",
        "thresholds = {}\n",
        "for i, label in enumerate(label_cols):\n",
        "    precision, recall, thresh = precision_recall_curve(y_test[:, i], y_pred_proba[:, i])\n",
        "    f1_scores = 2 * (precision * recall) / (precision + recall + 1e-10)\n",
        "    thresholds[label] = thresh[np.argmax(f1_scores)]\n",
        "    print(f\"{label}: Optimal threshold = {thresholds[label]:.3f}\")\n",
        "\n",
        "# Apply adjusted threshold\n",
        "y_pred_adjusted = (y_pred_proba >= [thresholds[label] for label in label_cols]).astype(int)\n",
        "print(classification_report(y_test, y_pred_adjusted, target_names=label_cols))"
      ]
    },
    {
      "cell_type": "markdown",
      "metadata": {},
      "source": [
        "Thresholds vary widely due to class imbalance. Rare labels (INADEQUADA, ANUNCIO) have higher thresholds, prioritizing precision over recall"
      ]
    },
    {
      "cell_type": "markdown",
      "metadata": {},
      "source": [
        "### **XGBoost (TF-IDF + Word2Vec Combination) - Pre-Threshold Tuning**\n",
        "From your earlier XGBoost results (before tuning):\n",
        "\n",
        "| Label       | Metric     | Before Tuning | After Tuning | Change       |\n",
        "|-------------|------------|---------------|--------------|--------------|\n",
        "| **INADEQUADA** | Precision  | 0.14          | 0.50         | +0.36        |\n",
        "|             | Recall     | 0.24          | 0.20         | -0.04        |\n",
        "|             | F1-Score   | 0.18          | 0.28         | +0.10        |\n",
        "| **ANUNCIO**   | Precision  | 0.73          | 0.87         | +0.14        |\n",
        "|             | Recall     | 0.82          | 0.77         | -0.05        |\n",
        "|             | F1-Score   | 0.77          | 0.82         | +0.05        |\n",
        "\n",
        "For **INADEQUADA** recall dropped slightly (missed 2 more), but precision jumped, reducing false positives (62 → 8). The high threshold (0.849) made the model too conservative, prioritizing precision over recall.\n",
        "\n",
        "For **ANUNCIO** recall decreased slightly (missed 4 more), but precision improved, reducing false positives (26 → 8). F1 improved due to better balance.\n",
        "\n",
        "Conclusion: Threshold tuning optimized for F1 didn’t improve rare label recall—it prioritized precision\n"
      ]
    },
    {
      "cell_type": "markdown",
      "metadata": {},
      "source": [
        "# Model Comparisons\n",
        "\n",
        "Below, we compare the performance of three models—Logistic Regression, SVM, and XGBoost (using combined TF-IDF + Word2Vec features)—based on their confusion matrices, classification reports, and error analysis. The focus is on understanding how each model handles the multilabel classification task, particularly for the rare labels `INADEQUADA` (support=41) and `ANUNCIO` (support=87), alongside more frequent labels like `PRODUTO` (support=782) and `ENTREGA` (support=311).\n",
        "\n",
        "## Logistic Regression\n",
        "- **Strengths**:\n",
        "  - Excels on frequent labels: `PRODUTO` (TP=684, FN=98, recall=0.87) and `ENTREGA` (TP=278, FN=33, recall=0.89) show high true positives (TP) and manageable false negatives (FN), reflecting strong detection of common issues.\n",
        "  - Best rare label performance: For `INADEQUADA`, achieves the highest recall (0.44, TP=18/41), detecting nearly half the instances, a significant improvement over near-zero recall in earlier setups. For `ANUNCIO`, recall=0.80 (TP=70/87) is robust, missing only 17 instances.\n",
        "- **Weaknesses**:\n",
        "  - Overprediction on rare labels: `INADEQUADA` has 111 FP, leading to low precision (0.14), as seen in FP examples like \"bom...\" and \"Eu ameiii o produto, pena que veio com o espelho quebrado,\" where neutral or mixed sentiment is misclassified.\n",
        "  - Moderate FN on mid-frequency labels: `OUTROS` (FN=42) and `CONDICOESDERECEBIMENTO` (FN=24) indicate missed detections, e.g., \"recebi a cuba amassada\" (FN for `OUTROS`), suggesting difficulty with nuanced complaints.\n",
        "- **Error Insights**:\n",
        "  - FP for `ENTREGA` (e.g., \"Quero saber quando chegará mais\") shows confusion with purchase intent, not delivery issues.\n",
        "  - FN for `ANUNCIO` (e.g., \"cor não é a mesma da foto\") highlights missed discrepancies between description and product, possibly due to weak feature signals.\n",
        "\n",
        "## SVM\n",
        "- **Strengths**:\n",
        "  - Balanced performance: Improves over Logistic Regression for `ENTREGA` (TP=283, FN=28, recall=0.91) and `PRODUTO` (TP=694, FN=88, recall=0.89), with fewer FP (21 and 29, respectively) and higher precision (0.93 and 0.96).\n",
        "  - Controlled overprediction: Lower FP across labels (e.g., `INADEQUADA` FP=78 vs. 111 in Logistic Regression), making it more precise overall (macro avg precision=0.69 vs. 0.67).\n",
        "  - Solid `ANUNCIO` detection: Recall=0.78 (TP=68/87), slightly below Logistic Regression, but precision=0.73 (FP=25) is better, reducing false positives.\n",
        "- **Weaknesses**:\n",
        "  - Poor `INADEQUADA` detection: Recall=0.24 (TP=10/41), missing 31 instances, worse than Logistic Regression. Precision=0.11 remains low, with FP like \"bom...\" indicating over-sensitivity to ambiguous text.\n",
        "  - Higher FN on mid-frequency labels: `OUTROS` (FN=49) and `CONDICOESDERECEBIMENTO` (FN=32) show more missed cases than Logistic Regression, e.g., \"cuba amassada\" (FN for `OUTROS`).\n",
        "- **Error Insights**:\n",
        "  - FP for `ENTREGA` (e.g., \"tela estava quebrada\") suggests confusion with condition-related complaints.\n",
        "  - FN for `INADEQUADA` (e.g., \"qualidade não é boa\") indicates insufficient capture of subtle quality issues, possibly due to stricter decision boundaries.\n",
        "\n",
        "## XGBoost (TF-IDF + Word2Vec, Pre-Threshold Tuning)\n",
        "- **Strengths**:\n",
        "  - High recall on frequent labels: `ENTREGA` (TP=280, FN=31, recall=0.90) and `ANUNCIO` (TP=71, FN=16, recall=0.82) show strong detection, with `ANUNCIO` achieving the highest TP among models.\n",
        "  - Competitive overall performance: Micro avg F1=0.81 and macro avg recall=0.72 indicate robustness across labels, despite imbalance.\n",
        "- **Weaknesses**:\n",
        "  - Overprediction tendency: Higher FP rates, e.g., `PRODUTO` (FP=41), `OUTROS` (FP=97), and `INADEQUADA` (FP=62), suggest overfitting to frequent terms or patterns, reducing precision (e.g., `INADEQUADA` precision=0.14).\n",
        "  - Weakest `INADEQUADA` detection: Recall=0.24 (TP=10/41), matching SVM but missing 31 instances, far below Logistic Regression. FP like \"bom...\" and \"ESSE PRODUTO PODE ATÉ SER BOM...\" show misclassification of neutral or delivery-focused text.\n",
        "  - Elevated FN on `PRODUTO`: FN=132 (recall=0.83) is higher than SVM and Logistic Regression, missing cases like \"bom...\" and \"Comprei banquetas... Gostei muito,\" possibly due to under-emphasis on positive product feedback.\n",
        "- **Error Insights**:\n",
        "  - FP for `ANUNCIO` (e.g., \"Não me mandaram esse produto que escolhi\") confuses delivery errors with advertisement mismatches.\n",
        "  - FN for `INADEQUADA` (e.g., \"tela estava quebrada\") overlaps with Logistic Regression and SVM, highlighting a persistent challenge in capturing quality-related complaints.\n",
        "\n",
        "## XGBoost (Post-Threshold Tuning)\n",
        "- **Thresholds**: `ENTREGA`=0.549, `OUTROS`=0.664, `PRODUTO`=0.213, `CONDICOESDERECEBIMENTO`=0.539, `INADEQUADA`=0.849, `ANUNCIO`=0.696\n",
        "- **Changes**:\n",
        "  - `INADEQUADA`: Recall drops to 0.20 (TP=8/41, FN=33) from 0.24, but precision rises to 0.50 (FP reduced from 62 to 8). The high threshold (0.849) makes the model overly conservative, missing more true positives.\n",
        "  - `ANUNCIO`: Recall decreases to 0.77 (TP=67/87, FN=20) from 0.82, but precision improves to 0.87 (FP from 26 to 8). F1 rises to 0.82 from 0.77, reflecting better balance.\n",
        "  - `PRODUTO`: Recall jumps to 0.96 (FN reduced), leveraging the low threshold (0.213), though precision dips to 0.88.\n",
        "- **Analysis**: Tuning for F1-score shifts focus to precision, reducing FP but sacrificing recall on rare labels, counter to the goal of improving detection.\n",
        "\n",
        "---\n",
        "\n",
        "## Key Observations\n",
        "- **Best for Frequent Labels**: SVM balances precision and recall (`ENTREGA` F1=0.92, `PRODUTO` F1=0.92), while XGBoost (post-tuning) maximizes recall (`PRODUTO` recall=0.96).\n",
        "- **Best for Rare Labels**: Logistic Regression leads for `INADEQUADA` (recall=0.44) and competes with XGBoost (pre-tuning) for `ANUNCIO` (recall=0.80 vs. 0.82).\n",
        "- **Most Problematic Label**: `INADEQUADA` remains challenging across all models (recall 0.20–0.44), with high FN and variable FP, indicating poor feature distinction or data scarcity.\n",
        "- **Error Patterns**: Common FN for `INADEQUADA` (e.g., \"tela quebrada\") and `ANUNCIO` (e.g., \"cor não é a mesma\") suggest models miss subtle quality or description issues, while FP reflect over-sensitivity to ambiguous text.\n",
        "\n",
        "---\n",
        "\n",
        "## Future work\n",
        "- **Rare Label Boost**: Oversample `INADEQUADA` or tune thresholds for recall (e.g., target 0.6+), accepting lower precision.\n",
        "- **Feature Enhancement**: Add keyword features (e.g., \"quebrado\", \"defeito\") to improve `INADEQUADA` signal.\n"
      ]
    }
  ],
  "metadata": {
    "colab": {
      "collapsed_sections": [
        "dHv1V0r_pGf5"
      ],
      "provenance": []
    },
    "kernelspec": {
      "display_name": "NLP_Ass1",
      "language": "python",
      "name": "python3"
    },
    "language_info": {
      "codemirror_mode": {
        "name": "ipython",
        "version": 3
      },
      "file_extension": ".py",
      "mimetype": "text/x-python",
      "name": "python",
      "nbconvert_exporter": "python",
      "pygments_lexer": "ipython3",
      "version": "3.10.16"
    },
    "widgets": {
      "application/vnd.jupyter.widget-state+json": {
        "008bbb24a07a44269a22ffa7d7aa137a": {
          "model_module": "@jupyter-widgets/controls",
          "model_module_version": "1.5.0",
          "model_name": "DescriptionStyleModel",
          "state": {
            "_model_module": "@jupyter-widgets/controls",
            "_model_module_version": "1.5.0",
            "_model_name": "DescriptionStyleModel",
            "_view_count": null,
            "_view_module": "@jupyter-widgets/base",
            "_view_module_version": "1.2.0",
            "_view_name": "StyleView",
            "description_width": ""
          }
        },
        "01c16b1bdeb9431aa822b9fcdcfcf85a": {
          "model_module": "@jupyter-widgets/base",
          "model_module_version": "1.2.0",
          "model_name": "LayoutModel",
          "state": {
            "_model_module": "@jupyter-widgets/base",
            "_model_module_version": "1.2.0",
            "_model_name": "LayoutModel",
            "_view_count": null,
            "_view_module": "@jupyter-widgets/base",
            "_view_module_version": "1.2.0",
            "_view_name": "LayoutView",
            "align_content": null,
            "align_items": null,
            "align_self": null,
            "border": null,
            "bottom": null,
            "display": null,
            "flex": null,
            "flex_flow": null,
            "grid_area": null,
            "grid_auto_columns": null,
            "grid_auto_flow": null,
            "grid_auto_rows": null,
            "grid_column": null,
            "grid_gap": null,
            "grid_row": null,
            "grid_template_areas": null,
            "grid_template_columns": null,
            "grid_template_rows": null,
            "height": null,
            "justify_content": null,
            "justify_items": null,
            "left": null,
            "margin": null,
            "max_height": null,
            "max_width": null,
            "min_height": null,
            "min_width": null,
            "object_fit": null,
            "object_position": null,
            "order": null,
            "overflow": null,
            "overflow_x": null,
            "overflow_y": null,
            "padding": null,
            "right": null,
            "top": null,
            "visibility": null,
            "width": null
          }
        },
        "01eb65ca545847e6b37e527f75e8483b": {
          "model_module": "@jupyter-widgets/controls",
          "model_module_version": "1.5.0",
          "model_name": "FloatProgressModel",
          "state": {
            "_dom_classes": [],
            "_model_module": "@jupyter-widgets/controls",
            "_model_module_version": "1.5.0",
            "_model_name": "FloatProgressModel",
            "_view_count": null,
            "_view_module": "@jupyter-widgets/controls",
            "_view_module_version": "1.5.0",
            "_view_name": "ProgressView",
            "bar_style": "success",
            "description": "",
            "description_tooltip": null,
            "layout": "IPY_MODEL_ee28779cea59400398cc71c1221dc031",
            "max": 103342,
            "min": 0,
            "orientation": "horizontal",
            "style": "IPY_MODEL_621f61898aad461c83b66201dc5e35e2",
            "value": 103342
          }
        },
        "022aafa327a3457b87539066390136e7": {
          "model_module": "@jupyter-widgets/base",
          "model_module_version": "1.2.0",
          "model_name": "LayoutModel",
          "state": {
            "_model_module": "@jupyter-widgets/base",
            "_model_module_version": "1.2.0",
            "_model_name": "LayoutModel",
            "_view_count": null,
            "_view_module": "@jupyter-widgets/base",
            "_view_module_version": "1.2.0",
            "_view_name": "LayoutView",
            "align_content": null,
            "align_items": null,
            "align_self": null,
            "border": null,
            "bottom": null,
            "display": null,
            "flex": null,
            "flex_flow": null,
            "grid_area": null,
            "grid_auto_columns": null,
            "grid_auto_flow": null,
            "grid_auto_rows": null,
            "grid_column": null,
            "grid_gap": null,
            "grid_row": null,
            "grid_template_areas": null,
            "grid_template_columns": null,
            "grid_template_rows": null,
            "height": null,
            "justify_content": null,
            "justify_items": null,
            "left": null,
            "margin": null,
            "max_height": null,
            "max_width": null,
            "min_height": null,
            "min_width": null,
            "object_fit": null,
            "object_position": null,
            "order": null,
            "overflow": null,
            "overflow_x": null,
            "overflow_y": null,
            "padding": null,
            "right": null,
            "top": null,
            "visibility": null,
            "width": null
          }
        },
        "03ce90df7012481887d8cb6f7d9a80b1": {
          "model_module": "@jupyter-widgets/base",
          "model_module_version": "1.2.0",
          "model_name": "LayoutModel",
          "state": {
            "_model_module": "@jupyter-widgets/base",
            "_model_module_version": "1.2.0",
            "_model_name": "LayoutModel",
            "_view_count": null,
            "_view_module": "@jupyter-widgets/base",
            "_view_module_version": "1.2.0",
            "_view_name": "LayoutView",
            "align_content": null,
            "align_items": null,
            "align_self": null,
            "border": null,
            "bottom": null,
            "display": null,
            "flex": null,
            "flex_flow": null,
            "grid_area": null,
            "grid_auto_columns": null,
            "grid_auto_flow": null,
            "grid_auto_rows": null,
            "grid_column": null,
            "grid_gap": null,
            "grid_row": null,
            "grid_template_areas": null,
            "grid_template_columns": null,
            "grid_template_rows": null,
            "height": null,
            "justify_content": null,
            "justify_items": null,
            "left": null,
            "margin": null,
            "max_height": null,
            "max_width": null,
            "min_height": null,
            "min_width": null,
            "object_fit": null,
            "object_position": null,
            "order": null,
            "overflow": null,
            "overflow_x": null,
            "overflow_y": null,
            "padding": null,
            "right": null,
            "top": null,
            "visibility": null,
            "width": null
          }
        },
        "054face69c9e489da83f7b0c9a13e2f2": {
          "model_module": "@jupyter-widgets/controls",
          "model_module_version": "1.5.0",
          "model_name": "DescriptionStyleModel",
          "state": {
            "_model_module": "@jupyter-widgets/controls",
            "_model_module_version": "1.5.0",
            "_model_name": "DescriptionStyleModel",
            "_view_count": null,
            "_view_module": "@jupyter-widgets/base",
            "_view_module_version": "1.2.0",
            "_view_name": "StyleView",
            "description_width": ""
          }
        },
        "05b1d177fe1944879070794a7ba6524c": {
          "model_module": "@jupyter-widgets/controls",
          "model_module_version": "1.5.0",
          "model_name": "HTMLModel",
          "state": {
            "_dom_classes": [],
            "_model_module": "@jupyter-widgets/controls",
            "_model_module_version": "1.5.0",
            "_model_name": "HTMLModel",
            "_view_count": null,
            "_view_module": "@jupyter-widgets/controls",
            "_view_module_version": "1.5.0",
            "_view_name": "HTMLView",
            "description": "",
            "description_tooltip": null,
            "layout": "IPY_MODEL_db03ef3faf634723937bd63b0bdf5743",
            "placeholder": "​",
            "style": "IPY_MODEL_ff83d248844442a6b0a9515edc2408cf",
            "value": " 787k/787k [00:00&lt;00:00, 5.94MB/s]"
          }
        },
        "103bf2d329034b4596c3101b75e24ac6": {
          "model_module": "@jupyter-widgets/base",
          "model_module_version": "1.2.0",
          "model_name": "LayoutModel",
          "state": {
            "_model_module": "@jupyter-widgets/base",
            "_model_module_version": "1.2.0",
            "_model_name": "LayoutModel",
            "_view_count": null,
            "_view_module": "@jupyter-widgets/base",
            "_view_module_version": "1.2.0",
            "_view_name": "LayoutView",
            "align_content": null,
            "align_items": null,
            "align_self": null,
            "border": null,
            "bottom": null,
            "display": null,
            "flex": null,
            "flex_flow": null,
            "grid_area": null,
            "grid_auto_columns": null,
            "grid_auto_flow": null,
            "grid_auto_rows": null,
            "grid_column": null,
            "grid_gap": null,
            "grid_row": null,
            "grid_template_areas": null,
            "grid_template_columns": null,
            "grid_template_rows": null,
            "height": null,
            "justify_content": null,
            "justify_items": null,
            "left": null,
            "margin": null,
            "max_height": null,
            "max_width": null,
            "min_height": null,
            "min_width": null,
            "object_fit": null,
            "object_position": null,
            "order": null,
            "overflow": null,
            "overflow_x": null,
            "overflow_y": null,
            "padding": null,
            "right": null,
            "top": null,
            "visibility": null,
            "width": null
          }
        },
        "116f4d3f3ac94b918c86da53c5ad5563": {
          "model_module": "@jupyter-widgets/controls",
          "model_module_version": "1.5.0",
          "model_name": "HBoxModel",
          "state": {
            "_dom_classes": [],
            "_model_module": "@jupyter-widgets/controls",
            "_model_module_version": "1.5.0",
            "_model_name": "HBoxModel",
            "_view_count": null,
            "_view_module": "@jupyter-widgets/controls",
            "_view_module_version": "1.5.0",
            "_view_name": "HBoxView",
            "box_style": "",
            "children": [
              "IPY_MODEL_3086ea9f69ba4589b76be54883e961bd",
              "IPY_MODEL_44311693ec4e4666aafb8584aa2f4ffb",
              "IPY_MODEL_ec7c298ca2654039ac0f5ba61a1817fd"
            ],
            "layout": "IPY_MODEL_305ad6740e214bd99f5278a9abfd53b6"
          }
        },
        "1247ac16448847e3a7450df0761e5fe5": {
          "model_module": "@jupyter-widgets/base",
          "model_module_version": "1.2.0",
          "model_name": "LayoutModel",
          "state": {
            "_model_module": "@jupyter-widgets/base",
            "_model_module_version": "1.2.0",
            "_model_name": "LayoutModel",
            "_view_count": null,
            "_view_module": "@jupyter-widgets/base",
            "_view_module_version": "1.2.0",
            "_view_name": "LayoutView",
            "align_content": null,
            "align_items": null,
            "align_self": null,
            "border": null,
            "bottom": null,
            "display": null,
            "flex": null,
            "flex_flow": null,
            "grid_area": null,
            "grid_auto_columns": null,
            "grid_auto_flow": null,
            "grid_auto_rows": null,
            "grid_column": null,
            "grid_gap": null,
            "grid_row": null,
            "grid_template_areas": null,
            "grid_template_columns": null,
            "grid_template_rows": null,
            "height": null,
            "justify_content": null,
            "justify_items": null,
            "left": null,
            "margin": null,
            "max_height": null,
            "max_width": null,
            "min_height": null,
            "min_width": null,
            "object_fit": null,
            "object_position": null,
            "order": null,
            "overflow": null,
            "overflow_x": null,
            "overflow_y": null,
            "padding": null,
            "right": null,
            "top": null,
            "visibility": null,
            "width": null
          }
        },
        "131e022346fa41e9abefa39dc71a05f4": {
          "model_module": "@jupyter-widgets/base",
          "model_module_version": "1.2.0",
          "model_name": "LayoutModel",
          "state": {
            "_model_module": "@jupyter-widgets/base",
            "_model_module_version": "1.2.0",
            "_model_name": "LayoutModel",
            "_view_count": null,
            "_view_module": "@jupyter-widgets/base",
            "_view_module_version": "1.2.0",
            "_view_name": "LayoutView",
            "align_content": null,
            "align_items": null,
            "align_self": null,
            "border": null,
            "bottom": null,
            "display": null,
            "flex": null,
            "flex_flow": null,
            "grid_area": null,
            "grid_auto_columns": null,
            "grid_auto_flow": null,
            "grid_auto_rows": null,
            "grid_column": null,
            "grid_gap": null,
            "grid_row": null,
            "grid_template_areas": null,
            "grid_template_columns": null,
            "grid_template_rows": null,
            "height": null,
            "justify_content": null,
            "justify_items": null,
            "left": null,
            "margin": null,
            "max_height": null,
            "max_width": null,
            "min_height": null,
            "min_width": null,
            "object_fit": null,
            "object_position": null,
            "order": null,
            "overflow": null,
            "overflow_x": null,
            "overflow_y": null,
            "padding": null,
            "right": null,
            "top": null,
            "visibility": null,
            "width": null
          }
        },
        "13c77c0d994d4b078fddfbb65b22568b": {
          "model_module": "@jupyter-widgets/base",
          "model_module_version": "1.2.0",
          "model_name": "LayoutModel",
          "state": {
            "_model_module": "@jupyter-widgets/base",
            "_model_module_version": "1.2.0",
            "_model_name": "LayoutModel",
            "_view_count": null,
            "_view_module": "@jupyter-widgets/base",
            "_view_module_version": "1.2.0",
            "_view_name": "LayoutView",
            "align_content": null,
            "align_items": null,
            "align_self": null,
            "border": null,
            "bottom": null,
            "display": null,
            "flex": null,
            "flex_flow": null,
            "grid_area": null,
            "grid_auto_columns": null,
            "grid_auto_flow": null,
            "grid_auto_rows": null,
            "grid_column": null,
            "grid_gap": null,
            "grid_row": null,
            "grid_template_areas": null,
            "grid_template_columns": null,
            "grid_template_rows": null,
            "height": null,
            "justify_content": null,
            "justify_items": null,
            "left": null,
            "margin": null,
            "max_height": null,
            "max_width": null,
            "min_height": null,
            "min_width": null,
            "object_fit": null,
            "object_position": null,
            "order": null,
            "overflow": null,
            "overflow_x": null,
            "overflow_y": null,
            "padding": null,
            "right": null,
            "top": null,
            "visibility": null,
            "width": null
          }
        },
        "2603110cb02649169e9abad90d473da0": {
          "model_module": "@jupyter-widgets/controls",
          "model_module_version": "1.5.0",
          "model_name": "FloatProgressModel",
          "state": {
            "_dom_classes": [],
            "_model_module": "@jupyter-widgets/controls",
            "_model_module_version": "1.5.0",
            "_model_name": "FloatProgressModel",
            "_view_count": null,
            "_view_module": "@jupyter-widgets/controls",
            "_view_module_version": "1.5.0",
            "_view_name": "ProgressView",
            "bar_style": "success",
            "description": "",
            "description_tooltip": null,
            "layout": "IPY_MODEL_76158fec5e0b455c8d9bec3c6f9272f0",
            "max": 2535,
            "min": 0,
            "orientation": "horizontal",
            "style": "IPY_MODEL_9193c870b4bb4433a334e567723aac5b",
            "value": 2535
          }
        },
        "2657aea3695a44e78363c13ebe0fcca4": {
          "model_module": "@jupyter-widgets/controls",
          "model_module_version": "1.5.0",
          "model_name": "HBoxModel",
          "state": {
            "_dom_classes": [],
            "_model_module": "@jupyter-widgets/controls",
            "_model_module_version": "1.5.0",
            "_model_name": "HBoxModel",
            "_view_count": null,
            "_view_module": "@jupyter-widgets/controls",
            "_view_module_version": "1.5.0",
            "_view_name": "HBoxView",
            "box_style": "",
            "children": [
              "IPY_MODEL_f8ed7d9c007a4465a75744444e9bf82d",
              "IPY_MODEL_c946ffde64c24542b2020b55354abee7",
              "IPY_MODEL_616c26649fac416faa36fd6d862912c1"
            ],
            "layout": "IPY_MODEL_e413fc2e24c94e1aa74b17fb379af604"
          }
        },
        "26f4e16dcf394f14a5885d414e3b3a6f": {
          "model_module": "@jupyter-widgets/controls",
          "model_module_version": "1.5.0",
          "model_name": "DescriptionStyleModel",
          "state": {
            "_model_module": "@jupyter-widgets/controls",
            "_model_module_version": "1.5.0",
            "_model_name": "DescriptionStyleModel",
            "_view_count": null,
            "_view_module": "@jupyter-widgets/base",
            "_view_module_version": "1.2.0",
            "_view_name": "StyleView",
            "description_width": ""
          }
        },
        "288c951d86aa4aeab0beaa03b7d84b5d": {
          "model_module": "@jupyter-widgets/base",
          "model_module_version": "1.2.0",
          "model_name": "LayoutModel",
          "state": {
            "_model_module": "@jupyter-widgets/base",
            "_model_module_version": "1.2.0",
            "_model_name": "LayoutModel",
            "_view_count": null,
            "_view_module": "@jupyter-widgets/base",
            "_view_module_version": "1.2.0",
            "_view_name": "LayoutView",
            "align_content": null,
            "align_items": null,
            "align_self": null,
            "border": null,
            "bottom": null,
            "display": null,
            "flex": null,
            "flex_flow": null,
            "grid_area": null,
            "grid_auto_columns": null,
            "grid_auto_flow": null,
            "grid_auto_rows": null,
            "grid_column": null,
            "grid_gap": null,
            "grid_row": null,
            "grid_template_areas": null,
            "grid_template_columns": null,
            "grid_template_rows": null,
            "height": null,
            "justify_content": null,
            "justify_items": null,
            "left": null,
            "margin": null,
            "max_height": null,
            "max_width": null,
            "min_height": null,
            "min_width": null,
            "object_fit": null,
            "object_position": null,
            "order": null,
            "overflow": null,
            "overflow_x": null,
            "overflow_y": null,
            "padding": null,
            "right": null,
            "top": null,
            "visibility": null,
            "width": null
          }
        },
        "305ad6740e214bd99f5278a9abfd53b6": {
          "model_module": "@jupyter-widgets/base",
          "model_module_version": "1.2.0",
          "model_name": "LayoutModel",
          "state": {
            "_model_module": "@jupyter-widgets/base",
            "_model_module_version": "1.2.0",
            "_model_name": "LayoutModel",
            "_view_count": null,
            "_view_module": "@jupyter-widgets/base",
            "_view_module_version": "1.2.0",
            "_view_name": "LayoutView",
            "align_content": null,
            "align_items": null,
            "align_self": null,
            "border": null,
            "bottom": null,
            "display": null,
            "flex": null,
            "flex_flow": null,
            "grid_area": null,
            "grid_auto_columns": null,
            "grid_auto_flow": null,
            "grid_auto_rows": null,
            "grid_column": null,
            "grid_gap": null,
            "grid_row": null,
            "grid_template_areas": null,
            "grid_template_columns": null,
            "grid_template_rows": null,
            "height": null,
            "justify_content": null,
            "justify_items": null,
            "left": null,
            "margin": null,
            "max_height": null,
            "max_width": null,
            "min_height": null,
            "min_width": null,
            "object_fit": null,
            "object_position": null,
            "order": null,
            "overflow": null,
            "overflow_x": null,
            "overflow_y": null,
            "padding": null,
            "right": null,
            "top": null,
            "visibility": null,
            "width": null
          }
        },
        "3086ea9f69ba4589b76be54883e961bd": {
          "model_module": "@jupyter-widgets/controls",
          "model_module_version": "1.5.0",
          "model_name": "HTMLModel",
          "state": {
            "_dom_classes": [],
            "_model_module": "@jupyter-widgets/controls",
            "_model_module_version": "1.5.0",
            "_model_name": "HTMLModel",
            "_view_count": null,
            "_view_module": "@jupyter-widgets/controls",
            "_view_module_version": "1.5.0",
            "_view_name": "HTMLView",
            "description": "",
            "description_tooltip": null,
            "layout": "IPY_MODEL_103bf2d329034b4596c3101b75e24ac6",
            "placeholder": "​",
            "style": "IPY_MODEL_f00644a1498c49bcad5dd8e5489711cc",
            "value": "Generating test split: 100%"
          }
        },
        "3efb3b3c8a8a48149ece9a7d8d138214": {
          "model_module": "@jupyter-widgets/controls",
          "model_module_version": "1.5.0",
          "model_name": "HTMLModel",
          "state": {
            "_dom_classes": [],
            "_model_module": "@jupyter-widgets/controls",
            "_model_module_version": "1.5.0",
            "_model_name": "HTMLModel",
            "_view_count": null,
            "_view_module": "@jupyter-widgets/controls",
            "_view_module_version": "1.5.0",
            "_view_name": "HTMLView",
            "description": "",
            "description_tooltip": null,
            "layout": "IPY_MODEL_022aafa327a3457b87539066390136e7",
            "placeholder": "​",
            "style": "IPY_MODEL_49e36ab5c36242079573965fff7041d9",
            "value": " 8002/8002 [00:00&lt;00:00, 7942.39 examples/s]"
          }
        },
        "44311693ec4e4666aafb8584aa2f4ffb": {
          "model_module": "@jupyter-widgets/controls",
          "model_module_version": "1.5.0",
          "model_name": "FloatProgressModel",
          "state": {
            "_dom_classes": [],
            "_model_module": "@jupyter-widgets/controls",
            "_model_module_version": "1.5.0",
            "_model_name": "FloatProgressModel",
            "_view_count": null,
            "_view_module": "@jupyter-widgets/controls",
            "_view_module_version": "1.5.0",
            "_view_name": "ProgressView",
            "bar_style": "success",
            "description": "",
            "description_tooltip": null,
            "layout": "IPY_MODEL_8fd68620b9c44caea4de01b21da98fb4",
            "max": 1007,
            "min": 0,
            "orientation": "horizontal",
            "style": "IPY_MODEL_54e52e2e7824487ca38d95149210f9d8",
            "value": 1007
          }
        },
        "44501831425d4374bebf10373eb8a12d": {
          "model_module": "@jupyter-widgets/controls",
          "model_module_version": "1.5.0",
          "model_name": "DescriptionStyleModel",
          "state": {
            "_model_module": "@jupyter-widgets/controls",
            "_model_module_version": "1.5.0",
            "_model_name": "DescriptionStyleModel",
            "_view_count": null,
            "_view_module": "@jupyter-widgets/base",
            "_view_module_version": "1.2.0",
            "_view_name": "StyleView",
            "description_width": ""
          }
        },
        "47c345ae9e4248c1ada37593163e4954": {
          "model_module": "@jupyter-widgets/controls",
          "model_module_version": "1.5.0",
          "model_name": "HTMLModel",
          "state": {
            "_dom_classes": [],
            "_model_module": "@jupyter-widgets/controls",
            "_model_module_version": "1.5.0",
            "_model_name": "HTMLModel",
            "_view_count": null,
            "_view_module": "@jupyter-widgets/controls",
            "_view_module_version": "1.5.0",
            "_view_name": "HTMLView",
            "description": "",
            "description_tooltip": null,
            "layout": "IPY_MODEL_8920dc1efafb40579401906ded8a65bc",
            "placeholder": "​",
            "style": "IPY_MODEL_84acb679f49143638a92daaeb5a17c51",
            "value": "validation-00000-of-00001.parquet: 100%"
          }
        },
        "49e36ab5c36242079573965fff7041d9": {
          "model_module": "@jupyter-widgets/controls",
          "model_module_version": "1.5.0",
          "model_name": "DescriptionStyleModel",
          "state": {
            "_model_module": "@jupyter-widgets/controls",
            "_model_module_version": "1.5.0",
            "_model_name": "DescriptionStyleModel",
            "_view_count": null,
            "_view_module": "@jupyter-widgets/base",
            "_view_module_version": "1.2.0",
            "_view_name": "StyleView",
            "description_width": ""
          }
        },
        "4f921a19a08945daadf4234b922dd8d9": {
          "model_module": "@jupyter-widgets/controls",
          "model_module_version": "1.5.0",
          "model_name": "ProgressStyleModel",
          "state": {
            "_model_module": "@jupyter-widgets/controls",
            "_model_module_version": "1.5.0",
            "_model_name": "ProgressStyleModel",
            "_view_count": null,
            "_view_module": "@jupyter-widgets/base",
            "_view_module_version": "1.2.0",
            "_view_name": "StyleView",
            "bar_color": null,
            "description_width": ""
          }
        },
        "522d39c715e0479cb08ed92a52a851b4": {
          "model_module": "@jupyter-widgets/controls",
          "model_module_version": "1.5.0",
          "model_name": "HTMLModel",
          "state": {
            "_dom_classes": [],
            "_model_module": "@jupyter-widgets/controls",
            "_model_module_version": "1.5.0",
            "_model_name": "HTMLModel",
            "_view_count": null,
            "_view_module": "@jupyter-widgets/controls",
            "_view_module_version": "1.5.0",
            "_view_name": "HTMLView",
            "description": "",
            "description_tooltip": null,
            "layout": "IPY_MODEL_131e022346fa41e9abefa39dc71a05f4",
            "placeholder": "​",
            "style": "IPY_MODEL_26f4e16dcf394f14a5885d414e3b3a6f",
            "value": "Generating train split: 100%"
          }
        },
        "54e52e2e7824487ca38d95149210f9d8": {
          "model_module": "@jupyter-widgets/controls",
          "model_module_version": "1.5.0",
          "model_name": "ProgressStyleModel",
          "state": {
            "_model_module": "@jupyter-widgets/controls",
            "_model_module_version": "1.5.0",
            "_model_name": "ProgressStyleModel",
            "_view_count": null,
            "_view_module": "@jupyter-widgets/base",
            "_view_module_version": "1.2.0",
            "_view_name": "StyleView",
            "bar_color": null,
            "description_width": ""
          }
        },
        "55876ce7e3e14d49b49a1eca387cc79a": {
          "model_module": "@jupyter-widgets/controls",
          "model_module_version": "1.5.0",
          "model_name": "DescriptionStyleModel",
          "state": {
            "_model_module": "@jupyter-widgets/controls",
            "_model_module_version": "1.5.0",
            "_model_name": "DescriptionStyleModel",
            "_view_count": null,
            "_view_module": "@jupyter-widgets/base",
            "_view_module_version": "1.2.0",
            "_view_name": "StyleView",
            "description_width": ""
          }
        },
        "55dbd4d9933a46d5a230f2ba98ab38d4": {
          "model_module": "@jupyter-widgets/controls",
          "model_module_version": "1.5.0",
          "model_name": "HBoxModel",
          "state": {
            "_dom_classes": [],
            "_model_module": "@jupyter-widgets/controls",
            "_model_module_version": "1.5.0",
            "_model_name": "HBoxModel",
            "_view_count": null,
            "_view_module": "@jupyter-widgets/controls",
            "_view_module_version": "1.5.0",
            "_view_name": "HBoxView",
            "box_style": "",
            "children": [
              "IPY_MODEL_ff25792dde18424189d6dde2f6a094bc",
              "IPY_MODEL_2603110cb02649169e9abad90d473da0",
              "IPY_MODEL_90dc904528b846ad823bfb43b7fcb113"
            ],
            "layout": "IPY_MODEL_85623f4d39f349d19344dbea0db495cc"
          }
        },
        "580253ecc45f4abdbace93950ccf3555": {
          "model_module": "@jupyter-widgets/controls",
          "model_module_version": "1.5.0",
          "model_name": "HBoxModel",
          "state": {
            "_dom_classes": [],
            "_model_module": "@jupyter-widgets/controls",
            "_model_module_version": "1.5.0",
            "_model_name": "HBoxModel",
            "_view_count": null,
            "_view_module": "@jupyter-widgets/controls",
            "_view_module_version": "1.5.0",
            "_view_name": "HBoxView",
            "box_style": "",
            "children": [
              "IPY_MODEL_47c345ae9e4248c1ada37593163e4954",
              "IPY_MODEL_f8a77ead79ba44d2822dfd542dc7ee74",
              "IPY_MODEL_81e071c1fba14b43b3e77bc720ea5ad4"
            ],
            "layout": "IPY_MODEL_8992e482e377457da2fa98f1bbca822c"
          }
        },
        "5b5da53e65744dad8ddcad236f87df63": {
          "model_module": "@jupyter-widgets/controls",
          "model_module_version": "1.5.0",
          "model_name": "FloatProgressModel",
          "state": {
            "_dom_classes": [],
            "_model_module": "@jupyter-widgets/controls",
            "_model_module_version": "1.5.0",
            "_model_name": "FloatProgressModel",
            "_view_count": null,
            "_view_module": "@jupyter-widgets/controls",
            "_view_module_version": "1.5.0",
            "_view_name": "ProgressView",
            "bar_style": "success",
            "description": "",
            "description_tooltip": null,
            "layout": "IPY_MODEL_b718396bebea458b80653bb19f239474",
            "max": 8002,
            "min": 0,
            "orientation": "horizontal",
            "style": "IPY_MODEL_66d48b1ec3074c56a9b20735e72f5900",
            "value": 8002
          }
        },
        "5e4182a626724a1cadd620c73091950d": {
          "model_module": "@jupyter-widgets/base",
          "model_module_version": "1.2.0",
          "model_name": "LayoutModel",
          "state": {
            "_model_module": "@jupyter-widgets/base",
            "_model_module_version": "1.2.0",
            "_model_name": "LayoutModel",
            "_view_count": null,
            "_view_module": "@jupyter-widgets/base",
            "_view_module_version": "1.2.0",
            "_view_name": "LayoutView",
            "align_content": null,
            "align_items": null,
            "align_self": null,
            "border": null,
            "bottom": null,
            "display": null,
            "flex": null,
            "flex_flow": null,
            "grid_area": null,
            "grid_auto_columns": null,
            "grid_auto_flow": null,
            "grid_auto_rows": null,
            "grid_column": null,
            "grid_gap": null,
            "grid_row": null,
            "grid_template_areas": null,
            "grid_template_columns": null,
            "grid_template_rows": null,
            "height": null,
            "justify_content": null,
            "justify_items": null,
            "left": null,
            "margin": null,
            "max_height": null,
            "max_width": null,
            "min_height": null,
            "min_width": null,
            "object_fit": null,
            "object_position": null,
            "order": null,
            "overflow": null,
            "overflow_x": null,
            "overflow_y": null,
            "padding": null,
            "right": null,
            "top": null,
            "visibility": null,
            "width": null
          }
        },
        "6169e12f5ab14872b3aab1dde74aafb2": {
          "model_module": "@jupyter-widgets/controls",
          "model_module_version": "1.5.0",
          "model_name": "DescriptionStyleModel",
          "state": {
            "_model_module": "@jupyter-widgets/controls",
            "_model_module_version": "1.5.0",
            "_model_name": "DescriptionStyleModel",
            "_view_count": null,
            "_view_module": "@jupyter-widgets/base",
            "_view_module_version": "1.2.0",
            "_view_name": "StyleView",
            "description_width": ""
          }
        },
        "616c26649fac416faa36fd6d862912c1": {
          "model_module": "@jupyter-widgets/controls",
          "model_module_version": "1.5.0",
          "model_name": "HTMLModel",
          "state": {
            "_dom_classes": [],
            "_model_module": "@jupyter-widgets/controls",
            "_model_module_version": "1.5.0",
            "_model_name": "HTMLModel",
            "_view_count": null,
            "_view_module": "@jupyter-widgets/controls",
            "_view_module_version": "1.5.0",
            "_view_name": "HTMLView",
            "description": "",
            "description_tooltip": null,
            "layout": "IPY_MODEL_bffa851ed08b492a8bbbc5e344330662",
            "placeholder": "​",
            "style": "IPY_MODEL_9898897ec09d4a23b5aa55718a978497",
            "value": " 994/994 [00:00&lt;00:00, 23005.06 examples/s]"
          }
        },
        "621f61898aad461c83b66201dc5e35e2": {
          "model_module": "@jupyter-widgets/controls",
          "model_module_version": "1.5.0",
          "model_name": "ProgressStyleModel",
          "state": {
            "_model_module": "@jupyter-widgets/controls",
            "_model_module_version": "1.5.0",
            "_model_name": "ProgressStyleModel",
            "_view_count": null,
            "_view_module": "@jupyter-widgets/base",
            "_view_module_version": "1.2.0",
            "_view_name": "StyleView",
            "bar_color": null,
            "description_width": ""
          }
        },
        "66d48b1ec3074c56a9b20735e72f5900": {
          "model_module": "@jupyter-widgets/controls",
          "model_module_version": "1.5.0",
          "model_name": "ProgressStyleModel",
          "state": {
            "_model_module": "@jupyter-widgets/controls",
            "_model_module_version": "1.5.0",
            "_model_name": "ProgressStyleModel",
            "_view_count": null,
            "_view_module": "@jupyter-widgets/base",
            "_view_module_version": "1.2.0",
            "_view_name": "StyleView",
            "bar_color": null,
            "description_width": ""
          }
        },
        "73ddc4cfa7734011bb1fa917b1052002": {
          "model_module": "@jupyter-widgets/controls",
          "model_module_version": "1.5.0",
          "model_name": "HTMLModel",
          "state": {
            "_dom_classes": [],
            "_model_module": "@jupyter-widgets/controls",
            "_model_module_version": "1.5.0",
            "_model_name": "HTMLModel",
            "_view_count": null,
            "_view_module": "@jupyter-widgets/controls",
            "_view_module_version": "1.5.0",
            "_view_name": "HTMLView",
            "description": "",
            "description_tooltip": null,
            "layout": "IPY_MODEL_03ce90df7012481887d8cb6f7d9a80b1",
            "placeholder": "​",
            "style": "IPY_MODEL_44501831425d4374bebf10373eb8a12d",
            "value": "test-00000-of-00001.parquet: 100%"
          }
        },
        "76158fec5e0b455c8d9bec3c6f9272f0": {
          "model_module": "@jupyter-widgets/base",
          "model_module_version": "1.2.0",
          "model_name": "LayoutModel",
          "state": {
            "_model_module": "@jupyter-widgets/base",
            "_model_module_version": "1.2.0",
            "_model_name": "LayoutModel",
            "_view_count": null,
            "_view_module": "@jupyter-widgets/base",
            "_view_module_version": "1.2.0",
            "_view_name": "LayoutView",
            "align_content": null,
            "align_items": null,
            "align_self": null,
            "border": null,
            "bottom": null,
            "display": null,
            "flex": null,
            "flex_flow": null,
            "grid_area": null,
            "grid_auto_columns": null,
            "grid_auto_flow": null,
            "grid_auto_rows": null,
            "grid_column": null,
            "grid_gap": null,
            "grid_row": null,
            "grid_template_areas": null,
            "grid_template_columns": null,
            "grid_template_rows": null,
            "height": null,
            "justify_content": null,
            "justify_items": null,
            "left": null,
            "margin": null,
            "max_height": null,
            "max_width": null,
            "min_height": null,
            "min_width": null,
            "object_fit": null,
            "object_position": null,
            "order": null,
            "overflow": null,
            "overflow_x": null,
            "overflow_y": null,
            "padding": null,
            "right": null,
            "top": null,
            "visibility": null,
            "width": null
          }
        },
        "783e4bcb81e64d148e1ca0ea4a7a2d73": {
          "model_module": "@jupyter-widgets/controls",
          "model_module_version": "1.5.0",
          "model_name": "DescriptionStyleModel",
          "state": {
            "_model_module": "@jupyter-widgets/controls",
            "_model_module_version": "1.5.0",
            "_model_name": "DescriptionStyleModel",
            "_view_count": null,
            "_view_module": "@jupyter-widgets/base",
            "_view_module_version": "1.2.0",
            "_view_name": "StyleView",
            "description_width": ""
          }
        },
        "81e071c1fba14b43b3e77bc720ea5ad4": {
          "model_module": "@jupyter-widgets/controls",
          "model_module_version": "1.5.0",
          "model_name": "HTMLModel",
          "state": {
            "_dom_classes": [],
            "_model_module": "@jupyter-widgets/controls",
            "_model_module_version": "1.5.0",
            "_model_name": "HTMLModel",
            "_view_count": null,
            "_view_module": "@jupyter-widgets/controls",
            "_view_module_version": "1.5.0",
            "_view_name": "HTMLView",
            "description": "",
            "description_tooltip": null,
            "layout": "IPY_MODEL_d2621e038a434c6db6cb7f89482de60f",
            "placeholder": "​",
            "style": "IPY_MODEL_fa476e39cd7d40df8810cdc229b1aafa",
            "value": " 96.6k/96.6k [00:00&lt;00:00, 3.86MB/s]"
          }
        },
        "84acb679f49143638a92daaeb5a17c51": {
          "model_module": "@jupyter-widgets/controls",
          "model_module_version": "1.5.0",
          "model_name": "DescriptionStyleModel",
          "state": {
            "_model_module": "@jupyter-widgets/controls",
            "_model_module_version": "1.5.0",
            "_model_name": "DescriptionStyleModel",
            "_view_count": null,
            "_view_module": "@jupyter-widgets/base",
            "_view_module_version": "1.2.0",
            "_view_name": "StyleView",
            "description_width": ""
          }
        },
        "85623f4d39f349d19344dbea0db495cc": {
          "model_module": "@jupyter-widgets/base",
          "model_module_version": "1.2.0",
          "model_name": "LayoutModel",
          "state": {
            "_model_module": "@jupyter-widgets/base",
            "_model_module_version": "1.2.0",
            "_model_name": "LayoutModel",
            "_view_count": null,
            "_view_module": "@jupyter-widgets/base",
            "_view_module_version": "1.2.0",
            "_view_name": "LayoutView",
            "align_content": null,
            "align_items": null,
            "align_self": null,
            "border": null,
            "bottom": null,
            "display": null,
            "flex": null,
            "flex_flow": null,
            "grid_area": null,
            "grid_auto_columns": null,
            "grid_auto_flow": null,
            "grid_auto_rows": null,
            "grid_column": null,
            "grid_gap": null,
            "grid_row": null,
            "grid_template_areas": null,
            "grid_template_columns": null,
            "grid_template_rows": null,
            "height": null,
            "justify_content": null,
            "justify_items": null,
            "left": null,
            "margin": null,
            "max_height": null,
            "max_width": null,
            "min_height": null,
            "min_width": null,
            "object_fit": null,
            "object_position": null,
            "order": null,
            "overflow": null,
            "overflow_x": null,
            "overflow_y": null,
            "padding": null,
            "right": null,
            "top": null,
            "visibility": null,
            "width": null
          }
        },
        "8920dc1efafb40579401906ded8a65bc": {
          "model_module": "@jupyter-widgets/base",
          "model_module_version": "1.2.0",
          "model_name": "LayoutModel",
          "state": {
            "_model_module": "@jupyter-widgets/base",
            "_model_module_version": "1.2.0",
            "_model_name": "LayoutModel",
            "_view_count": null,
            "_view_module": "@jupyter-widgets/base",
            "_view_module_version": "1.2.0",
            "_view_name": "LayoutView",
            "align_content": null,
            "align_items": null,
            "align_self": null,
            "border": null,
            "bottom": null,
            "display": null,
            "flex": null,
            "flex_flow": null,
            "grid_area": null,
            "grid_auto_columns": null,
            "grid_auto_flow": null,
            "grid_auto_rows": null,
            "grid_column": null,
            "grid_gap": null,
            "grid_row": null,
            "grid_template_areas": null,
            "grid_template_columns": null,
            "grid_template_rows": null,
            "height": null,
            "justify_content": null,
            "justify_items": null,
            "left": null,
            "margin": null,
            "max_height": null,
            "max_width": null,
            "min_height": null,
            "min_width": null,
            "object_fit": null,
            "object_position": null,
            "order": null,
            "overflow": null,
            "overflow_x": null,
            "overflow_y": null,
            "padding": null,
            "right": null,
            "top": null,
            "visibility": null,
            "width": null
          }
        },
        "8992e482e377457da2fa98f1bbca822c": {
          "model_module": "@jupyter-widgets/base",
          "model_module_version": "1.2.0",
          "model_name": "LayoutModel",
          "state": {
            "_model_module": "@jupyter-widgets/base",
            "_model_module_version": "1.2.0",
            "_model_name": "LayoutModel",
            "_view_count": null,
            "_view_module": "@jupyter-widgets/base",
            "_view_module_version": "1.2.0",
            "_view_name": "LayoutView",
            "align_content": null,
            "align_items": null,
            "align_self": null,
            "border": null,
            "bottom": null,
            "display": null,
            "flex": null,
            "flex_flow": null,
            "grid_area": null,
            "grid_auto_columns": null,
            "grid_auto_flow": null,
            "grid_auto_rows": null,
            "grid_column": null,
            "grid_gap": null,
            "grid_row": null,
            "grid_template_areas": null,
            "grid_template_columns": null,
            "grid_template_rows": null,
            "height": null,
            "justify_content": null,
            "justify_items": null,
            "left": null,
            "margin": null,
            "max_height": null,
            "max_width": null,
            "min_height": null,
            "min_width": null,
            "object_fit": null,
            "object_position": null,
            "order": null,
            "overflow": null,
            "overflow_x": null,
            "overflow_y": null,
            "padding": null,
            "right": null,
            "top": null,
            "visibility": null,
            "width": null
          }
        },
        "8f1e2989b11e4de281a4d88f16020c7c": {
          "model_module": "@jupyter-widgets/base",
          "model_module_version": "1.2.0",
          "model_name": "LayoutModel",
          "state": {
            "_model_module": "@jupyter-widgets/base",
            "_model_module_version": "1.2.0",
            "_model_name": "LayoutModel",
            "_view_count": null,
            "_view_module": "@jupyter-widgets/base",
            "_view_module_version": "1.2.0",
            "_view_name": "LayoutView",
            "align_content": null,
            "align_items": null,
            "align_self": null,
            "border": null,
            "bottom": null,
            "display": null,
            "flex": null,
            "flex_flow": null,
            "grid_area": null,
            "grid_auto_columns": null,
            "grid_auto_flow": null,
            "grid_auto_rows": null,
            "grid_column": null,
            "grid_gap": null,
            "grid_row": null,
            "grid_template_areas": null,
            "grid_template_columns": null,
            "grid_template_rows": null,
            "height": null,
            "justify_content": null,
            "justify_items": null,
            "left": null,
            "margin": null,
            "max_height": null,
            "max_width": null,
            "min_height": null,
            "min_width": null,
            "object_fit": null,
            "object_position": null,
            "order": null,
            "overflow": null,
            "overflow_x": null,
            "overflow_y": null,
            "padding": null,
            "right": null,
            "top": null,
            "visibility": null,
            "width": null
          }
        },
        "8fd68620b9c44caea4de01b21da98fb4": {
          "model_module": "@jupyter-widgets/base",
          "model_module_version": "1.2.0",
          "model_name": "LayoutModel",
          "state": {
            "_model_module": "@jupyter-widgets/base",
            "_model_module_version": "1.2.0",
            "_model_name": "LayoutModel",
            "_view_count": null,
            "_view_module": "@jupyter-widgets/base",
            "_view_module_version": "1.2.0",
            "_view_name": "LayoutView",
            "align_content": null,
            "align_items": null,
            "align_self": null,
            "border": null,
            "bottom": null,
            "display": null,
            "flex": null,
            "flex_flow": null,
            "grid_area": null,
            "grid_auto_columns": null,
            "grid_auto_flow": null,
            "grid_auto_rows": null,
            "grid_column": null,
            "grid_gap": null,
            "grid_row": null,
            "grid_template_areas": null,
            "grid_template_columns": null,
            "grid_template_rows": null,
            "height": null,
            "justify_content": null,
            "justify_items": null,
            "left": null,
            "margin": null,
            "max_height": null,
            "max_width": null,
            "min_height": null,
            "min_width": null,
            "object_fit": null,
            "object_position": null,
            "order": null,
            "overflow": null,
            "overflow_x": null,
            "overflow_y": null,
            "padding": null,
            "right": null,
            "top": null,
            "visibility": null,
            "width": null
          }
        },
        "90dc904528b846ad823bfb43b7fcb113": {
          "model_module": "@jupyter-widgets/controls",
          "model_module_version": "1.5.0",
          "model_name": "HTMLModel",
          "state": {
            "_dom_classes": [],
            "_model_module": "@jupyter-widgets/controls",
            "_model_module_version": "1.5.0",
            "_model_name": "HTMLModel",
            "_view_count": null,
            "_view_module": "@jupyter-widgets/controls",
            "_view_module_version": "1.5.0",
            "_view_name": "HTMLView",
            "description": "",
            "description_tooltip": null,
            "layout": "IPY_MODEL_01c16b1bdeb9431aa822b9fcdcfcf85a",
            "placeholder": "​",
            "style": "IPY_MODEL_55876ce7e3e14d49b49a1eca387cc79a",
            "value": " 2.54k/2.54k [00:00&lt;00:00, 123kB/s]"
          }
        },
        "9193c870b4bb4433a334e567723aac5b": {
          "model_module": "@jupyter-widgets/controls",
          "model_module_version": "1.5.0",
          "model_name": "ProgressStyleModel",
          "state": {
            "_model_module": "@jupyter-widgets/controls",
            "_model_module_version": "1.5.0",
            "_model_name": "ProgressStyleModel",
            "_view_count": null,
            "_view_module": "@jupyter-widgets/base",
            "_view_module_version": "1.2.0",
            "_view_name": "StyleView",
            "bar_color": null,
            "description_width": ""
          }
        },
        "9898897ec09d4a23b5aa55718a978497": {
          "model_module": "@jupyter-widgets/controls",
          "model_module_version": "1.5.0",
          "model_name": "DescriptionStyleModel",
          "state": {
            "_model_module": "@jupyter-widgets/controls",
            "_model_module_version": "1.5.0",
            "_model_name": "DescriptionStyleModel",
            "_view_count": null,
            "_view_module": "@jupyter-widgets/base",
            "_view_module_version": "1.2.0",
            "_view_name": "StyleView",
            "description_width": ""
          }
        },
        "9fbe2a03768e4ce1872daff2313a8d5c": {
          "model_module": "@jupyter-widgets/base",
          "model_module_version": "1.2.0",
          "model_name": "LayoutModel",
          "state": {
            "_model_module": "@jupyter-widgets/base",
            "_model_module_version": "1.2.0",
            "_model_name": "LayoutModel",
            "_view_count": null,
            "_view_module": "@jupyter-widgets/base",
            "_view_module_version": "1.2.0",
            "_view_name": "LayoutView",
            "align_content": null,
            "align_items": null,
            "align_self": null,
            "border": null,
            "bottom": null,
            "display": null,
            "flex": null,
            "flex_flow": null,
            "grid_area": null,
            "grid_auto_columns": null,
            "grid_auto_flow": null,
            "grid_auto_rows": null,
            "grid_column": null,
            "grid_gap": null,
            "grid_row": null,
            "grid_template_areas": null,
            "grid_template_columns": null,
            "grid_template_rows": null,
            "height": null,
            "justify_content": null,
            "justify_items": null,
            "left": null,
            "margin": null,
            "max_height": null,
            "max_width": null,
            "min_height": null,
            "min_width": null,
            "object_fit": null,
            "object_position": null,
            "order": null,
            "overflow": null,
            "overflow_x": null,
            "overflow_y": null,
            "padding": null,
            "right": null,
            "top": null,
            "visibility": null,
            "width": null
          }
        },
        "a76c5da2514d4f2197e78f11c6cf0e0c": {
          "model_module": "@jupyter-widgets/base",
          "model_module_version": "1.2.0",
          "model_name": "LayoutModel",
          "state": {
            "_model_module": "@jupyter-widgets/base",
            "_model_module_version": "1.2.0",
            "_model_name": "LayoutModel",
            "_view_count": null,
            "_view_module": "@jupyter-widgets/base",
            "_view_module_version": "1.2.0",
            "_view_name": "LayoutView",
            "align_content": null,
            "align_items": null,
            "align_self": null,
            "border": null,
            "bottom": null,
            "display": null,
            "flex": null,
            "flex_flow": null,
            "grid_area": null,
            "grid_auto_columns": null,
            "grid_auto_flow": null,
            "grid_auto_rows": null,
            "grid_column": null,
            "grid_gap": null,
            "grid_row": null,
            "grid_template_areas": null,
            "grid_template_columns": null,
            "grid_template_rows": null,
            "height": null,
            "justify_content": null,
            "justify_items": null,
            "left": null,
            "margin": null,
            "max_height": null,
            "max_width": null,
            "min_height": null,
            "min_width": null,
            "object_fit": null,
            "object_position": null,
            "order": null,
            "overflow": null,
            "overflow_x": null,
            "overflow_y": null,
            "padding": null,
            "right": null,
            "top": null,
            "visibility": null,
            "width": null
          }
        },
        "a7dbb0968bb746e19fef157837a92523": {
          "model_module": "@jupyter-widgets/controls",
          "model_module_version": "1.5.0",
          "model_name": "HTMLModel",
          "state": {
            "_dom_classes": [],
            "_model_module": "@jupyter-widgets/controls",
            "_model_module_version": "1.5.0",
            "_model_name": "HTMLModel",
            "_view_count": null,
            "_view_module": "@jupyter-widgets/controls",
            "_view_module_version": "1.5.0",
            "_view_name": "HTMLView",
            "description": "",
            "description_tooltip": null,
            "layout": "IPY_MODEL_5e4182a626724a1cadd620c73091950d",
            "placeholder": "​",
            "style": "IPY_MODEL_054face69c9e489da83f7b0c9a13e2f2",
            "value": "train-00000-of-00001.parquet: 100%"
          }
        },
        "a94aa845077548c58f19e95505f9c94a": {
          "model_module": "@jupyter-widgets/controls",
          "model_module_version": "1.5.0",
          "model_name": "FloatProgressModel",
          "state": {
            "_dom_classes": [],
            "_model_module": "@jupyter-widgets/controls",
            "_model_module_version": "1.5.0",
            "_model_name": "FloatProgressModel",
            "_view_count": null,
            "_view_module": "@jupyter-widgets/controls",
            "_view_module_version": "1.5.0",
            "_view_name": "ProgressView",
            "bar_style": "success",
            "description": "",
            "description_tooltip": null,
            "layout": "IPY_MODEL_13c77c0d994d4b078fddfbb65b22568b",
            "max": 787162,
            "min": 0,
            "orientation": "horizontal",
            "style": "IPY_MODEL_4f921a19a08945daadf4234b922dd8d9",
            "value": 787162
          }
        },
        "a9b0a370b948487cbaa398f93a5ac29e": {
          "model_module": "@jupyter-widgets/base",
          "model_module_version": "1.2.0",
          "model_name": "LayoutModel",
          "state": {
            "_model_module": "@jupyter-widgets/base",
            "_model_module_version": "1.2.0",
            "_model_name": "LayoutModel",
            "_view_count": null,
            "_view_module": "@jupyter-widgets/base",
            "_view_module_version": "1.2.0",
            "_view_name": "LayoutView",
            "align_content": null,
            "align_items": null,
            "align_self": null,
            "border": null,
            "bottom": null,
            "display": null,
            "flex": null,
            "flex_flow": null,
            "grid_area": null,
            "grid_auto_columns": null,
            "grid_auto_flow": null,
            "grid_auto_rows": null,
            "grid_column": null,
            "grid_gap": null,
            "grid_row": null,
            "grid_template_areas": null,
            "grid_template_columns": null,
            "grid_template_rows": null,
            "height": null,
            "justify_content": null,
            "justify_items": null,
            "left": null,
            "margin": null,
            "max_height": null,
            "max_width": null,
            "min_height": null,
            "min_width": null,
            "object_fit": null,
            "object_position": null,
            "order": null,
            "overflow": null,
            "overflow_x": null,
            "overflow_y": null,
            "padding": null,
            "right": null,
            "top": null,
            "visibility": null,
            "width": null
          }
        },
        "a9f18a93c4a24124aac07d6bc95ec464": {
          "model_module": "@jupyter-widgets/controls",
          "model_module_version": "1.5.0",
          "model_name": "HBoxModel",
          "state": {
            "_dom_classes": [],
            "_model_module": "@jupyter-widgets/controls",
            "_model_module_version": "1.5.0",
            "_model_name": "HBoxModel",
            "_view_count": null,
            "_view_module": "@jupyter-widgets/controls",
            "_view_module_version": "1.5.0",
            "_view_name": "HBoxView",
            "box_style": "",
            "children": [
              "IPY_MODEL_522d39c715e0479cb08ed92a52a851b4",
              "IPY_MODEL_5b5da53e65744dad8ddcad236f87df63",
              "IPY_MODEL_3efb3b3c8a8a48149ece9a7d8d138214"
            ],
            "layout": "IPY_MODEL_288c951d86aa4aeab0beaa03b7d84b5d"
          }
        },
        "b718396bebea458b80653bb19f239474": {
          "model_module": "@jupyter-widgets/base",
          "model_module_version": "1.2.0",
          "model_name": "LayoutModel",
          "state": {
            "_model_module": "@jupyter-widgets/base",
            "_model_module_version": "1.2.0",
            "_model_name": "LayoutModel",
            "_view_count": null,
            "_view_module": "@jupyter-widgets/base",
            "_view_module_version": "1.2.0",
            "_view_name": "LayoutView",
            "align_content": null,
            "align_items": null,
            "align_self": null,
            "border": null,
            "bottom": null,
            "display": null,
            "flex": null,
            "flex_flow": null,
            "grid_area": null,
            "grid_auto_columns": null,
            "grid_auto_flow": null,
            "grid_auto_rows": null,
            "grid_column": null,
            "grid_gap": null,
            "grid_row": null,
            "grid_template_areas": null,
            "grid_template_columns": null,
            "grid_template_rows": null,
            "height": null,
            "justify_content": null,
            "justify_items": null,
            "left": null,
            "margin": null,
            "max_height": null,
            "max_width": null,
            "min_height": null,
            "min_width": null,
            "object_fit": null,
            "object_position": null,
            "order": null,
            "overflow": null,
            "overflow_x": null,
            "overflow_y": null,
            "padding": null,
            "right": null,
            "top": null,
            "visibility": null,
            "width": null
          }
        },
        "b94a0901eced4cfbac0dc6352961e0fd": {
          "model_module": "@jupyter-widgets/controls",
          "model_module_version": "1.5.0",
          "model_name": "DescriptionStyleModel",
          "state": {
            "_model_module": "@jupyter-widgets/controls",
            "_model_module_version": "1.5.0",
            "_model_name": "DescriptionStyleModel",
            "_view_count": null,
            "_view_module": "@jupyter-widgets/base",
            "_view_module_version": "1.2.0",
            "_view_name": "StyleView",
            "description_width": ""
          }
        },
        "bc262c84e7d14d879f2273d5199e994b": {
          "model_module": "@jupyter-widgets/base",
          "model_module_version": "1.2.0",
          "model_name": "LayoutModel",
          "state": {
            "_model_module": "@jupyter-widgets/base",
            "_model_module_version": "1.2.0",
            "_model_name": "LayoutModel",
            "_view_count": null,
            "_view_module": "@jupyter-widgets/base",
            "_view_module_version": "1.2.0",
            "_view_name": "LayoutView",
            "align_content": null,
            "align_items": null,
            "align_self": null,
            "border": null,
            "bottom": null,
            "display": null,
            "flex": null,
            "flex_flow": null,
            "grid_area": null,
            "grid_auto_columns": null,
            "grid_auto_flow": null,
            "grid_auto_rows": null,
            "grid_column": null,
            "grid_gap": null,
            "grid_row": null,
            "grid_template_areas": null,
            "grid_template_columns": null,
            "grid_template_rows": null,
            "height": null,
            "justify_content": null,
            "justify_items": null,
            "left": null,
            "margin": null,
            "max_height": null,
            "max_width": null,
            "min_height": null,
            "min_width": null,
            "object_fit": null,
            "object_position": null,
            "order": null,
            "overflow": null,
            "overflow_x": null,
            "overflow_y": null,
            "padding": null,
            "right": null,
            "top": null,
            "visibility": null,
            "width": null
          }
        },
        "bffa851ed08b492a8bbbc5e344330662": {
          "model_module": "@jupyter-widgets/base",
          "model_module_version": "1.2.0",
          "model_name": "LayoutModel",
          "state": {
            "_model_module": "@jupyter-widgets/base",
            "_model_module_version": "1.2.0",
            "_model_name": "LayoutModel",
            "_view_count": null,
            "_view_module": "@jupyter-widgets/base",
            "_view_module_version": "1.2.0",
            "_view_name": "LayoutView",
            "align_content": null,
            "align_items": null,
            "align_self": null,
            "border": null,
            "bottom": null,
            "display": null,
            "flex": null,
            "flex_flow": null,
            "grid_area": null,
            "grid_auto_columns": null,
            "grid_auto_flow": null,
            "grid_auto_rows": null,
            "grid_column": null,
            "grid_gap": null,
            "grid_row": null,
            "grid_template_areas": null,
            "grid_template_columns": null,
            "grid_template_rows": null,
            "height": null,
            "justify_content": null,
            "justify_items": null,
            "left": null,
            "margin": null,
            "max_height": null,
            "max_width": null,
            "min_height": null,
            "min_width": null,
            "object_fit": null,
            "object_position": null,
            "order": null,
            "overflow": null,
            "overflow_x": null,
            "overflow_y": null,
            "padding": null,
            "right": null,
            "top": null,
            "visibility": null,
            "width": null
          }
        },
        "c47cce0dd15740868d1101da7345516f": {
          "model_module": "@jupyter-widgets/controls",
          "model_module_version": "1.5.0",
          "model_name": "HBoxModel",
          "state": {
            "_dom_classes": [],
            "_model_module": "@jupyter-widgets/controls",
            "_model_module_version": "1.5.0",
            "_model_name": "HBoxModel",
            "_view_count": null,
            "_view_module": "@jupyter-widgets/controls",
            "_view_module_version": "1.5.0",
            "_view_name": "HBoxView",
            "box_style": "",
            "children": [
              "IPY_MODEL_a7dbb0968bb746e19fef157837a92523",
              "IPY_MODEL_a94aa845077548c58f19e95505f9c94a",
              "IPY_MODEL_05b1d177fe1944879070794a7ba6524c"
            ],
            "layout": "IPY_MODEL_bc262c84e7d14d879f2273d5199e994b"
          }
        },
        "c946ffde64c24542b2020b55354abee7": {
          "model_module": "@jupyter-widgets/controls",
          "model_module_version": "1.5.0",
          "model_name": "FloatProgressModel",
          "state": {
            "_dom_classes": [],
            "_model_module": "@jupyter-widgets/controls",
            "_model_module_version": "1.5.0",
            "_model_name": "FloatProgressModel",
            "_view_count": null,
            "_view_module": "@jupyter-widgets/controls",
            "_view_module_version": "1.5.0",
            "_view_name": "ProgressView",
            "bar_style": "success",
            "description": "",
            "description_tooltip": null,
            "layout": "IPY_MODEL_8f1e2989b11e4de281a4d88f16020c7c",
            "max": 994,
            "min": 0,
            "orientation": "horizontal",
            "style": "IPY_MODEL_dda2a3005aa74050a38a146f593439d8",
            "value": 994
          }
        },
        "d115796a58f9402f8cf600e53f38c5da": {
          "model_module": "@jupyter-widgets/base",
          "model_module_version": "1.2.0",
          "model_name": "LayoutModel",
          "state": {
            "_model_module": "@jupyter-widgets/base",
            "_model_module_version": "1.2.0",
            "_model_name": "LayoutModel",
            "_view_count": null,
            "_view_module": "@jupyter-widgets/base",
            "_view_module_version": "1.2.0",
            "_view_name": "LayoutView",
            "align_content": null,
            "align_items": null,
            "align_self": null,
            "border": null,
            "bottom": null,
            "display": null,
            "flex": null,
            "flex_flow": null,
            "grid_area": null,
            "grid_auto_columns": null,
            "grid_auto_flow": null,
            "grid_auto_rows": null,
            "grid_column": null,
            "grid_gap": null,
            "grid_row": null,
            "grid_template_areas": null,
            "grid_template_columns": null,
            "grid_template_rows": null,
            "height": null,
            "justify_content": null,
            "justify_items": null,
            "left": null,
            "margin": null,
            "max_height": null,
            "max_width": null,
            "min_height": null,
            "min_width": null,
            "object_fit": null,
            "object_position": null,
            "order": null,
            "overflow": null,
            "overflow_x": null,
            "overflow_y": null,
            "padding": null,
            "right": null,
            "top": null,
            "visibility": null,
            "width": null
          }
        },
        "d2621e038a434c6db6cb7f89482de60f": {
          "model_module": "@jupyter-widgets/base",
          "model_module_version": "1.2.0",
          "model_name": "LayoutModel",
          "state": {
            "_model_module": "@jupyter-widgets/base",
            "_model_module_version": "1.2.0",
            "_model_name": "LayoutModel",
            "_view_count": null,
            "_view_module": "@jupyter-widgets/base",
            "_view_module_version": "1.2.0",
            "_view_name": "LayoutView",
            "align_content": null,
            "align_items": null,
            "align_self": null,
            "border": null,
            "bottom": null,
            "display": null,
            "flex": null,
            "flex_flow": null,
            "grid_area": null,
            "grid_auto_columns": null,
            "grid_auto_flow": null,
            "grid_auto_rows": null,
            "grid_column": null,
            "grid_gap": null,
            "grid_row": null,
            "grid_template_areas": null,
            "grid_template_columns": null,
            "grid_template_rows": null,
            "height": null,
            "justify_content": null,
            "justify_items": null,
            "left": null,
            "margin": null,
            "max_height": null,
            "max_width": null,
            "min_height": null,
            "min_width": null,
            "object_fit": null,
            "object_position": null,
            "order": null,
            "overflow": null,
            "overflow_x": null,
            "overflow_y": null,
            "padding": null,
            "right": null,
            "top": null,
            "visibility": null,
            "width": null
          }
        },
        "db03ef3faf634723937bd63b0bdf5743": {
          "model_module": "@jupyter-widgets/base",
          "model_module_version": "1.2.0",
          "model_name": "LayoutModel",
          "state": {
            "_model_module": "@jupyter-widgets/base",
            "_model_module_version": "1.2.0",
            "_model_name": "LayoutModel",
            "_view_count": null,
            "_view_module": "@jupyter-widgets/base",
            "_view_module_version": "1.2.0",
            "_view_name": "LayoutView",
            "align_content": null,
            "align_items": null,
            "align_self": null,
            "border": null,
            "bottom": null,
            "display": null,
            "flex": null,
            "flex_flow": null,
            "grid_area": null,
            "grid_auto_columns": null,
            "grid_auto_flow": null,
            "grid_auto_rows": null,
            "grid_column": null,
            "grid_gap": null,
            "grid_row": null,
            "grid_template_areas": null,
            "grid_template_columns": null,
            "grid_template_rows": null,
            "height": null,
            "justify_content": null,
            "justify_items": null,
            "left": null,
            "margin": null,
            "max_height": null,
            "max_width": null,
            "min_height": null,
            "min_width": null,
            "object_fit": null,
            "object_position": null,
            "order": null,
            "overflow": null,
            "overflow_x": null,
            "overflow_y": null,
            "padding": null,
            "right": null,
            "top": null,
            "visibility": null,
            "width": null
          }
        },
        "dda2a3005aa74050a38a146f593439d8": {
          "model_module": "@jupyter-widgets/controls",
          "model_module_version": "1.5.0",
          "model_name": "ProgressStyleModel",
          "state": {
            "_model_module": "@jupyter-widgets/controls",
            "_model_module_version": "1.5.0",
            "_model_name": "ProgressStyleModel",
            "_view_count": null,
            "_view_module": "@jupyter-widgets/base",
            "_view_module_version": "1.2.0",
            "_view_name": "StyleView",
            "bar_color": null,
            "description_width": ""
          }
        },
        "e413fc2e24c94e1aa74b17fb379af604": {
          "model_module": "@jupyter-widgets/base",
          "model_module_version": "1.2.0",
          "model_name": "LayoutModel",
          "state": {
            "_model_module": "@jupyter-widgets/base",
            "_model_module_version": "1.2.0",
            "_model_name": "LayoutModel",
            "_view_count": null,
            "_view_module": "@jupyter-widgets/base",
            "_view_module_version": "1.2.0",
            "_view_name": "LayoutView",
            "align_content": null,
            "align_items": null,
            "align_self": null,
            "border": null,
            "bottom": null,
            "display": null,
            "flex": null,
            "flex_flow": null,
            "grid_area": null,
            "grid_auto_columns": null,
            "grid_auto_flow": null,
            "grid_auto_rows": null,
            "grid_column": null,
            "grid_gap": null,
            "grid_row": null,
            "grid_template_areas": null,
            "grid_template_columns": null,
            "grid_template_rows": null,
            "height": null,
            "justify_content": null,
            "justify_items": null,
            "left": null,
            "margin": null,
            "max_height": null,
            "max_width": null,
            "min_height": null,
            "min_width": null,
            "object_fit": null,
            "object_position": null,
            "order": null,
            "overflow": null,
            "overflow_x": null,
            "overflow_y": null,
            "padding": null,
            "right": null,
            "top": null,
            "visibility": null,
            "width": null
          }
        },
        "ec7c298ca2654039ac0f5ba61a1817fd": {
          "model_module": "@jupyter-widgets/controls",
          "model_module_version": "1.5.0",
          "model_name": "HTMLModel",
          "state": {
            "_dom_classes": [],
            "_model_module": "@jupyter-widgets/controls",
            "_model_module_version": "1.5.0",
            "_model_name": "HTMLModel",
            "_view_count": null,
            "_view_module": "@jupyter-widgets/controls",
            "_view_module_version": "1.5.0",
            "_view_name": "HTMLView",
            "description": "",
            "description_tooltip": null,
            "layout": "IPY_MODEL_9fbe2a03768e4ce1872daff2313a8d5c",
            "placeholder": "​",
            "style": "IPY_MODEL_008bbb24a07a44269a22ffa7d7aa137a",
            "value": " 1007/1007 [00:00&lt;00:00, 19201.27 examples/s]"
          }
        },
        "ed0232a544e9463dbb465e5aca4844e6": {
          "model_module": "@jupyter-widgets/controls",
          "model_module_version": "1.5.0",
          "model_name": "HTMLModel",
          "state": {
            "_dom_classes": [],
            "_model_module": "@jupyter-widgets/controls",
            "_model_module_version": "1.5.0",
            "_model_name": "HTMLModel",
            "_view_count": null,
            "_view_module": "@jupyter-widgets/controls",
            "_view_module_version": "1.5.0",
            "_view_name": "HTMLView",
            "description": "",
            "description_tooltip": null,
            "layout": "IPY_MODEL_d115796a58f9402f8cf600e53f38c5da",
            "placeholder": "​",
            "style": "IPY_MODEL_6169e12f5ab14872b3aab1dde74aafb2",
            "value": " 103k/103k [00:00&lt;00:00, 3.25MB/s]"
          }
        },
        "ee28779cea59400398cc71c1221dc031": {
          "model_module": "@jupyter-widgets/base",
          "model_module_version": "1.2.0",
          "model_name": "LayoutModel",
          "state": {
            "_model_module": "@jupyter-widgets/base",
            "_model_module_version": "1.2.0",
            "_model_name": "LayoutModel",
            "_view_count": null,
            "_view_module": "@jupyter-widgets/base",
            "_view_module_version": "1.2.0",
            "_view_name": "LayoutView",
            "align_content": null,
            "align_items": null,
            "align_self": null,
            "border": null,
            "bottom": null,
            "display": null,
            "flex": null,
            "flex_flow": null,
            "grid_area": null,
            "grid_auto_columns": null,
            "grid_auto_flow": null,
            "grid_auto_rows": null,
            "grid_column": null,
            "grid_gap": null,
            "grid_row": null,
            "grid_template_areas": null,
            "grid_template_columns": null,
            "grid_template_rows": null,
            "height": null,
            "justify_content": null,
            "justify_items": null,
            "left": null,
            "margin": null,
            "max_height": null,
            "max_width": null,
            "min_height": null,
            "min_width": null,
            "object_fit": null,
            "object_position": null,
            "order": null,
            "overflow": null,
            "overflow_x": null,
            "overflow_y": null,
            "padding": null,
            "right": null,
            "top": null,
            "visibility": null,
            "width": null
          }
        },
        "f00644a1498c49bcad5dd8e5489711cc": {
          "model_module": "@jupyter-widgets/controls",
          "model_module_version": "1.5.0",
          "model_name": "DescriptionStyleModel",
          "state": {
            "_model_module": "@jupyter-widgets/controls",
            "_model_module_version": "1.5.0",
            "_model_name": "DescriptionStyleModel",
            "_view_count": null,
            "_view_module": "@jupyter-widgets/base",
            "_view_module_version": "1.2.0",
            "_view_name": "StyleView",
            "description_width": ""
          }
        },
        "f249bc03ed774224a105fddeb848fe85": {
          "model_module": "@jupyter-widgets/controls",
          "model_module_version": "1.5.0",
          "model_name": "HBoxModel",
          "state": {
            "_dom_classes": [],
            "_model_module": "@jupyter-widgets/controls",
            "_model_module_version": "1.5.0",
            "_model_name": "HBoxModel",
            "_view_count": null,
            "_view_module": "@jupyter-widgets/controls",
            "_view_module_version": "1.5.0",
            "_view_name": "HBoxView",
            "box_style": "",
            "children": [
              "IPY_MODEL_73ddc4cfa7734011bb1fa917b1052002",
              "IPY_MODEL_01eb65ca545847e6b37e527f75e8483b",
              "IPY_MODEL_ed0232a544e9463dbb465e5aca4844e6"
            ],
            "layout": "IPY_MODEL_a9b0a370b948487cbaa398f93a5ac29e"
          }
        },
        "f7d71b43b2ee4ddea005d55d894e5055": {
          "model_module": "@jupyter-widgets/base",
          "model_module_version": "1.2.0",
          "model_name": "LayoutModel",
          "state": {
            "_model_module": "@jupyter-widgets/base",
            "_model_module_version": "1.2.0",
            "_model_name": "LayoutModel",
            "_view_count": null,
            "_view_module": "@jupyter-widgets/base",
            "_view_module_version": "1.2.0",
            "_view_name": "LayoutView",
            "align_content": null,
            "align_items": null,
            "align_self": null,
            "border": null,
            "bottom": null,
            "display": null,
            "flex": null,
            "flex_flow": null,
            "grid_area": null,
            "grid_auto_columns": null,
            "grid_auto_flow": null,
            "grid_auto_rows": null,
            "grid_column": null,
            "grid_gap": null,
            "grid_row": null,
            "grid_template_areas": null,
            "grid_template_columns": null,
            "grid_template_rows": null,
            "height": null,
            "justify_content": null,
            "justify_items": null,
            "left": null,
            "margin": null,
            "max_height": null,
            "max_width": null,
            "min_height": null,
            "min_width": null,
            "object_fit": null,
            "object_position": null,
            "order": null,
            "overflow": null,
            "overflow_x": null,
            "overflow_y": null,
            "padding": null,
            "right": null,
            "top": null,
            "visibility": null,
            "width": null
          }
        },
        "f8a77ead79ba44d2822dfd542dc7ee74": {
          "model_module": "@jupyter-widgets/controls",
          "model_module_version": "1.5.0",
          "model_name": "FloatProgressModel",
          "state": {
            "_dom_classes": [],
            "_model_module": "@jupyter-widgets/controls",
            "_model_module_version": "1.5.0",
            "_model_name": "FloatProgressModel",
            "_view_count": null,
            "_view_module": "@jupyter-widgets/controls",
            "_view_module_version": "1.5.0",
            "_view_name": "ProgressView",
            "bar_style": "success",
            "description": "",
            "description_tooltip": null,
            "layout": "IPY_MODEL_a76c5da2514d4f2197e78f11c6cf0e0c",
            "max": 96610,
            "min": 0,
            "orientation": "horizontal",
            "style": "IPY_MODEL_fdebe9ec20484e379e4ae5b8f1e90b49",
            "value": 96610
          }
        },
        "f8ed7d9c007a4465a75744444e9bf82d": {
          "model_module": "@jupyter-widgets/controls",
          "model_module_version": "1.5.0",
          "model_name": "HTMLModel",
          "state": {
            "_dom_classes": [],
            "_model_module": "@jupyter-widgets/controls",
            "_model_module_version": "1.5.0",
            "_model_name": "HTMLModel",
            "_view_count": null,
            "_view_module": "@jupyter-widgets/controls",
            "_view_module_version": "1.5.0",
            "_view_name": "HTMLView",
            "description": "",
            "description_tooltip": null,
            "layout": "IPY_MODEL_f7d71b43b2ee4ddea005d55d894e5055",
            "placeholder": "​",
            "style": "IPY_MODEL_783e4bcb81e64d148e1ca0ea4a7a2d73",
            "value": "Generating validation split: 100%"
          }
        },
        "fa476e39cd7d40df8810cdc229b1aafa": {
          "model_module": "@jupyter-widgets/controls",
          "model_module_version": "1.5.0",
          "model_name": "DescriptionStyleModel",
          "state": {
            "_model_module": "@jupyter-widgets/controls",
            "_model_module_version": "1.5.0",
            "_model_name": "DescriptionStyleModel",
            "_view_count": null,
            "_view_module": "@jupyter-widgets/base",
            "_view_module_version": "1.2.0",
            "_view_name": "StyleView",
            "description_width": ""
          }
        },
        "fdebe9ec20484e379e4ae5b8f1e90b49": {
          "model_module": "@jupyter-widgets/controls",
          "model_module_version": "1.5.0",
          "model_name": "ProgressStyleModel",
          "state": {
            "_model_module": "@jupyter-widgets/controls",
            "_model_module_version": "1.5.0",
            "_model_name": "ProgressStyleModel",
            "_view_count": null,
            "_view_module": "@jupyter-widgets/base",
            "_view_module_version": "1.2.0",
            "_view_name": "StyleView",
            "bar_color": null,
            "description_width": ""
          }
        },
        "ff25792dde18424189d6dde2f6a094bc": {
          "model_module": "@jupyter-widgets/controls",
          "model_module_version": "1.5.0",
          "model_name": "HTMLModel",
          "state": {
            "_dom_classes": [],
            "_model_module": "@jupyter-widgets/controls",
            "_model_module_version": "1.5.0",
            "_model_name": "HTMLModel",
            "_view_count": null,
            "_view_module": "@jupyter-widgets/controls",
            "_view_module_version": "1.5.0",
            "_view_name": "HTMLView",
            "description": "",
            "description_tooltip": null,
            "layout": "IPY_MODEL_1247ac16448847e3a7450df0761e5fe5",
            "placeholder": "​",
            "style": "IPY_MODEL_b94a0901eced4cfbac0dc6352961e0fd",
            "value": "README.md: 100%"
          }
        },
        "ff83d248844442a6b0a9515edc2408cf": {
          "model_module": "@jupyter-widgets/controls",
          "model_module_version": "1.5.0",
          "model_name": "DescriptionStyleModel",
          "state": {
            "_model_module": "@jupyter-widgets/controls",
            "_model_module_version": "1.5.0",
            "_model_name": "DescriptionStyleModel",
            "_view_count": null,
            "_view_module": "@jupyter-widgets/base",
            "_view_module_version": "1.2.0",
            "_view_name": "StyleView",
            "description_width": ""
          }
        }
      }
    }
  },
  "nbformat": 4,
  "nbformat_minor": 0
}
