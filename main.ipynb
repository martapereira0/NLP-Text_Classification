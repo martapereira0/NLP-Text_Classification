{
 "cells": [
  {
   "cell_type": "code",
   "execution_count": null,
   "metadata": {},
   "outputs": [],
   "source": [
    "! pip install datasets\n",
    "! pip install matplotlib\n",
    "! pip install scikit-learn\n",
    "! pip install spacy\n",
    "# python -m spacy download pt_core_news_sm"
   ]
  },
  {
   "cell_type": "code",
   "execution_count": 2,
   "metadata": {},
   "outputs": [
    {
     "name": "stderr",
     "output_type": "stream",
     "text": [
      "/opt/anaconda3/envs/NLP_Ass1/lib/python3.10/site-packages/tqdm/auto.py:21: TqdmWarning: IProgress not found. Please update jupyter and ipywidgets. See https://ipywidgets.readthedocs.io/en/stable/user_install.html\n",
      "  from .autonotebook import tqdm as notebook_tqdm\n"
     ]
    }
   ],
   "source": [
    "from datasets import load_dataset\n",
    "\n",
    "dataset = load_dataset(\"higopires/RePro-categories-multilabel\")"
   ]
  },
  {
   "cell_type": "code",
   "execution_count": 3,
   "metadata": {},
   "outputs": [
    {
     "name": "stdout",
     "output_type": "stream",
     "text": [
      "dict_keys(['train', 'validation', 'test'])\n",
      "{'review_text': 'Entrega rápida, produto muito bom Amei. Praticidade', 'ENTREGA': 1, 'OUTROS': 0, 'PRODUTO': 1, 'CONDICOESDERECEBIMENTO': 0, 'INADEQUADA': 0, 'ANUNCIO': 0}\n"
     ]
    }
   ],
   "source": [
    "# Verificar as chaves disponíveis\n",
    "print(dataset.keys())\n",
    "\n",
    "# Visualizar alguns exemplos\n",
    "print(dataset[\"train\"][2]) "
   ]
  },
  {
   "cell_type": "code",
   "execution_count": 4,
   "metadata": {},
   "outputs": [
    {
     "name": "stdout",
     "output_type": "stream",
     "text": [
      "train: 8002 examples\n",
      "validation: 994 examples\n",
      "test: 1007 examples\n"
     ]
    }
   ],
   "source": [
    "# Ver número de exemplos em cada divisão do dataset\n",
    "for split in dataset.keys():\n",
    "    print(f\"{split}: {len(dataset[split])} examples\")"
   ]
  },
  {
   "cell_type": "code",
   "execution_count": 5,
   "metadata": {},
   "outputs": [],
   "source": [
    "import pandas as pd\n",
    "train_dataset = dataset[\"train\"]\n",
    "val_dataset = dataset[\"validation\"]\n",
    "test_dataset = dataset[\"test\"]\n",
    "\n",
    "train_data = pd.DataFrame(train_dataset)\n",
    "val_data = pd.DataFrame(val_dataset)\n",
    "test_data = pd.DataFrame(test_dataset)"
   ]
  },
  {
   "cell_type": "code",
   "execution_count": 6,
   "metadata": {},
   "outputs": [
    {
     "data": {
      "text/html": [
       "<div>\n",
       "<style scoped>\n",
       "    .dataframe tbody tr th:only-of-type {\n",
       "        vertical-align: middle;\n",
       "    }\n",
       "\n",
       "    .dataframe tbody tr th {\n",
       "        vertical-align: top;\n",
       "    }\n",
       "\n",
       "    .dataframe thead th {\n",
       "        text-align: right;\n",
       "    }\n",
       "</style>\n",
       "<table border=\"1\" class=\"dataframe\">\n",
       "  <thead>\n",
       "    <tr style=\"text-align: right;\">\n",
       "      <th></th>\n",
       "      <th>review_text</th>\n",
       "      <th>ENTREGA</th>\n",
       "      <th>OUTROS</th>\n",
       "      <th>PRODUTO</th>\n",
       "      <th>CONDICOESDERECEBIMENTO</th>\n",
       "      <th>INADEQUADA</th>\n",
       "      <th>ANUNCIO</th>\n",
       "    </tr>\n",
       "  </thead>\n",
       "  <tbody>\n",
       "    <tr>\n",
       "      <th>0</th>\n",
       "      <td>Aparelho muito bom, confiável e com valor aqui...</td>\n",
       "      <td>0</td>\n",
       "      <td>0</td>\n",
       "      <td>1</td>\n",
       "      <td>0</td>\n",
       "      <td>0</td>\n",
       "      <td>0</td>\n",
       "    </tr>\n",
       "    <tr>\n",
       "      <th>1</th>\n",
       "      <td>A história é muito boa, porém o autor \"enrolou...</td>\n",
       "      <td>0</td>\n",
       "      <td>0</td>\n",
       "      <td>1</td>\n",
       "      <td>0</td>\n",
       "      <td>0</td>\n",
       "      <td>0</td>\n",
       "    </tr>\n",
       "    <tr>\n",
       "      <th>2</th>\n",
       "      <td>Entrega rápida, produto muito bom Amei. Pratic...</td>\n",
       "      <td>1</td>\n",
       "      <td>0</td>\n",
       "      <td>1</td>\n",
       "      <td>0</td>\n",
       "      <td>0</td>\n",
       "      <td>0</td>\n",
       "    </tr>\n",
       "    <tr>\n",
       "      <th>3</th>\n",
       "      <td>Produto otimo so falta o carregador da maquina...</td>\n",
       "      <td>0</td>\n",
       "      <td>0</td>\n",
       "      <td>1</td>\n",
       "      <td>1</td>\n",
       "      <td>0</td>\n",
       "      <td>0</td>\n",
       "    </tr>\n",
       "    <tr>\n",
       "      <th>4</th>\n",
       "      <td>a proteção anti queda não é boa  se cair de fr...</td>\n",
       "      <td>0</td>\n",
       "      <td>0</td>\n",
       "      <td>1</td>\n",
       "      <td>0</td>\n",
       "      <td>0</td>\n",
       "      <td>0</td>\n",
       "    </tr>\n",
       "  </tbody>\n",
       "</table>\n",
       "</div>"
      ],
      "text/plain": [
       "                                         review_text  ENTREGA  OUTROS  \\\n",
       "0  Aparelho muito bom, confiável e com valor aqui...        0       0   \n",
       "1  A história é muito boa, porém o autor \"enrolou...        0       0   \n",
       "2  Entrega rápida, produto muito bom Amei. Pratic...        1       0   \n",
       "3  Produto otimo so falta o carregador da maquina...        0       0   \n",
       "4  a proteção anti queda não é boa  se cair de fr...        0       0   \n",
       "\n",
       "   PRODUTO  CONDICOESDERECEBIMENTO  INADEQUADA  ANUNCIO  \n",
       "0        1                       0           0        0  \n",
       "1        1                       0           0        0  \n",
       "2        1                       0           0        0  \n",
       "3        1                       1           0        0  \n",
       "4        1                       0           0        0  "
      ]
     },
     "execution_count": 6,
     "metadata": {},
     "output_type": "execute_result"
    }
   ],
   "source": [
    "train_data.head()"
   ]
  },
  {
   "cell_type": "markdown",
   "metadata": {},
   "source": [
    "### Pre-processing steps"
   ]
  },
  {
   "cell_type": "code",
   "execution_count": 7,
   "metadata": {},
   "outputs": [
    {
     "name": "stdout",
     "output_type": "stream",
     "text": [
      "Labels: ['ENTREGA', 'OUTROS', 'PRODUTO', 'CONDICOESDERECEBIMENTO', 'INADEQUADA', 'ANUNCIO']\n",
      "Number of labels: 6\n"
     ]
    }
   ],
   "source": [
    "# Obter as colunas (nomes dos labels)\n",
    "columns = list(dataset[\"train\"].features.keys())\n",
    "labels = columns[1:]  # Excluindo 'review_text'\n",
    "\n",
    "print(\"Labels:\", labels)\n",
    "print(\"Number of labels:\", len(labels))"
   ]
  },
  {
   "cell_type": "code",
   "execution_count": 8,
   "metadata": {},
   "outputs": [
    {
     "data": {
      "image/png": "[encoded data removed]",
      "text/plain": [
       "<Figure size 1200x500 with 1 Axes>"
      ]
     },
     "metadata": {},
     "output_type": "display_data"
    }
   ],
   "source": [
    "from collections import Counter\n",
    "import matplotlib.pyplot as plt\n",
    "\n",
    "# Contar a ocorrência de cada label\n",
    "label_counts = {label: 0 for label in labels}\n",
    "\n",
    "for example in dataset[\"train\"]:\n",
    "    for label in labels:\n",
    "        label_counts[label] += example[label]  # Somamos os 1s para cada label\n",
    "\n",
    "# Ordenar por frequência\n",
    "label_counts = dict(sorted(label_counts.items(), key=lambda item: item[1], reverse=True))\n",
    "\n",
    "# Plotar gráfico\n",
    "plt.figure(figsize=(12, 5))\n",
    "plt.bar(label_counts.keys(), label_counts.values(), color=\"skyblue\")\n",
    "plt.xticks(rotation=45, ha=\"right\")\n",
    "plt.xlabel(\"Categories\")\n",
    "plt.ylabel(\"Number of examples\")\n",
    "plt.title(\"Categories Distribution\")\n",
    "plt.show()"
   ]
  },
  {
   "cell_type": "code",
   "execution_count": 9,
   "metadata": {},
   "outputs": [
    {
     "name": "stdout",
     "output_type": "stream",
     "text": [
      "Average text length: 24.58 words\n",
      "Maximum text length: 428 words\n",
      "Minimum text length: 1 words\n"
     ]
    }
   ],
   "source": [
    "import numpy as np\n",
    "\n",
    "text_lengths = [len(example[\"review_text\"].split()) for example in dataset[\"train\"]]\n",
    "\n",
    "print(f\"Average text length: {np.mean(text_lengths):.2f} words\")  \n",
    "print(f\"Maximum text length: {np.max(text_lengths)} words\")  \n",
    "print(f\"Minimum text length: {np.min(text_lengths)} words\")"
   ]
  },
  {
   "cell_type": "code",
   "execution_count": 10,
   "metadata": {},
   "outputs": [],
   "source": [
    "import spacy\n",
    "import re\n",
    "\n",
    "# Load the Portuguese language model\n",
    "nlp = spacy.load('pt_core_news_sm')\n",
    "\n",
    "def preprocess_text(text):\n",
    "    # Lowercase\n",
    "    text = text.lower()\n",
    "    # Remove punctuation and numbers\n",
    "    text = re.sub(r'[^\\w\\s]', '', text)\n",
    "    text = re.sub(r'\\d+', '', text)\n",
    "    # Tokenize and lemmatize using spaCy\n",
    "    doc = nlp(text)\n",
    "    tokens = [token.lemma_ for token in doc if not token.is_stop]\n",
    "    return ' '.join(tokens)\n",
    "\n",
    "# Apply preprocessing to the reviews\n",
    "train_data['cleaned_reviews'] = train_data['review_text'].apply(preprocess_text)\n",
    "val_data['cleaned_reviews'] = val_data['review_text'].apply(preprocess_text)\n",
    "test_data['cleaned_reviews'] = test_data['review_text'].apply(preprocess_text)"
   ]
  },
  {
   "cell_type": "code",
   "execution_count": 11,
   "metadata": {},
   "outputs": [
    {
     "name": "stdout",
     "output_type": "stream",
     "text": [
      "Original text:\n",
      "Aparelho muito bom, confiável e com valor aquisitivo em conta, ou seja: tudo que a massa precisa!\n",
      "\n",
      "Preprocessed text:\n",
      "aparelho confiável aquisitivo conta ser massa precisar\n"
     ]
    }
   ],
   "source": [
    "print(\"Original text:\")\n",
    "print(train_data['review_text'][0])\n",
    "print(\"\\nPreprocessed text:\")\n",
    "print(train_data['cleaned_reviews'][0])"
   ]
  },
  {
   "cell_type": "code",
   "execution_count": 12,
   "metadata": {},
   "outputs": [
    {
     "name": "stdout",
     "output_type": "stream",
     "text": [
      "Training data shape: (8002, 5000)\n",
      "Validation data shape: (994, 5000)\n",
      "Test data shape: (1007, 5000)\n",
      "\n",
      "Top 20 words by TF-IDF score:\n",
      "produto: 508.4886\n",
      "chegar: 211.3920\n",
      "prazo: 200.0730\n",
      "qualidade: 192.8037\n",
      "gostar: 190.1644\n",
      "entrega: 186.2115\n",
      "entregar: 181.2259\n",
      "bom: 164.3852\n",
      "excelente: 155.8344\n",
      "rápido: 155.3172\n",
      "recomendar: 151.3572\n",
      "dia: 150.4774\n",
      "vir: 140.2272\n",
      "recebi: 133.1618\n",
      "recomendo: 132.8761\n",
      "super: 122.7989\n",
      "comprei: 121.2868\n",
      "atender: 113.6366\n",
      "compra: 113.1990\n",
      "comprar: 106.9568\n"
     ]
    }
   ],
   "source": [
    "from sklearn.feature_extraction.text import TfidfVectorizer\n",
    "\n",
    "# Initialize the TF-IDF vectorizer\n",
    "tfidf_vectorizer = TfidfVectorizer(max_features=5000)  # You can adjust max_features based on your dataset size\n",
    "\n",
    "# Fit on the training data and transform it into TF-IDF features\n",
    "X_train_tfidf = tfidf_vectorizer.fit_transform(train_data['cleaned_reviews'])\n",
    "\n",
    "# Transform the validation and test data using the same vectorizer\n",
    "X_val_tfidf = tfidf_vectorizer.transform(val_data['cleaned_reviews'])\n",
    "X_test_tfidf = tfidf_vectorizer.transform(test_data['cleaned_reviews'])\n",
    "\n",
    "# Check the shape of the TF-IDF features, these are sparse matrices containing the TF-IDF features for the training, validation, and test sets, respectively.\n",
    "# each row is a document and each column is a word \n",
    "print(\"Training data shape:\", X_train_tfidf.shape)\n",
    "print(\"Validation data shape:\", X_val_tfidf.shape)\n",
    "print(\"Test data shape:\", X_test_tfidf.shape, end=\"\\n\\n\")\n",
    "\n",
    "# Sum the TF-IDF scores for each word across all documents\n",
    "tfidf_scores = np.asarray(X_train_tfidf.sum(axis=0)).flatten()\n",
    "\n",
    "# Get the feature names (words in the vocabulary)\n",
    "feature_names = tfidf_vectorizer.get_feature_names_out()\n",
    "\n",
    "# Create a dictionary of words and their corresponding TF-IDF scores\n",
    "word_tfidf_scores = dict(zip(feature_names, tfidf_scores))\n",
    "\n",
    "# Sort the words by their TF-IDF scores in descending order\n",
    "sorted_words = sorted(word_tfidf_scores.items(), key=lambda x: x[1], reverse=True)\n",
    "\n",
    "# Print the top 20 words\n",
    "print(\"Top 20 words by TF-IDF score:\")\n",
    "for word, score in sorted_words[:20]:\n",
    "    print(f\"{word}: {score:.4f}\")"
   ]
  }
 ],
 "metadata": {
  "kernelspec": {
   "display_name": "NLP_Ass1",
   "language": "python",
   "name": "python3"
  },
  "language_info": {
   "codemirror_mode": {
    "name": "ipython",
    "version": 3
   },
   "file_extension": ".py",
   "mimetype": "text/x-python",
   "name": "python",
   "nbconvert_exporter": "python",
   "pygments_lexer": "ipython3",
   "version": "3.10.16"
  }
 },
 "nbformat": 4,
 "nbformat_minor": 2
}
