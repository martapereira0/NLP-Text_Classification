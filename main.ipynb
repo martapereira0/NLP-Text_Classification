{
  "cells": [
    {
      "cell_type": "code",
      "execution_count": 1,
      "metadata": {
        "colab": {
          "base_uri": "https://localhost:8080/",
          "height": 35
        },
        "id": "jff9afchpGf3",
        "outputId": "d374f90d-e78a-4f7e-ce55-68f42b248827"
      },
      "outputs": [
        {
          "output_type": "execute_result",
          "data": {
            "text/plain": [
              "'! pip install datasets\\n! pip install matplotlib\\n! pip install scikit-learn\\n! pip install spacy\\n! pip install nltk\\n! pip install pattern\\n! pip install wordcloud\\n! pip install gensim\\n'"
            ],
            "application/vnd.google.colaboratory.intrinsic+json": {
              "type": "string"
            }
          },
          "metadata": {},
          "execution_count": 1
        }
      ],
      "source": [
        "\"\"\"! pip install datasets\n",
        "! pip install matplotlib\n",
        "! pip install scikit-learn\n",
        "! pip install spacy\n",
        "! pip install nltk\n",
        "! pip install pattern\n",
        "! pip install wordcloud\n",
        "! pip install gensim\n",
        "\"\"\"\n",
        "# ! python -m spacy download pt_core_news_sm\n",
        "# ! python -m spacy download pt_core_news_lg"
      ]
    },
    {
      "cell_type": "code",
      "execution_count": 2,
      "metadata": {
        "id": "ZvZEpzSwpGf5"
      },
      "outputs": [],
      "source": [
        "from sklearn.feature_extraction.text import TfidfVectorizer\n",
        "from datasets import load_dataset\n",
        "from wordcloud import WordCloud\n",
        "import matplotlib.pyplot as plt\n",
        "import pandas as pd\n",
        "import numpy as np\n",
        "import spacy\n",
        "import re"
      ]
    },
    {
      "cell_type": "markdown",
      "metadata": {
        "id": "dHv1V0r_pGf5"
      },
      "source": [
        "## **Data Loading and Understanding**"
      ]
    },
    {
      "cell_type": "code",
      "execution_count": 3,
      "metadata": {
        "id": "6ISNk-4GpGf6",
        "colab": {
          "base_uri": "https://localhost:8080/"
        },
        "outputId": "74d367d8-bc7f-450c-d03a-73f3fbc702f1"
      },
      "outputs": [
        {
          "output_type": "stream",
          "name": "stderr",
          "text": [
            "/usr/local/lib/python3.11/dist-packages/huggingface_hub/utils/_auth.py:94: UserWarning: \n",
            "The secret `HF_TOKEN` does not exist in your Colab secrets.\n",
            "To authenticate with the Hugging Face Hub, create a token in your settings tab (https://huggingface.co/settings/tokens), set it as secret in your Google Colab and restart your session.\n",
            "You will be able to reuse this secret in all of your notebooks.\n",
            "Please note that authentication is recommended but still optional to access public models or datasets.\n",
            "  warnings.warn(\n"
          ]
        }
      ],
      "source": [
        "dataset = load_dataset(\"higopires/RePro-categories-multilabel\")"
      ]
    },
    {
      "cell_type": "code",
      "execution_count": 4,
      "metadata": {
        "colab": {
          "base_uri": "https://localhost:8080/"
        },
        "id": "fcaV-dlWpGf6",
        "outputId": "84be68fa-38ee-4dbb-9f7e-3275e7503ccc"
      },
      "outputs": [
        {
          "output_type": "stream",
          "name": "stdout",
          "text": [
            "train: 8002 examples\n",
            "validation: 994 examples\n",
            "test: 1007 examples\n"
          ]
        }
      ],
      "source": [
        "# Ver número de exemplos em cada divisão do dataset\n",
        "for split in dataset.keys():\n",
        "    print(f\"{split}: {len(dataset[split])} examples\")"
      ]
    },
    {
      "cell_type": "code",
      "execution_count": 5,
      "metadata": {
        "id": "zh10cZ4ApGf6"
      },
      "outputs": [],
      "source": [
        "train_dataset = dataset[\"train\"]\n",
        "val_dataset = dataset[\"validation\"]\n",
        "test_dataset = dataset[\"test\"]\n",
        "\n",
        "train_data = pd.DataFrame(train_dataset)\n",
        "val_data = pd.DataFrame(val_dataset)\n",
        "test_data = pd.DataFrame(test_dataset)"
      ]
    },
    {
      "cell_type": "code",
      "execution_count": 6,
      "metadata": {
        "colab": {
          "base_uri": "https://localhost:8080/",
          "height": 0
        },
        "id": "c6ysp_4spGf6",
        "outputId": "e1cc3f3c-3852-4130-a415-e9f144f07ae3"
      },
      "outputs": [
        {
          "output_type": "execute_result",
          "data": {
            "text/plain": [
              "                                         review_text  ENTREGA  OUTROS  \\\n",
              "0  Aparelho muito bom, confiável e com valor aqui...        0       0   \n",
              "1  A história é muito boa, porém o autor \"enrolou...        0       0   \n",
              "2  Entrega rápida, produto muito bom Amei. Pratic...        1       0   \n",
              "3  Produto otimo so falta o carregador da maquina...        0       0   \n",
              "4  a proteção anti queda não é boa  se cair de fr...        0       0   \n",
              "\n",
              "   PRODUTO  CONDICOESDERECEBIMENTO  INADEQUADA  ANUNCIO  \n",
              "0        1                       0           0        0  \n",
              "1        1                       0           0        0  \n",
              "2        1                       0           0        0  \n",
              "3        1                       1           0        0  \n",
              "4        1                       0           0        0  "
            ],
            "text/html": [
              "\n",
              "  <div id=\"df-da819706-62d3-4339-894d-eec47fe6f2cb\" class=\"colab-df-container\">\n",
              "    <div>\n",
              "<style scoped>\n",
              "    .dataframe tbody tr th:only-of-type {\n",
              "        vertical-align: middle;\n",
              "    }\n",
              "\n",
              "    .dataframe tbody tr th {\n",
              "        vertical-align: top;\n",
              "    }\n",
              "\n",
              "    .dataframe thead th {\n",
              "        text-align: right;\n",
              "    }\n",
              "</style>\n",
              "<table border=\"1\" class=\"dataframe\">\n",
              "  <thead>\n",
              "    <tr style=\"text-align: right;\">\n",
              "      <th></th>\n",
              "      <th>review_text</th>\n",
              "      <th>ENTREGA</th>\n",
              "      <th>OUTROS</th>\n",
              "      <th>PRODUTO</th>\n",
              "      <th>CONDICOESDERECEBIMENTO</th>\n",
              "      <th>INADEQUADA</th>\n",
              "      <th>ANUNCIO</th>\n",
              "    </tr>\n",
              "  </thead>\n",
              "  <tbody>\n",
              "    <tr>\n",
              "      <th>0</th>\n",
              "      <td>Aparelho muito bom, confiável e com valor aqui...</td>\n",
              "      <td>0</td>\n",
              "      <td>0</td>\n",
              "      <td>1</td>\n",
              "      <td>0</td>\n",
              "      <td>0</td>\n",
              "      <td>0</td>\n",
              "    </tr>\n",
              "    <tr>\n",
              "      <th>1</th>\n",
              "      <td>A história é muito boa, porém o autor \"enrolou...</td>\n",
              "      <td>0</td>\n",
              "      <td>0</td>\n",
              "      <td>1</td>\n",
              "      <td>0</td>\n",
              "      <td>0</td>\n",
              "      <td>0</td>\n",
              "    </tr>\n",
              "    <tr>\n",
              "      <th>2</th>\n",
              "      <td>Entrega rápida, produto muito bom Amei. Pratic...</td>\n",
              "      <td>1</td>\n",
              "      <td>0</td>\n",
              "      <td>1</td>\n",
              "      <td>0</td>\n",
              "      <td>0</td>\n",
              "      <td>0</td>\n",
              "    </tr>\n",
              "    <tr>\n",
              "      <th>3</th>\n",
              "      <td>Produto otimo so falta o carregador da maquina...</td>\n",
              "      <td>0</td>\n",
              "      <td>0</td>\n",
              "      <td>1</td>\n",
              "      <td>1</td>\n",
              "      <td>0</td>\n",
              "      <td>0</td>\n",
              "    </tr>\n",
              "    <tr>\n",
              "      <th>4</th>\n",
              "      <td>a proteção anti queda não é boa  se cair de fr...</td>\n",
              "      <td>0</td>\n",
              "      <td>0</td>\n",
              "      <td>1</td>\n",
              "      <td>0</td>\n",
              "      <td>0</td>\n",
              "      <td>0</td>\n",
              "    </tr>\n",
              "  </tbody>\n",
              "</table>\n",
              "</div>\n",
              "    <div class=\"colab-df-buttons\">\n",
              "\n",
              "  <div class=\"colab-df-container\">\n",
              "    <button class=\"colab-df-convert\" onclick=\"convertToInteractive('df-da819706-62d3-4339-894d-eec47fe6f2cb')\"\n",
              "            title=\"Convert this dataframe to an interactive table.\"\n",
              "            style=\"display:none;\">\n",
              "\n",
              "  <svg xmlns=\"http://www.w3.org/2000/svg\" height=\"24px\" viewBox=\"0 -960 960 960\">\n",
              "    <path d=\"M120-120v-720h720v720H120Zm60-500h600v-160H180v160Zm220 220h160v-160H400v160Zm0 220h160v-160H400v160ZM180-400h160v-160H180v160Zm440 0h160v-160H620v160ZM180-180h160v-160H180v160Zm440 0h160v-160H620v160Z\"/>\n",
              "  </svg>\n",
              "    </button>\n",
              "\n",
              "  <style>\n",
              "    .colab-df-container {\n",
              "      display:flex;\n",
              "      gap: 12px;\n",
              "    }\n",
              "\n",
              "    .colab-df-convert {\n",
              "      background-color: #E8F0FE;\n",
              "      border: none;\n",
              "      border-radius: 50%;\n",
              "      cursor: pointer;\n",
              "      display: none;\n",
              "      fill: #1967D2;\n",
              "      height: 32px;\n",
              "      padding: 0 0 0 0;\n",
              "      width: 32px;\n",
              "    }\n",
              "\n",
              "    .colab-df-convert:hover {\n",
              "      background-color: #E2EBFA;\n",
              "      box-shadow: 0px 1px 2px rgba(60, 64, 67, 0.3), 0px 1px 3px 1px rgba(60, 64, 67, 0.15);\n",
              "      fill: #174EA6;\n",
              "    }\n",
              "\n",
              "    .colab-df-buttons div {\n",
              "      margin-bottom: 4px;\n",
              "    }\n",
              "\n",
              "    [theme=dark] .colab-df-convert {\n",
              "      background-color: #3B4455;\n",
              "      fill: #D2E3FC;\n",
              "    }\n",
              "\n",
              "    [theme=dark] .colab-df-convert:hover {\n",
              "      background-color: #434B5C;\n",
              "      box-shadow: 0px 1px 3px 1px rgba(0, 0, 0, 0.15);\n",
              "      filter: drop-shadow(0px 1px 2px rgba(0, 0, 0, 0.3));\n",
              "      fill: #FFFFFF;\n",
              "    }\n",
              "  </style>\n",
              "\n",
              "    <script>\n",
              "      const buttonEl =\n",
              "        document.querySelector('#df-da819706-62d3-4339-894d-eec47fe6f2cb button.colab-df-convert');\n",
              "      buttonEl.style.display =\n",
              "        google.colab.kernel.accessAllowed ? 'block' : 'none';\n",
              "\n",
              "      async function convertToInteractive(key) {\n",
              "        const element = document.querySelector('#df-da819706-62d3-4339-894d-eec47fe6f2cb');\n",
              "        const dataTable =\n",
              "          await google.colab.kernel.invokeFunction('convertToInteractive',\n",
              "                                                    [key], {});\n",
              "        if (!dataTable) return;\n",
              "\n",
              "        const docLinkHtml = 'Like what you see? Visit the ' +\n",
              "          '<a target=\"_blank\" href=https://colab.research.google.com/notebooks/data_table.ipynb>data table notebook</a>'\n",
              "          + ' to learn more about interactive tables.';\n",
              "        element.innerHTML = '';\n",
              "        dataTable['output_type'] = 'display_data';\n",
              "        await google.colab.output.renderOutput(dataTable, element);\n",
              "        const docLink = document.createElement('div');\n",
              "        docLink.innerHTML = docLinkHtml;\n",
              "        element.appendChild(docLink);\n",
              "      }\n",
              "    </script>\n",
              "  </div>\n",
              "\n",
              "\n",
              "<div id=\"df-898c37fb-bcda-4817-ab03-ba691042ab0a\">\n",
              "  <button class=\"colab-df-quickchart\" onclick=\"quickchart('df-898c37fb-bcda-4817-ab03-ba691042ab0a')\"\n",
              "            title=\"Suggest charts\"\n",
              "            style=\"display:none;\">\n",
              "\n",
              "<svg xmlns=\"http://www.w3.org/2000/svg\" height=\"24px\"viewBox=\"0 0 24 24\"\n",
              "     width=\"24px\">\n",
              "    <g>\n",
              "        <path d=\"M19 3H5c-1.1 0-2 .9-2 2v14c0 1.1.9 2 2 2h14c1.1 0 2-.9 2-2V5c0-1.1-.9-2-2-2zM9 17H7v-7h2v7zm4 0h-2V7h2v10zm4 0h-2v-4h2v4z\"/>\n",
              "    </g>\n",
              "</svg>\n",
              "  </button>\n",
              "\n",
              "<style>\n",
              "  .colab-df-quickchart {\n",
              "      --bg-color: #E8F0FE;\n",
              "      --fill-color: #1967D2;\n",
              "      --hover-bg-color: #E2EBFA;\n",
              "      --hover-fill-color: #174EA6;\n",
              "      --disabled-fill-color: #AAA;\n",
              "      --disabled-bg-color: #DDD;\n",
              "  }\n",
              "\n",
              "  [theme=dark] .colab-df-quickchart {\n",
              "      --bg-color: #3B4455;\n",
              "      --fill-color: #D2E3FC;\n",
              "      --hover-bg-color: #434B5C;\n",
              "      --hover-fill-color: #FFFFFF;\n",
              "      --disabled-bg-color: #3B4455;\n",
              "      --disabled-fill-color: #666;\n",
              "  }\n",
              "\n",
              "  .colab-df-quickchart {\n",
              "    background-color: var(--bg-color);\n",
              "    border: none;\n",
              "    border-radius: 50%;\n",
              "    cursor: pointer;\n",
              "    display: none;\n",
              "    fill: var(--fill-color);\n",
              "    height: 32px;\n",
              "    padding: 0;\n",
              "    width: 32px;\n",
              "  }\n",
              "\n",
              "  .colab-df-quickchart:hover {\n",
              "    background-color: var(--hover-bg-color);\n",
              "    box-shadow: 0 1px 2px rgba(60, 64, 67, 0.3), 0 1px 3px 1px rgba(60, 64, 67, 0.15);\n",
              "    fill: var(--button-hover-fill-color);\n",
              "  }\n",
              "\n",
              "  .colab-df-quickchart-complete:disabled,\n",
              "  .colab-df-quickchart-complete:disabled:hover {\n",
              "    background-color: var(--disabled-bg-color);\n",
              "    fill: var(--disabled-fill-color);\n",
              "    box-shadow: none;\n",
              "  }\n",
              "\n",
              "  .colab-df-spinner {\n",
              "    border: 2px solid var(--fill-color);\n",
              "    border-color: transparent;\n",
              "    border-bottom-color: var(--fill-color);\n",
              "    animation:\n",
              "      spin 1s steps(1) infinite;\n",
              "  }\n",
              "\n",
              "  @keyframes spin {\n",
              "    0% {\n",
              "      border-color: transparent;\n",
              "      border-bottom-color: var(--fill-color);\n",
              "      border-left-color: var(--fill-color);\n",
              "    }\n",
              "    20% {\n",
              "      border-color: transparent;\n",
              "      border-left-color: var(--fill-color);\n",
              "      border-top-color: var(--fill-color);\n",
              "    }\n",
              "    30% {\n",
              "      border-color: transparent;\n",
              "      border-left-color: var(--fill-color);\n",
              "      border-top-color: var(--fill-color);\n",
              "      border-right-color: var(--fill-color);\n",
              "    }\n",
              "    40% {\n",
              "      border-color: transparent;\n",
              "      border-right-color: var(--fill-color);\n",
              "      border-top-color: var(--fill-color);\n",
              "    }\n",
              "    60% {\n",
              "      border-color: transparent;\n",
              "      border-right-color: var(--fill-color);\n",
              "    }\n",
              "    80% {\n",
              "      border-color: transparent;\n",
              "      border-right-color: var(--fill-color);\n",
              "      border-bottom-color: var(--fill-color);\n",
              "    }\n",
              "    90% {\n",
              "      border-color: transparent;\n",
              "      border-bottom-color: var(--fill-color);\n",
              "    }\n",
              "  }\n",
              "</style>\n",
              "\n",
              "  <script>\n",
              "    async function quickchart(key) {\n",
              "      const quickchartButtonEl =\n",
              "        document.querySelector('#' + key + ' button');\n",
              "      quickchartButtonEl.disabled = true;  // To prevent multiple clicks.\n",
              "      quickchartButtonEl.classList.add('colab-df-spinner');\n",
              "      try {\n",
              "        const charts = await google.colab.kernel.invokeFunction(\n",
              "            'suggestCharts', [key], {});\n",
              "      } catch (error) {\n",
              "        console.error('Error during call to suggestCharts:', error);\n",
              "      }\n",
              "      quickchartButtonEl.classList.remove('colab-df-spinner');\n",
              "      quickchartButtonEl.classList.add('colab-df-quickchart-complete');\n",
              "    }\n",
              "    (() => {\n",
              "      let quickchartButtonEl =\n",
              "        document.querySelector('#df-898c37fb-bcda-4817-ab03-ba691042ab0a button');\n",
              "      quickchartButtonEl.style.display =\n",
              "        google.colab.kernel.accessAllowed ? 'block' : 'none';\n",
              "    })();\n",
              "  </script>\n",
              "</div>\n",
              "\n",
              "    </div>\n",
              "  </div>\n"
            ],
            "application/vnd.google.colaboratory.intrinsic+json": {
              "type": "dataframe",
              "variable_name": "train_data",
              "summary": "{\n  \"name\": \"train_data\",\n  \"rows\": 8002,\n  \"fields\": [\n    {\n      \"column\": \"review_text\",\n      \"properties\": {\n        \"dtype\": \"string\",\n        \"num_unique_values\": 7999,\n        \"samples\": [\n          \"Perfume sem fixa\\u00e7\\u00e3o nenhuma    Pre\\u00e7o alto para pouca dura\\u00e7\\u00e3o\",\n          \"Vale a pena comprar, a impressora \\u00e9 de excelente qualidade e de muito bom rendimento nas impress\\u00f5es.\",\n          \"Excelente produto, entrega antes do prazo previsto.  100%\"\n        ],\n        \"semantic_type\": \"\",\n        \"description\": \"\"\n      }\n    },\n    {\n      \"column\": \"ENTREGA\",\n      \"properties\": {\n        \"dtype\": \"number\",\n        \"std\": 0,\n        \"min\": 0,\n        \"max\": 1,\n        \"num_unique_values\": 2,\n        \"samples\": [\n          1,\n          0\n        ],\n        \"semantic_type\": \"\",\n        \"description\": \"\"\n      }\n    },\n    {\n      \"column\": \"OUTROS\",\n      \"properties\": {\n        \"dtype\": \"number\",\n        \"std\": 0,\n        \"min\": 0,\n        \"max\": 1,\n        \"num_unique_values\": 2,\n        \"samples\": [\n          1,\n          0\n        ],\n        \"semantic_type\": \"\",\n        \"description\": \"\"\n      }\n    },\n    {\n      \"column\": \"PRODUTO\",\n      \"properties\": {\n        \"dtype\": \"number\",\n        \"std\": 0,\n        \"min\": 0,\n        \"max\": 1,\n        \"num_unique_values\": 2,\n        \"samples\": [\n          0,\n          1\n        ],\n        \"semantic_type\": \"\",\n        \"description\": \"\"\n      }\n    },\n    {\n      \"column\": \"CONDICOESDERECEBIMENTO\",\n      \"properties\": {\n        \"dtype\": \"number\",\n        \"std\": 0,\n        \"min\": 0,\n        \"max\": 1,\n        \"num_unique_values\": 2,\n        \"samples\": [\n          1,\n          0\n        ],\n        \"semantic_type\": \"\",\n        \"description\": \"\"\n      }\n    },\n    {\n      \"column\": \"INADEQUADA\",\n      \"properties\": {\n        \"dtype\": \"number\",\n        \"std\": 0,\n        \"min\": 0,\n        \"max\": 1,\n        \"num_unique_values\": 2,\n        \"samples\": [\n          1,\n          0\n        ],\n        \"semantic_type\": \"\",\n        \"description\": \"\"\n      }\n    },\n    {\n      \"column\": \"ANUNCIO\",\n      \"properties\": {\n        \"dtype\": \"number\",\n        \"std\": 0,\n        \"min\": 0,\n        \"max\": 1,\n        \"num_unique_values\": 2,\n        \"samples\": [\n          1,\n          0\n        ],\n        \"semantic_type\": \"\",\n        \"description\": \"\"\n      }\n    }\n  ]\n}"
            }
          },
          "metadata": {},
          "execution_count": 6
        }
      ],
      "source": [
        "train_data.head()"
      ]
    },
    {
      "cell_type": "markdown",
      "metadata": {
        "id": "F1IscX0MpGf6"
      },
      "source": [
        "Checking the missing values"
      ]
    },
    {
      "cell_type": "code",
      "execution_count": 7,
      "metadata": {
        "colab": {
          "base_uri": "https://localhost:8080/",
          "height": 0
        },
        "id": "tsMJLdC7pGf6",
        "outputId": "956635ff-bf12-458f-e9fb-c4a23c1fb982"
      },
      "outputs": [
        {
          "output_type": "execute_result",
          "data": {
            "text/plain": [
              "review_text               0\n",
              "ENTREGA                   0\n",
              "OUTROS                    0\n",
              "PRODUTO                   0\n",
              "CONDICOESDERECEBIMENTO    0\n",
              "INADEQUADA                0\n",
              "ANUNCIO                   0\n",
              "dtype: int64"
            ],
            "text/html": [
              "<div>\n",
              "<style scoped>\n",
              "    .dataframe tbody tr th:only-of-type {\n",
              "        vertical-align: middle;\n",
              "    }\n",
              "\n",
              "    .dataframe tbody tr th {\n",
              "        vertical-align: top;\n",
              "    }\n",
              "\n",
              "    .dataframe thead th {\n",
              "        text-align: right;\n",
              "    }\n",
              "</style>\n",
              "<table border=\"1\" class=\"dataframe\">\n",
              "  <thead>\n",
              "    <tr style=\"text-align: right;\">\n",
              "      <th></th>\n",
              "      <th>0</th>\n",
              "    </tr>\n",
              "  </thead>\n",
              "  <tbody>\n",
              "    <tr>\n",
              "      <th>review_text</th>\n",
              "      <td>0</td>\n",
              "    </tr>\n",
              "    <tr>\n",
              "      <th>ENTREGA</th>\n",
              "      <td>0</td>\n",
              "    </tr>\n",
              "    <tr>\n",
              "      <th>OUTROS</th>\n",
              "      <td>0</td>\n",
              "    </tr>\n",
              "    <tr>\n",
              "      <th>PRODUTO</th>\n",
              "      <td>0</td>\n",
              "    </tr>\n",
              "    <tr>\n",
              "      <th>CONDICOESDERECEBIMENTO</th>\n",
              "      <td>0</td>\n",
              "    </tr>\n",
              "    <tr>\n",
              "      <th>INADEQUADA</th>\n",
              "      <td>0</td>\n",
              "    </tr>\n",
              "    <tr>\n",
              "      <th>ANUNCIO</th>\n",
              "      <td>0</td>\n",
              "    </tr>\n",
              "  </tbody>\n",
              "</table>\n",
              "</div><br><label><b>dtype:</b> int64</label>"
            ]
          },
          "metadata": {},
          "execution_count": 7
        }
      ],
      "source": [
        "train_data.isnull().sum()"
      ]
    },
    {
      "cell_type": "markdown",
      "metadata": {
        "id": "5MGyMvDIpGf6"
      },
      "source": [
        "Example of some reviews"
      ]
    },
    {
      "cell_type": "code",
      "execution_count": 8,
      "metadata": {
        "colab": {
          "base_uri": "https://localhost:8080/"
        },
        "id": "uIbkL7RHpGf7",
        "outputId": "47e7a43f-4b50-4b66-9b8f-2ab74b6b5605"
      },
      "outputs": [
        {
          "output_type": "stream",
          "name": "stdout",
          "text": [
            "Entrega rápida, produto muito bom Amei. Praticidade\n"
          ]
        }
      ],
      "source": [
        "print(train_data[\"review_text\"][2])"
      ]
    },
    {
      "cell_type": "code",
      "execution_count": 9,
      "metadata": {
        "colab": {
          "base_uri": "https://localhost:8080/"
        },
        "id": "N8WisrZ-pGf7",
        "outputId": "ff0fc444-831a-4352-f45f-ac7cd4625533"
      },
      "outputs": [
        {
          "output_type": "stream",
          "name": "stdout",
          "text": [
            "...................     ..........gdssdfhhbcxxxxvbjjnvvvvbbbbbvxfvhbbbnncftg\n"
          ]
        }
      ],
      "source": [
        "print(train_data[\"review_text\"][7])"
      ]
    },
    {
      "cell_type": "code",
      "execution_count": 10,
      "metadata": {
        "colab": {
          "base_uri": "https://localhost:8080/"
        },
        "id": "9DDcTix8pGf7",
        "outputId": "47d85700-f4fa-4946-ce3c-215b04fa5709"
      },
      "outputs": [
        {
          "output_type": "stream",
          "name": "stdout",
          "text": [
            "<class 'str'>\n",
            "<class 'numpy.int64'>\n"
          ]
        }
      ],
      "source": [
        "# check data type of review_text\n",
        "print(type(train_data[\"review_text\"][0]))\n",
        "# check data type of label PRODUTO\n",
        "print(type(train_data[\"PRODUTO\"][0]))"
      ]
    },
    {
      "cell_type": "code",
      "execution_count": 11,
      "metadata": {
        "colab": {
          "base_uri": "https://localhost:8080/",
          "height": 0
        },
        "id": "TWJhfEM6pGf7",
        "outputId": "0e1fdc3c-19e5-42fd-c434-57dd41976a6b"
      },
      "outputs": [
        {
          "output_type": "execute_result",
          "data": {
            "text/plain": [
              "\"train_data['length'] = train_data['review_text'].apply(len)\\ntrain_data.head()\""
            ],
            "application/vnd.google.colaboratory.intrinsic+json": {
              "type": "string"
            }
          },
          "metadata": {},
          "execution_count": 11
        }
      ],
      "source": [
        "\"\"\"train_data['length'] = train_data['review_text'].apply(len)\n",
        "train_data.head()\"\"\""
      ]
    },
    {
      "cell_type": "code",
      "execution_count": 12,
      "metadata": {
        "colab": {
          "base_uri": "https://localhost:8080/"
        },
        "id": "fextcby8pGf7",
        "outputId": "bf2347aa-6cf7-4d8b-d9bf-6f345afd2c22"
      },
      "outputs": [
        {
          "output_type": "stream",
          "name": "stdout",
          "text": [
            "Labels: ['ENTREGA', 'OUTROS', 'PRODUTO', 'CONDICOESDERECEBIMENTO', 'INADEQUADA', 'ANUNCIO']\n",
            "Number of labels: 6\n"
          ]
        }
      ],
      "source": [
        "# Obter as colunas (nomes dos labels)\n",
        "columns = list(dataset[\"train\"].features.keys())\n",
        "labels = columns[1:]  # Excluindo 'review_text'\n",
        "\n",
        "print(\"Labels:\", labels)\n",
        "print(\"Number of labels:\", len(labels))"
      ]
    },
    {
      "cell_type": "code",
      "execution_count": 13,
      "metadata": {
        "id": "QG94N4FdpGf7"
      },
      "outputs": [],
      "source": [
        "# Label columns\n",
        "label_cols = ['ENTREGA', 'OUTROS', 'PRODUTO', 'CONDICOESDERECEBIMENTO', 'INADEQUADA', 'ANUNCIO']"
      ]
    },
    {
      "cell_type": "markdown",
      "source": [
        "## **EDA**"
      ],
      "metadata": {
        "id": "RnuvxLoMsdUr"
      }
    },
    {
      "cell_type": "code",
      "execution_count": 14,
      "metadata": {
        "colab": {
          "base_uri": "https://localhost:8080/",
          "height": 645
        },
        "id": "jHFrJLlNpGf7",
        "outputId": "e8a61965-44fc-4e45-d035-c32856b0c95a"
      },
      "outputs": [
        {
          "output_type": "stream",
          "name": "stdout",
          "text": [
            "{'PRODUTO': 6258, 'ENTREGA': 2488, 'OUTROS': 1885, 'CONDICOESDERECEBIMENTO': 1369, 'ANUNCIO': 699, 'INADEQUADA': 328}\n"
          ]
        },
        {
          "output_type": "display_data",
          "data": {
            "text/plain": [
              "<Figure size 1200x500 with 1 Axes>"
            ],
            "image/png": "[encoded data removed]"
          },
          "metadata": {}
        }
      ],
      "source": [
        "label_counts = train_data.iloc[:, 1:].sum()\n",
        "\n",
        "# Ordenar por frequência\n",
        "label_counts = dict(sorted(label_counts.items(), key=lambda item: item[1], reverse=True))\n",
        "\n",
        "print(label_counts)\n",
        "\n",
        "# Plotar gráfico\n",
        "plt.figure(figsize=(12, 5))\n",
        "plt.bar(label_counts.keys(), label_counts.values(), color=\"skyblue\")\n",
        "plt.xticks(rotation=45, ha=\"right\")\n",
        "plt.xlabel(\"Categories\")\n",
        "plt.ylabel(\"Number of examples\")\n",
        "plt.title(\"Categories Distribution\")\n",
        "plt.show()"
      ]
    },
    {
      "cell_type": "code",
      "execution_count": 15,
      "metadata": {
        "colab": {
          "base_uri": "https://localhost:8080/",
          "height": 594
        },
        "id": "YirYGqhIpGf7",
        "outputId": "c59840c1-ffa4-415e-f472-5d237ffe101b"
      },
      "outputs": [
        {
          "output_type": "stream",
          "name": "stdout",
          "text": [
            "Number of labels per review distribution:\n",
            "1    4188\n",
            "2    2741\n",
            "3     943\n",
            "4     122\n",
            "5       8\n",
            "Name: count, dtype: int64\n"
          ]
        },
        {
          "output_type": "display_data",
          "data": {
            "text/plain": [
              "<Figure size 640x480 with 1 Axes>"
            ],
            "image/png": "[encoded data removed]"
          },
          "metadata": {}
        }
      ],
      "source": [
        "label_counts_per_review = train_data[label_cols].sum(axis=1)\n",
        "print(\"Number of labels per review distribution:\")\n",
        "print(pd.Series(label_counts_per_review).value_counts())\n",
        "\n",
        "plt.hist(label_counts_per_review, bins=range(1, 7), align='left', rwidth=0.8)\n",
        "plt.title(\"Distribution of Labels per Review\")\n",
        "plt.xlabel(\"Number of Labels\")\n",
        "plt.ylabel(\"Number of Reviews\")\n",
        "plt.show()"
      ]
    },
    {
      "cell_type": "markdown",
      "metadata": {
        "id": "uhOJhNjKpGf8"
      },
      "source": [
        "* 4188 reviews have exactly 1 label\n",
        "* 2741 reviews have exactly 2 labels\n",
        "* 943 reviews have exactly 3 labels\n",
        "* 122 reviews have exactly 4 labels\n",
        "* 8 reviews have exactly 5 labels"
      ]
    },
    {
      "cell_type": "code",
      "execution_count": 16,
      "metadata": {
        "colab": {
          "base_uri": "https://localhost:8080/",
          "height": 694
        },
        "id": "elcXQ4u0pGf8",
        "outputId": "b7e83f25-5269-4db7-8b15-88c1f561af03"
      },
      "outputs": [
        {
          "output_type": "display_data",
          "data": {
            "text/plain": [
              "<Figure size 800x800 with 1 Axes>"
            ],
            "image/png": "[encoded data removed]"
          },
          "metadata": {}
        }
      ],
      "source": [
        "label_counts = label_counts_per_review.value_counts().values\n",
        "total_reviews = 8002 # number of training examples\n",
        "percentages = [count / total_reviews * 100 for count in label_counts]\n",
        "labels = ['1 Label (52%)', '2 Labels (34%)', '3 Labels (12%)', '4 Labels (2%)', '5 Labels (<1%)']\n",
        "\n",
        "# Create pie chart\n",
        "plt.figure(figsize=(8, 8))\n",
        "# Add explode to pull out small slices, and adjust label distance\n",
        "explode = [0, 0, 0, 0.2, 0.4]  # Pull out 4 and 5 labels a bit\n",
        "wedges, texts, autotexts = plt.pie(percentages, labels=labels, autopct='%1.0f%%', startangle=90,\n",
        "                                   colors=['#FF9999', '#66B2FF', '#99FF99', '#FFCC99', '#FF99CC'],\n",
        "                                   explode=explode, labeldistance=1.1, pctdistance=0.7)\n",
        "\n",
        "# Customize text for readability\n",
        "for text in texts:\n",
        "    text.set_fontsize(12)  # Bigger label text\n",
        "for autotext in autotexts:\n",
        "    autotext.set_fontsize(10)  # Bigger percentage text\n",
        "    autotext.set_color('black')  # Black for contrast\n",
        "\n",
        "plt.title(\"Distribution of Labels per Review (8002 Reviews)\", pad=20)\n",
        "plt.axis('equal')  # Keep it circular\n",
        "plt.show()"
      ]
    },
    {
      "cell_type": "code",
      "execution_count": 17,
      "metadata": {
        "colab": {
          "base_uri": "https://localhost:8080/"
        },
        "id": "FTpNBR87pGf8",
        "outputId": "a9427fe2-4fa9-4860-f68b-4e9a87b67647"
      },
      "outputs": [
        {
          "output_type": "stream",
          "name": "stdout",
          "text": [
            "Average text length: 24.58 words\n",
            "Maximum text length: 428 words\n",
            "Minimum text length: 1 words\n"
          ]
        }
      ],
      "source": [
        "text_lengths = [len(example[\"review_text\"].split()) for example in dataset[\"train\"]]\n",
        "\n",
        "print(f\"Average text length: {np.mean(text_lengths):.2f} words\")\n",
        "print(f\"Maximum text length: {np.max(text_lengths)} words\")\n",
        "print(f\"Minimum text length: {np.min(text_lengths)} words\")"
      ]
    },
    {
      "cell_type": "markdown",
      "source": [
        "## **Preprocessing**"
      ],
      "metadata": {
        "id": "Ur2eEW7Msotn"
      }
    },
    {
      "cell_type": "markdown",
      "source": [
        "EXPERIMENTAR FAZER STEMMING!!"
      ],
      "metadata": {
        "id": "EB91_Neet7-w"
      }
    },
    {
      "cell_type": "code",
      "source": [
        "import spacy\n",
        "import re\n",
        "from nltk.stem import SnowballStemmer\n",
        "\n",
        "# Load the Portuguese language model\n",
        "nlp = spacy.load('pt_core_news_lg')\n",
        "\n",
        "# Initialize the Snowball Stemmer for Portuguese\n",
        "stemmer = SnowballStemmer(\"portuguese\")\n",
        "\n",
        "def preprocess_text(text, method=\"lemma\"):\n",
        "    \"\"\"\n",
        "    Preprocess text by applying lemmatization or stemming.\n",
        "\n",
        "    Parameters:\n",
        "    - text (str): Input text\n",
        "    - method (str): \"lemma\" for lemmatization, \"stem\" for stemming\n",
        "\n",
        "    Returns:\n",
        "    - str: Preprocessed text\n",
        "    \"\"\"\n",
        "    # Lowercase\n",
        "    text = text.lower()\n",
        "    # Remove punctuation and numbers\n",
        "    text = re.sub(r'[^\\w\\s]', '', text)\n",
        "    text = re.sub(r'\\d+', '', text)\n",
        "\n",
        "    # Tokenization and processing\n",
        "    doc = nlp(text)\n",
        "\n",
        "    if method == \"lemma\":\n",
        "        tokens = [token.lemma_ for token in doc if not token.is_stop]\n",
        "    elif method == \"stem\":\n",
        "        tokens = [stemmer.stem(token.text) for token in doc if not token.is_stop]\n",
        "    else:\n",
        "        raise ValueError(\"Method must be 'lemma' or 'stem'\")\n",
        "\n",
        "    return ' '.join(tokens)\n",
        "\n",
        "# Apply preprocessing with both methods to compare\n",
        "train_data['lemmatized_reviews'] = train_data['review_text'].apply(lambda x: preprocess_text(x, method=\"lemma\"))\n",
        "train_data['stemmed_reviews'] = train_data['review_text'].apply(lambda x: preprocess_text(x, method=\"stem\"))\n",
        "\n",
        "val_data['lemmatized_reviews'] = val_data['review_text'].apply(lambda x: preprocess_text(x, method=\"lemma\"))\n",
        "val_data['stemmed_reviews'] = val_data['review_text'].apply(lambda x: preprocess_text(x, method=\"stem\"))\n",
        "\n",
        "test_data['lemmatized_reviews'] = test_data['review_text'].apply(lambda x: preprocess_text(x, method=\"lemma\"))\n",
        "test_data['stemmed_reviews'] = test_data['review_text'].apply(lambda x: preprocess_text(x, method=\"stem\"))\n"
      ],
      "metadata": {
        "id": "yUrS88PJullN"
      },
      "execution_count": 18,
      "outputs": []
    },
    {
      "cell_type": "code",
      "source": [
        "print(\"Original:\", train_data['review_text'].iloc[0])\n",
        "print(\"Lemmatized:\", train_data['lemmatized_reviews'].iloc[0])\n",
        "print(\"Stemmed:\", train_data['stemmed_reviews'].iloc[0])"
      ],
      "metadata": {
        "colab": {
          "base_uri": "https://localhost:8080/"
        },
        "id": "zWhSRJlquzlA",
        "outputId": "068a5d16-1253-416b-d152-60692ccdcba6"
      },
      "execution_count": 19,
      "outputs": [
        {
          "output_type": "stream",
          "name": "stdout",
          "text": [
            "Original: Aparelho muito bom, confiável e com valor aquisitivo em conta, ou seja: tudo que a massa precisa!\n",
            "Lemmatized: aparelho confiável aquisitivo conta ser massa precisar\n",
            "Stemmed: aparelh confiável aquisit cont sej mass precis\n"
          ]
        }
      ]
    },
    {
      "cell_type": "code",
      "source": [
        "train_data.head()"
      ],
      "metadata": {
        "colab": {
          "base_uri": "https://localhost:8080/",
          "height": 206
        },
        "id": "Fw8qtfHLw4xG",
        "outputId": "6debf03b-5354-4896-b341-e57462052cea"
      },
      "execution_count": 20,
      "outputs": [
        {
          "output_type": "execute_result",
          "data": {
            "text/plain": [
              "                                         review_text  ENTREGA  OUTROS  \\\n",
              "0  Aparelho muito bom, confiável e com valor aqui...        0       0   \n",
              "1  A história é muito boa, porém o autor \"enrolou...        0       0   \n",
              "2  Entrega rápida, produto muito bom Amei. Pratic...        1       0   \n",
              "3  Produto otimo so falta o carregador da maquina...        0       0   \n",
              "4  a proteção anti queda não é boa  se cair de fr...        0       0   \n",
              "\n",
              "   PRODUTO  CONDICOESDERECEBIMENTO  INADEQUADA  ANUNCIO  \\\n",
              "0        1                       0           0        0   \n",
              "1        1                       0           0        0   \n",
              "2        1                       0           0        0   \n",
              "3        1                       1           0        0   \n",
              "4        1                       0           0        0   \n",
              "\n",
              "                                  lemmatized_reviews  \\\n",
              "0  aparelho confiável aquisitivo conta ser massa ...   \n",
              "1                       história autor enrolar livro   \n",
              "2           entregar rápido produto amar praticidade   \n",
              "3        produto otimo so carregador maquina pequeno   \n",
              "4             proteção anti queda   cair frente tela   \n",
              "\n",
              "                                  stemmed_reviews  \n",
              "0  aparelh confiável aquisit cont sej mass precis  \n",
              "1                         histór autor enrol livr  \n",
              "2                    entreg ráp produt ame pratic  \n",
              "3             produt otim so carreg maquin pequen  \n",
              "4              proteçã anti qued   cair frent tel  "
            ],
            "text/html": [
              "\n",
              "  <div id=\"df-a5ba337f-d4ac-4b3c-8e4e-e37018c16fb6\" class=\"colab-df-container\">\n",
              "    <div>\n",
              "<style scoped>\n",
              "    .dataframe tbody tr th:only-of-type {\n",
              "        vertical-align: middle;\n",
              "    }\n",
              "\n",
              "    .dataframe tbody tr th {\n",
              "        vertical-align: top;\n",
              "    }\n",
              "\n",
              "    .dataframe thead th {\n",
              "        text-align: right;\n",
              "    }\n",
              "</style>\n",
              "<table border=\"1\" class=\"dataframe\">\n",
              "  <thead>\n",
              "    <tr style=\"text-align: right;\">\n",
              "      <th></th>\n",
              "      <th>review_text</th>\n",
              "      <th>ENTREGA</th>\n",
              "      <th>OUTROS</th>\n",
              "      <th>PRODUTO</th>\n",
              "      <th>CONDICOESDERECEBIMENTO</th>\n",
              "      <th>INADEQUADA</th>\n",
              "      <th>ANUNCIO</th>\n",
              "      <th>lemmatized_reviews</th>\n",
              "      <th>stemmed_reviews</th>\n",
              "    </tr>\n",
              "  </thead>\n",
              "  <tbody>\n",
              "    <tr>\n",
              "      <th>0</th>\n",
              "      <td>Aparelho muito bom, confiável e com valor aqui...</td>\n",
              "      <td>0</td>\n",
              "      <td>0</td>\n",
              "      <td>1</td>\n",
              "      <td>0</td>\n",
              "      <td>0</td>\n",
              "      <td>0</td>\n",
              "      <td>aparelho confiável aquisitivo conta ser massa ...</td>\n",
              "      <td>aparelh confiável aquisit cont sej mass precis</td>\n",
              "    </tr>\n",
              "    <tr>\n",
              "      <th>1</th>\n",
              "      <td>A história é muito boa, porém o autor \"enrolou...</td>\n",
              "      <td>0</td>\n",
              "      <td>0</td>\n",
              "      <td>1</td>\n",
              "      <td>0</td>\n",
              "      <td>0</td>\n",
              "      <td>0</td>\n",
              "      <td>história autor enrolar livro</td>\n",
              "      <td>histór autor enrol livr</td>\n",
              "    </tr>\n",
              "    <tr>\n",
              "      <th>2</th>\n",
              "      <td>Entrega rápida, produto muito bom Amei. Pratic...</td>\n",
              "      <td>1</td>\n",
              "      <td>0</td>\n",
              "      <td>1</td>\n",
              "      <td>0</td>\n",
              "      <td>0</td>\n",
              "      <td>0</td>\n",
              "      <td>entregar rápido produto amar praticidade</td>\n",
              "      <td>entreg ráp produt ame pratic</td>\n",
              "    </tr>\n",
              "    <tr>\n",
              "      <th>3</th>\n",
              "      <td>Produto otimo so falta o carregador da maquina...</td>\n",
              "      <td>0</td>\n",
              "      <td>0</td>\n",
              "      <td>1</td>\n",
              "      <td>1</td>\n",
              "      <td>0</td>\n",
              "      <td>0</td>\n",
              "      <td>produto otimo so carregador maquina pequeno</td>\n",
              "      <td>produt otim so carreg maquin pequen</td>\n",
              "    </tr>\n",
              "    <tr>\n",
              "      <th>4</th>\n",
              "      <td>a proteção anti queda não é boa  se cair de fr...</td>\n",
              "      <td>0</td>\n",
              "      <td>0</td>\n",
              "      <td>1</td>\n",
              "      <td>0</td>\n",
              "      <td>0</td>\n",
              "      <td>0</td>\n",
              "      <td>proteção anti queda   cair frente tela</td>\n",
              "      <td>proteçã anti qued   cair frent tel</td>\n",
              "    </tr>\n",
              "  </tbody>\n",
              "</table>\n",
              "</div>\n",
              "    <div class=\"colab-df-buttons\">\n",
              "\n",
              "  <div class=\"colab-df-container\">\n",
              "    <button class=\"colab-df-convert\" onclick=\"convertToInteractive('df-a5ba337f-d4ac-4b3c-8e4e-e37018c16fb6')\"\n",
              "            title=\"Convert this dataframe to an interactive table.\"\n",
              "            style=\"display:none;\">\n",
              "\n",
              "  <svg xmlns=\"http://www.w3.org/2000/svg\" height=\"24px\" viewBox=\"0 -960 960 960\">\n",
              "    <path d=\"M120-120v-720h720v720H120Zm60-500h600v-160H180v160Zm220 220h160v-160H400v160Zm0 220h160v-160H400v160ZM180-400h160v-160H180v160Zm440 0h160v-160H620v160ZM180-180h160v-160H180v160Zm440 0h160v-160H620v160Z\"/>\n",
              "  </svg>\n",
              "    </button>\n",
              "\n",
              "  <style>\n",
              "    .colab-df-container {\n",
              "      display:flex;\n",
              "      gap: 12px;\n",
              "    }\n",
              "\n",
              "    .colab-df-convert {\n",
              "      background-color: #E8F0FE;\n",
              "      border: none;\n",
              "      border-radius: 50%;\n",
              "      cursor: pointer;\n",
              "      display: none;\n",
              "      fill: #1967D2;\n",
              "      height: 32px;\n",
              "      padding: 0 0 0 0;\n",
              "      width: 32px;\n",
              "    }\n",
              "\n",
              "    .colab-df-convert:hover {\n",
              "      background-color: #E2EBFA;\n",
              "      box-shadow: 0px 1px 2px rgba(60, 64, 67, 0.3), 0px 1px 3px 1px rgba(60, 64, 67, 0.15);\n",
              "      fill: #174EA6;\n",
              "    }\n",
              "\n",
              "    .colab-df-buttons div {\n",
              "      margin-bottom: 4px;\n",
              "    }\n",
              "\n",
              "    [theme=dark] .colab-df-convert {\n",
              "      background-color: #3B4455;\n",
              "      fill: #D2E3FC;\n",
              "    }\n",
              "\n",
              "    [theme=dark] .colab-df-convert:hover {\n",
              "      background-color: #434B5C;\n",
              "      box-shadow: 0px 1px 3px 1px rgba(0, 0, 0, 0.15);\n",
              "      filter: drop-shadow(0px 1px 2px rgba(0, 0, 0, 0.3));\n",
              "      fill: #FFFFFF;\n",
              "    }\n",
              "  </style>\n",
              "\n",
              "    <script>\n",
              "      const buttonEl =\n",
              "        document.querySelector('#df-a5ba337f-d4ac-4b3c-8e4e-e37018c16fb6 button.colab-df-convert');\n",
              "      buttonEl.style.display =\n",
              "        google.colab.kernel.accessAllowed ? 'block' : 'none';\n",
              "\n",
              "      async function convertToInteractive(key) {\n",
              "        const element = document.querySelector('#df-a5ba337f-d4ac-4b3c-8e4e-e37018c16fb6');\n",
              "        const dataTable =\n",
              "          await google.colab.kernel.invokeFunction('convertToInteractive',\n",
              "                                                    [key], {});\n",
              "        if (!dataTable) return;\n",
              "\n",
              "        const docLinkHtml = 'Like what you see? Visit the ' +\n",
              "          '<a target=\"_blank\" href=https://colab.research.google.com/notebooks/data_table.ipynb>data table notebook</a>'\n",
              "          + ' to learn more about interactive tables.';\n",
              "        element.innerHTML = '';\n",
              "        dataTable['output_type'] = 'display_data';\n",
              "        await google.colab.output.renderOutput(dataTable, element);\n",
              "        const docLink = document.createElement('div');\n",
              "        docLink.innerHTML = docLinkHtml;\n",
              "        element.appendChild(docLink);\n",
              "      }\n",
              "    </script>\n",
              "  </div>\n",
              "\n",
              "\n",
              "<div id=\"df-11daa71e-dab7-446f-9c9e-6246942332a7\">\n",
              "  <button class=\"colab-df-quickchart\" onclick=\"quickchart('df-11daa71e-dab7-446f-9c9e-6246942332a7')\"\n",
              "            title=\"Suggest charts\"\n",
              "            style=\"display:none;\">\n",
              "\n",
              "<svg xmlns=\"http://www.w3.org/2000/svg\" height=\"24px\"viewBox=\"0 0 24 24\"\n",
              "     width=\"24px\">\n",
              "    <g>\n",
              "        <path d=\"M19 3H5c-1.1 0-2 .9-2 2v14c0 1.1.9 2 2 2h14c1.1 0 2-.9 2-2V5c0-1.1-.9-2-2-2zM9 17H7v-7h2v7zm4 0h-2V7h2v10zm4 0h-2v-4h2v4z\"/>\n",
              "    </g>\n",
              "</svg>\n",
              "  </button>\n",
              "\n",
              "<style>\n",
              "  .colab-df-quickchart {\n",
              "      --bg-color: #E8F0FE;\n",
              "      --fill-color: #1967D2;\n",
              "      --hover-bg-color: #E2EBFA;\n",
              "      --hover-fill-color: #174EA6;\n",
              "      --disabled-fill-color: #AAA;\n",
              "      --disabled-bg-color: #DDD;\n",
              "  }\n",
              "\n",
              "  [theme=dark] .colab-df-quickchart {\n",
              "      --bg-color: #3B4455;\n",
              "      --fill-color: #D2E3FC;\n",
              "      --hover-bg-color: #434B5C;\n",
              "      --hover-fill-color: #FFFFFF;\n",
              "      --disabled-bg-color: #3B4455;\n",
              "      --disabled-fill-color: #666;\n",
              "  }\n",
              "\n",
              "  .colab-df-quickchart {\n",
              "    background-color: var(--bg-color);\n",
              "    border: none;\n",
              "    border-radius: 50%;\n",
              "    cursor: pointer;\n",
              "    display: none;\n",
              "    fill: var(--fill-color);\n",
              "    height: 32px;\n",
              "    padding: 0;\n",
              "    width: 32px;\n",
              "  }\n",
              "\n",
              "  .colab-df-quickchart:hover {\n",
              "    background-color: var(--hover-bg-color);\n",
              "    box-shadow: 0 1px 2px rgba(60, 64, 67, 0.3), 0 1px 3px 1px rgba(60, 64, 67, 0.15);\n",
              "    fill: var(--button-hover-fill-color);\n",
              "  }\n",
              "\n",
              "  .colab-df-quickchart-complete:disabled,\n",
              "  .colab-df-quickchart-complete:disabled:hover {\n",
              "    background-color: var(--disabled-bg-color);\n",
              "    fill: var(--disabled-fill-color);\n",
              "    box-shadow: none;\n",
              "  }\n",
              "\n",
              "  .colab-df-spinner {\n",
              "    border: 2px solid var(--fill-color);\n",
              "    border-color: transparent;\n",
              "    border-bottom-color: var(--fill-color);\n",
              "    animation:\n",
              "      spin 1s steps(1) infinite;\n",
              "  }\n",
              "\n",
              "  @keyframes spin {\n",
              "    0% {\n",
              "      border-color: transparent;\n",
              "      border-bottom-color: var(--fill-color);\n",
              "      border-left-color: var(--fill-color);\n",
              "    }\n",
              "    20% {\n",
              "      border-color: transparent;\n",
              "      border-left-color: var(--fill-color);\n",
              "      border-top-color: var(--fill-color);\n",
              "    }\n",
              "    30% {\n",
              "      border-color: transparent;\n",
              "      border-left-color: var(--fill-color);\n",
              "      border-top-color: var(--fill-color);\n",
              "      border-right-color: var(--fill-color);\n",
              "    }\n",
              "    40% {\n",
              "      border-color: transparent;\n",
              "      border-right-color: var(--fill-color);\n",
              "      border-top-color: var(--fill-color);\n",
              "    }\n",
              "    60% {\n",
              "      border-color: transparent;\n",
              "      border-right-color: var(--fill-color);\n",
              "    }\n",
              "    80% {\n",
              "      border-color: transparent;\n",
              "      border-right-color: var(--fill-color);\n",
              "      border-bottom-color: var(--fill-color);\n",
              "    }\n",
              "    90% {\n",
              "      border-color: transparent;\n",
              "      border-bottom-color: var(--fill-color);\n",
              "    }\n",
              "  }\n",
              "</style>\n",
              "\n",
              "  <script>\n",
              "    async function quickchart(key) {\n",
              "      const quickchartButtonEl =\n",
              "        document.querySelector('#' + key + ' button');\n",
              "      quickchartButtonEl.disabled = true;  // To prevent multiple clicks.\n",
              "      quickchartButtonEl.classList.add('colab-df-spinner');\n",
              "      try {\n",
              "        const charts = await google.colab.kernel.invokeFunction(\n",
              "            'suggestCharts', [key], {});\n",
              "      } catch (error) {\n",
              "        console.error('Error during call to suggestCharts:', error);\n",
              "      }\n",
              "      quickchartButtonEl.classList.remove('colab-df-spinner');\n",
              "      quickchartButtonEl.classList.add('colab-df-quickchart-complete');\n",
              "    }\n",
              "    (() => {\n",
              "      let quickchartButtonEl =\n",
              "        document.querySelector('#df-11daa71e-dab7-446f-9c9e-6246942332a7 button');\n",
              "      quickchartButtonEl.style.display =\n",
              "        google.colab.kernel.accessAllowed ? 'block' : 'none';\n",
              "    })();\n",
              "  </script>\n",
              "</div>\n",
              "\n",
              "    </div>\n",
              "  </div>\n"
            ],
            "application/vnd.google.colaboratory.intrinsic+json": {
              "type": "dataframe",
              "variable_name": "train_data",
              "summary": "{\n  \"name\": \"train_data\",\n  \"rows\": 8002,\n  \"fields\": [\n    {\n      \"column\": \"review_text\",\n      \"properties\": {\n        \"dtype\": \"string\",\n        \"num_unique_values\": 7999,\n        \"samples\": [\n          \"Perfume sem fixa\\u00e7\\u00e3o nenhuma    Pre\\u00e7o alto para pouca dura\\u00e7\\u00e3o\",\n          \"Vale a pena comprar, a impressora \\u00e9 de excelente qualidade e de muito bom rendimento nas impress\\u00f5es.\",\n          \"Excelente produto, entrega antes do prazo previsto.  100%\"\n        ],\n        \"semantic_type\": \"\",\n        \"description\": \"\"\n      }\n    },\n    {\n      \"column\": \"ENTREGA\",\n      \"properties\": {\n        \"dtype\": \"number\",\n        \"std\": 0,\n        \"min\": 0,\n        \"max\": 1,\n        \"num_unique_values\": 2,\n        \"samples\": [\n          1,\n          0\n        ],\n        \"semantic_type\": \"\",\n        \"description\": \"\"\n      }\n    },\n    {\n      \"column\": \"OUTROS\",\n      \"properties\": {\n        \"dtype\": \"number\",\n        \"std\": 0,\n        \"min\": 0,\n        \"max\": 1,\n        \"num_unique_values\": 2,\n        \"samples\": [\n          1,\n          0\n        ],\n        \"semantic_type\": \"\",\n        \"description\": \"\"\n      }\n    },\n    {\n      \"column\": \"PRODUTO\",\n      \"properties\": {\n        \"dtype\": \"number\",\n        \"std\": 0,\n        \"min\": 0,\n        \"max\": 1,\n        \"num_unique_values\": 2,\n        \"samples\": [\n          0,\n          1\n        ],\n        \"semantic_type\": \"\",\n        \"description\": \"\"\n      }\n    },\n    {\n      \"column\": \"CONDICOESDERECEBIMENTO\",\n      \"properties\": {\n        \"dtype\": \"number\",\n        \"std\": 0,\n        \"min\": 0,\n        \"max\": 1,\n        \"num_unique_values\": 2,\n        \"samples\": [\n          1,\n          0\n        ],\n        \"semantic_type\": \"\",\n        \"description\": \"\"\n      }\n    },\n    {\n      \"column\": \"INADEQUADA\",\n      \"properties\": {\n        \"dtype\": \"number\",\n        \"std\": 0,\n        \"min\": 0,\n        \"max\": 1,\n        \"num_unique_values\": 2,\n        \"samples\": [\n          1,\n          0\n        ],\n        \"semantic_type\": \"\",\n        \"description\": \"\"\n      }\n    },\n    {\n      \"column\": \"ANUNCIO\",\n      \"properties\": {\n        \"dtype\": \"number\",\n        \"std\": 0,\n        \"min\": 0,\n        \"max\": 1,\n        \"num_unique_values\": 2,\n        \"samples\": [\n          1,\n          0\n        ],\n        \"semantic_type\": \"\",\n        \"description\": \"\"\n      }\n    },\n    {\n      \"column\": \"lemmatized_reviews\",\n      \"properties\": {\n        \"dtype\": \"string\",\n        \"num_unique_values\": 7968,\n        \"samples\": [\n          \"reclamar excelente alto falante som nota   n\\u00edtido\",\n          \"material fr\\u00e1gil gostar\"\n        ],\n        \"semantic_type\": \"\",\n        \"description\": \"\"\n      }\n    },\n    {\n      \"column\": \"stemmed_reviews\",\n      \"properties\": {\n        \"dtype\": \"string\",\n        \"num_unique_values\": 7965,\n        \"samples\": [\n          \"cor viv r\\u00e1p process menu pr\\u00e1tic\",\n          \"excelent recom vendedor cheg dat previst\"\n        ],\n        \"semantic_type\": \"\",\n        \"description\": \"\"\n      }\n    }\n  ]\n}"
            }
          },
          "metadata": {},
          "execution_count": 20
        }
      ]
    },
    {
      "cell_type": "markdown",
      "source": [
        "Part Of Speech (POS) serves to identify nouns, verbs, etc., and filtered to keep only certain POS tags (e.g., nouns) before feature extraction. We didn't apply POS, because lemmatization already simplifies terms and multi-label needs flexible features (not just nouns or adjectives), so this technique might be redundant."
      ],
      "metadata": {
        "id": "K4iHThP60jKp"
      }
    },
    {
      "cell_type": "markdown",
      "metadata": {
        "id": "MhoPLKR1pGf8"
      },
      "source": [
        "## **Feature Extraction**"
      ]
    },
    {
      "cell_type": "markdown",
      "source": [
        "## **1- TF-IDF**"
      ],
      "metadata": {
        "id": "H0GWRnSz5O2I"
      }
    },
    {
      "cell_type": "markdown",
      "metadata": {
        "id": "eWjiQNEspGf8"
      },
      "source": [
        "### **1.1- Unigram TF-IDF Vectorization**"
      ]
    },
    {
      "cell_type": "code",
      "execution_count": 21,
      "metadata": {
        "colab": {
          "base_uri": "https://localhost:8080/"
        },
        "id": "MagfhZAvpGf8",
        "outputId": "20bc7b77-dc3b-43d3-b2fa-2948279fdfad"
      },
      "outputs": [
        {
          "output_type": "stream",
          "name": "stdout",
          "text": [
            "Top 20 unigrams by TF-IDF score:\n",
            "produto: 488.2262\n",
            "recomendar: 234.1057\n",
            "chegar: 203.3263\n",
            "comprar: 199.9689\n",
            "prazo: 194.0114\n",
            "qualidade: 185.3566\n",
            "gostar: 182.2771\n",
            "entregar: 181.8631\n",
            "entrega: 173.2043\n",
            "rápido: 154.2068\n",
            "excelente: 151.3629\n",
            "bom: 146.1159\n",
            "dia: 143.8600\n",
            "recebi: 136.4783\n",
            "vir: 136.1746\n",
            "super: 119.6697\n",
            "ótimo: 114.8176\n",
            "atender: 106.3468\n",
            "compra: 105.3768\n",
            "pra: 98.0093\n"
          ]
        }
      ],
      "source": [
        "# Initialize the TF-IDF vectorizer\n",
        "tfidf_vectorizer = TfidfVectorizer()\n",
        "\n",
        "# Fit on the training data and transform it into TF-IDF features\n",
        "X_train_tfidf = tfidf_vectorizer.fit_transform(train_data['lemmatized_reviews'])\n",
        "# Transform the validation and test data using the same vectorizer\n",
        "X_val_tfidf = tfidf_vectorizer.transform(val_data['lemmatized_reviews'])\n",
        "X_test_tfidf = tfidf_vectorizer.transform(test_data['lemmatized_reviews'])\n",
        "\n",
        "# Check the shape of the TF-IDF features, these are sparse matrices containing the TF-IDF features for the training, validation, and test sets, respectively.\n",
        "# each row is a document and each column is a word\n",
        "\"\"\"print(\"Training data shape:\", X_train_tfidf.shape)\n",
        "print(\"Validation data shape:\", X_val_tfidf.shape)\n",
        "print(\"Test data shape:\", X_test_tfidf.shape, end=\"\\n\\n\")\"\"\"\n",
        "\n",
        "# Sum the TF-IDF scores for each word across all documents\n",
        "tfidf_scores = np.asarray(X_train_tfidf.sum(axis=0)).flatten()\n",
        "\n",
        "# Get the feature names (words in the vocabulary)\n",
        "feature_names = tfidf_vectorizer.get_feature_names_out()\n",
        "\n",
        "# Create a dictionary of words and their corresponding TF-IDF scores\n",
        "word_tfidf_scores = dict(zip(feature_names, tfidf_scores))\n",
        "\n",
        "# Sort the words by their TF-IDF scores in descending order\n",
        "sorted_words = sorted(word_tfidf_scores.items(), key=lambda x: x[1], reverse=True)\n",
        "\n",
        "# Print the top 20 words\n",
        "print(\"Top 20 unigrams by TF-IDF score:\")\n",
        "for word, score in sorted_words[:20]:\n",
        "    print(f\"{word}: {score:.4f}\")"
      ]
    },
    {
      "cell_type": "code",
      "source": [
        "# Initialize the TF-IDF vectorizer\n",
        "tfidf_vectorizer = TfidfVectorizer(max_features=5000)\n",
        "\n",
        "# Fit on the training data and transform it into TF-IDF features\n",
        "X_train_tfidf = tfidf_vectorizer.fit_transform(train_data['lemmatized_reviews'])\n",
        "# Transform the validation and test data using the same vectorizer\n",
        "X_val_tfidf = tfidf_vectorizer.transform(val_data['lemmatized_reviews'])\n",
        "X_test_tfidf = tfidf_vectorizer.transform(test_data['lemmatized_reviews'])\n",
        "\n",
        "# Check the shape of the TF-IDF features, these are sparse matrices containing the TF-IDF features for the training, validation, and test sets, respectively.\n",
        "# each row is a document and each column is a word\n",
        "\"\"\"print(\"Training data shape:\", X_train_tfidf.shape)\n",
        "print(\"Validation data shape:\", X_val_tfidf.shape)\n",
        "print(\"Test data shape:\", X_test_tfidf.shape, end=\"\\n\\n\")\"\"\"\n",
        "\n",
        "# Sum the TF-IDF scores for each word across all documents\n",
        "tfidf_scores = np.asarray(X_train_tfidf.sum(axis=0)).flatten()\n",
        "\n",
        "# Get the feature names (words in the vocabulary)\n",
        "feature_names = tfidf_vectorizer.get_feature_names_out()\n",
        "\n",
        "# Create a dictionary of words and their corresponding TF-IDF scores\n",
        "word_tfidf_scores = dict(zip(feature_names, tfidf_scores))\n",
        "\n",
        "# Sort the words by their TF-IDF scores in descending order\n",
        "sorted_words = sorted(word_tfidf_scores.items(), key=lambda x: x[1], reverse=True)\n",
        "\n",
        "# Print the top 20 words\n",
        "print(\"Top 20 unigrams by TF-IDF score:\")\n",
        "for word, score in sorted_words[:20]:\n",
        "    print(f\"{word}: {score:.4f}\")"
      ],
      "metadata": {
        "colab": {
          "base_uri": "https://localhost:8080/"
        },
        "id": "YJgKBpfk1zEm",
        "outputId": "719d6d46-430d-47e7-8693-066fc3e645a1"
      },
      "execution_count": 22,
      "outputs": [
        {
          "output_type": "stream",
          "name": "stdout",
          "text": [
            "Top 20 unigrams by TF-IDF score:\n",
            "produto: 515.0546\n",
            "recomendar: 248.2208\n",
            "comprar: 213.9742\n",
            "chegar: 212.4833\n",
            "prazo: 202.6565\n",
            "gostar: 194.4167\n",
            "qualidade: 194.1893\n",
            "entregar: 190.1552\n",
            "entrega: 181.2094\n",
            "rápido: 160.7322\n",
            "excelente: 158.9161\n",
            "bom: 153.6764\n",
            "dia: 151.4586\n",
            "vir: 142.9737\n",
            "recebi: 142.9331\n",
            "super: 125.7680\n",
            "ótimo: 118.7558\n",
            "atender: 111.8822\n",
            "compra: 111.2379\n",
            "pra: 103.6173\n"
          ]
        }
      ]
    },
    {
      "cell_type": "markdown",
      "metadata": {
        "id": "wJjf4sSCpGf8"
      },
      "source": [
        "### **1.2- Bigram TF-IDF Vectorization**"
      ]
    },
    {
      "cell_type": "code",
      "execution_count": 23,
      "metadata": {
        "colab": {
          "base_uri": "https://localhost:8080/"
        },
        "id": "zcxnv5jGpGf8",
        "outputId": "af01cc2b-15ca-4a3e-f4b0-f609314d197d"
      },
      "outputs": [
        {
          "output_type": "stream",
          "name": "stdout",
          "text": [
            "\n",
            "Top 20 bigrams by TF-IDF score:\n",
            "recebi produto: 55.4152\n",
            "chegar prazo: 55.0975\n",
            "produto chegar: 49.3651\n",
            "gostar produto: 47.2966\n",
            "entregar prazo: 47.2189\n",
            "produto entregar: 41.0208\n",
            "atender expectativa: 37.7258\n",
            "ótimo qualidade: 37.1043\n",
            "produto excelente: 34.6375\n",
            "bom produto: 33.2058\n",
            "produto qualidade: 32.6299\n",
            "produto ótimo: 32.1825\n",
            "excelente produto: 30.1993\n",
            "entregar rápido: 29.5193\n",
            "super recomendar: 29.4634\n",
            "produto atender: 28.9780\n",
            "produto vir: 28.8988\n",
            "super rápido: 28.6211\n",
            "valer pena: 28.4338\n",
            "comprar produto: 27.4269\n"
          ]
        }
      ],
      "source": [
        "from sklearn.feature_extraction.text import TfidfVectorizer\n",
        "import numpy as np\n",
        "\n",
        "# Define the TF-IDF vectorizer with unigrams and bigrams\n",
        "tfidf_bigram = TfidfVectorizer(ngram_range=(2, 2))  # Unigrams + bigrams\n",
        "\n",
        "# Fit and transform the training data\n",
        "X_train_tfidf_bi = tfidf_bigram.fit_transform(train_data['lemmatized_reviews'])\n",
        "# Transform the validation and test data\n",
        "X_val_tfidf_bi = tfidf_bigram.transform(val_data['lemmatized_reviews'])\n",
        "X_test_tfidf_bi = tfidf_bigram.transform(test_data['lemmatized_reviews'])\n",
        "\n",
        "# Calculate the sum of TF-IDF scores for each feature (word/phrase)\n",
        "tfidf_scores_bi = np.asarray(X_train_tfidf_bi.sum(axis=0)).flatten()\n",
        "# Get the feature names (words/phrases)\n",
        "feature_names_bi = tfidf_bigram.get_feature_names_out()\n",
        "# Create a dictionary of words/phrases and their corresponding TF-IDF scores\n",
        "word_tfidf_scores_bi = dict(zip(feature_names_bi, tfidf_scores_bi))\n",
        "# Sort the words/phrases by their TF-IDF scores in descending order\n",
        "sorted_words_bi = sorted(word_tfidf_scores_bi.items(), key=lambda x: x[1], reverse=True)\n",
        "\n",
        "# Print the top 20 unigrams and bigrams by TF-IDF score\n",
        "print(\"\\nTop 20 bigrams by TF-IDF score:\")\n",
        "for word, score in sorted_words_bi[:20]:\n",
        "    print(f\"{word}: {score:.4f}\")"
      ]
    },
    {
      "cell_type": "markdown",
      "metadata": {
        "id": "uOagb3IzpGf9"
      },
      "source": [
        "### **1.3- Unigram + Bigram TF-IDF Vectorization**"
      ]
    },
    {
      "cell_type": "code",
      "execution_count": 24,
      "metadata": {
        "colab": {
          "base_uri": "https://localhost:8080/"
        },
        "id": "nmgaYqp2pGf9",
        "outputId": "a4234cb8-8f59-4412-b9b6-b85d34cf50aa"
      },
      "outputs": [
        {
          "output_type": "stream",
          "name": "stdout",
          "text": [
            "\n",
            "Top 20 unigrams + bigrams by TF-IDF score:\n",
            "produto: 356.8034\n",
            "recomendar: 164.9192\n",
            "comprar: 160.5778\n",
            "chegar: 145.4203\n",
            "gostar: 137.9903\n",
            "qualidade: 131.3312\n",
            "prazo: 131.2037\n",
            "entregar: 125.6497\n",
            "entrega: 120.5678\n",
            "bom: 109.9173\n",
            "dia: 109.1038\n",
            "vir: 107.8224\n",
            "excelente: 106.4761\n",
            "rápido: 105.7967\n",
            "recebi: 101.3937\n",
            "super: 85.7864\n",
            "pra: 79.7878\n",
            "ótimo: 79.4835\n",
            "atender: 78.4346\n",
            "compra: 78.0960\n"
          ]
        }
      ],
      "source": [
        "from sklearn.feature_extraction.text import TfidfVectorizer\n",
        "import numpy as np\n",
        "\n",
        "# Define the TF-IDF vectorizer with unigrams and bigrams\n",
        "tfidf_bigram = TfidfVectorizer(ngram_range=(1, 2), min_df=2)  # Unigrams + bigrams, exclude terms appearing in fewer than 2 times in order to reduce the feature space\n",
        "\n",
        "# Fit and transform the training data\n",
        "X_train_tfidf_bi = tfidf_bigram.fit_transform(train_data['lemmatized_reviews'])\n",
        "# Transform the validation and test data\n",
        "X_val_tfidf_bi = tfidf_bigram.transform(val_data['lemmatized_reviews'])\n",
        "X_test_tfidf_bi = tfidf_bigram.transform(test_data['lemmatized_reviews'])\n",
        "\n",
        "# Calculate the sum of TF-IDF scores for each feature (word/phrase)\n",
        "tfidf_scores_bi = np.asarray(X_train_tfidf_bi.sum(axis=0)).flatten()\n",
        "# Get the feature names (words/phrases)\n",
        "feature_names_bi = tfidf_bigram.get_feature_names_out()\n",
        "# Create a dictionary of words/phrases and their corresponding TF-IDF scores\n",
        "word_tfidf_scores_bi = dict(zip(feature_names_bi, tfidf_scores_bi))\n",
        "# Sort the words/phrases by their TF-IDF scores in descending order\n",
        "sorted_words_bi = sorted(word_tfidf_scores_bi.items(), key=lambda x: x[1], reverse=True)\n",
        "\n",
        "# Print the top 20 unigrams and bigrams by TF-IDF score\n",
        "print(\"\\nTop 20 unigrams + bigrams by TF-IDF score:\")\n",
        "for word, score in sorted_words_bi[:20]:\n",
        "    print(f\"{word}: {score:.4f}\")"
      ]
    },
    {
      "cell_type": "markdown",
      "metadata": {
        "id": "SlSGYJLNpGf9"
      },
      "source": [
        "There's only single words in the top 20 TF-IDF scores for unigrams + bigrams, because the unigrams have higher TF-IDF scores compared to the bigrams. This can happen if the unigrams are more frequent or carry more weight in the dataset."
      ]
    },
    {
      "cell_type": "markdown",
      "metadata": {
        "id": "jINZQWqepGf9"
      },
      "source": [
        "Why unigrams + bigrams? Unigrams capture individual word importance, while bigrams preserve some context (e.g., \"não entregue\" might indicate a delivery issue better than \"não\" or \"entregue\" alone). Since reviews are short (avg. 24.58 words), bigrams add value without overwhelming the feature space.\n",
        "\n",
        "For word distribution, we choose TF-IDF with unigrams + bigrams (ngram_range=(1, 2), 5000 features) as it captures both dominant single words (e.g., \"produto\": 397.94) and contextual phrases (e.g., \"chegar prazo\") in the RePro dataset. This reflects the mix of 52% single-label and 48% multi-label reviews, providing a comprehensive view of key terms without relying on model performance."
      ]
    },
    {
      "cell_type": "code",
      "execution_count": 25,
      "metadata": {
        "colab": {
          "base_uri": "https://localhost:8080/",
          "height": 1000
        },
        "id": "ekDVr7D-pGf9",
        "outputId": "7d942607-18b0-44e8-9392-7e9ed58568d0"
      },
      "outputs": [
        {
          "output_type": "stream",
          "name": "stdout",
          "text": [
            "y_train shape: (8002, 6)\n"
          ]
        },
        {
          "output_type": "display_data",
          "data": {
            "text/plain": [
              "<Figure size 1800x1200 with 6 Axes>"
            ],
            "image/png": "[encoded data removed]"
          },
          "metadata": {}
        }
      ],
      "source": [
        "label_names = ['ENTREGA', 'OUTROS', 'PRODUTO', 'CONDICOESDERECEBIMENTO', 'INADEQUADA', 'ANUNCIO']\n",
        "\n",
        "y_train = train_data[label_names].to_numpy()\n",
        "print(\"y_train shape:\", y_train.shape)\n",
        "\n",
        "n_top = 10  # Number of top terms to show per label\n",
        "fig, axes = plt.subplots(2, 3, figsize=(18, 12))  # 2x3 grid for 6 labels\n",
        "axes = axes.flatten()\n",
        "\n",
        "for i, label in enumerate(label_names):\n",
        "    # Indices of reviews where this label is true (1)\n",
        "    label_indices = np.where(y_train[:, i] == 1)[0]\n",
        "    # Average TF-IDF scores for those reviews\n",
        "    label_tfidf = X_train_tfidf_bi[label_indices].mean(axis=0).A1  # Convert sparse to 1D array\n",
        "    # Get top N terms\n",
        "    top_indices = np.argsort(label_tfidf)[-n_top:][::-1]  # Sort descending\n",
        "    top_terms = feature_names_bi[top_indices]\n",
        "    top_scores = label_tfidf[top_indices]\n",
        "\n",
        "    # Step 5: Plot horizontal bar chart\n",
        "    axes[i].barh(top_terms, top_scores, color='skyblue')\n",
        "    axes[i].set_title(f'Top {n_top} TF-IDF Terms for {label}')\n",
        "    axes[i].set_xlabel('Mean TF-IDF Score')\n",
        "    axes[i].invert_yaxis()  # Highest score at top\n",
        "\n",
        "# Adjust layout and display\n",
        "plt.tight_layout()\n",
        "plt.show()"
      ]
    },
    {
      "cell_type": "code",
      "source": [
        "\"\"\"# Word cloud with top 50\n",
        "wordcloud = WordCloud(width=800, height=400, background_color='white').generate_from_frequencies(dict(sorted_words_bi[:50]))\n",
        "plt.figure(figsize=(10, 5))\n",
        "plt.imshow(wordcloud, interpolation='bilinear')\n",
        "plt.axis('off')\n",
        "plt.title(\"Word Distribution: Top 50 TF-IDF (Unigrams + Bigrams)\")\n",
        "plt.show()\"\"\""
      ],
      "metadata": {
        "colab": {
          "base_uri": "https://localhost:8080/",
          "height": 53
        },
        "id": "wBrlY91kzD2W",
        "outputId": "af758749-f3b7-4467-e82d-b49964ec9692"
      },
      "execution_count": 26,
      "outputs": [
        {
          "output_type": "execute_result",
          "data": {
            "text/plain": [
              "'# Word cloud with top 50\\nwordcloud = WordCloud(width=800, height=400, background_color=\\'white\\').generate_from_frequencies(dict(sorted_words_bi[:50]))\\nplt.figure(figsize=(10, 5))\\nplt.imshow(wordcloud, interpolation=\\'bilinear\\')\\nplt.axis(\\'off\\')\\nplt.title(\"Word Distribution: Top 50 TF-IDF (Unigrams + Bigrams)\")\\nplt.show()'"
            ],
            "application/vnd.google.colaboratory.intrinsic+json": {
              "type": "string"
            }
          },
          "metadata": {},
          "execution_count": 26
        }
      ]
    },
    {
      "cell_type": "markdown",
      "source": [
        "### Feature Space"
      ],
      "metadata": {
        "id": "lh3B2ZZWzTNo"
      }
    },
    {
      "cell_type": "code",
      "source": [
        "from sklearn.feature_extraction.text import TfidfVectorizer\n",
        "vectorizer = TfidfVectorizer(ngram_range=(1, 1))  # Unigrams\n",
        "X = vectorizer.fit_transform(train_data['lemmatized_reviews'])\n",
        "print(\"Feature space size:\", len(vectorizer.get_feature_names_out()))"
      ],
      "metadata": {
        "colab": {
          "base_uri": "https://localhost:8080/"
        },
        "id": "jlUet6PZ2lT7",
        "outputId": "fe0a5888-c7b1-4ff9-e1e7-6901333a352f"
      },
      "execution_count": 27,
      "outputs": [
        {
          "output_type": "stream",
          "name": "stdout",
          "text": [
            "Feature space size: 9824\n"
          ]
        }
      ]
    },
    {
      "cell_type": "code",
      "source": [
        "from sklearn.feature_extraction.text import TfidfVectorizer\n",
        "vectorizer = TfidfVectorizer(ngram_range=(1, 2))  # Unigrams and bigrams\n",
        "X = vectorizer.fit_transform(train_data['lemmatized_reviews'])\n",
        "print(\"Feature space size:\", len(vectorizer.get_feature_names_out()))"
      ],
      "metadata": {
        "colab": {
          "base_uri": "https://localhost:8080/"
        },
        "id": "9C_e9IcnFiN7",
        "outputId": "20e96a33-b301-45bb-83de-844771488ffb"
      },
      "execution_count": 28,
      "outputs": [
        {
          "output_type": "stream",
          "name": "stdout",
          "text": [
            "Feature space size: 69115\n"
          ]
        }
      ]
    },
    {
      "cell_type": "code",
      "source": [
        "from sklearn.feature_extraction.text import TfidfVectorizer\n",
        "vectorizer = TfidfVectorizer(ngram_range=(1, 2), min_df=2)  # Unigrams and bigrams only keeping the terms that occur more than 2 times\n",
        "X = vectorizer.fit_transform(train_data['lemmatized_reviews'])\n",
        "print(\"Feature space size:\", len(vectorizer.get_feature_names_out()))"
      ],
      "metadata": {
        "colab": {
          "base_uri": "https://localhost:8080/"
        },
        "id": "c7MZ1yrDxkqp",
        "outputId": "724fb7a1-c374-417d-81c2-46a10eb7989a"
      },
      "execution_count": 29,
      "outputs": [
        {
          "output_type": "stream",
          "name": "stdout",
          "text": [
            "Feature space size: 11400\n"
          ]
        }
      ]
    },
    {
      "cell_type": "code",
      "source": [
        "from sklearn.feature_extraction.text import TfidfVectorizer\n",
        "vectorizer = TfidfVectorizer(max_features=10000 ,ngram_range=(1, 2))  # Unigrams and bigrams with maximum number of features\n",
        "X = vectorizer.fit_transform(train_data['lemmatized_reviews'])\n",
        "print(\"Feature space size:\", len(vectorizer.get_feature_names_out()))"
      ],
      "metadata": {
        "colab": {
          "base_uri": "https://localhost:8080/"
        },
        "id": "1DcTMccVFlPH",
        "outputId": "2b320e9a-c42a-45e7-eb03-6c85deff55dd"
      },
      "execution_count": 30,
      "outputs": [
        {
          "output_type": "stream",
          "name": "stdout",
          "text": [
            "Feature space size: 10000\n"
          ]
        }
      ]
    },
    {
      "cell_type": "markdown",
      "source": [
        "After applying TF-IDF vectorization with unigrams and bigrams our dataset, after preprocessing and vectorization, has generated a vocabulary of 69115 unique features (terms can be unigrams or bigrams).\n",
        "\n",
        "\n",
        "min_df=2 -> 11400\\\n",
        "min_df=3 -> 6142\n",
        "\n",
        "\n",
        "This is the dimensionality of our feature space—each review is represented as a sparse vector with 69115 possible positions, where most values are zero (since a single review uses only a tiny fraction of the vocabulary).\n",
        "\n",
        "Our feature space is much larger than our sample size, this can lead to sparsity, where most feature values are zero, and potentially overfitting if not handled carefully. To address this high dimensionality and reduce noise from rare terms, we set min_df=2 in the TfidfVectorizer, excluding terms that appear in fewer than two reviews. This reduced the feature space to 11400 features, making it more manageable while retaining meaningful unigrams and bigrams. This adjustment helps mitigate sparsity and overfitting by focusing the model on terms with broader relevance across the dataset, balancing computational efficiency and classification performance"
      ],
      "metadata": {
        "id": "MJHKTuD-z3WV"
      }
    },
    {
      "cell_type": "markdown",
      "source": [
        "# **❗COMPARAR RESULTADOS COM MAX_FEATURES, MIN_DF...❗**\n",
        "\n",
        "```python\n",
        "from sklearn.feature_extraction.text import TfidfVectorizer\n",
        "from sklearn.naive_bayes import MultinomialNB\n",
        "from sklearn.multiclass import OneVsRestClassifier\n",
        "from sklearn.metrics import f1_score\n",
        "\n",
        "# Define variants\n",
        "vectorizers = {\n",
        "    \"full\": TfidfVectorizer(ngram_range=(1, 2)),\n",
        "    \"min_df=2\": TfidfVectorizer(ngram_range=(1, 2), min_df=2),\n",
        "    \"max_features=10000\": TfidfVectorizer(ngram_range=(1, 2), max_features=10000),\n",
        "    \"max_features=5000\": TfidfVectorizer(ngram_range=(1, 2), max_features=5000)\n",
        "}\n",
        "\n",
        "for name, vec in vectorizers.items():\n",
        "    X_train = vec.fit_transform(train_texts)  # Your preprocessed training data\n",
        "    X_val = vec.transform(val_texts)      # Validation data\n",
        "    clf = OneVsRestClassifier(MultinomialNB())\n",
        "    clf.fit(X_train, y_train)             # Your multi-label y_train\n",
        "    y_pred = clf.predict(X_val)\n",
        "    macro_f1 = f1_score(y_val, y_pred, average='macro')\n",
        "    print(f\"{name}: Feature space size = {X_train.shape[1]}, Macro F1 = {macro_f1}\")\n"
      ],
      "metadata": {
        "id": "Vt9GRv9aG2Om"
      }
    },
    {
      "cell_type": "markdown",
      "source": [
        "## **2- Word2Vec**"
      ],
      "metadata": {
        "id": "VkG2U4Qi4vji"
      }
    },
    {
      "cell_type": "code",
      "source": [
        "\"\"\"#! pip install --upgrade numpy scipy gensim\n",
        "# Desinstale as versões atuais\n",
        "!pip uninstall -y gensim numpy\n",
        "\n",
        "# Instale versões específicas compatíveis\n",
        "!pip install numpy==1.24.3\n",
        "!pip install gensim==4.3.2\"\"\""
      ],
      "metadata": {
        "colab": {
          "base_uri": "https://localhost:8080/",
          "height": 53
        },
        "id": "_crcXbIi6ICg",
        "outputId": "dd885e62-2395-49a5-f068-63aa849ab041"
      },
      "execution_count": 31,
      "outputs": [
        {
          "output_type": "execute_result",
          "data": {
            "text/plain": [
              "'#! pip install --upgrade numpy scipy gensim\\n# Desinstale as versões atuais\\n!pip uninstall -y gensim numpy\\n\\n# Instale versões específicas compatíveis\\n!pip install numpy==1.24.3\\n!pip install gensim==4.3.2'"
            ],
            "application/vnd.google.colaboratory.intrinsic+json": {
              "type": "string"
            }
          },
          "metadata": {},
          "execution_count": 31
        }
      ]
    },
    {
      "cell_type": "code",
      "source": [
        "from gensim.models import Word2Vec"
      ],
      "metadata": {
        "colab": {
          "base_uri": "https://localhost:8080/",
          "height": 461
        },
        "id": "56ds_g-A5oop",
        "outputId": "28a76bcc-57c6-4b93-d510-80bf5afa0841"
      },
      "execution_count": 33,
      "outputs": [
        {
          "output_type": "error",
          "ename": "ImportError",
          "evalue": "cannot import name 'triu' from 'scipy.linalg' (/usr/local/lib/python3.11/dist-packages/scipy/linalg/__init__.py)",
          "traceback": [
            "\u001b[0;31m---------------------------------------------------------------------------\u001b[0m",
            "\u001b[0;31mImportError\u001b[0m                               Traceback (most recent call last)",
            "\u001b[0;32m<ipython-input-33-384f1c26d32d>\u001b[0m in \u001b[0;36m<cell line: 0>\u001b[0;34m()\u001b[0m\n\u001b[0;32m----> 1\u001b[0;31m \u001b[0;32mfrom\u001b[0m \u001b[0mgensim\u001b[0m\u001b[0;34m.\u001b[0m\u001b[0mmodels\u001b[0m \u001b[0;32mimport\u001b[0m \u001b[0mWord2Vec\u001b[0m\u001b[0;34m\u001b[0m\u001b[0;34m\u001b[0m\u001b[0m\n\u001b[0m",
            "\u001b[0;32m/usr/local/lib/python3.11/dist-packages/gensim/__init__.py\u001b[0m in \u001b[0;36m<module>\u001b[0;34m\u001b[0m\n\u001b[1;32m      9\u001b[0m \u001b[0;32mimport\u001b[0m \u001b[0mlogging\u001b[0m\u001b[0;34m\u001b[0m\u001b[0;34m\u001b[0m\u001b[0m\n\u001b[1;32m     10\u001b[0m \u001b[0;34m\u001b[0m\u001b[0m\n\u001b[0;32m---> 11\u001b[0;31m \u001b[0;32mfrom\u001b[0m \u001b[0mgensim\u001b[0m \u001b[0;32mimport\u001b[0m \u001b[0mparsing\u001b[0m\u001b[0;34m,\u001b[0m \u001b[0mcorpora\u001b[0m\u001b[0;34m,\u001b[0m \u001b[0mmatutils\u001b[0m\u001b[0;34m,\u001b[0m \u001b[0minterfaces\u001b[0m\u001b[0;34m,\u001b[0m \u001b[0mmodels\u001b[0m\u001b[0;34m,\u001b[0m \u001b[0msimilarities\u001b[0m\u001b[0;34m,\u001b[0m \u001b[0mutils\u001b[0m  \u001b[0;31m# noqa:F401\u001b[0m\u001b[0;34m\u001b[0m\u001b[0;34m\u001b[0m\u001b[0m\n\u001b[0m\u001b[1;32m     12\u001b[0m \u001b[0;34m\u001b[0m\u001b[0m\n\u001b[1;32m     13\u001b[0m \u001b[0;34m\u001b[0m\u001b[0m\n",
            "\u001b[0;32m/usr/local/lib/python3.11/dist-packages/gensim/corpora/__init__.py\u001b[0m in \u001b[0;36m<module>\u001b[0;34m\u001b[0m\n\u001b[1;32m      4\u001b[0m \u001b[0;34m\u001b[0m\u001b[0m\n\u001b[1;32m      5\u001b[0m \u001b[0;31m# bring corpus classes directly into package namespace, to save some typing\u001b[0m\u001b[0;34m\u001b[0m\u001b[0;34m\u001b[0m\u001b[0m\n\u001b[0;32m----> 6\u001b[0;31m \u001b[0;32mfrom\u001b[0m \u001b[0;34m.\u001b[0m\u001b[0mindexedcorpus\u001b[0m \u001b[0;32mimport\u001b[0m \u001b[0mIndexedCorpus\u001b[0m  \u001b[0;31m# noqa:F401 must appear before the other classes\u001b[0m\u001b[0;34m\u001b[0m\u001b[0;34m\u001b[0m\u001b[0m\n\u001b[0m\u001b[1;32m      7\u001b[0m \u001b[0;34m\u001b[0m\u001b[0m\n\u001b[1;32m      8\u001b[0m \u001b[0;32mfrom\u001b[0m \u001b[0;34m.\u001b[0m\u001b[0mmmcorpus\u001b[0m \u001b[0;32mimport\u001b[0m \u001b[0mMmCorpus\u001b[0m  \u001b[0;31m# noqa:F401\u001b[0m\u001b[0;34m\u001b[0m\u001b[0;34m\u001b[0m\u001b[0m\n",
            "\u001b[0;32m/usr/local/lib/python3.11/dist-packages/gensim/corpora/indexedcorpus.py\u001b[0m in \u001b[0;36m<module>\u001b[0;34m\u001b[0m\n\u001b[1;32m     12\u001b[0m \u001b[0;32mimport\u001b[0m \u001b[0mnumpy\u001b[0m\u001b[0;34m\u001b[0m\u001b[0;34m\u001b[0m\u001b[0m\n\u001b[1;32m     13\u001b[0m \u001b[0;34m\u001b[0m\u001b[0m\n\u001b[0;32m---> 14\u001b[0;31m \u001b[0;32mfrom\u001b[0m \u001b[0mgensim\u001b[0m \u001b[0;32mimport\u001b[0m \u001b[0minterfaces\u001b[0m\u001b[0;34m,\u001b[0m \u001b[0mutils\u001b[0m\u001b[0;34m\u001b[0m\u001b[0;34m\u001b[0m\u001b[0m\n\u001b[0m\u001b[1;32m     15\u001b[0m \u001b[0;34m\u001b[0m\u001b[0m\n\u001b[1;32m     16\u001b[0m \u001b[0mlogger\u001b[0m \u001b[0;34m=\u001b[0m \u001b[0mlogging\u001b[0m\u001b[0;34m.\u001b[0m\u001b[0mgetLogger\u001b[0m\u001b[0;34m(\u001b[0m\u001b[0m__name__\u001b[0m\u001b[0;34m)\u001b[0m\u001b[0;34m\u001b[0m\u001b[0;34m\u001b[0m\u001b[0m\n",
            "\u001b[0;32m/usr/local/lib/python3.11/dist-packages/gensim/interfaces.py\u001b[0m in \u001b[0;36m<module>\u001b[0;34m\u001b[0m\n\u001b[1;32m     17\u001b[0m \u001b[0;32mimport\u001b[0m \u001b[0mlogging\u001b[0m\u001b[0;34m\u001b[0m\u001b[0;34m\u001b[0m\u001b[0m\n\u001b[1;32m     18\u001b[0m \u001b[0;34m\u001b[0m\u001b[0m\n\u001b[0;32m---> 19\u001b[0;31m \u001b[0;32mfrom\u001b[0m \u001b[0mgensim\u001b[0m \u001b[0;32mimport\u001b[0m \u001b[0mutils\u001b[0m\u001b[0;34m,\u001b[0m \u001b[0mmatutils\u001b[0m\u001b[0;34m\u001b[0m\u001b[0;34m\u001b[0m\u001b[0m\n\u001b[0m\u001b[1;32m     20\u001b[0m \u001b[0;34m\u001b[0m\u001b[0m\n\u001b[1;32m     21\u001b[0m \u001b[0;34m\u001b[0m\u001b[0m\n",
            "\u001b[0;32m/usr/local/lib/python3.11/dist-packages/gensim/matutils.py\u001b[0m in \u001b[0;36m<module>\u001b[0;34m\u001b[0m\n\u001b[1;32m     18\u001b[0m \u001b[0;32mimport\u001b[0m \u001b[0mscipy\u001b[0m\u001b[0;34m.\u001b[0m\u001b[0msparse\u001b[0m\u001b[0;34m\u001b[0m\u001b[0;34m\u001b[0m\u001b[0m\n\u001b[1;32m     19\u001b[0m \u001b[0;32mfrom\u001b[0m \u001b[0mscipy\u001b[0m\u001b[0;34m.\u001b[0m\u001b[0mstats\u001b[0m \u001b[0;32mimport\u001b[0m \u001b[0mentropy\u001b[0m\u001b[0;34m\u001b[0m\u001b[0;34m\u001b[0m\u001b[0m\n\u001b[0;32m---> 20\u001b[0;31m \u001b[0;32mfrom\u001b[0m \u001b[0mscipy\u001b[0m\u001b[0;34m.\u001b[0m\u001b[0mlinalg\u001b[0m \u001b[0;32mimport\u001b[0m \u001b[0mget_blas_funcs\u001b[0m\u001b[0;34m,\u001b[0m \u001b[0mtriu\u001b[0m\u001b[0;34m\u001b[0m\u001b[0;34m\u001b[0m\u001b[0m\n\u001b[0m\u001b[1;32m     21\u001b[0m \u001b[0;32mfrom\u001b[0m \u001b[0mscipy\u001b[0m\u001b[0;34m.\u001b[0m\u001b[0mlinalg\u001b[0m\u001b[0;34m.\u001b[0m\u001b[0mlapack\u001b[0m \u001b[0;32mimport\u001b[0m \u001b[0mget_lapack_funcs\u001b[0m\u001b[0;34m\u001b[0m\u001b[0;34m\u001b[0m\u001b[0m\n\u001b[1;32m     22\u001b[0m \u001b[0;32mfrom\u001b[0m \u001b[0mscipy\u001b[0m\u001b[0;34m.\u001b[0m\u001b[0mspecial\u001b[0m \u001b[0;32mimport\u001b[0m \u001b[0mpsi\u001b[0m  \u001b[0;31m# gamma function utils\u001b[0m\u001b[0;34m\u001b[0m\u001b[0;34m\u001b[0m\u001b[0m\n",
            "\u001b[0;31mImportError\u001b[0m: cannot import name 'triu' from 'scipy.linalg' (/usr/local/lib/python3.11/dist-packages/scipy/linalg/__init__.py)",
            "",
            "\u001b[0;31m---------------------------------------------------------------------------\u001b[0;32m\nNOTE: If your import is failing due to a missing package, you can\nmanually install dependencies using either !pip or !apt.\n\nTo view examples of installing some common dependencies, click the\n\"Open Examples\" button below.\n\u001b[0;31m---------------------------------------------------------------------------\u001b[0m\n"
          ],
          "errorDetails": {
            "actions": [
              {
                "action": "open_url",
                "actionText": "Open Examples",
                "url": "/notebooks/snippets/importing_libraries.ipynb"
              }
            ]
          }
        }
      ]
    },
    {
      "cell_type": "code",
      "source": [
        "break"
      ],
      "metadata": {
        "id": "VZTExkzV6UC_"
      },
      "execution_count": null,
      "outputs": []
    },
    {
      "cell_type": "markdown",
      "metadata": {
        "id": "MeN_nW5npGf9"
      },
      "source": [
        "## **Models Training**"
      ]
    },
    {
      "cell_type": "markdown",
      "source": [
        "``One-vs-Rest (OvR)`` não é um classificador em si, mas uma estratégia para transformar classificadores binários (como Naive Bayes e Regressão Logística) em modelos que suportam multi-label ou multi-classe.\n",
        "\n",
        "O ``Multinomial Naive Bayes (MultinomialNB)`` é um modelo estatístico ideal para classificação de texto porque:\n",
        "\n",
        "✅ Lida bem com representações baseadas em frequência, como Bag-of-Words e TF-IDF.\\\n",
        "✅ É eficiente e rápido, pois calcula probabilidades de forma simples.\\\n",
        "✅ Funciona bem para problemas onde as palavras aparecem independentemente, como em reviews de produtos."
      ],
      "metadata": {
        "id": "gqFDuR42Pc_3"
      }
    },
    {
      "cell_type": "markdown",
      "source": [
        "### Baseline Classifier - Naive Bayes"
      ],
      "metadata": {
        "id": "xBrZeix6R6JJ"
      }
    },
    {
      "cell_type": "code",
      "execution_count": null,
      "metadata": {
        "id": "acNfwfSSpGf9"
      },
      "outputs": [],
      "source": [
        "from sklearn.naive_bayes import MultinomialNB\n",
        "from sklearn.multiclass import OneVsRestClassifier\n",
        "baseline_clf = OneVsRestClassifier(MultinomialNB())"
      ]
    },
    {
      "cell_type": "markdown",
      "source": [
        "### Other classifiers"
      ],
      "metadata": {
        "id": "nfWXlpS3R8sZ"
      }
    },
    {
      "cell_type": "code",
      "source": [
        "from sklearn.linear_model import LogisticRegression\n",
        "clf = OneVsRestClassifier(LogisticRegression(max_iter=1000))\n",
        "\n",
        "\"\"\"Train on the training set, tune hyperparameters on the validation set (e.g., C for Logistic Regression, max_depth for Random Forest), and evaluate on the test set later.\n",
        "Justify choices: Logistic Regression is robust for text classification, SVM excels with high-dimensional data like TF-IDF, etc.\n",
        "Since your dataset is imbalanced (e.g., PRODUTO: 6258 vs. INADEQUADA: 328), consider:\n",
        "\n",
        "Class weighting: For Logistic Regression or SVM, set class_weight='balanced' to give more importance to rare labels.\n",
        "XGBoost: It handles imbalance well with scale_pos_weight.\n",
        "\"\"\""
      ],
      "metadata": {
        "id": "UpV6xB5wR_7N"
      },
      "execution_count": null,
      "outputs": []
    },
    {
      "cell_type": "markdown",
      "source": [
        "## **Evaluation**"
      ],
      "metadata": {
        "id": "yW68W2wrSVNt"
      }
    },
    {
      "cell_type": "markdown",
      "source": [
        "## **Error Analysis**\n",
        "For your best model (highest macro-F1, say), analyze misclassifications:\n",
        "\n",
        "* False Positives/Negatives: Look at reviews where the model predicted a label incorrectly. Are short reviews (e.g., 1 word) harder to classify? Are rare labels (INADEQUADA) often missed due to imbalance?\n",
        "* Feature Importance: For Logistic Regression, check the top TF-IDF features per label (highest coefficients). Do they make sense (e.g., \"atraso\" for ENTREGA)?\n",
        "* Confusion: Since it’s multi-label, examine label co-occurrence (e.g., PRODUTO + ENTREGA misclassified as just PRODUTO)."
      ],
      "metadata": {
        "id": "Az4wGp0lSfk1"
      }
    },
    {
      "cell_type": "markdown",
      "metadata": {
        "id": "qSShKscZpGf9"
      },
      "source": [
        "### Future Work\n",
        "Sparse TF-IDF (5000 dimensions): Right now, you’re using a method called TF-IDF to turn each review into a list of 5000 numbers. Most of those numbers are zero (that’s why it’s \"sparse\"), and only a few have values that show which words matter in that review.\n",
        "\n",
        "Potentially hybrid with Word2Vec later: You could add another method, Word2Vec, which makes a shorter list of numbers (e.g., 100) that capture what words mean. If you mix TF-IDF and Word2Vec together, you get a \"hybrid\" set of features—some numbers for word importance and some for word meaning.\n",
        "\n",
        "\n",
        "### Potentially Hybrid with Word2Vec Later\n",
        "Word2Vec: This is a different way to turn words into numbers. Instead of counting how often words appear (like TF-IDF), it learns what words mean by looking at their context in your reviews.\n",
        "How it works: It creates a small list of numbers (e.g., 100, called \"dimensions\") for each word, where similar words (e.g., \"entrega\" and \"chegar\") get similar lists.\n",
        "Example: \"comprar\" might be [0.2, -0.1, 0.5, ...] (100 numbers), and \"compra\" might be close to it, like [0.25, -0.08, 0.48, ...].\n",
        "For a review: You average the Word2Vec lists of all words in a review to get one 100-number list for the whole text.\n",
        "Dense: Unlike TF-IDF, where most of the 5000 numbers are zero (sparse), Word2Vec’s 100 numbers are all non-zero (dense), packed with meaning.\n",
        "Hybrid: You can combine TF-IDF and Word2Vec:\n",
        "Take your TF-IDF list (5000 numbers, sparse).\n",
        "Add your Word2Vec list (100 numbers, dense).\n",
        "Result: A 5100-number list per review, mixing word importance (TF-IDF) and word meaning (Word2Vec).\n",
        "Why? TF-IDF catches key words (e.g., \"atrasada\" for ENTREGA), while Word2Vec catches relationships (e.g., \"atrasada\" is like \"tarde\").\n",
        "\n",
        "### How This Ties to Model Choice\n",
        "Current (TF-IDF Only): Logistic Regression or SVM loves sparse TF-IDF because they’re designed for high-dimensional, sparse data.\n",
        "Hybrid (TF-IDF + Word2Vec): Random Forest or XGBoost might shine because they handle mixed sparse + dense features well, capturing both frequency and semantics.\n",
        "For now, your dataset uses sparse TF-IDF (5000 dimensions). Adding Word2Vec later could boost performance if your baseline struggles—say, if macro-F1 is low due to label overlap (e.g., ENTREGA vs. CONDICOESDERECEBIMENTO)."
      ]
    }
  ],
  "metadata": {
    "kernelspec": {
      "display_name": "NLP_Ass1",
      "language": "python",
      "name": "python3"
    },
    "language_info": {
      "codemirror_mode": {
        "name": "ipython",
        "version": 3
      },
      "file_extension": ".py",
      "mimetype": "text/x-python",
      "name": "python",
      "nbconvert_exporter": "python",
      "pygments_lexer": "ipython3",
      "version": "3.10.16"
    },
    "colab": {
      "provenance": [],
      "collapsed_sections": [
        "dHv1V0r_pGf5"
      ]
    }
  },
  "nbformat": 4,
  "nbformat_minor": 0
}