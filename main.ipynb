{
  "cells": [
    {
      "cell_type": "code",
      "execution_count": null,
      "metadata": {
        "colab": {
          "base_uri": "https://localhost:8080/"
        },
        "id": "jff9afchpGf3",
        "outputId": "3d2853fd-910a-4f95-9580-bdeaa0ac351b"
      },
      "outputs": [],
      "source": [
        "\"\"\"! pip install datasets\n",
        "! pip install matplotlib\n",
        "! pip install scikit-learn\n",
        "! pip install spacy\n",
        "! pip install nltk\n",
        "! pip install pattern\n",
        "! pip install wordcloud\n",
        "! pip install gensim\n",
        "! pip install xgboost\n",
        "# ! python -m spacy download pt_core_news_sm\n",
        "! python -m spacy download pt_core_news_lg\"\"\""
      ]
    },
    {
      "cell_type": "code",
      "execution_count": 1,
      "metadata": {
        "colab": {
          "base_uri": "https://localhost:8080/",
          "height": 53
        },
        "id": "QDit6hBcTwUb",
        "outputId": "902cf71f-24f4-4713-dbd8-852d7203af95"
      },
      "outputs": [
        {
          "data": {
            "text/plain": [
              "'!pip uninstall -y numpy gensim scikit-learn tensorflow numba\\n!pip install numpy==1.23.5\\n!pip install gensim==4.3.2 scikit-learn==1.2.2 tensorflow==2.18.0 numba==0.60.0'"
            ]
          },
          "execution_count": 1,
          "metadata": {},
          "output_type": "execute_result"
        }
      ],
      "source": [
        "\"\"\"!pip uninstall -y numpy gensim scikit-learn tensorflow numba\n",
        "!pip install numpy==1.23.5\n",
        "!pip install gensim==4.3.2 scikit-learn==1.2.2 tensorflow==2.18.0 numba==0.60.0\"\"\""
      ]
    },
    {
      "cell_type": "code",
      "execution_count": 2,
      "metadata": {
        "id": "ZvZEpzSwpGf5"
      },
      "outputs": [
        {
          "name": "stderr",
          "output_type": "stream",
          "text": [
            "/opt/anaconda3/envs/NLP_Ass1/lib/python3.10/site-packages/tqdm/auto.py:21: TqdmWarning: IProgress not found. Please update jupyter and ipywidgets. See https://ipywidgets.readthedocs.io/en/stable/user_install.html\n",
            "  from .autonotebook import tqdm as notebook_tqdm\n"
          ]
        }
      ],
      "source": [
        "from sklearn.feature_extraction.text import TfidfVectorizer\n",
        "from nltk.stem import SnowballStemmer\n",
        "from datasets import load_dataset\n",
        "from wordcloud import WordCloud\n",
        "import matplotlib.pyplot as plt\n",
        "import pandas as pd\n",
        "import numpy as np\n",
        "import spacy\n",
        "import re"
      ]
    },
    {
      "cell_type": "markdown",
      "metadata": {
        "id": "dHv1V0r_pGf5"
      },
      "source": [
        "## **Data Loading and Understanding**"
      ]
    },
    {
      "cell_type": "code",
      "execution_count": 3,
      "metadata": {
        "colab": {
          "base_uri": "https://localhost:8080/",
          "height": 365,
          "referenced_widgets": [
            "55dbd4d9933a46d5a230f2ba98ab38d4",
            "ff25792dde18424189d6dde2f6a094bc",
            "2603110cb02649169e9abad90d473da0",
            "90dc904528b846ad823bfb43b7fcb113",
            "85623f4d39f349d19344dbea0db495cc",
            "1247ac16448847e3a7450df0761e5fe5",
            "b94a0901eced4cfbac0dc6352961e0fd",
            "76158fec5e0b455c8d9bec3c6f9272f0",
            "9193c870b4bb4433a334e567723aac5b",
            "01c16b1bdeb9431aa822b9fcdcfcf85a",
            "55876ce7e3e14d49b49a1eca387cc79a",
            "c47cce0dd15740868d1101da7345516f",
            "a7dbb0968bb746e19fef157837a92523",
            "a94aa845077548c58f19e95505f9c94a",
            "05b1d177fe1944879070794a7ba6524c",
            "bc262c84e7d14d879f2273d5199e994b",
            "5e4182a626724a1cadd620c73091950d",
            "054face69c9e489da83f7b0c9a13e2f2",
            "13c77c0d994d4b078fddfbb65b22568b",
            "4f921a19a08945daadf4234b922dd8d9",
            "db03ef3faf634723937bd63b0bdf5743",
            "ff83d248844442a6b0a9515edc2408cf",
            "580253ecc45f4abdbace93950ccf3555",
            "47c345ae9e4248c1ada37593163e4954",
            "f8a77ead79ba44d2822dfd542dc7ee74",
            "81e071c1fba14b43b3e77bc720ea5ad4",
            "8992e482e377457da2fa98f1bbca822c",
            "8920dc1efafb40579401906ded8a65bc",
            "84acb679f49143638a92daaeb5a17c51",
            "a76c5da2514d4f2197e78f11c6cf0e0c",
            "fdebe9ec20484e379e4ae5b8f1e90b49",
            "d2621e038a434c6db6cb7f89482de60f",
            "fa476e39cd7d40df8810cdc229b1aafa",
            "f249bc03ed774224a105fddeb848fe85",
            "73ddc4cfa7734011bb1fa917b1052002",
            "01eb65ca545847e6b37e527f75e8483b",
            "ed0232a544e9463dbb465e5aca4844e6",
            "a9b0a370b948487cbaa398f93a5ac29e",
            "03ce90df7012481887d8cb6f7d9a80b1",
            "44501831425d4374bebf10373eb8a12d",
            "ee28779cea59400398cc71c1221dc031",
            "621f61898aad461c83b66201dc5e35e2",
            "d115796a58f9402f8cf600e53f38c5da",
            "6169e12f5ab14872b3aab1dde74aafb2",
            "a9f18a93c4a24124aac07d6bc95ec464",
            "522d39c715e0479cb08ed92a52a851b4",
            "5b5da53e65744dad8ddcad236f87df63",
            "3efb3b3c8a8a48149ece9a7d8d138214",
            "288c951d86aa4aeab0beaa03b7d84b5d",
            "131e022346fa41e9abefa39dc71a05f4",
            "26f4e16dcf394f14a5885d414e3b3a6f",
            "b718396bebea458b80653bb19f239474",
            "66d48b1ec3074c56a9b20735e72f5900",
            "022aafa327a3457b87539066390136e7",
            "49e36ab5c36242079573965fff7041d9",
            "2657aea3695a44e78363c13ebe0fcca4",
            "f8ed7d9c007a4465a75744444e9bf82d",
            "c946ffde64c24542b2020b55354abee7",
            "616c26649fac416faa36fd6d862912c1",
            "e413fc2e24c94e1aa74b17fb379af604",
            "f7d71b43b2ee4ddea005d55d894e5055",
            "783e4bcb81e64d148e1ca0ea4a7a2d73",
            "8f1e2989b11e4de281a4d88f16020c7c",
            "dda2a3005aa74050a38a146f593439d8",
            "bffa851ed08b492a8bbbc5e344330662",
            "9898897ec09d4a23b5aa55718a978497",
            "116f4d3f3ac94b918c86da53c5ad5563",
            "3086ea9f69ba4589b76be54883e961bd",
            "44311693ec4e4666aafb8584aa2f4ffb",
            "ec7c298ca2654039ac0f5ba61a1817fd",
            "305ad6740e214bd99f5278a9abfd53b6",
            "103bf2d329034b4596c3101b75e24ac6",
            "f00644a1498c49bcad5dd8e5489711cc",
            "8fd68620b9c44caea4de01b21da98fb4",
            "54e52e2e7824487ca38d95149210f9d8",
            "9fbe2a03768e4ce1872daff2313a8d5c",
            "008bbb24a07a44269a22ffa7d7aa137a"
          ]
        },
        "id": "6ISNk-4GpGf6",
        "outputId": "f6ad7fdf-1aa3-4c8a-dbf7-f381c080f1c1"
      },
      "outputs": [],
      "source": [
        "dataset = load_dataset(\"higopires/RePro-categories-multilabel\")"
      ]
    },
    {
      "cell_type": "code",
      "execution_count": 4,
      "metadata": {
        "colab": {
          "base_uri": "https://localhost:8080/"
        },
        "id": "fcaV-dlWpGf6",
        "outputId": "0e443320-61a3-4b84-e4eb-7903ef57f37a"
      },
      "outputs": [
        {
          "name": "stdout",
          "output_type": "stream",
          "text": [
            "train: 8002 examples\n",
            "validation: 994 examples\n",
            "test: 1007 examples\n"
          ]
        }
      ],
      "source": [
        "# Ver número de exemplos em cada divisão do dataset\n",
        "for split in dataset.keys():\n",
        "    print(f\"{split}: {len(dataset[split])} examples\")"
      ]
    },
    {
      "cell_type": "code",
      "execution_count": 5,
      "metadata": {
        "id": "zh10cZ4ApGf6"
      },
      "outputs": [],
      "source": [
        "train_dataset = dataset[\"train\"]\n",
        "val_dataset = dataset[\"validation\"]\n",
        "test_dataset = dataset[\"test\"]\n",
        "\n",
        "train_data = pd.DataFrame(train_dataset)\n",
        "val_data = pd.DataFrame(val_dataset)\n",
        "test_data = pd.DataFrame(test_dataset)"
      ]
    },
    {
      "cell_type": "code",
      "execution_count": 6,
      "metadata": {
        "colab": {
          "base_uri": "https://localhost:8080/",
          "height": 206
        },
        "id": "c6ysp_4spGf6",
        "outputId": "cc921369-4793-48bd-abc5-430535316081"
      },
      "outputs": [
        {
          "data": {
            "text/html": [
              "<div>\n",
              "<style scoped>\n",
              "    .dataframe tbody tr th:only-of-type {\n",
              "        vertical-align: middle;\n",
              "    }\n",
              "\n",
              "    .dataframe tbody tr th {\n",
              "        vertical-align: top;\n",
              "    }\n",
              "\n",
              "    .dataframe thead th {\n",
              "        text-align: right;\n",
              "    }\n",
              "</style>\n",
              "<table border=\"1\" class=\"dataframe\">\n",
              "  <thead>\n",
              "    <tr style=\"text-align: right;\">\n",
              "      <th></th>\n",
              "      <th>review_text</th>\n",
              "      <th>ENTREGA</th>\n",
              "      <th>OUTROS</th>\n",
              "      <th>PRODUTO</th>\n",
              "      <th>CONDICOESDERECEBIMENTO</th>\n",
              "      <th>INADEQUADA</th>\n",
              "      <th>ANUNCIO</th>\n",
              "    </tr>\n",
              "  </thead>\n",
              "  <tbody>\n",
              "    <tr>\n",
              "      <th>0</th>\n",
              "      <td>Aparelho muito bom, confiável e com valor aqui...</td>\n",
              "      <td>0</td>\n",
              "      <td>0</td>\n",
              "      <td>1</td>\n",
              "      <td>0</td>\n",
              "      <td>0</td>\n",
              "      <td>0</td>\n",
              "    </tr>\n",
              "    <tr>\n",
              "      <th>1</th>\n",
              "      <td>A história é muito boa, porém o autor \"enrolou...</td>\n",
              "      <td>0</td>\n",
              "      <td>0</td>\n",
              "      <td>1</td>\n",
              "      <td>0</td>\n",
              "      <td>0</td>\n",
              "      <td>0</td>\n",
              "    </tr>\n",
              "    <tr>\n",
              "      <th>2</th>\n",
              "      <td>Entrega rápida, produto muito bom Amei. Pratic...</td>\n",
              "      <td>1</td>\n",
              "      <td>0</td>\n",
              "      <td>1</td>\n",
              "      <td>0</td>\n",
              "      <td>0</td>\n",
              "      <td>0</td>\n",
              "    </tr>\n",
              "    <tr>\n",
              "      <th>3</th>\n",
              "      <td>Produto otimo so falta o carregador da maquina...</td>\n",
              "      <td>0</td>\n",
              "      <td>0</td>\n",
              "      <td>1</td>\n",
              "      <td>1</td>\n",
              "      <td>0</td>\n",
              "      <td>0</td>\n",
              "    </tr>\n",
              "    <tr>\n",
              "      <th>4</th>\n",
              "      <td>a proteção anti queda não é boa  se cair de fr...</td>\n",
              "      <td>0</td>\n",
              "      <td>0</td>\n",
              "      <td>1</td>\n",
              "      <td>0</td>\n",
              "      <td>0</td>\n",
              "      <td>0</td>\n",
              "    </tr>\n",
              "  </tbody>\n",
              "</table>\n",
              "</div>"
            ],
            "text/plain": [
              "                                         review_text  ENTREGA  OUTROS  \\\n",
              "0  Aparelho muito bom, confiável e com valor aqui...        0       0   \n",
              "1  A história é muito boa, porém o autor \"enrolou...        0       0   \n",
              "2  Entrega rápida, produto muito bom Amei. Pratic...        1       0   \n",
              "3  Produto otimo so falta o carregador da maquina...        0       0   \n",
              "4  a proteção anti queda não é boa  se cair de fr...        0       0   \n",
              "\n",
              "   PRODUTO  CONDICOESDERECEBIMENTO  INADEQUADA  ANUNCIO  \n",
              "0        1                       0           0        0  \n",
              "1        1                       0           0        0  \n",
              "2        1                       0           0        0  \n",
              "3        1                       1           0        0  \n",
              "4        1                       0           0        0  "
            ]
          },
          "execution_count": 6,
          "metadata": {},
          "output_type": "execute_result"
        }
      ],
      "source": [
        "train_data.head()"
      ]
    },
    {
      "cell_type": "markdown",
      "metadata": {
        "id": "F1IscX0MpGf6"
      },
      "source": [
        "Checking the missing values"
      ]
    },
    {
      "cell_type": "code",
      "execution_count": 7,
      "metadata": {
        "colab": {
          "base_uri": "https://localhost:8080/",
          "height": 303
        },
        "id": "tsMJLdC7pGf6",
        "outputId": "929c4d0c-94ec-4e88-cf3b-e4a98ff16a95"
      },
      "outputs": [
        {
          "data": {
            "text/plain": [
              "review_text               0\n",
              "ENTREGA                   0\n",
              "OUTROS                    0\n",
              "PRODUTO                   0\n",
              "CONDICOESDERECEBIMENTO    0\n",
              "INADEQUADA                0\n",
              "ANUNCIO                   0\n",
              "dtype: int64"
            ]
          },
          "execution_count": 7,
          "metadata": {},
          "output_type": "execute_result"
        }
      ],
      "source": [
        "train_data.isnull().sum()"
      ]
    },
    {
      "cell_type": "markdown",
      "metadata": {
        "id": "5MGyMvDIpGf6"
      },
      "source": [
        "Example of some reviews"
      ]
    },
    {
      "cell_type": "code",
      "execution_count": 8,
      "metadata": {
        "colab": {
          "base_uri": "https://localhost:8080/"
        },
        "id": "uIbkL7RHpGf7",
        "outputId": "d1b78b78-d1c6-473b-8520-e8090a6057ba"
      },
      "outputs": [
        {
          "name": "stdout",
          "output_type": "stream",
          "text": [
            "Entrega rápida, produto muito bom Amei. Praticidade\n"
          ]
        }
      ],
      "source": [
        "print(train_data[\"review_text\"][2])"
      ]
    },
    {
      "cell_type": "code",
      "execution_count": 9,
      "metadata": {
        "colab": {
          "base_uri": "https://localhost:8080/"
        },
        "id": "N8WisrZ-pGf7",
        "outputId": "17b829be-6fb8-45d3-a12d-d937df232a86"
      },
      "outputs": [
        {
          "name": "stdout",
          "output_type": "stream",
          "text": [
            "...................     ..........gdssdfhhbcxxxxvbjjnvvvvbbbbbvxfvhbbbnncftg\n"
          ]
        }
      ],
      "source": [
        "print(train_data[\"review_text\"][7])"
      ]
    },
    {
      "cell_type": "code",
      "execution_count": 10,
      "metadata": {
        "colab": {
          "base_uri": "https://localhost:8080/"
        },
        "id": "9DDcTix8pGf7",
        "outputId": "43d82a1e-c802-4208-e6ee-21419e02d8d6"
      },
      "outputs": [
        {
          "name": "stdout",
          "output_type": "stream",
          "text": [
            "<class 'str'>\n",
            "<class 'numpy.int64'>\n"
          ]
        }
      ],
      "source": [
        "# check data type of review_text\n",
        "print(type(train_data[\"review_text\"][0]))\n",
        "# check data type of label PRODUTO\n",
        "print(type(train_data[\"PRODUTO\"][0]))"
      ]
    },
    {
      "cell_type": "code",
      "execution_count": 11,
      "metadata": {
        "colab": {
          "base_uri": "https://localhost:8080/",
          "height": 35
        },
        "id": "TWJhfEM6pGf7",
        "outputId": "e4e497c5-8b83-4ca2-e5ed-77f04720f5fe"
      },
      "outputs": [
        {
          "data": {
            "text/plain": [
              "\"train_data['length'] = train_data['review_text'].apply(len)\\ntrain_data.head()\""
            ]
          },
          "execution_count": 11,
          "metadata": {},
          "output_type": "execute_result"
        }
      ],
      "source": [
        "\"\"\"train_data['length'] = train_data['review_text'].apply(len)\n",
        "train_data.head()\"\"\""
      ]
    },
    {
      "cell_type": "code",
      "execution_count": 12,
      "metadata": {
        "colab": {
          "base_uri": "https://localhost:8080/"
        },
        "id": "fextcby8pGf7",
        "outputId": "6a129740-50c3-4938-84c5-954e03795863"
      },
      "outputs": [
        {
          "name": "stdout",
          "output_type": "stream",
          "text": [
            "Labels: ['ENTREGA', 'OUTROS', 'PRODUTO', 'CONDICOESDERECEBIMENTO', 'INADEQUADA', 'ANUNCIO']\n",
            "Number of labels: 6\n"
          ]
        }
      ],
      "source": [
        "# Obter as colunas (nomes dos labels)\n",
        "columns = list(dataset[\"train\"].features.keys())\n",
        "labels = columns[1:]  # Excluindo 'review_text'\n",
        "\n",
        "print(\"Labels:\", labels)\n",
        "print(\"Number of labels:\", len(labels))"
      ]
    },
    {
      "cell_type": "code",
      "execution_count": 13,
      "metadata": {
        "id": "QG94N4FdpGf7"
      },
      "outputs": [],
      "source": [
        "# Label columns\n",
        "label_cols = ['ENTREGA', 'OUTROS', 'PRODUTO', 'CONDICOESDERECEBIMENTO', 'INADEQUADA', 'ANUNCIO']"
      ]
    },
    {
      "cell_type": "markdown",
      "metadata": {
        "id": "RnuvxLoMsdUr"
      },
      "source": [
        "## **EDA**"
      ]
    },
    {
      "cell_type": "code",
      "execution_count": 14,
      "metadata": {
        "colab": {
          "base_uri": "https://localhost:8080/",
          "height": 645
        },
        "id": "jHFrJLlNpGf7",
        "outputId": "6d92098b-8f2a-49e1-e2a0-a12b22cbf828"
      },
      "outputs": [
        {
          "name": "stdout",
          "output_type": "stream",
          "text": [
            "{'PRODUTO': 6258, 'ENTREGA': 2488, 'OUTROS': 1885, 'CONDICOESDERECEBIMENTO': 1369, 'ANUNCIO': 699, 'INADEQUADA': 328}\n"
          ]
        },
        {
          "data": {
            "image/png": "[encoded data removed]",
            "text/plain": [
              "<Figure size 1200x500 with 1 Axes>"
            ]
          },
          "metadata": {},
          "output_type": "display_data"
        }
      ],
      "source": [
        "label_counts = train_data.iloc[:, 1:].sum()\n",
        "\n",
        "# Ordenar por frequência\n",
        "label_counts = dict(sorted(label_counts.items(), key=lambda item: item[1], reverse=True))\n",
        "\n",
        "print(label_counts)\n",
        "\n",
        "# Plotar gráfico\n",
        "plt.figure(figsize=(12, 5))\n",
        "plt.bar(label_counts.keys(), label_counts.values(), color=\"skyblue\")\n",
        "plt.xticks(rotation=45, ha=\"right\")\n",
        "plt.xlabel(\"Categories\")\n",
        "plt.ylabel(\"Number of examples\")\n",
        "plt.title(\"Categories Distribution\")\n",
        "plt.show()"
      ]
    },
    {
      "cell_type": "code",
      "execution_count": 15,
      "metadata": {
        "colab": {
          "base_uri": "https://localhost:8080/",
          "height": 594
        },
        "id": "YirYGqhIpGf7",
        "outputId": "19b4ede5-c954-4084-d203-162821b65f1f"
      },
      "outputs": [
        {
          "name": "stdout",
          "output_type": "stream",
          "text": [
            "Number of labels per review distribution:\n",
            "1    4188\n",
            "2    2741\n",
            "3     943\n",
            "4     122\n",
            "5       8\n",
            "Name: count, dtype: int64\n"
          ]
        },
        {
          "data": {
            "image/png": "[encoded data removed]",
            "text/plain": [
              "<Figure size 640x480 with 1 Axes>"
            ]
          },
          "metadata": {},
          "output_type": "display_data"
        }
      ],
      "source": [
        "label_counts_per_review = train_data[label_cols].sum(axis=1)\n",
        "print(\"Number of labels per review distribution:\")\n",
        "print(pd.Series(label_counts_per_review).value_counts())\n",
        "\n",
        "plt.hist(label_counts_per_review, bins=range(1, 7), align='left', rwidth=0.8)\n",
        "plt.title(\"Distribution of Labels per Review\")\n",
        "plt.xlabel(\"Number of Labels\")\n",
        "plt.ylabel(\"Number of Reviews\")\n",
        "plt.show()"
      ]
    },
    {
      "cell_type": "markdown",
      "metadata": {
        "id": "uhOJhNjKpGf8"
      },
      "source": [
        "* 4188 reviews have exactly 1 label\n",
        "* 2741 reviews have exactly 2 labels\n",
        "* 943 reviews have exactly 3 labels\n",
        "* 122 reviews have exactly 4 labels\n",
        "* 8 reviews have exactly 5 labels"
      ]
    },
    {
      "cell_type": "code",
      "execution_count": 16,
      "metadata": {
        "colab": {
          "base_uri": "https://localhost:8080/",
          "height": 694
        },
        "id": "elcXQ4u0pGf8",
        "outputId": "48997cc6-5981-440e-9b8b-cb247f8794df"
      },
      "outputs": [
        {
          "data": {
            "image/png": "[encoded data removed]",
            "text/plain": [
              "<Figure size 800x800 with 1 Axes>"
            ]
          },
          "metadata": {},
          "output_type": "display_data"
        }
      ],
      "source": [
        "label_counts = label_counts_per_review.value_counts().values\n",
        "total_reviews = 8002 # number of training examples\n",
        "percentages = [count / total_reviews * 100 for count in label_counts]\n",
        "labels = ['1 Label (52%)', '2 Labels (34%)', '3 Labels (12%)', '4 Labels (2%)', '5 Labels (<1%)']\n",
        "\n",
        "# Create pie chart\n",
        "plt.figure(figsize=(8, 8))\n",
        "# Add explode to pull out small slices, and adjust label distance\n",
        "explode = [0, 0, 0, 0.2, 0.4]  # Pull out 4 and 5 labels a bit\n",
        "wedges, texts, autotexts = plt.pie(percentages, labels=labels, autopct='%1.0f%%', startangle=90,\n",
        "                                   colors=['#FF9999', '#66B2FF', '#99FF99', '#FFCC99', '#FF99CC'],\n",
        "                                   explode=explode, labeldistance=1.1, pctdistance=0.7)\n",
        "\n",
        "# Customize text for readability\n",
        "for text in texts:\n",
        "    text.set_fontsize(12)  # Bigger label text\n",
        "for autotext in autotexts:\n",
        "    autotext.set_fontsize(10)  # Bigger percentage text\n",
        "    autotext.set_color('black')  # Black for contrast\n",
        "\n",
        "plt.title(\"Distribution of Labels per Review (8002 Reviews)\", pad=20)\n",
        "plt.axis('equal')  # Keep it circular\n",
        "plt.show()"
      ]
    },
    {
      "cell_type": "code",
      "execution_count": 17,
      "metadata": {
        "colab": {
          "base_uri": "https://localhost:8080/"
        },
        "id": "FTpNBR87pGf8",
        "outputId": "7c03a91d-c94c-4dba-dc02-6565f04d8ccd"
      },
      "outputs": [
        {
          "name": "stdout",
          "output_type": "stream",
          "text": [
            "Average text length: 24.58 words\n",
            "Maximum text length: 428 words\n",
            "Minimum text length: 1 words\n"
          ]
        }
      ],
      "source": [
        "text_lengths = [len(example[\"review_text\"].split()) for example in dataset[\"train\"]]\n",
        "\n",
        "print(f\"Average text length: {np.mean(text_lengths):.2f} words\")\n",
        "print(f\"Maximum text length: {np.max(text_lengths)} words\")\n",
        "print(f\"Minimum text length: {np.min(text_lengths)} words\")"
      ]
    },
    {
      "cell_type": "markdown",
      "metadata": {
        "id": "Ur2eEW7Msotn"
      },
      "source": [
        "## **Preprocessing**"
      ]
    },
    {
      "cell_type": "code",
      "execution_count": 18,
      "metadata": {
        "id": "yUrS88PJullN"
      },
      "outputs": [],
      "source": [
        "# Load the Portuguese language model\n",
        "nlp = spacy.load('pt_core_news_lg')\n",
        "\n",
        "# Initialize the Snowball Stemmer for Portuguese\n",
        "stemmer = SnowballStemmer(\"portuguese\")\n",
        "\n",
        "def preprocess_text(text, method=\"lemma\"):\n",
        "    \"\"\"\n",
        "    Preprocess text by applying lemmatization or stemming.\n",
        "\n",
        "    Parameters:\n",
        "    - text (str): Input text\n",
        "    - method (str): \"lemma\" for lemmatization, \"stem\" for stemming\n",
        "\n",
        "    Returns:\n",
        "    - str: Preprocessed text\n",
        "    \"\"\"\n",
        "    # Lowercase\n",
        "    text = text.lower()\n",
        "    # Remove punctuation and numbers\n",
        "    text = re.sub(r'[^\\w\\s]', '', text)\n",
        "    text = re.sub(r'\\d+', '', text)\n",
        "\n",
        "    # Tokenization and processing\n",
        "    doc = nlp(text)\n",
        "\n",
        "    if method == \"lemma\":\n",
        "        tokens = [token.lemma_ for token in doc if not token.is_stop]\n",
        "    elif method == \"stem\":\n",
        "        tokens = [stemmer.stem(token.text) for token in doc if not token.is_stop]\n",
        "    else:\n",
        "        raise ValueError(\"Method must be 'lemma' or 'stem'\")\n",
        "\n",
        "    return ' '.join(tokens)\n",
        "\n",
        "# Apply preprocessing with both methods to compare\n",
        "train_data['lemmatized_reviews'] = train_data['review_text'].apply(lambda x: preprocess_text(x, method=\"lemma\"))\n",
        "train_data['stemmed_reviews'] = train_data['review_text'].apply(lambda x: preprocess_text(x, method=\"stem\"))\n",
        "\n",
        "val_data['lemmatized_reviews'] = val_data['review_text'].apply(lambda x: preprocess_text(x, method=\"lemma\"))\n",
        "val_data['stemmed_reviews'] = val_data['review_text'].apply(lambda x: preprocess_text(x, method=\"stem\"))\n",
        "\n",
        "test_data['lemmatized_reviews'] = test_data['review_text'].apply(lambda x: preprocess_text(x, method=\"lemma\"))\n",
        "test_data['stemmed_reviews'] = test_data['review_text'].apply(lambda x: preprocess_text(x, method=\"stem\"))\n"
      ]
    },
    {
      "cell_type": "code",
      "execution_count": 19,
      "metadata": {
        "colab": {
          "base_uri": "https://localhost:8080/"
        },
        "id": "zWhSRJlquzlA",
        "outputId": "9d82d511-4192-48b7-87b0-39e65e27386e"
      },
      "outputs": [
        {
          "name": "stdout",
          "output_type": "stream",
          "text": [
            "Original: Aparelho muito bom, confiável e com valor aquisitivo em conta, ou seja: tudo que a massa precisa!\n",
            "Lemmatized: aparelho confiável aquisitivo conta ser massa precisar\n",
            "Stemmed: aparelh confiável aquisit cont sej mass precis\n"
          ]
        }
      ],
      "source": [
        "print(\"Original:\", train_data['review_text'].iloc[0])\n",
        "print(\"Lemmatized:\", train_data['lemmatized_reviews'].iloc[0])\n",
        "print(\"Stemmed:\", train_data['stemmed_reviews'].iloc[0])"
      ]
    },
    {
      "cell_type": "code",
      "execution_count": 20,
      "metadata": {
        "colab": {
          "base_uri": "https://localhost:8080/",
          "height": 293
        },
        "id": "Fw8qtfHLw4xG",
        "outputId": "371ab8d0-cd4d-496c-c144-d80e1b1d06a1"
      },
      "outputs": [
        {
          "data": {
            "text/html": [
              "<div>\n",
              "<style scoped>\n",
              "    .dataframe tbody tr th:only-of-type {\n",
              "        vertical-align: middle;\n",
              "    }\n",
              "\n",
              "    .dataframe tbody tr th {\n",
              "        vertical-align: top;\n",
              "    }\n",
              "\n",
              "    .dataframe thead th {\n",
              "        text-align: right;\n",
              "    }\n",
              "</style>\n",
              "<table border=\"1\" class=\"dataframe\">\n",
              "  <thead>\n",
              "    <tr style=\"text-align: right;\">\n",
              "      <th></th>\n",
              "      <th>review_text</th>\n",
              "      <th>ENTREGA</th>\n",
              "      <th>OUTROS</th>\n",
              "      <th>PRODUTO</th>\n",
              "      <th>CONDICOESDERECEBIMENTO</th>\n",
              "      <th>INADEQUADA</th>\n",
              "      <th>ANUNCIO</th>\n",
              "      <th>lemmatized_reviews</th>\n",
              "      <th>stemmed_reviews</th>\n",
              "    </tr>\n",
              "  </thead>\n",
              "  <tbody>\n",
              "    <tr>\n",
              "      <th>0</th>\n",
              "      <td>Aparelho muito bom, confiável e com valor aqui...</td>\n",
              "      <td>0</td>\n",
              "      <td>0</td>\n",
              "      <td>1</td>\n",
              "      <td>0</td>\n",
              "      <td>0</td>\n",
              "      <td>0</td>\n",
              "      <td>aparelho confiável aquisitivo conta ser massa ...</td>\n",
              "      <td>aparelh confiável aquisit cont sej mass precis</td>\n",
              "    </tr>\n",
              "    <tr>\n",
              "      <th>1</th>\n",
              "      <td>A história é muito boa, porém o autor \"enrolou...</td>\n",
              "      <td>0</td>\n",
              "      <td>0</td>\n",
              "      <td>1</td>\n",
              "      <td>0</td>\n",
              "      <td>0</td>\n",
              "      <td>0</td>\n",
              "      <td>história autor enrolar livro</td>\n",
              "      <td>histór autor enrol livr</td>\n",
              "    </tr>\n",
              "    <tr>\n",
              "      <th>2</th>\n",
              "      <td>Entrega rápida, produto muito bom Amei. Pratic...</td>\n",
              "      <td>1</td>\n",
              "      <td>0</td>\n",
              "      <td>1</td>\n",
              "      <td>0</td>\n",
              "      <td>0</td>\n",
              "      <td>0</td>\n",
              "      <td>entregar rápido produto amar praticidade</td>\n",
              "      <td>entreg ráp produt ame pratic</td>\n",
              "    </tr>\n",
              "    <tr>\n",
              "      <th>3</th>\n",
              "      <td>Produto otimo so falta o carregador da maquina...</td>\n",
              "      <td>0</td>\n",
              "      <td>0</td>\n",
              "      <td>1</td>\n",
              "      <td>1</td>\n",
              "      <td>0</td>\n",
              "      <td>0</td>\n",
              "      <td>produto otimo so carregador maquina pequeno</td>\n",
              "      <td>produt otim so carreg maquin pequen</td>\n",
              "    </tr>\n",
              "    <tr>\n",
              "      <th>4</th>\n",
              "      <td>a proteção anti queda não é boa  se cair de fr...</td>\n",
              "      <td>0</td>\n",
              "      <td>0</td>\n",
              "      <td>1</td>\n",
              "      <td>0</td>\n",
              "      <td>0</td>\n",
              "      <td>0</td>\n",
              "      <td>proteção anti queda   cair frente tela</td>\n",
              "      <td>proteçã anti qued   cair frent tel</td>\n",
              "    </tr>\n",
              "  </tbody>\n",
              "</table>\n",
              "</div>"
            ],
            "text/plain": [
              "                                         review_text  ENTREGA  OUTROS  \\\n",
              "0  Aparelho muito bom, confiável e com valor aqui...        0       0   \n",
              "1  A história é muito boa, porém o autor \"enrolou...        0       0   \n",
              "2  Entrega rápida, produto muito bom Amei. Pratic...        1       0   \n",
              "3  Produto otimo so falta o carregador da maquina...        0       0   \n",
              "4  a proteção anti queda não é boa  se cair de fr...        0       0   \n",
              "\n",
              "   PRODUTO  CONDICOESDERECEBIMENTO  INADEQUADA  ANUNCIO  \\\n",
              "0        1                       0           0        0   \n",
              "1        1                       0           0        0   \n",
              "2        1                       0           0        0   \n",
              "3        1                       1           0        0   \n",
              "4        1                       0           0        0   \n",
              "\n",
              "                                  lemmatized_reviews  \\\n",
              "0  aparelho confiável aquisitivo conta ser massa ...   \n",
              "1                       história autor enrolar livro   \n",
              "2           entregar rápido produto amar praticidade   \n",
              "3        produto otimo so carregador maquina pequeno   \n",
              "4             proteção anti queda   cair frente tela   \n",
              "\n",
              "                                  stemmed_reviews  \n",
              "0  aparelh confiável aquisit cont sej mass precis  \n",
              "1                         histór autor enrol livr  \n",
              "2                    entreg ráp produt ame pratic  \n",
              "3             produt otim so carreg maquin pequen  \n",
              "4              proteçã anti qued   cair frent tel  "
            ]
          },
          "execution_count": 20,
          "metadata": {},
          "output_type": "execute_result"
        }
      ],
      "source": [
        "train_data.head()"
      ]
    },
    {
      "cell_type": "markdown",
      "metadata": {
        "id": "K4iHThP60jKp"
      },
      "source": [
        "Part Of Speech (POS) serves to identify nouns, verbs, etc., and filtered to keep only certain POS tags (e.g., nouns) before feature extraction. We didn't apply POS, because lemmatization already simplifies terms and multi-label needs flexible features (not just nouns or adjectives), so this technique might be redundant."
      ]
    },
    {
      "cell_type": "markdown",
      "metadata": {
        "id": "MhoPLKR1pGf8"
      },
      "source": [
        "## **Feature Extraction**"
      ]
    },
    {
      "cell_type": "markdown",
      "metadata": {
        "id": "H0GWRnSz5O2I"
      },
      "source": [
        "## **1- TF-IDF**"
      ]
    },
    {
      "cell_type": "markdown",
      "metadata": {
        "id": "eWjiQNEspGf8"
      },
      "source": [
        "### **1.1- Unigram TF-IDF Vectorization**"
      ]
    },
    {
      "cell_type": "code",
      "execution_count": 21,
      "metadata": {
        "colab": {
          "base_uri": "https://localhost:8080/"
        },
        "id": "MagfhZAvpGf8",
        "outputId": "7f9f4c68-2f06-4823-86e9-afa36f42d26b"
      },
      "outputs": [
        {
          "name": "stdout",
          "output_type": "stream",
          "text": [
            "Top 20 unigrams by TF-IDF score:\n",
            "produto: 488.2262\n",
            "recomendar: 234.1057\n",
            "chegar: 203.3263\n",
            "comprar: 199.9689\n",
            "prazo: 194.0114\n",
            "qualidade: 185.3566\n",
            "gostar: 182.2771\n",
            "entregar: 181.8631\n",
            "entrega: 173.2043\n",
            "rápido: 154.2068\n",
            "excelente: 151.3629\n",
            "bom: 146.1159\n",
            "dia: 143.8600\n",
            "recebi: 136.4783\n",
            "vir: 136.1746\n",
            "super: 119.6697\n",
            "ótimo: 114.8176\n",
            "atender: 106.3468\n",
            "compra: 105.3768\n",
            "pra: 98.0093\n"
          ]
        }
      ],
      "source": [
        "# Initialize the TF-IDF vectorizer\n",
        "tfidf_vectorizer = TfidfVectorizer()\n",
        "\n",
        "# Fit on the training data and transform it into TF-IDF features\n",
        "X_train_tfidf = tfidf_vectorizer.fit_transform(train_data['lemmatized_reviews'])\n",
        "# Transform the validation and test data using the same vectorizer\n",
        "X_val_tfidf = tfidf_vectorizer.transform(val_data['lemmatized_reviews'])\n",
        "X_test_tfidf = tfidf_vectorizer.transform(test_data['lemmatized_reviews'])\n",
        "\n",
        "# Check the shape of the TF-IDF features, these are sparse matrices containing the TF-IDF features for the training, validation, and test sets, respectively.\n",
        "# each row is a document and each column is a word\n",
        "\"\"\"print(\"Training data shape:\", X_train_tfidf.shape)\n",
        "print(\"Validation data shape:\", X_val_tfidf.shape)\n",
        "print(\"Test data shape:\", X_test_tfidf.shape, end=\"\\n\\n\")\"\"\"\n",
        "\n",
        "# Sum the TF-IDF scores for each word across all documents\n",
        "tfidf_scores = np.asarray(X_train_tfidf.sum(axis=0)).flatten()\n",
        "\n",
        "# Get the feature names (words in the vocabulary)\n",
        "feature_names = tfidf_vectorizer.get_feature_names_out()\n",
        "\n",
        "# Create a dictionary of words and their corresponding TF-IDF scores\n",
        "word_tfidf_scores = dict(zip(feature_names, tfidf_scores))\n",
        "\n",
        "# Sort the words by their TF-IDF scores in descending order\n",
        "sorted_words = sorted(word_tfidf_scores.items(), key=lambda x: x[1], reverse=True)\n",
        "\n",
        "# Print the top 20 words\n",
        "print(\"Top 20 unigrams by TF-IDF score:\")\n",
        "for word, score in sorted_words[:20]:\n",
        "    print(f\"{word}: {score:.4f}\")"
      ]
    },
    {
      "cell_type": "markdown",
      "metadata": {
        "id": "wJjf4sSCpGf8"
      },
      "source": [
        "### **1.2- Bigram TF-IDF Vectorization**"
      ]
    },
    {
      "cell_type": "code",
      "execution_count": 22,
      "metadata": {
        "colab": {
          "base_uri": "https://localhost:8080/"
        },
        "id": "zcxnv5jGpGf8",
        "outputId": "94b2c099-694b-42d1-a22e-87a7c4e8ad6e"
      },
      "outputs": [
        {
          "name": "stdout",
          "output_type": "stream",
          "text": [
            "\n",
            "Top 20 bigrams by TF-IDF score:\n",
            "recebi produto: 55.4152\n",
            "chegar prazo: 55.0975\n",
            "produto chegar: 49.3651\n",
            "gostar produto: 47.2966\n",
            "entregar prazo: 47.2189\n",
            "produto entregar: 41.0208\n",
            "atender expectativa: 37.7258\n",
            "ótimo qualidade: 37.1043\n",
            "produto excelente: 34.6375\n",
            "bom produto: 33.2058\n",
            "produto qualidade: 32.6299\n",
            "produto ótimo: 32.1825\n",
            "excelente produto: 30.1993\n",
            "entregar rápido: 29.5193\n",
            "super recomendar: 29.4634\n",
            "produto atender: 28.9780\n",
            "produto vir: 28.8988\n",
            "super rápido: 28.6211\n",
            "valer pena: 28.4338\n",
            "comprar produto: 27.4269\n"
          ]
        }
      ],
      "source": [
        "from sklearn.feature_extraction.text import TfidfVectorizer\n",
        "import numpy as np\n",
        "\n",
        "# Define the TF-IDF vectorizer with unigrams and bigrams\n",
        "tfidf_bigram = TfidfVectorizer(ngram_range=(2, 2))  # Unigrams + bigrams\n",
        "\n",
        "# Fit and transform the training data\n",
        "X_train_tfidf_bi = tfidf_bigram.fit_transform(train_data['lemmatized_reviews'])\n",
        "# Transform the validation and test data\n",
        "X_val_tfidf_bi = tfidf_bigram.transform(val_data['lemmatized_reviews'])\n",
        "X_test_tfidf_bi = tfidf_bigram.transform(test_data['lemmatized_reviews'])\n",
        "\n",
        "# Calculate the sum of TF-IDF scores for each feature (word/phrase)\n",
        "tfidf_scores_bi = np.asarray(X_train_tfidf_bi.sum(axis=0)).flatten()\n",
        "# Get the feature names (words/phrases)\n",
        "feature_names_bi = tfidf_bigram.get_feature_names_out()\n",
        "# Create a dictionary of words/phrases and their corresponding TF-IDF scores\n",
        "word_tfidf_scores_bi = dict(zip(feature_names_bi, tfidf_scores_bi))\n",
        "# Sort the words/phrases by their TF-IDF scores in descending order\n",
        "sorted_words_bi = sorted(word_tfidf_scores_bi.items(), key=lambda x: x[1], reverse=True)\n",
        "\n",
        "# Print the top 20 unigrams and bigrams by TF-IDF score\n",
        "print(\"\\nTop 20 bigrams by TF-IDF score:\")\n",
        "for word, score in sorted_words_bi[:20]:\n",
        "    print(f\"{word}: {score:.4f}\")"
      ]
    },
    {
      "cell_type": "markdown",
      "metadata": {
        "id": "uOagb3IzpGf9"
      },
      "source": [
        "### **1.3- Unigram + Bigram TF-IDF Vectorization**"
      ]
    },
    {
      "cell_type": "code",
      "execution_count": 37,
      "metadata": {
        "colab": {
          "base_uri": "https://localhost:8080/"
        },
        "id": "nmgaYqp2pGf9",
        "outputId": "9b34da8f-5c15-4497-978c-f0f90d1ad060"
      },
      "outputs": [
        {
          "name": "stdout",
          "output_type": "stream",
          "text": [
            "Feature space size: 11400\n",
            "\n",
            "Top 20 unigrams + bigrams by TF-IDF score\n",
            "produto: 356.8034\n",
            "recomendar: 164.9192\n",
            "comprar: 160.5778\n",
            "chegar: 145.4203\n",
            "gostar: 137.9903\n",
            "qualidade: 131.3312\n",
            "prazo: 131.2037\n",
            "entregar: 125.6497\n",
            "entrega: 120.5678\n",
            "bom: 109.9173\n",
            "dia: 109.1038\n",
            "vir: 107.8224\n",
            "excelente: 106.4761\n",
            "rápido: 105.7967\n",
            "recebi: 101.3937\n",
            "super: 85.7864\n",
            "pra: 79.7878\n",
            "ótimo: 79.4835\n",
            "atender: 78.4346\n",
            "compra: 78.0960\n"
          ]
        }
      ],
      "source": [
        "def create_tfidf_features_uni_bi(train_texts, val_texts, test_texts, min_df=2, max_features=None):\n",
        "    \"\"\"\n",
        "    Generate TF-IDF features with specified min_df and max_features.\n",
        "    \n",
        "    Parameters:\n",
        "    - train_texts: Training data (e.g., train_data['lemmatized_reviews'])\n",
        "    - val_texts: Validation data (e.g., val_data['lemmatized_reviews'])\n",
        "    - test_texts: Test data (e.g., test_data['lemmatized_reviews'])\n",
        "    - min_df: Minimum document frequency (default=2)\n",
        "    - max_features: Maximum number of features (default=None, no limit)\n",
        "    \n",
        "    Returns:\n",
        "    - X_train_tfidf, X_val_tfidf, X_test_tfidf: TF-IDF matrices\n",
        "    - feature_names: List of feature names\n",
        "    \"\"\"\n",
        "    # Define TF-IDF vectorizer with unigrams and bigrams\n",
        "    tfidf = TfidfVectorizer(ngram_range=(1, 2), min_df=min_df, max_features=max_features)\n",
        "    \n",
        "    # Fit and transform training data\n",
        "    X_train_tfidf = tfidf.fit_transform(train_texts)\n",
        "    # Transform validation and test data\n",
        "    X_val_tfidf = tfidf.transform(val_texts)\n",
        "    X_test_tfidf = tfidf.transform(test_texts)\n",
        "    \n",
        "    # Get feature names and scores\n",
        "    feature_names = tfidf.get_feature_names_out()\n",
        "    tfidf_scores = np.asarray(X_train_tfidf.sum(axis=0)).flatten()\n",
        "    word_tfidf_scores = dict(zip(feature_names, tfidf_scores))\n",
        "    sorted_words = sorted(word_tfidf_scores.items(), key=lambda x: x[1], reverse=True)\n",
        "    \n",
        "    \n",
        "    print(f\"Feature space size: {X_train_tfidf.shape[1]}\")\n",
        "    return X_train_tfidf, X_val_tfidf, X_test_tfidf, feature_names, sorted_words[:20]\n",
        "\n",
        "# Example usage (you can change parameters here)\n",
        "X_train_tfidf_bi, X_val_tfidf_bi, X_test_tfidf_bi, feature_names_bi, sorted_words = create_tfidf_features_uni_bi(\n",
        "    train_data['lemmatized_reviews'],\n",
        "    val_data['lemmatized_reviews'],\n",
        "    test_data['lemmatized_reviews'],\n",
        "    min_df=2,  # Change this to 2, 3, etc.\n",
        "    max_features=None  # Change to 5000, 8000, or None\n",
        ")\n",
        "\n",
        "# Print top 20 terms\n",
        "print(f\"\\nTop 20 unigrams + bigrams by TF-IDF score\")\n",
        "for word, score in sorted_words[:20]:\n",
        "    print(f\"{word}: {score:.4f}\")"
      ]
    },
    {
      "cell_type": "markdown",
      "metadata": {
        "id": "SlSGYJLNpGf9"
      },
      "source": [
        "There's only single words in the top 20 TF-IDF scores for unigrams + bigrams, because the unigrams have higher TF-IDF scores compared to the bigrams. This can happen if the unigrams are more frequent or carry more weight in the dataset."
      ]
    },
    {
      "cell_type": "markdown",
      "metadata": {
        "id": "jINZQWqepGf9"
      },
      "source": [
        "Why unigrams + bigrams? Unigrams capture individual word importance, while bigrams preserve some context (e.g., \"não entregue\" might indicate a delivery issue better than \"não\" or \"entregue\" alone). Since reviews are short (avg. 24.58 words), bigrams add value without overwhelming the feature space.\n",
        "\n",
        "For word distribution, we choose TF-IDF with unigrams + bigrams (ngram_range=(1, 2), 5000 features) as it captures both dominant single words (e.g., \"produto\": 397.94) and contextual phrases (e.g., \"chegar prazo\") in the RePro dataset. This reflects the mix of 52% single-label and 48% multi-label reviews, providing a comprehensive view of key terms without relying on model performance."
      ]
    },
    {
      "cell_type": "code",
      "execution_count": 24,
      "metadata": {
        "colab": {
          "base_uri": "https://localhost:8080/",
          "height": 869
        },
        "id": "ekDVr7D-pGf9",
        "outputId": "8ec16f82-75b6-4ecf-a925-58a33ccf387d"
      },
      "outputs": [
        {
          "name": "stdout",
          "output_type": "stream",
          "text": [
            "y_train shape: (8002, 6)\n"
          ]
        },
        {
          "data": {
            "image/png": "[encoded data removed]",
            "text/plain": [
              "<Figure size 1800x1200 with 6 Axes>"
            ]
          },
          "metadata": {},
          "output_type": "display_data"
        }
      ],
      "source": [
        "label_names = ['ENTREGA', 'OUTROS', 'PRODUTO', 'CONDICOESDERECEBIMENTO', 'INADEQUADA', 'ANUNCIO']\n",
        "\n",
        "y_train = train_data[label_names].to_numpy()\n",
        "print(\"y_train shape:\", y_train.shape)\n",
        "\n",
        "n_top = 10  # Number of top terms to show per label\n",
        "fig, axes = plt.subplots(2, 3, figsize=(18, 12))  # 2x3 grid for 6 labels\n",
        "axes = axes.flatten()\n",
        "\n",
        "for i, label in enumerate(label_names):\n",
        "    # Indices of reviews where this label is true (1)\n",
        "    label_indices = np.where(y_train[:, i] == 1)[0]\n",
        "    # Average TF-IDF scores for those reviews\n",
        "    label_tfidf = X_train_tfidf_bi[label_indices].mean(axis=0).A1  # Convert sparse to 1D array\n",
        "    # Get top N terms\n",
        "    top_indices = np.argsort(label_tfidf)[-n_top:][::-1]  # Sort descending\n",
        "    top_terms = feature_names_bi[top_indices]\n",
        "    top_scores = label_tfidf[top_indices]\n",
        "\n",
        "    # Step 5: Plot horizontal bar chart\n",
        "    axes[i].barh(top_terms, top_scores, color='skyblue')\n",
        "    axes[i].set_title(f'Top {n_top} TF-IDF Terms for {label}')\n",
        "    axes[i].set_xlabel('Mean TF-IDF Score')\n",
        "    axes[i].invert_yaxis()  # Highest score at top\n",
        "\n",
        "# Adjust layout and display\n",
        "plt.tight_layout()\n",
        "plt.show()"
      ]
    },
    {
      "cell_type": "code",
      "execution_count": 25,
      "metadata": {},
      "outputs": [],
      "source": [
        "# y_train: Matriz binária da treino (8002 x 6)\n",
        "# y_val: Matriz binária da validação (994 x 6)"
      ]
    },
    {
      "cell_type": "code",
      "execution_count": 26,
      "metadata": {
        "colab": {
          "base_uri": "https://localhost:8080/",
          "height": 70
        },
        "id": "wBrlY91kzD2W",
        "outputId": "15179916-9083-42bb-b603-5d58dd5e06d2"
      },
      "outputs": [
        {
          "data": {
            "text/plain": [
              "'# Word cloud with top 50\\nwordcloud = WordCloud(width=800, height=400, background_color=\\'white\\').generate_from_frequencies(dict(sorted_words_bi[:50]))\\nplt.figure(figsize=(10, 5))\\nplt.imshow(wordcloud, interpolation=\\'bilinear\\')\\nplt.axis(\\'off\\')\\nplt.title(\"Word Distribution: Top 50 TF-IDF (Unigrams + Bigrams)\")\\nplt.show()'"
            ]
          },
          "execution_count": 26,
          "metadata": {},
          "output_type": "execute_result"
        }
      ],
      "source": [
        "\"\"\"# Word cloud with top 50\n",
        "wordcloud = WordCloud(width=800, height=400, background_color='white').generate_from_frequencies(dict(sorted_words_bi[:50]))\n",
        "plt.figure(figsize=(10, 5))\n",
        "plt.imshow(wordcloud, interpolation='bilinear')\n",
        "plt.axis('off')\n",
        "plt.title(\"Word Distribution: Top 50 TF-IDF (Unigrams + Bigrams)\")\n",
        "plt.show()\"\"\""
      ]
    },
    {
      "cell_type": "markdown",
      "metadata": {
        "id": "lh3B2ZZWzTNo"
      },
      "source": [
        "### Feature Space"
      ]
    },
    {
      "cell_type": "code",
      "execution_count": null,
      "metadata": {
        "colab": {
          "base_uri": "https://localhost:8080/"
        },
        "id": "jlUet6PZ2lT7",
        "outputId": "1e9e86d1-c0bd-48ee-b2cf-fad172605d52"
      },
      "outputs": [
        {
          "name": "stdout",
          "output_type": "stream",
          "text": [
            "Feature space size: 9824\n"
          ]
        }
      ],
      "source": [
        "vectorizer = TfidfVectorizer(ngram_range=(1, 1))  # Unigrams\n",
        "X = vectorizer.fit_transform(train_data['lemmatized_reviews'])\n",
        "print(\"Feature space size:\", len(vectorizer.get_feature_names_out()))"
      ]
    },
    {
      "cell_type": "code",
      "execution_count": null,
      "metadata": {},
      "outputs": [
        {
          "name": "stdout",
          "output_type": "stream",
          "text": [
            "Feature space size: 59291\n"
          ]
        }
      ],
      "source": [
        "vectorizer = TfidfVectorizer(ngram_range=(2, 2))  # Unigrams + bigrams\n",
        "X = vectorizer.fit_transform(train_data['lemmatized_reviews'])\n",
        "print(\"Feature space size:\", len(vectorizer.get_feature_names_out()))"
      ]
    },
    {
      "cell_type": "code",
      "execution_count": null,
      "metadata": {
        "colab": {
          "base_uri": "https://localhost:8080/"
        },
        "id": "9C_e9IcnFiN7",
        "outputId": "5adb5a82-9210-4698-ae53-e37084f8d855"
      },
      "outputs": [
        {
          "name": "stdout",
          "output_type": "stream",
          "text": [
            "Feature space size: 69115\n"
          ]
        }
      ],
      "source": [
        "vectorizer = TfidfVectorizer(ngram_range=(1, 2))  # Unigrams and bigrams\n",
        "X = vectorizer.fit_transform(train_data['lemmatized_reviews'])\n",
        "print(\"Feature space size:\", len(vectorizer.get_feature_names_out()))"
      ]
    },
    {
      "cell_type": "code",
      "execution_count": null,
      "metadata": {
        "colab": {
          "base_uri": "https://localhost:8080/"
        },
        "id": "c7MZ1yrDxkqp",
        "outputId": "f036aa93-6f9e-4c4e-97c0-5d32748147b7"
      },
      "outputs": [
        {
          "name": "stdout",
          "output_type": "stream",
          "text": [
            "Feature space size: 11400\n"
          ]
        }
      ],
      "source": [
        "vectorizer = TfidfVectorizer(ngram_range=(1, 2), min_df=2)  # Unigrams and bigrams only keeping the terms that occur more than 2 times\n",
        "X = vectorizer.fit_transform(train_data['lemmatized_reviews'])\n",
        "print(\"Feature space size:\", len(vectorizer.get_feature_names_out()))"
      ]
    },
    {
      "cell_type": "code",
      "execution_count": null,
      "metadata": {
        "colab": {
          "base_uri": "https://localhost:8080/"
        },
        "id": "1DcTMccVFlPH",
        "outputId": "f8e99fe1-11dc-47ae-ddc8-fd48f2650b08"
      },
      "outputs": [
        {
          "name": "stdout",
          "output_type": "stream",
          "text": [
            "Feature space size: 10000\n"
          ]
        }
      ],
      "source": [
        "vectorizer = TfidfVectorizer(max_features=10000 ,ngram_range=(1, 2))  # Unigrams and bigrams with maximum number of features\n",
        "X = vectorizer.fit_transform(train_data['lemmatized_reviews'])\n",
        "print(\"Feature space size:\", len(vectorizer.get_feature_names_out()))"
      ]
    },
    {
      "cell_type": "markdown",
      "metadata": {
        "id": "MJHKTuD-z3WV"
      },
      "source": [
        "After applying TF-IDF vectorization with unigrams and bigrams our dataset, after preprocessing and vectorization, has generated a vocabulary of 69115 unique features (terms can be unigrams or bigrams).\n",
        "\n",
        "\n",
        "min_df=2 -> 11400\\\n",
        "min_df=3 -> 6142\n",
        "\n",
        "\n",
        "This is the dimensionality of our feature space—each review is represented as a sparse vector with 69115 possible positions, where most values are zero (since a single review uses only a tiny fraction of the vocabulary).\n",
        "\n",
        "Our feature space is much larger than our sample size, this can lead to sparsity, where most feature values are zero, and potentially overfitting if not handled carefully. To address this high dimensionality and reduce noise from rare terms, we set min_df=2 in the TfidfVectorizer, excluding terms that appear in fewer than two reviews. This reduced the feature space to 11400 features, making it more manageable while retaining meaningful unigrams and bigrams. This adjustment helps mitigate sparsity and overfitting by focusing the model on terms with broader relevance across the dataset, balancing computational efficiency and classification performance"
      ]
    },
    {
      "cell_type": "markdown",
      "metadata": {
        "id": "D2-TFMfSZiVr"
      },
      "source": [
        "TF-IDF is sparse—each review is a vector of length equal to the feature space (e.g., 11,400), but most entries are zero. It’s frequency-based and doesn’t capture semantic relationships (e.g., \"atraso\" and \"demora\" are treated as unrelated unless they co-occur exactly).\n",
        "\n",
        "**Benefits vs. TF-IDF**\n",
        "* Feature Space Reduction:\n",
        "TF-IDF: 69,115 → 11,400 → 10,000/5,000 (still sparse).\n",
        "Word2Vec/Doc2Vec: 100 or 300 dims (dense). This slashes dimensionality by orders of magnitude, reducing sparsity and potentially overfitting—crucial with only 8002 samples.\n",
        "* Semantic Understanding:\n",
        "TF-IDF misses relationships (e.g., \"defeito\" and \"estragado\" are separate). Embeddings group similar terms, which could boost performance on short reviews (avg. 24.58 words) with varied phrasing.\n",
        "* Imbalance Handling:\n",
        "Your labels are imbalanced (PRODUTO: 6258, INADEQUADA: 328). Embeddings might help rare labels if synonyms or related terms (e.g., \"falsificado,\" \"inadequado\") align in vector space.\n",
        "\n",
        "**Risks**\n",
        "* Data Size: 8002 reviews is modest for training embeddings from scratch. Pre-trained Word2Vec (e.g., Portuguese FastText) mitigates this, but Doc2Vec relies on your data alone.\n",
        "* Complexity: Adds a step vs. TF-IDF, and averaging Word2Vec might dilute multi-label signals (e.g., ENTREGA + PRODUTO in one review).\n",
        "* Performance: May not beat TF-IDF if your reviews are keyword-driven (e.g., \"atraso\" explicitly signals ENTREGA)."
      ]
    },
    {
      "cell_type": "markdown",
      "metadata": {
        "id": "VkG2U4Qi4vji"
      },
      "source": [
        "## **2- Word2Vec FAZER**"
      ]
    },
    {
      "cell_type": "code",
      "execution_count": null,
      "metadata": {
        "colab": {
          "base_uri": "https://localhost:8080/",
          "height": 53
        },
        "id": "_crcXbIi6ICg",
        "outputId": "76bf2b7f-88d4-4148-df8b-29ebb4d0078e"
      },
      "outputs": [
        {
          "data": {
            "text/plain": [
              "'#! pip install --upgrade numpy scipy gensim\\n# Desinstale as versões atuais\\n! pip uninstall -y gensim numpy\\n\\n# Instale versões específicas compatíveis\\n! pip install numpy==1.24.3\\n! pip install gensim==4.3.2'"
            ]
          },
          "execution_count": 32,
          "metadata": {},
          "output_type": "execute_result"
        }
      ],
      "source": [
        "\"\"\"#! pip install --upgrade numpy scipy gensim\n",
        "# Desinstale as versões atuais\n",
        "! pip uninstall -y gensim numpy\n",
        "\n",
        "# Instale versões específicas compatíveis\n",
        "! pip install numpy==1.24.3\n",
        "! pip install gensim==4.3.2\"\"\""
      ]
    },
    {
      "cell_type": "code",
      "execution_count": null,
      "metadata": {
        "colab": {
          "base_uri": "https://localhost:8080/",
          "height": 200
        },
        "id": "56ds_g-A5oop",
        "outputId": "7264caa0-2eb5-4dfd-e651-3d3b9f240b5b"
      },
      "outputs": [],
      "source": [
        "# from gensim.models.doc2vec import Word2Vec"
      ]
    },
    {
      "cell_type": "markdown",
      "metadata": {
        "id": "MeN_nW5npGf9"
      },
      "source": [
        "## **Models Training and Evaluation**"
      ]
    },
    {
      "cell_type": "markdown",
      "metadata": {
        "id": "gqFDuR42Pc_3"
      },
      "source": [
        "``One-vs-Rest (OvR)`` não é um classificador em si, mas uma estratégia para transformar classificadores binários (como Naive Bayes e Regressão Logística) em modelos que suportam multi-label ou multi-classe.\n",
        "\n",
        "O ``Multinomial Naive Bayes (MultinomialNB)`` é um modelo estatístico ideal para classificação de texto porque:\n",
        "\n",
        "✅ Lida bem com representações baseadas em frequência, como Bag-of-Words e TF-IDF.\\\n",
        "✅ É eficiente e rápido, pois calcula probabilidades de forma simples.\\\n",
        "✅ Funciona bem para problemas onde as palavras aparecem independentemente, como em reviews de produtos."
      ]
    },
    {
      "cell_type": "markdown",
      "metadata": {
        "id": "xBrZeix6R6JJ"
      },
      "source": [
        "### Baseline Classifier - Naive Bayes"
      ]
    },
    {
      "cell_type": "code",
      "execution_count": 43,
      "metadata": {
        "id": "acNfwfSSpGf9"
      },
      "outputs": [
        {
          "name": "stdout",
          "output_type": "stream",
          "text": [
            "y_val shape: (994, 6)\n",
            "\n",
            "\n",
            "=== Testing Configuration: nothing ===\n",
            "Feature space size: 69115\n",
            "\n",
            "=== Baseline Results for nothing ===\n",
            "Relatório de Classificação por Rótulo:\n",
            "                        precision    recall  f1-score   support\n",
            "\n",
            "               ENTREGA       0.97      0.68      0.80       311\n",
            "                OUTROS       0.95      0.17      0.29       235\n",
            "               PRODUTO       0.82      1.00      0.90       782\n",
            "CONDICOESDERECEBIMENTO       1.00      0.01      0.01       171\n",
            "            INADEQUADA       0.00      0.00      0.00        42\n",
            "               ANUNCIO       0.00      0.00      0.00        88\n",
            "\n",
            "             micro avg       0.85      0.63      0.73      1629\n",
            "             macro avg       0.62      0.31      0.33      1629\n",
            "          weighted avg       0.82      0.63      0.63      1629\n",
            "           samples avg       0.85      0.72      0.76      1629\n",
            "\n",
            "\n",
            "Métricas Gerais:\n",
            "Macro F1: 0.3336\n",
            "Micro F1: 0.7264\n",
            "Hamming Loss: 0.1306\n",
            "\n",
            "\n",
            "=== Testing Configuration: min_df=2 ===\n"
          ]
        },
        {
          "name": "stderr",
          "output_type": "stream",
          "text": [
            "/opt/anaconda3/envs/NLP_Ass1/lib/python3.10/site-packages/sklearn/metrics/_classification.py:1565: UndefinedMetricWarning: Precision is ill-defined and being set to 0.0 in labels with no predicted samples. Use `zero_division` parameter to control this behavior.\n",
            "  _warn_prf(average, modifier, f\"{metric.capitalize()} is\", len(result))\n",
            "/opt/anaconda3/envs/NLP_Ass1/lib/python3.10/site-packages/sklearn/metrics/_classification.py:1565: UndefinedMetricWarning: Precision is ill-defined and being set to 0.0 in labels with no predicted samples. Use `zero_division` parameter to control this behavior.\n",
            "  _warn_prf(average, modifier, f\"{metric.capitalize()} is\", len(result))\n",
            "/opt/anaconda3/envs/NLP_Ass1/lib/python3.10/site-packages/sklearn/metrics/_classification.py:1565: UndefinedMetricWarning: Precision is ill-defined and being set to 0.0 in samples with no predicted labels. Use `zero_division` parameter to control this behavior.\n",
            "  _warn_prf(average, modifier, f\"{metric.capitalize()} is\", len(result))\n"
          ]
        },
        {
          "name": "stdout",
          "output_type": "stream",
          "text": [
            "Feature space size: 11400\n",
            "\n",
            "=== Baseline Results for min_df=2 ===\n",
            "Relatório de Classificação por Rótulo:\n",
            "                        precision    recall  f1-score   support\n",
            "\n",
            "               ENTREGA       0.94      0.80      0.87       311\n",
            "                OUTROS       0.91      0.46      0.61       235\n",
            "               PRODUTO       0.87      0.99      0.93       782\n",
            "CONDICOESDERECEBIMENTO       0.91      0.18      0.29       171\n",
            "            INADEQUADA       0.00      0.00      0.00        42\n",
            "               ANUNCIO       1.00      0.05      0.09        88\n",
            "\n",
            "             micro avg       0.89      0.72      0.79      1629\n",
            "             macro avg       0.77      0.41      0.46      1629\n",
            "          weighted avg       0.88      0.72      0.73      1629\n",
            "           samples avg       0.90      0.79      0.82      1629\n",
            "\n",
            "\n",
            "Métricas Gerais:\n",
            "Macro F1: 0.4638\n",
            "Micro F1: 0.7940\n",
            "Hamming Loss: 0.1014\n",
            "\n",
            "\n",
            "=== Testing Configuration: min_df=3 ===\n",
            "Feature space size: 6142\n",
            "\n",
            "=== Baseline Results for min_df=3 ===\n",
            "Relatório de Classificação por Rótulo:\n",
            "                        precision    recall  f1-score   support\n",
            "\n",
            "               ENTREGA       0.91      0.82      0.86       311\n",
            "                OUTROS       0.84      0.52      0.64       235\n",
            "               PRODUTO       0.89      0.98      0.94       782\n",
            "CONDICOESDERECEBIMENTO       0.90      0.27      0.42       171\n",
            "            INADEQUADA       0.00      0.00      0.00        42\n",
            "               ANUNCIO       0.91      0.11      0.20        88\n",
            "\n",
            "             micro avg       0.89      0.74      0.81      1629\n",
            "             macro avg       0.74      0.45      0.51      1629\n",
            "          weighted avg       0.87      0.74      0.76      1629\n",
            "           samples avg       0.91      0.81      0.83      1629\n",
            "\n",
            "\n",
            "Métricas Gerais:\n",
            "Macro F1: 0.5108\n",
            "Micro F1: 0.8081\n",
            "Hamming Loss: 0.0959\n",
            "\n",
            "\n",
            "=== Testing Configuration: max_features=5000 ===\n"
          ]
        },
        {
          "name": "stderr",
          "output_type": "stream",
          "text": [
            "/opt/anaconda3/envs/NLP_Ass1/lib/python3.10/site-packages/sklearn/metrics/_classification.py:1565: UndefinedMetricWarning: Precision is ill-defined and being set to 0.0 in labels with no predicted samples. Use `zero_division` parameter to control this behavior.\n",
            "  _warn_prf(average, modifier, f\"{metric.capitalize()} is\", len(result))\n",
            "/opt/anaconda3/envs/NLP_Ass1/lib/python3.10/site-packages/sklearn/metrics/_classification.py:1565: UndefinedMetricWarning: Precision is ill-defined and being set to 0.0 in samples with no predicted labels. Use `zero_division` parameter to control this behavior.\n",
            "  _warn_prf(average, modifier, f\"{metric.capitalize()} is\", len(result))\n",
            "/opt/anaconda3/envs/NLP_Ass1/lib/python3.10/site-packages/sklearn/metrics/_classification.py:1565: UndefinedMetricWarning: Precision is ill-defined and being set to 0.0 in labels with no predicted samples. Use `zero_division` parameter to control this behavior.\n",
            "  _warn_prf(average, modifier, f\"{metric.capitalize()} is\", len(result))\n",
            "/opt/anaconda3/envs/NLP_Ass1/lib/python3.10/site-packages/sklearn/metrics/_classification.py:1565: UndefinedMetricWarning: Precision is ill-defined and being set to 0.0 in samples with no predicted labels. Use `zero_division` parameter to control this behavior.\n",
            "  _warn_prf(average, modifier, f\"{metric.capitalize()} is\", len(result))\n"
          ]
        },
        {
          "name": "stdout",
          "output_type": "stream",
          "text": [
            "Feature space size: 5000\n",
            "\n",
            "=== Baseline Results for max_features=5000 ===\n",
            "Relatório de Classificação por Rótulo:\n",
            "                        precision    recall  f1-score   support\n",
            "\n",
            "               ENTREGA       0.90      0.83      0.86       311\n",
            "                OUTROS       0.84      0.54      0.65       235\n",
            "               PRODUTO       0.90      0.98      0.94       782\n",
            "CONDICOESDERECEBIMENTO       0.92      0.32      0.48       171\n",
            "            INADEQUADA       0.00      0.00      0.00        42\n",
            "               ANUNCIO       0.85      0.12      0.22        88\n",
            "\n",
            "             micro avg       0.89      0.75      0.81      1629\n",
            "             macro avg       0.73      0.47      0.52      1629\n",
            "          weighted avg       0.87      0.75      0.77      1629\n",
            "           samples avg       0.91      0.81      0.84      1629\n",
            "\n",
            "\n",
            "Métricas Gerais:\n",
            "Macro F1: 0.5247\n",
            "Micro F1: 0.8130\n",
            "Hamming Loss: 0.0939\n",
            "\n",
            "\n",
            "=== Testing Configuration: max_features=7000 ===\n",
            "Feature space size: 7000\n",
            "\n",
            "=== Baseline Results for max_features=7000 ===\n",
            "Relatório de Classificação por Rótulo:\n",
            "                        precision    recall  f1-score   support\n",
            "\n",
            "               ENTREGA       0.92      0.81      0.86       311\n",
            "                OUTROS       0.87      0.52      0.65       235\n",
            "               PRODUTO       0.89      0.99      0.93       782\n",
            "CONDICOESDERECEBIMENTO       0.92      0.26      0.40       171\n",
            "            INADEQUADA       0.00      0.00      0.00        42\n",
            "               ANUNCIO       0.89      0.09      0.16        88\n",
            "\n",
            "             micro avg       0.89      0.74      0.81      1629\n",
            "             macro avg       0.75      0.44      0.50      1629\n",
            "          weighted avg       0.87      0.74      0.76      1629\n",
            "           samples avg       0.90      0.81      0.83      1629\n",
            "\n",
            "\n",
            "Métricas Gerais:\n",
            "Macro F1: 0.5020\n",
            "Micro F1: 0.8059\n",
            "Hamming Loss: 0.0967\n",
            "\n",
            "=== Summary of Baseline Results ===\n",
            "nothing: Macro F1=0.3336, Micro F1=0.7264, Hamming Loss=0.1306\n",
            "min_df=2: Macro F1=0.4638, Micro F1=0.7940, Hamming Loss=0.1014\n",
            "min_df=3: Macro F1=0.5108, Micro F1=0.8081, Hamming Loss=0.0959\n",
            "max_features=5000: Macro F1=0.5247, Micro F1=0.8130, Hamming Loss=0.0939\n",
            "max_features=7000: Macro F1=0.5020, Micro F1=0.8059, Hamming Loss=0.0967\n"
          ]
        },
        {
          "name": "stderr",
          "output_type": "stream",
          "text": [
            "/opt/anaconda3/envs/NLP_Ass1/lib/python3.10/site-packages/sklearn/metrics/_classification.py:1565: UndefinedMetricWarning: Precision is ill-defined and being set to 0.0 in labels with no predicted samples. Use `zero_division` parameter to control this behavior.\n",
            "  _warn_prf(average, modifier, f\"{metric.capitalize()} is\", len(result))\n",
            "/opt/anaconda3/envs/NLP_Ass1/lib/python3.10/site-packages/sklearn/metrics/_classification.py:1565: UndefinedMetricWarning: Precision is ill-defined and being set to 0.0 in samples with no predicted labels. Use `zero_division` parameter to control this behavior.\n",
            "  _warn_prf(average, modifier, f\"{metric.capitalize()} is\", len(result))\n"
          ]
        }
      ],
      "source": [
        "from sklearn.naive_bayes import MultinomialNB\n",
        "from sklearn.multiclass import OneVsRestClassifier\n",
        "from sklearn.metrics import classification_report, f1_score, hamming_loss\n",
        "\n",
        "\n",
        "# Function to train and evaluate the baseline classifier\n",
        "def evaluate_baseline(X_train, X_val, y_train, y_val, label_names, config_name):\n",
        "    baseline_clf = OneVsRestClassifier(MultinomialNB())\n",
        "    baseline_clf.fit(X_train, y_train)\n",
        "    y_pred = baseline_clf.predict(X_val)\n",
        "    \n",
        "    print(f\"\\n=== Baseline Results for {config_name} ===\")\n",
        "    print(\"Relatório de Classificação por Rótulo:\")\n",
        "    print(classification_report(y_val, y_pred, target_names=label_names))\n",
        "    \n",
        "    macro_f1 = f1_score(y_val, y_pred, average='macro')\n",
        "    micro_f1 = f1_score(y_val, y_pred, average='micro')\n",
        "    hamming = hamming_loss(y_val, y_pred)\n",
        "    \n",
        "    print(\"\\nMétricas Gerais:\")\n",
        "    print(f\"Macro F1: {macro_f1:.4f}\")\n",
        "    print(f\"Micro F1: {micro_f1:.4f}\")\n",
        "    print(f\"Hamming Loss: {hamming:.4f}\")\n",
        "    return macro_f1, micro_f1, hamming\n",
        "\n",
        "label_names = ['ENTREGA', 'OUTROS', 'PRODUTO', 'CONDICOESDERECEBIMENTO', 'INADEQUADA', 'ANUNCIO']\n",
        "y_train = train_data[label_names].to_numpy()\n",
        "y_val = val_data[label_names].to_numpy()\n",
        "print(\"y_val shape:\", y_val.shape)  # Should be (994, 6)\n",
        "\n",
        "# List of configurations to test\n",
        "configs = [\n",
        "    {'min_df': 1, 'max_features': None, 'name': 'nothing'},\n",
        "    {'min_df': 2, 'max_features': None, 'name': 'min_df=2'},\n",
        "    {'min_df': 3, 'max_features': None, 'name': 'min_df=3'},\n",
        "    {'min_df': 1, 'max_features': 5000, 'name': 'max_features=5000'},\n",
        "    {'min_df': 1, 'max_features': 7000, 'name': 'max_features=7000'}\n",
        "]\n",
        "\n",
        "# Dictionary to store results\n",
        "results = {}\n",
        "\n",
        "# Loop through configurations\n",
        "for config in configs:\n",
        "    min_df = config['min_df']\n",
        "    max_features = config['max_features']\n",
        "    config_name = config['name']\n",
        "    print(f\"\\n\\n=== Testing Configuration: {config_name} ===\")\n",
        "    \n",
        "    # Generate TF-IDF features\n",
        "    tfidf_result = create_tfidf_features_uni_bi(\n",
        "        train_data['lemmatized_reviews'],\n",
        "        val_data['lemmatized_reviews'],\n",
        "        test_data['lemmatized_reviews'],\n",
        "        min_df=min_df,\n",
        "        max_features=max_features\n",
        "    )\n",
        "    \n",
        "    # Unpack return values\n",
        "    X_train_tfidf_bi, X_val_tfidf_bi, X_test_tfidf_bi, feature_names_bi, sorted_words = tfidf_result\n",
        "    \n",
        "    # Evaluate baseline classifier\n",
        "    macro_f1, micro_f1, hamming = evaluate_baseline(\n",
        "        X_train_tfidf_bi, X_val_tfidf_bi, y_train, y_val, label_names, config_name\n",
        "    )\n",
        "    \n",
        "    # Store results\n",
        "    results[config_name] = {'macro_f1': macro_f1, 'micro_f1': micro_f1, 'hamming_loss': hamming}\n",
        "\n",
        "# Print summary of results\n",
        "print(\"\\n=== Summary of Baseline Results ===\")\n",
        "for config_name, metrics in results.items():\n",
        "    print(f\"{config_name}: Macro F1={metrics['macro_f1']:.4f}, Micro F1={metrics['micro_f1']:.4f}, Hamming Loss={metrics['hamming_loss']:.4f}\")"
      ]
    },
    {
      "cell_type": "code",
      "execution_count": 44,
      "metadata": {},
      "outputs": [
        {
          "data": {
            "image/png": "[encoded data removed]",
            "text/plain": [
              "<Figure size 1000x600 with 1 Axes>"
            ]
          },
          "metadata": {},
          "output_type": "display_data"
        }
      ],
      "source": [
        "# Plotting the results\n",
        "config_names = list(results.keys())\n",
        "macro_f1_scores = [results[config]['macro_f1'] for config in config_names]\n",
        "micro_f1_scores = [results[config]['micro_f1'] for config in config_names]\n",
        "hamming_losses = [results[config]['hamming_loss'] for config in config_names]\n",
        "\n",
        "# Set up the bar plot\n",
        "x = range(len(config_names))\n",
        "width = 0.25  # Width of the bars\n",
        "\n",
        "fig, ax = plt.subplots(figsize=(10, 6))\n",
        "ax.bar([i - width for i in x], macro_f1_scores, width, label='Macro F1', color='skyblue')\n",
        "ax.bar(x, micro_f1_scores, width, label='Micro F1', color='lightgreen')\n",
        "ax.bar([i + width for i in x], hamming_losses, width, label='Hamming Loss', color='salmon')\n",
        "\n",
        "# Customize the plot\n",
        "ax.set_xlabel('TF-IDF Configuration')\n",
        "ax.set_ylabel('Score')\n",
        "ax.set_title('Baseline Classifier Performance Across TF-IDF Configurations')\n",
        "ax.set_xticks(x)\n",
        "ax.set_xticklabels(config_names, rotation=45, ha='right')\n",
        "ax.legend()\n",
        "\n",
        "# Adjust layout to prevent label cutoff\n",
        "plt.tight_layout()\n",
        "plt.show()"
      ]
    },
    {
      "cell_type": "markdown",
      "metadata": {},
      "source": [
        "### F1-Scores by Label\n",
        "\n",
        "| Label                  | nothing | min_df=2 | min_df=3 | max_features=5000 | max_features=7000 |\n",
        "|-----------------------|---------|----------|----------|-------------------|-------------------|\n",
        "| ENTREGA (311)         | 0.80    | 0.87     | 0.86     | 0.86              | 0.86              |\n",
        "| OUTROS (235)          | 0.29    | 0.61     | 0.64     | 0.65              | 0.65              |\n",
        "| PRODUTO (782)         | 0.90    | 0.93     | 0.94     | 0.94              | 0.93              |\n",
        "| CONDICOESDERECEBIMENTO (171) | 0.01    | 0.29     | 0.42     | 0.48              | 0.40              |\n",
        "| INADEQUADA (42)       | 0.00    | 0.00     | 0.00     | 0.00              | 0.00              |\n",
        "| ANUNCIO (88)          | 0.00    | 0.09     | 0.20     | 0.22              | 0.16              |"
      ]
    },
    {
      "cell_type": "markdown",
      "metadata": {},
      "source": [
        "Testei o baseline Naive Bayes com One-vs-Rest em quatro configurações de feature space usando TF-IDF (unigrams e bigrams): `min_df=2` (11,400 features), `max_features=8000` (8,000 features), `max_features=5000` (5,000 features) e `min_df=3` (6,142 features). Os resultados mostram que reduzir o feature space melhora consistentemente as métricas gerais. "
      ]
    },
    {
      "cell_type": "markdown",
      "metadata": {
        "id": "nfWXlpS3R8sZ"
      },
      "source": [
        "### Other classifiers\n",
        "##### 1. Fine-tuned Logistic Regression"
      ]
    },
    {
      "cell_type": "code",
      "execution_count": 64,
      "metadata": {},
      "outputs": [
        {
          "name": "stdout",
          "output_type": "stream",
          "text": [
            "\n",
            "=== Logistic Regression (Pipeline, C=0.01) ===\n",
            "Relatório de Classificação por Rótulo:\n",
            "                        precision    recall  f1-score   support\n",
            "\n",
            "               ENTREGA       0.91      0.85      0.88       311\n",
            "                OUTROS       0.67      0.71      0.69       235\n",
            "               PRODUTO       0.93      0.91      0.92       782\n",
            "CONDICOESDERECEBIMENTO       0.69      0.71      0.70       171\n",
            "            INADEQUADA       0.17      0.69      0.27        42\n",
            "               ANUNCIO       0.74      0.82      0.78        88\n",
            "\n",
            "             micro avg       0.78      0.84      0.81      1629\n",
            "             macro avg       0.68      0.78      0.70      1629\n",
            "          weighted avg       0.83      0.84      0.83      1629\n",
            "           samples avg       0.83      0.87      0.83      1629\n",
            "\n",
            "Macro F1: 0.7045\n",
            "Micro F1: 0.8059\n",
            "Hamming Loss: 0.1102\n",
            "\n",
            "=== Logistic Regression (Pipeline, C=0.1) ===\n",
            "Relatório de Classificação por Rótulo:\n",
            "                        precision    recall  f1-score   support\n",
            "\n",
            "               ENTREGA       0.90      0.89      0.89       311\n",
            "                OUTROS       0.68      0.75      0.71       235\n",
            "               PRODUTO       0.94      0.91      0.92       782\n",
            "CONDICOESDERECEBIMENTO       0.70      0.79      0.74       171\n",
            "            INADEQUADA       0.18      0.62      0.28        42\n",
            "               ANUNCIO       0.75      0.82      0.78        88\n",
            "\n",
            "             micro avg       0.79      0.86      0.82      1629\n",
            "             macro avg       0.69      0.80      0.72      1629\n",
            "          weighted avg       0.84      0.86      0.84      1629\n",
            "           samples avg       0.84      0.88      0.84      1629\n",
            "\n",
            "Macro F1: 0.7214\n",
            "Micro F1: 0.8240\n",
            "Hamming Loss: 0.0999\n"
          ]
        },
        {
          "name": "stderr",
          "output_type": "stream",
          "text": [
            "/opt/anaconda3/envs/NLP_Ass1/lib/python3.10/site-packages/sklearn/metrics/_classification.py:1565: UndefinedMetricWarning: Precision is ill-defined and being set to 0.0 in samples with no predicted labels. Use `zero_division` parameter to control this behavior.\n",
            "  _warn_prf(average, modifier, f\"{metric.capitalize()} is\", len(result))\n",
            "/opt/anaconda3/envs/NLP_Ass1/lib/python3.10/site-packages/sklearn/metrics/_classification.py:1565: UndefinedMetricWarning: Precision is ill-defined and being set to 0.0 in samples with no predicted labels. Use `zero_division` parameter to control this behavior.\n",
            "  _warn_prf(average, modifier, f\"{metric.capitalize()} is\", len(result))\n"
          ]
        },
        {
          "name": "stdout",
          "output_type": "stream",
          "text": [
            "\n",
            "=== Logistic Regression (Pipeline, C=1.0) ===\n",
            "Relatório de Classificação por Rótulo:\n",
            "                        precision    recall  f1-score   support\n",
            "\n",
            "               ENTREGA       0.90      0.94      0.92       311\n",
            "                OUTROS       0.74      0.80      0.77       235\n",
            "               PRODUTO       0.95      0.90      0.93       782\n",
            "CONDICOESDERECEBIMENTO       0.75      0.80      0.77       171\n",
            "            INADEQUADA       0.18      0.48      0.26        42\n",
            "               ANUNCIO       0.81      0.84      0.83        88\n",
            "\n",
            "             micro avg       0.83      0.87      0.85      1629\n",
            "             macro avg       0.72      0.79      0.75      1629\n",
            "          weighted avg       0.87      0.87      0.86      1629\n",
            "           samples avg       0.87      0.90      0.86      1629\n",
            "\n",
            "Macro F1: 0.7464\n",
            "Micro F1: 0.8509\n",
            "Hamming Loss: 0.0832\n",
            "\n",
            "=== Logistic Regression (Pipeline, C=10.0) ===\n",
            "Relatório de Classificação por Rótulo:\n",
            "                        precision    recall  f1-score   support\n",
            "\n",
            "               ENTREGA       0.92      0.94      0.93       311\n",
            "                OUTROS       0.76      0.79      0.77       235\n",
            "               PRODUTO       0.94      0.91      0.93       782\n",
            "CONDICOESDERECEBIMENTO       0.75      0.73      0.74       171\n",
            "            INADEQUADA       0.19      0.33      0.24        42\n",
            "               ANUNCIO       0.78      0.81      0.79        88\n",
            "\n",
            "             micro avg       0.85      0.86      0.85      1629\n",
            "             macro avg       0.72      0.75      0.73      1629\n",
            "          weighted avg       0.86      0.86      0.86      1629\n",
            "           samples avg       0.88      0.89      0.86      1629\n",
            "\n",
            "Macro F1: 0.7335\n",
            "Micro F1: 0.8543\n",
            "Hamming Loss: 0.0801\n",
            "\n",
            "=== Best C Value ===\n",
            "Best C: 1.0 with Macro F1=0.7464, Micro F1=0.8509, Hamming Loss=0.0832\n"
          ]
        },
        {
          "name": "stderr",
          "output_type": "stream",
          "text": [
            "/opt/anaconda3/envs/NLP_Ass1/lib/python3.10/site-packages/sklearn/metrics/_classification.py:1565: UndefinedMetricWarning: Precision is ill-defined and being set to 0.0 in samples with no predicted labels. Use `zero_division` parameter to control this behavior.\n",
            "  _warn_prf(average, modifier, f\"{metric.capitalize()} is\", len(result))\n",
            "/opt/anaconda3/envs/NLP_Ass1/lib/python3.10/site-packages/sklearn/metrics/_classification.py:1565: UndefinedMetricWarning: Precision is ill-defined and being set to 0.0 in samples with no predicted labels. Use `zero_division` parameter to control this behavior.\n",
            "  _warn_prf(average, modifier, f\"{metric.capitalize()} is\", len(result))\n"
          ]
        }
      ],
      "source": [
        "from sklearn.metrics import classification_report, f1_score, hamming_loss\n",
        "from sklearn.linear_model import LogisticRegression\n",
        "from sklearn.multiclass import OneVsRestClassifier\n",
        "from sklearn.pipeline import Pipeline\n",
        "from sklearn.svm import LinearSVC\n",
        "\n",
        "C_values = [0.01, 0.1, 1.0, 10.0]\n",
        "results = {}\n",
        "\n",
        "for C in C_values:\n",
        "    model_logreg = Pipeline([\n",
        "        ('tfidf', TfidfVectorizer(ngram_range=(1, 2), min_df=1, max_features=5000)),\n",
        "        ('Logistic Regression', OneVsRestClassifier(LogisticRegression(\n",
        "            C=C, max_iter=1000, random_state=42, class_weight='balanced')))\n",
        "    ])\n",
        "    \n",
        "    # Fit the model\n",
        "    model_logreg.fit(train_data['lemmatized_reviews'], y_train)\n",
        "    \n",
        "    # Predict on validation set\n",
        "    y_pred_logreg = model_logreg.predict(val_data['lemmatized_reviews'])\n",
        "    \n",
        "    # Evaluate and print results\n",
        "    print(f\"\\n=== Logistic Regression (Pipeline, C={C}) ===\")\n",
        "    print(\"Relatório de Classificação por Rótulo:\")\n",
        "    print(classification_report(y_val, y_pred_logreg, target_names=label_names))\n",
        "    \n",
        "    macro_f1 = f1_score(y_val, y_pred_logreg, average='macro')\n",
        "    micro_f1 = f1_score(y_val, y_pred_logreg, average='micro')\n",
        "    hamming = hamming_loss(y_val, y_pred_logreg)\n",
        "    \n",
        "    print(f\"Macro F1: {macro_f1:.4f}\")\n",
        "    print(f\"Micro F1: {micro_f1:.4f}\")\n",
        "    print(f\"Hamming Loss: {hamming:.4f}\")\n",
        "    \n",
        "    # Store results\n",
        "    results[C] = {'Macro F1': macro_f1, 'Micro F1': micro_f1, 'Hamming Loss': hamming}\n",
        "\n",
        "# Find and print the best C based on Macro F1\n",
        "best_C = max(results, key=lambda x: results[x]['Macro F1'])\n",
        "print(f\"\\n=== Best C Value ===\")\n",
        "print(f\"Best C: {best_C} with Macro F1={results[best_C]['Macro F1']:.4f}, \"\n",
        "      f\"Micro F1={results[best_C]['Micro F1']:.4f}, Hamming Loss={results[best_C]['Hamming Loss']:.4f}\")"
      ]
    },
    {
      "cell_type": "markdown",
      "metadata": {},
      "source": [
        "##### 2. Linear Support Vector Classification (SVC)"
      ]
    },
    {
      "cell_type": "code",
      "execution_count": null,
      "metadata": {},
      "outputs": [
        {
          "name": "stdout",
          "output_type": "stream",
          "text": [
            "\n",
            "=== SVM (Pipeline) ===\n",
            "Relatório de Classificação por Rótulo:\n",
            "                        precision    recall  f1-score   support\n",
            "\n",
            "               ENTREGA       0.91      0.95      0.93       311\n",
            "                OUTROS       0.74      0.77      0.76       235\n",
            "               PRODUTO       0.94      0.91      0.93       782\n",
            "CONDICOESDERECEBIMENTO       0.73      0.72      0.72       171\n",
            "            INADEQUADA       0.19      0.33      0.24        42\n",
            "               ANUNCIO       0.76      0.78      0.77        88\n",
            "\n",
            "             micro avg       0.84      0.86      0.85      1629\n",
            "             macro avg       0.71      0.75      0.72      1629\n",
            "          weighted avg       0.86      0.86      0.86      1629\n",
            "           samples avg       0.87      0.89      0.86      1629\n",
            "\n",
            "Macro F1: 0.7248\n",
            "Micro F1: 0.8485\n",
            "Hamming Loss: 0.0835\n"
          ]
        },
        {
          "name": "stderr",
          "output_type": "stream",
          "text": [
            "/opt/anaconda3/envs/NLP_Ass1/lib/python3.10/site-packages/sklearn/metrics/_classification.py:1565: UndefinedMetricWarning: Precision is ill-defined and being set to 0.0 in samples with no predicted labels. Use `zero_division` parameter to control this behavior.\n",
            "  _warn_prf(average, modifier, f\"{metric.capitalize()} is\", len(result))\n"
          ]
        }
      ],
      "source": [
        "model_svc = Pipeline([\n",
        "    ('tfidf', TfidfVectorizer(ngram_range=(1, 2), min_df=1, max_features=5000)),\n",
        "    ('Linear SVM', OneVsRestClassifier(LinearSVC(max_iter=1000, random_state=42, class_weight='balanced')))\n",
        "])\n",
        "\n",
        "model_svc.fit(train_data['lemmatized_reviews'], y_train)\n",
        "y_pred_svc = model_svc.predict(val_data['lemmatized_reviews'])\n",
        "print(\"\\n=== SVM (Pipeline) ===\")\n",
        "print(\"Relatório de Classificação por Rótulo:\")\n",
        "print(classification_report(y_val, y_pred_svc, target_names=label_names))\n",
        "print(f\"Macro F1: {f1_score(y_val, y_pred_svc, average='macro'):.4f}\")\n",
        "print(f\"Micro F1: {f1_score(y_val, y_pred_svc, average='micro'):.4f}\")\n",
        "print(f\"Hamming Loss: {hamming_loss(y_val, y_pred_svc):.4f}\")"
      ]
    },
    {
      "cell_type": "markdown",
      "metadata": {},
      "source": [
        "##### 3. XGBoost"
      ]
    },
    {
      "cell_type": "code",
      "execution_count": null,
      "metadata": {},
      "outputs": [
        {
          "name": "stdout",
          "output_type": "stream",
          "text": [
            "\n",
            "=== XGBoost (Pipeline) ===\n",
            "Relatório de Classificação por Rótulo:\n",
            "                        precision    recall  f1-score   support\n",
            "\n",
            "               ENTREGA       0.88      0.93      0.91       311\n",
            "                OUTROS       0.78      0.69      0.73       235\n",
            "               PRODUTO       0.85      0.99      0.91       782\n",
            "CONDICOESDERECEBIMENTO       0.83      0.68      0.75       171\n",
            "            INADEQUADA       1.00      0.12      0.21        42\n",
            "               ANUNCIO       0.91      0.73      0.81        88\n",
            "\n",
            "             micro avg       0.85      0.86      0.86      1629\n",
            "             macro avg       0.88      0.69      0.72      1629\n",
            "          weighted avg       0.85      0.86      0.84      1629\n",
            "           samples avg       0.88      0.89      0.87      1629\n",
            "\n",
            "Macro F1: 0.7193\n",
            "Micro F1: 0.8552\n",
            "Hamming Loss: 0.0798\n"
          ]
        },
        {
          "name": "stderr",
          "output_type": "stream",
          "text": [
            "/opt/anaconda3/envs/NLP_Ass1/lib/python3.10/site-packages/sklearn/metrics/_classification.py:1565: UndefinedMetricWarning: Precision is ill-defined and being set to 0.0 in samples with no predicted labels. Use `zero_division` parameter to control this behavior.\n",
            "  _warn_prf(average, modifier, f\"{metric.capitalize()} is\", len(result))\n"
          ]
        }
      ],
      "source": [
        "from xgboost import XGBClassifier\n",
        "\n",
        "def compute_scale_pos_weight(y_train):\n",
        "    n_samples, n_classes = y_train.shape\n",
        "    scale_pos_weights = []\n",
        "    for i in range(n_classes):\n",
        "        pos_count = np.sum(y_train[:, i])\n",
        "        neg_count = n_samples - pos_count\n",
        "        if pos_count > 0:  # Avoid division by zero\n",
        "            scale_pos_weights.append(neg_count / pos_count)\n",
        "        else:\n",
        "            scale_pos_weights.append(1.0)  # Default if no positive samples\n",
        "    return scale_pos_weights\n",
        "\n",
        "scale_pos_weights = compute_scale_pos_weight(y_train)\n",
        "\n",
        "# Define the XGBoost pipeline\n",
        "model_xgb = Pipeline([\n",
        "    ('tfidf', TfidfVectorizer(ngram_range=(1, 2), min_df=1, max_features=5000)),\n",
        "    ('XGBoost', OneVsRestClassifier(XGBClassifier(\n",
        "        n_estimators=100,          \n",
        "        max_depth=6,             \n",
        "        learning_rate=0.1,       \n",
        "        random_state=42,         \n",
        "        scale_pos_weight=scale_pos_weights[0],  # Use first label’s weight as a simplification*\n",
        "        eval_metric='logloss'    \n",
        "    )))\n",
        "])\n",
        "\n",
        "# Fit the model\n",
        "model_xgb.fit(train_data['lemmatized_reviews'], y_train)\n",
        "\n",
        "# Predict on validation set\n",
        "y_pred_xgb = model_xgb.predict(val_data['lemmatized_reviews'])\n",
        "\n",
        "# Print evaluation results\n",
        "print(\"\\n=== XGBoost (Pipeline) ===\")\n",
        "print(\"Relatório de Classificação por Rótulo:\")\n",
        "print(classification_report(y_val, y_pred_xgb, target_names=label_names))\n",
        "print(f\"Macro F1: {f1_score(y_val, y_pred_xgb, average='macro'):.4f}\")\n",
        "print(f\"Micro F1: {f1_score(y_val, y_pred_xgb, average='micro'):.4f}\")\n",
        "print(f\"Hamming Loss: {hamming_loss(y_val, y_pred_xgb):.4f}\")\n"
      ]
    },
    {
      "cell_type": "markdown",
      "metadata": {},
      "source": [
        "#### Comparison Table\n",
        "\n",
        "| Metric                | Naive Bayes (Baseline) | Logistic Regression | Linear SVM | XGBoost |\n",
        "|-----------------------|------------------------|---------------------|------------|---------|\n",
        "| **Macro F1**          | 0.5247                 | **0.7464**          | 0.7248     | 0.7193  |\n",
        "| **Micro F1**          | 0.8130                 | 0.8509              | 0.8485     | **0.8552** |\n",
        "| **Hamming Loss**      | 0.0939                 | 0.0832              | 0.0835     | **0.0798** |\n",
        "| **ENTREGA**           | 0.86                   | 0.92                | **0.93**   | 0.91    |\n",
        "| **OUTROS**            | 0.65                   | **0.77**            | 0.76       | 0.73    |\n",
        "| **PRODUTO**           | **0.94**               | 0.93                | 0.93       | 0.91    |\n",
        "| **CONDICOESDERECEBIMENTO** | 0.48             | **0.77**            | 0.72       | 0.75    |\n",
        "| **INADEQUADA**        | 0.00                   | **0.26**            | 0.24       | 0.21    |\n",
        "| **ANUNCIO**           | 0.22                   | **0.83**            | 0.77       | 0.81    |"
      ]
    },
    {
      "cell_type": "markdown",
      "metadata": {
        "id": "Az4wGp0lSfk1"
      },
      "source": [
        "## **Error Analysis**\n",
        "For your best model (highest macro-F1, say), analyze misclassifications:\n",
        "\n",
        "* False Positives/Negatives: Look at reviews where the model predicted a label incorrectly. Are short reviews (e.g., 1 word) harder to classify? Are rare labels (INADEQUADA) often missed due to imbalance?\n",
        "* Feature Importance: For Logistic Regression, check the top TF-IDF features per label (highest coefficients). Do they make sense (e.g., \"atraso\" for ENTREGA)?\n",
        "* Confusion: Since it’s multi-label, examine label co-occurrence (e.g., PRODUTO + ENTREGA misclassified as just PRODUTO)."
      ]
    },
    {
      "cell_type": "code",
      "execution_count": 67,
      "metadata": {},
      "outputs": [
        {
          "name": "stdout",
          "output_type": "stream",
          "text": [
            "\n",
            "=== Confusion Matrices for Logistic Regression (C=1.0) ===\n",
            "\n",
            "Label: ENTREGA\n",
            "Confusion Matrix:\n",
            "[[656  27]\n",
            " [ 18 293]]\n",
            "True Positives (TP): 293\n",
            "False Positives (FP): 27\n",
            "False Negatives (FN): 18\n",
            "True Negatives (TN): 656\n",
            "\n",
            "Label: OUTROS\n",
            "Confusion Matrix:\n",
            "[[699  60]\n",
            " [ 50 185]]\n",
            "True Positives (TP): 185\n",
            "False Positives (FP): 60\n",
            "False Negatives (FN): 50\n",
            "True Negatives (TN): 699\n",
            "\n",
            "Label: PRODUTO\n",
            "Confusion Matrix:\n",
            "[[170  42]\n",
            " [ 68 714]]\n",
            "True Positives (TP): 714\n",
            "False Positives (FP): 42\n",
            "False Negatives (FN): 68\n",
            "True Negatives (TN): 170\n",
            "\n",
            "Label: CONDICOESDERECEBIMENTO\n",
            "Confusion Matrix:\n",
            "[[782  41]\n",
            " [ 47 124]]\n",
            "True Positives (TP): 124\n",
            "False Positives (FP): 41\n",
            "False Negatives (FN): 47\n",
            "True Negatives (TN): 782\n",
            "\n",
            "Label: INADEQUADA\n",
            "Confusion Matrix:\n",
            "[[892  60]\n",
            " [ 28  14]]\n",
            "True Positives (TP): 14\n",
            "False Positives (FP): 60\n",
            "False Negatives (FN): 28\n",
            "True Negatives (TN): 892\n",
            "\n",
            "Label: ANUNCIO\n",
            "Confusion Matrix:\n",
            "[[886  20]\n",
            " [ 17  71]]\n",
            "True Positives (TP): 71\n",
            "False Positives (FP): 20\n",
            "False Negatives (FN): 17\n",
            "True Negatives (TN): 886\n",
            "\n",
            "=== Confusion Matrices for XGBoost ===\n",
            "\n",
            "Label: ENTREGA\n",
            "Confusion Matrix:\n",
            "[[645  38]\n",
            " [ 22 289]]\n",
            "True Positives (TP): 289\n",
            "False Positives (FP): 38\n",
            "False Negatives (FN): 22\n",
            "True Negatives (TN): 645\n",
            "\n",
            "Label: OUTROS\n",
            "Confusion Matrix:\n",
            "[[714  45]\n",
            " [ 74 161]]\n",
            "True Positives (TP): 161\n",
            "False Positives (FP): 45\n",
            "False Negatives (FN): 74\n",
            "True Negatives (TN): 714\n",
            "\n",
            "Label: PRODUTO\n",
            "Confusion Matrix:\n",
            "[[ 72 140]\n",
            " [ 11 771]]\n",
            "True Positives (TP): 771\n",
            "False Positives (FP): 140\n",
            "False Negatives (FN): 11\n",
            "True Negatives (TN): 72\n",
            "\n",
            "Label: CONDICOESDERECEBIMENTO\n",
            "Confusion Matrix:\n",
            "[[799  24]\n",
            " [ 55 116]]\n",
            "True Positives (TP): 116\n",
            "False Positives (FP): 24\n",
            "False Negatives (FN): 55\n",
            "True Negatives (TN): 799\n",
            "\n",
            "Label: INADEQUADA\n",
            "Confusion Matrix:\n",
            "[[952   0]\n",
            " [ 37   5]]\n",
            "True Positives (TP): 5\n",
            "False Positives (FP): 0\n",
            "False Negatives (FN): 37\n",
            "True Negatives (TN): 952\n",
            "\n",
            "Label: ANUNCIO\n",
            "Confusion Matrix:\n",
            "[[900   6]\n",
            " [ 24  64]]\n",
            "True Positives (TP): 64\n",
            "False Positives (FP): 6\n",
            "False Negatives (FN): 24\n",
            "True Negatives (TN): 900\n"
          ]
        }
      ],
      "source": [
        "from sklearn.metrics import confusion_matrix\n",
        "\n",
        "# Function to print confusion matrices for each label\n",
        "def print_confusion_matrices(y_true, y_pred, model_name):\n",
        "    print(f\"\\n=== Confusion Matrices for {model_name} ===\")\n",
        "    for i, label in enumerate(label_names):\n",
        "        # Extract true and predicted values for this label\n",
        "        y_true_label = y_true[:, i]\n",
        "        y_pred_label = y_pred[:, i]\n",
        "        \n",
        "        # Compute confusion matrix\n",
        "        cm = confusion_matrix(y_true_label, y_pred_label)\n",
        "        \n",
        "        # Extract TP, FP, FN, TN\n",
        "        tn, fp, fn, tp = cm.ravel()\n",
        "        \n",
        "        print(f\"\\nLabel: {label}\")\n",
        "        print(f\"Confusion Matrix:\\n{cm}\")\n",
        "        print(f\"True Positives (TP): {tp}\")\n",
        "        print(f\"False Positives (FP): {fp}\")\n",
        "        print(f\"False Negatives (FN): {fn}\")\n",
        "        print(f\"True Negatives (TN): {tn}\")\n",
        "\n",
        "# Print confusion matrices for both models\n",
        "print_confusion_matrices(y_val, y_pred_logreg, \"Logistic Regression (C=1.0)\")\n",
        "print_confusion_matrices(y_val, y_pred_xgb, \"XGBoost\")"
      ]
    },
    {
      "cell_type": "markdown",
      "metadata": {},
      "source": [
        "### Confusion Matrix Comparison Table\n",
        "\n",
        "| Label                  | Model               | TP  | FP  | FN  | TN  |\n",
        "|-----------------------|---------------------|-----|-----|-----|-----|\n",
        "| **ENTREGA (311)**     | Logistic Regression | 293 | 27  | 18  | 656 |\n",
        "|                       | XGBoost             | 289 | 38  | 22  | 645 |\n",
        "| **OUTROS (235)**      | Logistic Regression | 185 | 60  | 50  | 699 |\n",
        "|                       | XGBoost             | 161 | 45  | 74  | 714 |\n",
        "| **PRODUTO (782)**     | Logistic Regression | 714 | 42  | 68  | 170 |\n",
        "|                       | XGBoost             | 771 | 140 | 11  | 72  |\n",
        "| **CONDICOESDERECEBIMENTO (171)** | Logistic Regression | 124 | 41  | 47  | 782 |\n",
        "|                       | XGBoost             | 116 | 24  | 55  | 799 |\n",
        "| **INADEQUADA (42)**   | Logistic Regression | 14  | 60  | 28  | 892 |\n",
        "|                       | XGBoost             | 5   | 0   | 37  | 952 |\n",
        "| **ANUNCIO (88)**      | Logistic Regression | 71  | 20  | 17  | 886 |\n",
        "|                       | XGBoost             | 64  | 6   | 24  | 900 |\n",
        "\n",
        "\n",
        "#### ENTREGA (Support: 311, Frequent)\n",
        "- **Logistic Regression**:\n",
        "  - **Recall**: 293/311 ≈ 0.94, **Precision**: 293/320 ≈ 0.92, **F1**: 0.92\n",
        "  - **FN (18)**: Misses 18 instances—likely subtle delivery-related reviews lacking strong TF-IDF signals.\n",
        "  - **FP (27)**: Overpredicts 27 times—possible overlap with PRODUTO (delivery often tied to products).\n",
        "- **XGBoost**:\n",
        "  - **Recall**: 289/311 ≈ 0.93, **Precision**: 289/327 ≈ 0.88, **F1**: 0.91\n",
        "  - **FN (22)**: Slightly more misses—may underfit rare delivery patterns.\n",
        "  - **FP (38)**: Higher overprediction—tree-based model might overfit to frequent delivery terms.\n",
        "\n",
        "**Insight**: Logistic Regression balances precision and recall better (F1: 0.92 vs. 0.91). XGBoost’s higher FP suggests sensitivity to noisy features, reducing precision.\n",
        "\n",
        "\n",
        "#### OUTROS (Support: 235, Moderate)\n",
        "- **Logistic Regression**:\n",
        "  - **Recall**: 185/235 ≈ 0.79, **Precision**: 185/245 ≈ 0.76, **F1**: 0.77\n",
        "  - **FN (50)**: Misses 50 instances—OUTROS’ catch-all nature may lack distinct features.\n",
        "  - **FP (60)**: Overpredicts 60 times—overlap with ANUNCIO or PRODUTO likely.\n",
        "- **XGBoost**:\n",
        "  - **Recall**: 161/235 ≈ 0.69, **Precision**: 161/206 ≈ 0.78, **F1**: 0.73\n",
        "  - **FN (74)**: More misses—XGBoost struggles to detect OUTROS, possibly due to `scale_pos_weight` favoring frequent labels.\n",
        "  - **FP (45)**: Fewer overpredictions—better precision.\n",
        "\n",
        "**Insight**: Logistic Regression outperforms (F1: 0.77 vs. 0.73) with higher recall. OUTROS’ ambiguity challenges both, but XGBoost’s lower recall hurts its Macro F1.\n",
        "\n",
        "\n",
        "#### PRODUTO (Support: 782, Dominant)\n",
        "- **Logistic Regression**:\n",
        "  - **Recall**: 714/782 ≈ 0.91, **Precision**: 714/756 ≈ 0.94, **F1**: 0.93\n",
        "  - **FN (68)**: Misses 68 instances—subtle product mentions may lack strong features.\n",
        "  - **FP (42)**: Moderate overprediction—overlap with ENTREGA or CONDICOESDERECEBIMENTO.\n",
        "- **XGBoost**:\n",
        "  - **Recall**: 771/782 ≈ 0.99, **Precision**: 771/911 ≈ 0.85, **F1**: 0.91\n",
        "  - **FN (11)**: Near-perfect recall—excels at detecting PRODUTO.\n",
        "  - **FP (140)**: High overprediction—overfits to frequent terms, misclassifying negatives.\n",
        "\n",
        "**Insight**: XGBoost’s high recall boosts Micro F1 (0.8552), but lower precision (F1: 0.91 vs. 0.93) shows overprediction. Logistic Regression balances better for this dominant label.\n",
        "\n",
        "\n",
        "#### CONDICOESDERECEBIMENTO (Support: 171, Moderate)\n",
        "- **Logistic Regression**:\n",
        "  - **Recall**: 124/171 ≈ 0.73, **Precision**: 124/165 ≈ 0.75, **F1**: 0.77\n",
        "  - **FN (47)**: Misses 47 instances—subtle condition mentions may lack distinct features.\n",
        "  - **FP (41)**: Overpredicts 41 times—overlap with ENTREGA or PRODUTO.\n",
        "- **XGBoost**:\n",
        "  - **Recall**: 116/171 ≈ 0.68, **Precision**: 116/140 ≈ 0.83, **F1**: 0.75\n",
        "  - **FN (55)**: More misses—underpredicts this label.\n",
        "  - **FP (24)**: Fewer overpredictions—higher precision.\n",
        "\n",
        "**Insight**: Logistic Regression wins (F1: 0.77 vs. 0.75) with better recall. XGBoost’s precision gain doesn’t offset recall loss, suggesting underfitting.\n",
        "\n",
        "\n",
        "#### INADEQUADA (Support: 42, Rare)\n",
        "- **Logistic Regression**:\n",
        "  - **Recall**: 14/42 ≈ 0.33, **Precision**: 14/74 ≈ 0.19, **F1**: 0.26\n",
        "  - **FN (28)**: Misses 28 of 42—low support and feature overlap with OUTROS or ANUNCIO.\n",
        "  - **FP (60)**: High overprediction—model overgeneralizes rare negative sentiment.\n",
        "- **XGBoost**:\n",
        "  - **Recall**: 5/42 ≈ 0.12, **Precision**: 5/5 = 1.00, **F1**: 0.21\n",
        "  - **FN (37)**: Misses nearly all instances—severely underpredicts due to rarity.\n",
        "  - **FP (0)**: Perfect precision—no overprediction, but at the cost of recall.\n",
        "\n",
        "**Insight**: Logistic Regression performs better (F1: 0.26 vs. 0.21) due to higher recall, though both struggle. XGBoost’s conservative approach (zero FP) sacrifices detection of this rare label.\n",
        "\n",
        "\n",
        "#### ANUNCIO (Support: 88, Rare)\n",
        "- **Logistic Regression**:\n",
        "  - **Recall**: 71/88 ≈ 0.81, **Precision**: 71/91 ≈ 0.78, **F1**: 0.83\n",
        "  - **FN (17)**: Misses 17 instances—subtle ad-related reviews may lack strong signals.\n",
        "  - **FP (20)**: Overpredicts 20 times—overlap with OUTROS or PRODUTO.\n",
        "- **XGBoost**:\n",
        "  - **Recall**: 64/88 ≈ 0.73, **Precision**: 64/70 ≈ 0.91, **F1**: 0.81\n",
        "  - **FN (24)**: More misses—underpredicts this label.\n",
        "  - **FP (6)**: Minimal overprediction—high precision.\n",
        "\n",
        "**Insight**: Logistic Regression excels (F1: 0.83 vs. 0.81) with better recall. XGBoost’s precision focus reduces FP but increases FN, impacting rare-label performance.\n",
        "\n",
        "\n",
        "### General Observations\n",
        "\n",
        "1. **Frequent Labels (ENTREGA, PRODUTO)**:\n",
        "   - Both models perform well (F1 > 0.91), but XGBoost overpredicts PRODUTO (FP: 140 vs. 42), boosting Micro F1 (0.8552) at the cost of precision. Logistic Regression balances better, contributing to its higher Macro F1 (0.7464).\n",
        "\n",
        "2. **Moderate Labels (OUTROS, CONDICOESDERECEBIMENTO)**:\n",
        "   - Logistic Regression consistently outperforms (F1: 0.77 vs. 0.73, 0.77 vs. 0.75) due to higher recall. XGBoost’s higher FN suggests underfitting, possibly from `scale_pos_weight` not fully addressing mid-frequency labels.\n",
        "\n",
        "3. **Rare Labels (INADEQUADA, ANUNCIO)**:\n",
        "   - Logistic Regression detects more instances (TP: 14 vs. 5, 71 vs. 64), driving its Macro F1 advantage. XGBoost’s conservative approach (FP: 0 for INADEQUADA) sacrifices recall, reflecting difficulty with rarity despite `scale_pos_weight`.\n",
        "\n",
        "4. **Error Patterns**:\n",
        "   - **FN**: Higher in XGBoost for moderate/rare labels (e.g., OUTROS: 74 vs. 50, INADEQUADA: 37 vs. 28), indicating underprediction. Logistic Regression’s `class_weight='balanced'` better captures these.\n",
        "   - **FP**: XGBoost overpredicts frequent labels (PRODUTO: 140), while Logistic Regression overpredicts rare ones (INADEQUADA: 60), suggesting different regularization effects.\n",
        "\n",
        "\n",
        "### Potential Reasons for Misclassifications\n",
        "\n",
        "1. **Imbalance**:\n",
        "   - Rare labels (INADEQUADA: 42, ANUNCIO: 88) have low TP due to limited training examples, causing both models to struggle. Logistic Regression mitigates this better via balanced weighting.\n",
        "\n",
        "2. **Feature Overlap**:\n",
        "   - High FP (e.g., OUTROS: 60, INADEQUADA: 60 in Logistic Regression) suggests TF-IDF features (5,000) don’t fully distinguish labels like OUTROS (catch-all) or INADEQUADA (negative sentiment) from others.\n",
        "\n",
        "3. **Model Bias**:\n",
        "   - **Logistic Regression**: Balances rare and frequent labels (higher Macro F1), but overpredicts rare classes due to `C=1.0` allowing some overfitting.\n",
        "   - **XGBoost**: Favors frequent labels (higher Micro F1, lower Hamming Loss), but its tree-based nature and single `scale_pos_weight` underpredicts rare/moderate labels.\n",
        "\n",
        "4. **Feature Limitations**:\n",
        "   - Subtle instances (high FN in CONDICOESDERECEBIMENTO, INADEQUADA) may lack strong unigram/bigram signals in the 5,000-feature space, limiting detection.\n",
        "\n",
        "### Conclusion\n",
        "Logistic Regression (C=1.0) is the best overall model due to its balanced performance (Macro F1: 0.7464), excelling on rare labels. XGBoost’s strength in frequent labels (Micro F1: 0.8552, Hamming Loss: 0.0798) comes at the cost of underpredicting moderate/rare labels. Addressing imbalance and feature overlap could further improve both models."
      ]
    },
    {
      "cell_type": "markdown",
      "metadata": {},
      "source": [
        "## DELETE LATER ⬇️"
      ]
    },
    {
      "cell_type": "markdown",
      "metadata": {
        "id": "qSShKscZpGf9"
      },
      "source": [
        "### Future Work\n",
        "Sparse TF-IDF (5000 dimensions): Right now, you’re using a method called TF-IDF to turn each review into a list of 5000 numbers. Most of those numbers are zero (that’s why it’s \"sparse\"), and only a few have values that show which words matter in that review.\n",
        "\n",
        "Potentially hybrid with Word2Vec later: You could add another method, Word2Vec, which makes a shorter list of numbers (e.g., 100) that capture what words mean. If you mix TF-IDF and Word2Vec together, you get a \"hybrid\" set of features—some numbers for word importance and some for word meaning.\n",
        "\n",
        "\n",
        "### Potentially Hybrid with Word2Vec Later\n",
        "Word2Vec: This is a different way to turn words into numbers. Instead of counting how often words appear (like TF-IDF), it learns what words mean by looking at their context in your reviews.\n",
        "How it works: It creates a small list of numbers (e.g., 100, called \"dimensions\") for each word, where similar words (e.g., \"entrega\" and \"chegar\") get similar lists.\n",
        "Example: \"comprar\" might be [0.2, -0.1, 0.5, ...] (100 numbers), and \"compra\" might be close to it, like [0.25, -0.08, 0.48, ...].\n",
        "For a review: You average the Word2Vec lists of all words in a review to get one 100-number list for the whole text.\n",
        "Dense: Unlike TF-IDF, where most of the 5000 numbers are zero (sparse), Word2Vec’s 100 numbers are all non-zero (dense), packed with meaning.\n",
        "Hybrid: You can combine TF-IDF and Word2Vec:\n",
        "Take your TF-IDF list (5000 numbers, sparse).\n",
        "Add your Word2Vec list (100 numbers, dense).\n",
        "Result: A 5100-number list per review, mixing word importance (TF-IDF) and word meaning (Word2Vec).\n",
        "Why? TF-IDF catches key words (e.g., \"atrasada\" for ENTREGA), while Word2Vec catches relationships (e.g., \"atrasada\" is like \"tarde\").\n",
        "\n",
        "### How This Ties to Model Choice\n",
        "Current (TF-IDF Only): Logistic Regression or SVM loves sparse TF-IDF because they’re designed for high-dimensional, sparse data.\n",
        "Hybrid (TF-IDF + Word2Vec): Random Forest or XGBoost might shine because they handle mixed sparse + dense features well, capturing both frequency and semantics.\n",
        "For now, your dataset uses sparse TF-IDF (5000 dimensions). Adding Word2Vec later could boost performance if your baseline struggles—say, if macro-F1 is low due to label overlap (e.g., ENTREGA vs. CONDICOESDERECEBIMENTO)."
      ]
    }
  ],
  "metadata": {
    "colab": {
      "collapsed_sections": [
        "dHv1V0r_pGf5"
      ],
      "provenance": []
    },
    "kernelspec": {
      "display_name": "NLP_Ass1",
      "language": "python",
      "name": "python3"
    },
    "language_info": {
      "codemirror_mode": {
        "name": "ipython",
        "version": 3
      },
      "file_extension": ".py",
      "mimetype": "text/x-python",
      "name": "python",
      "nbconvert_exporter": "python",
      "pygments_lexer": "ipython3",
      "version": "3.10.16"
    },
    "widgets": {
      "application/vnd.jupyter.widget-state+json": {
        "008bbb24a07a44269a22ffa7d7aa137a": {
          "model_module": "@jupyter-widgets/controls",
          "model_module_version": "1.5.0",
          "model_name": "DescriptionStyleModel",
          "state": {
            "_model_module": "@jupyter-widgets/controls",
            "_model_module_version": "1.5.0",
            "_model_name": "DescriptionStyleModel",
            "_view_count": null,
            "_view_module": "@jupyter-widgets/base",
            "_view_module_version": "1.2.0",
            "_view_name": "StyleView",
            "description_width": ""
          }
        },
        "01c16b1bdeb9431aa822b9fcdcfcf85a": {
          "model_module": "@jupyter-widgets/base",
          "model_module_version": "1.2.0",
          "model_name": "LayoutModel",
          "state": {
            "_model_module": "@jupyter-widgets/base",
            "_model_module_version": "1.2.0",
            "_model_name": "LayoutModel",
            "_view_count": null,
            "_view_module": "@jupyter-widgets/base",
            "_view_module_version": "1.2.0",
            "_view_name": "LayoutView",
            "align_content": null,
            "align_items": null,
            "align_self": null,
            "border": null,
            "bottom": null,
            "display": null,
            "flex": null,
            "flex_flow": null,
            "grid_area": null,
            "grid_auto_columns": null,
            "grid_auto_flow": null,
            "grid_auto_rows": null,
            "grid_column": null,
            "grid_gap": null,
            "grid_row": null,
            "grid_template_areas": null,
            "grid_template_columns": null,
            "grid_template_rows": null,
            "height": null,
            "justify_content": null,
            "justify_items": null,
            "left": null,
            "margin": null,
            "max_height": null,
            "max_width": null,
            "min_height": null,
            "min_width": null,
            "object_fit": null,
            "object_position": null,
            "order": null,
            "overflow": null,
            "overflow_x": null,
            "overflow_y": null,
            "padding": null,
            "right": null,
            "top": null,
            "visibility": null,
            "width": null
          }
        },
        "01eb65ca545847e6b37e527f75e8483b": {
          "model_module": "@jupyter-widgets/controls",
          "model_module_version": "1.5.0",
          "model_name": "FloatProgressModel",
          "state": {
            "_dom_classes": [],
            "_model_module": "@jupyter-widgets/controls",
            "_model_module_version": "1.5.0",
            "_model_name": "FloatProgressModel",
            "_view_count": null,
            "_view_module": "@jupyter-widgets/controls",
            "_view_module_version": "1.5.0",
            "_view_name": "ProgressView",
            "bar_style": "success",
            "description": "",
            "description_tooltip": null,
            "layout": "IPY_MODEL_ee28779cea59400398cc71c1221dc031",
            "max": 103342,
            "min": 0,
            "orientation": "horizontal",
            "style": "IPY_MODEL_621f61898aad461c83b66201dc5e35e2",
            "value": 103342
          }
        },
        "022aafa327a3457b87539066390136e7": {
          "model_module": "@jupyter-widgets/base",
          "model_module_version": "1.2.0",
          "model_name": "LayoutModel",
          "state": {
            "_model_module": "@jupyter-widgets/base",
            "_model_module_version": "1.2.0",
            "_model_name": "LayoutModel",
            "_view_count": null,
            "_view_module": "@jupyter-widgets/base",
            "_view_module_version": "1.2.0",
            "_view_name": "LayoutView",
            "align_content": null,
            "align_items": null,
            "align_self": null,
            "border": null,
            "bottom": null,
            "display": null,
            "flex": null,
            "flex_flow": null,
            "grid_area": null,
            "grid_auto_columns": null,
            "grid_auto_flow": null,
            "grid_auto_rows": null,
            "grid_column": null,
            "grid_gap": null,
            "grid_row": null,
            "grid_template_areas": null,
            "grid_template_columns": null,
            "grid_template_rows": null,
            "height": null,
            "justify_content": null,
            "justify_items": null,
            "left": null,
            "margin": null,
            "max_height": null,
            "max_width": null,
            "min_height": null,
            "min_width": null,
            "object_fit": null,
            "object_position": null,
            "order": null,
            "overflow": null,
            "overflow_x": null,
            "overflow_y": null,
            "padding": null,
            "right": null,
            "top": null,
            "visibility": null,
            "width": null
          }
        },
        "03ce90df7012481887d8cb6f7d9a80b1": {
          "model_module": "@jupyter-widgets/base",
          "model_module_version": "1.2.0",
          "model_name": "LayoutModel",
          "state": {
            "_model_module": "@jupyter-widgets/base",
            "_model_module_version": "1.2.0",
            "_model_name": "LayoutModel",
            "_view_count": null,
            "_view_module": "@jupyter-widgets/base",
            "_view_module_version": "1.2.0",
            "_view_name": "LayoutView",
            "align_content": null,
            "align_items": null,
            "align_self": null,
            "border": null,
            "bottom": null,
            "display": null,
            "flex": null,
            "flex_flow": null,
            "grid_area": null,
            "grid_auto_columns": null,
            "grid_auto_flow": null,
            "grid_auto_rows": null,
            "grid_column": null,
            "grid_gap": null,
            "grid_row": null,
            "grid_template_areas": null,
            "grid_template_columns": null,
            "grid_template_rows": null,
            "height": null,
            "justify_content": null,
            "justify_items": null,
            "left": null,
            "margin": null,
            "max_height": null,
            "max_width": null,
            "min_height": null,
            "min_width": null,
            "object_fit": null,
            "object_position": null,
            "order": null,
            "overflow": null,
            "overflow_x": null,
            "overflow_y": null,
            "padding": null,
            "right": null,
            "top": null,
            "visibility": null,
            "width": null
          }
        },
        "054face69c9e489da83f7b0c9a13e2f2": {
          "model_module": "@jupyter-widgets/controls",
          "model_module_version": "1.5.0",
          "model_name": "DescriptionStyleModel",
          "state": {
            "_model_module": "@jupyter-widgets/controls",
            "_model_module_version": "1.5.0",
            "_model_name": "DescriptionStyleModel",
            "_view_count": null,
            "_view_module": "@jupyter-widgets/base",
            "_view_module_version": "1.2.0",
            "_view_name": "StyleView",
            "description_width": ""
          }
        },
        "05b1d177fe1944879070794a7ba6524c": {
          "model_module": "@jupyter-widgets/controls",
          "model_module_version": "1.5.0",
          "model_name": "HTMLModel",
          "state": {
            "_dom_classes": [],
            "_model_module": "@jupyter-widgets/controls",
            "_model_module_version": "1.5.0",
            "_model_name": "HTMLModel",
            "_view_count": null,
            "_view_module": "@jupyter-widgets/controls",
            "_view_module_version": "1.5.0",
            "_view_name": "HTMLView",
            "description": "",
            "description_tooltip": null,
            "layout": "IPY_MODEL_db03ef3faf634723937bd63b0bdf5743",
            "placeholder": "​",
            "style": "IPY_MODEL_ff83d248844442a6b0a9515edc2408cf",
            "value": " 787k/787k [00:00&lt;00:00, 5.94MB/s]"
          }
        },
        "103bf2d329034b4596c3101b75e24ac6": {
          "model_module": "@jupyter-widgets/base",
          "model_module_version": "1.2.0",
          "model_name": "LayoutModel",
          "state": {
            "_model_module": "@jupyter-widgets/base",
            "_model_module_version": "1.2.0",
            "_model_name": "LayoutModel",
            "_view_count": null,
            "_view_module": "@jupyter-widgets/base",
            "_view_module_version": "1.2.0",
            "_view_name": "LayoutView",
            "align_content": null,
            "align_items": null,
            "align_self": null,
            "border": null,
            "bottom": null,
            "display": null,
            "flex": null,
            "flex_flow": null,
            "grid_area": null,
            "grid_auto_columns": null,
            "grid_auto_flow": null,
            "grid_auto_rows": null,
            "grid_column": null,
            "grid_gap": null,
            "grid_row": null,
            "grid_template_areas": null,
            "grid_template_columns": null,
            "grid_template_rows": null,
            "height": null,
            "justify_content": null,
            "justify_items": null,
            "left": null,
            "margin": null,
            "max_height": null,
            "max_width": null,
            "min_height": null,
            "min_width": null,
            "object_fit": null,
            "object_position": null,
            "order": null,
            "overflow": null,
            "overflow_x": null,
            "overflow_y": null,
            "padding": null,
            "right": null,
            "top": null,
            "visibility": null,
            "width": null
          }
        },
        "116f4d3f3ac94b918c86da53c5ad5563": {
          "model_module": "@jupyter-widgets/controls",
          "model_module_version": "1.5.0",
          "model_name": "HBoxModel",
          "state": {
            "_dom_classes": [],
            "_model_module": "@jupyter-widgets/controls",
            "_model_module_version": "1.5.0",
            "_model_name": "HBoxModel",
            "_view_count": null,
            "_view_module": "@jupyter-widgets/controls",
            "_view_module_version": "1.5.0",
            "_view_name": "HBoxView",
            "box_style": "",
            "children": [
              "IPY_MODEL_3086ea9f69ba4589b76be54883e961bd",
              "IPY_MODEL_44311693ec4e4666aafb8584aa2f4ffb",
              "IPY_MODEL_ec7c298ca2654039ac0f5ba61a1817fd"
            ],
            "layout": "IPY_MODEL_305ad6740e214bd99f5278a9abfd53b6"
          }
        },
        "1247ac16448847e3a7450df0761e5fe5": {
          "model_module": "@jupyter-widgets/base",
          "model_module_version": "1.2.0",
          "model_name": "LayoutModel",
          "state": {
            "_model_module": "@jupyter-widgets/base",
            "_model_module_version": "1.2.0",
            "_model_name": "LayoutModel",
            "_view_count": null,
            "_view_module": "@jupyter-widgets/base",
            "_view_module_version": "1.2.0",
            "_view_name": "LayoutView",
            "align_content": null,
            "align_items": null,
            "align_self": null,
            "border": null,
            "bottom": null,
            "display": null,
            "flex": null,
            "flex_flow": null,
            "grid_area": null,
            "grid_auto_columns": null,
            "grid_auto_flow": null,
            "grid_auto_rows": null,
            "grid_column": null,
            "grid_gap": null,
            "grid_row": null,
            "grid_template_areas": null,
            "grid_template_columns": null,
            "grid_template_rows": null,
            "height": null,
            "justify_content": null,
            "justify_items": null,
            "left": null,
            "margin": null,
            "max_height": null,
            "max_width": null,
            "min_height": null,
            "min_width": null,
            "object_fit": null,
            "object_position": null,
            "order": null,
            "overflow": null,
            "overflow_x": null,
            "overflow_y": null,
            "padding": null,
            "right": null,
            "top": null,
            "visibility": null,
            "width": null
          }
        },
        "131e022346fa41e9abefa39dc71a05f4": {
          "model_module": "@jupyter-widgets/base",
          "model_module_version": "1.2.0",
          "model_name": "LayoutModel",
          "state": {
            "_model_module": "@jupyter-widgets/base",
            "_model_module_version": "1.2.0",
            "_model_name": "LayoutModel",
            "_view_count": null,
            "_view_module": "@jupyter-widgets/base",
            "_view_module_version": "1.2.0",
            "_view_name": "LayoutView",
            "align_content": null,
            "align_items": null,
            "align_self": null,
            "border": null,
            "bottom": null,
            "display": null,
            "flex": null,
            "flex_flow": null,
            "grid_area": null,
            "grid_auto_columns": null,
            "grid_auto_flow": null,
            "grid_auto_rows": null,
            "grid_column": null,
            "grid_gap": null,
            "grid_row": null,
            "grid_template_areas": null,
            "grid_template_columns": null,
            "grid_template_rows": null,
            "height": null,
            "justify_content": null,
            "justify_items": null,
            "left": null,
            "margin": null,
            "max_height": null,
            "max_width": null,
            "min_height": null,
            "min_width": null,
            "object_fit": null,
            "object_position": null,
            "order": null,
            "overflow": null,
            "overflow_x": null,
            "overflow_y": null,
            "padding": null,
            "right": null,
            "top": null,
            "visibility": null,
            "width": null
          }
        },
        "13c77c0d994d4b078fddfbb65b22568b": {
          "model_module": "@jupyter-widgets/base",
          "model_module_version": "1.2.0",
          "model_name": "LayoutModel",
          "state": {
            "_model_module": "@jupyter-widgets/base",
            "_model_module_version": "1.2.0",
            "_model_name": "LayoutModel",
            "_view_count": null,
            "_view_module": "@jupyter-widgets/base",
            "_view_module_version": "1.2.0",
            "_view_name": "LayoutView",
            "align_content": null,
            "align_items": null,
            "align_self": null,
            "border": null,
            "bottom": null,
            "display": null,
            "flex": null,
            "flex_flow": null,
            "grid_area": null,
            "grid_auto_columns": null,
            "grid_auto_flow": null,
            "grid_auto_rows": null,
            "grid_column": null,
            "grid_gap": null,
            "grid_row": null,
            "grid_template_areas": null,
            "grid_template_columns": null,
            "grid_template_rows": null,
            "height": null,
            "justify_content": null,
            "justify_items": null,
            "left": null,
            "margin": null,
            "max_height": null,
            "max_width": null,
            "min_height": null,
            "min_width": null,
            "object_fit": null,
            "object_position": null,
            "order": null,
            "overflow": null,
            "overflow_x": null,
            "overflow_y": null,
            "padding": null,
            "right": null,
            "top": null,
            "visibility": null,
            "width": null
          }
        },
        "2603110cb02649169e9abad90d473da0": {
          "model_module": "@jupyter-widgets/controls",
          "model_module_version": "1.5.0",
          "model_name": "FloatProgressModel",
          "state": {
            "_dom_classes": [],
            "_model_module": "@jupyter-widgets/controls",
            "_model_module_version": "1.5.0",
            "_model_name": "FloatProgressModel",
            "_view_count": null,
            "_view_module": "@jupyter-widgets/controls",
            "_view_module_version": "1.5.0",
            "_view_name": "ProgressView",
            "bar_style": "success",
            "description": "",
            "description_tooltip": null,
            "layout": "IPY_MODEL_76158fec5e0b455c8d9bec3c6f9272f0",
            "max": 2535,
            "min": 0,
            "orientation": "horizontal",
            "style": "IPY_MODEL_9193c870b4bb4433a334e567723aac5b",
            "value": 2535
          }
        },
        "2657aea3695a44e78363c13ebe0fcca4": {
          "model_module": "@jupyter-widgets/controls",
          "model_module_version": "1.5.0",
          "model_name": "HBoxModel",
          "state": {
            "_dom_classes": [],
            "_model_module": "@jupyter-widgets/controls",
            "_model_module_version": "1.5.0",
            "_model_name": "HBoxModel",
            "_view_count": null,
            "_view_module": "@jupyter-widgets/controls",
            "_view_module_version": "1.5.0",
            "_view_name": "HBoxView",
            "box_style": "",
            "children": [
              "IPY_MODEL_f8ed7d9c007a4465a75744444e9bf82d",
              "IPY_MODEL_c946ffde64c24542b2020b55354abee7",
              "IPY_MODEL_616c26649fac416faa36fd6d862912c1"
            ],
            "layout": "IPY_MODEL_e413fc2e24c94e1aa74b17fb379af604"
          }
        },
        "26f4e16dcf394f14a5885d414e3b3a6f": {
          "model_module": "@jupyter-widgets/controls",
          "model_module_version": "1.5.0",
          "model_name": "DescriptionStyleModel",
          "state": {
            "_model_module": "@jupyter-widgets/controls",
            "_model_module_version": "1.5.0",
            "_model_name": "DescriptionStyleModel",
            "_view_count": null,
            "_view_module": "@jupyter-widgets/base",
            "_view_module_version": "1.2.0",
            "_view_name": "StyleView",
            "description_width": ""
          }
        },
        "288c951d86aa4aeab0beaa03b7d84b5d": {
          "model_module": "@jupyter-widgets/base",
          "model_module_version": "1.2.0",
          "model_name": "LayoutModel",
          "state": {
            "_model_module": "@jupyter-widgets/base",
            "_model_module_version": "1.2.0",
            "_model_name": "LayoutModel",
            "_view_count": null,
            "_view_module": "@jupyter-widgets/base",
            "_view_module_version": "1.2.0",
            "_view_name": "LayoutView",
            "align_content": null,
            "align_items": null,
            "align_self": null,
            "border": null,
            "bottom": null,
            "display": null,
            "flex": null,
            "flex_flow": null,
            "grid_area": null,
            "grid_auto_columns": null,
            "grid_auto_flow": null,
            "grid_auto_rows": null,
            "grid_column": null,
            "grid_gap": null,
            "grid_row": null,
            "grid_template_areas": null,
            "grid_template_columns": null,
            "grid_template_rows": null,
            "height": null,
            "justify_content": null,
            "justify_items": null,
            "left": null,
            "margin": null,
            "max_height": null,
            "max_width": null,
            "min_height": null,
            "min_width": null,
            "object_fit": null,
            "object_position": null,
            "order": null,
            "overflow": null,
            "overflow_x": null,
            "overflow_y": null,
            "padding": null,
            "right": null,
            "top": null,
            "visibility": null,
            "width": null
          }
        },
        "305ad6740e214bd99f5278a9abfd53b6": {
          "model_module": "@jupyter-widgets/base",
          "model_module_version": "1.2.0",
          "model_name": "LayoutModel",
          "state": {
            "_model_module": "@jupyter-widgets/base",
            "_model_module_version": "1.2.0",
            "_model_name": "LayoutModel",
            "_view_count": null,
            "_view_module": "@jupyter-widgets/base",
            "_view_module_version": "1.2.0",
            "_view_name": "LayoutView",
            "align_content": null,
            "align_items": null,
            "align_self": null,
            "border": null,
            "bottom": null,
            "display": null,
            "flex": null,
            "flex_flow": null,
            "grid_area": null,
            "grid_auto_columns": null,
            "grid_auto_flow": null,
            "grid_auto_rows": null,
            "grid_column": null,
            "grid_gap": null,
            "grid_row": null,
            "grid_template_areas": null,
            "grid_template_columns": null,
            "grid_template_rows": null,
            "height": null,
            "justify_content": null,
            "justify_items": null,
            "left": null,
            "margin": null,
            "max_height": null,
            "max_width": null,
            "min_height": null,
            "min_width": null,
            "object_fit": null,
            "object_position": null,
            "order": null,
            "overflow": null,
            "overflow_x": null,
            "overflow_y": null,
            "padding": null,
            "right": null,
            "top": null,
            "visibility": null,
            "width": null
          }
        },
        "3086ea9f69ba4589b76be54883e961bd": {
          "model_module": "@jupyter-widgets/controls",
          "model_module_version": "1.5.0",
          "model_name": "HTMLModel",
          "state": {
            "_dom_classes": [],
            "_model_module": "@jupyter-widgets/controls",
            "_model_module_version": "1.5.0",
            "_model_name": "HTMLModel",
            "_view_count": null,
            "_view_module": "@jupyter-widgets/controls",
            "_view_module_version": "1.5.0",
            "_view_name": "HTMLView",
            "description": "",
            "description_tooltip": null,
            "layout": "IPY_MODEL_103bf2d329034b4596c3101b75e24ac6",
            "placeholder": "​",
            "style": "IPY_MODEL_f00644a1498c49bcad5dd8e5489711cc",
            "value": "Generating test split: 100%"
          }
        },
        "3efb3b3c8a8a48149ece9a7d8d138214": {
          "model_module": "@jupyter-widgets/controls",
          "model_module_version": "1.5.0",
          "model_name": "HTMLModel",
          "state": {
            "_dom_classes": [],
            "_model_module": "@jupyter-widgets/controls",
            "_model_module_version": "1.5.0",
            "_model_name": "HTMLModel",
            "_view_count": null,
            "_view_module": "@jupyter-widgets/controls",
            "_view_module_version": "1.5.0",
            "_view_name": "HTMLView",
            "description": "",
            "description_tooltip": null,
            "layout": "IPY_MODEL_022aafa327a3457b87539066390136e7",
            "placeholder": "​",
            "style": "IPY_MODEL_49e36ab5c36242079573965fff7041d9",
            "value": " 8002/8002 [00:00&lt;00:00, 7942.39 examples/s]"
          }
        },
        "44311693ec4e4666aafb8584aa2f4ffb": {
          "model_module": "@jupyter-widgets/controls",
          "model_module_version": "1.5.0",
          "model_name": "FloatProgressModel",
          "state": {
            "_dom_classes": [],
            "_model_module": "@jupyter-widgets/controls",
            "_model_module_version": "1.5.0",
            "_model_name": "FloatProgressModel",
            "_view_count": null,
            "_view_module": "@jupyter-widgets/controls",
            "_view_module_version": "1.5.0",
            "_view_name": "ProgressView",
            "bar_style": "success",
            "description": "",
            "description_tooltip": null,
            "layout": "IPY_MODEL_8fd68620b9c44caea4de01b21da98fb4",
            "max": 1007,
            "min": 0,
            "orientation": "horizontal",
            "style": "IPY_MODEL_54e52e2e7824487ca38d95149210f9d8",
            "value": 1007
          }
        },
        "44501831425d4374bebf10373eb8a12d": {
          "model_module": "@jupyter-widgets/controls",
          "model_module_version": "1.5.0",
          "model_name": "DescriptionStyleModel",
          "state": {
            "_model_module": "@jupyter-widgets/controls",
            "_model_module_version": "1.5.0",
            "_model_name": "DescriptionStyleModel",
            "_view_count": null,
            "_view_module": "@jupyter-widgets/base",
            "_view_module_version": "1.2.0",
            "_view_name": "StyleView",
            "description_width": ""
          }
        },
        "47c345ae9e4248c1ada37593163e4954": {
          "model_module": "@jupyter-widgets/controls",
          "model_module_version": "1.5.0",
          "model_name": "HTMLModel",
          "state": {
            "_dom_classes": [],
            "_model_module": "@jupyter-widgets/controls",
            "_model_module_version": "1.5.0",
            "_model_name": "HTMLModel",
            "_view_count": null,
            "_view_module": "@jupyter-widgets/controls",
            "_view_module_version": "1.5.0",
            "_view_name": "HTMLView",
            "description": "",
            "description_tooltip": null,
            "layout": "IPY_MODEL_8920dc1efafb40579401906ded8a65bc",
            "placeholder": "​",
            "style": "IPY_MODEL_84acb679f49143638a92daaeb5a17c51",
            "value": "validation-00000-of-00001.parquet: 100%"
          }
        },
        "49e36ab5c36242079573965fff7041d9": {
          "model_module": "@jupyter-widgets/controls",
          "model_module_version": "1.5.0",
          "model_name": "DescriptionStyleModel",
          "state": {
            "_model_module": "@jupyter-widgets/controls",
            "_model_module_version": "1.5.0",
            "_model_name": "DescriptionStyleModel",
            "_view_count": null,
            "_view_module": "@jupyter-widgets/base",
            "_view_module_version": "1.2.0",
            "_view_name": "StyleView",
            "description_width": ""
          }
        },
        "4f921a19a08945daadf4234b922dd8d9": {
          "model_module": "@jupyter-widgets/controls",
          "model_module_version": "1.5.0",
          "model_name": "ProgressStyleModel",
          "state": {
            "_model_module": "@jupyter-widgets/controls",
            "_model_module_version": "1.5.0",
            "_model_name": "ProgressStyleModel",
            "_view_count": null,
            "_view_module": "@jupyter-widgets/base",
            "_view_module_version": "1.2.0",
            "_view_name": "StyleView",
            "bar_color": null,
            "description_width": ""
          }
        },
        "522d39c715e0479cb08ed92a52a851b4": {
          "model_module": "@jupyter-widgets/controls",
          "model_module_version": "1.5.0",
          "model_name": "HTMLModel",
          "state": {
            "_dom_classes": [],
            "_model_module": "@jupyter-widgets/controls",
            "_model_module_version": "1.5.0",
            "_model_name": "HTMLModel",
            "_view_count": null,
            "_view_module": "@jupyter-widgets/controls",
            "_view_module_version": "1.5.0",
            "_view_name": "HTMLView",
            "description": "",
            "description_tooltip": null,
            "layout": "IPY_MODEL_131e022346fa41e9abefa39dc71a05f4",
            "placeholder": "​",
            "style": "IPY_MODEL_26f4e16dcf394f14a5885d414e3b3a6f",
            "value": "Generating train split: 100%"
          }
        },
        "54e52e2e7824487ca38d95149210f9d8": {
          "model_module": "@jupyter-widgets/controls",
          "model_module_version": "1.5.0",
          "model_name": "ProgressStyleModel",
          "state": {
            "_model_module": "@jupyter-widgets/controls",
            "_model_module_version": "1.5.0",
            "_model_name": "ProgressStyleModel",
            "_view_count": null,
            "_view_module": "@jupyter-widgets/base",
            "_view_module_version": "1.2.0",
            "_view_name": "StyleView",
            "bar_color": null,
            "description_width": ""
          }
        },
        "55876ce7e3e14d49b49a1eca387cc79a": {
          "model_module": "@jupyter-widgets/controls",
          "model_module_version": "1.5.0",
          "model_name": "DescriptionStyleModel",
          "state": {
            "_model_module": "@jupyter-widgets/controls",
            "_model_module_version": "1.5.0",
            "_model_name": "DescriptionStyleModel",
            "_view_count": null,
            "_view_module": "@jupyter-widgets/base",
            "_view_module_version": "1.2.0",
            "_view_name": "StyleView",
            "description_width": ""
          }
        },
        "55dbd4d9933a46d5a230f2ba98ab38d4": {
          "model_module": "@jupyter-widgets/controls",
          "model_module_version": "1.5.0",
          "model_name": "HBoxModel",
          "state": {
            "_dom_classes": [],
            "_model_module": "@jupyter-widgets/controls",
            "_model_module_version": "1.5.0",
            "_model_name": "HBoxModel",
            "_view_count": null,
            "_view_module": "@jupyter-widgets/controls",
            "_view_module_version": "1.5.0",
            "_view_name": "HBoxView",
            "box_style": "",
            "children": [
              "IPY_MODEL_ff25792dde18424189d6dde2f6a094bc",
              "IPY_MODEL_2603110cb02649169e9abad90d473da0",
              "IPY_MODEL_90dc904528b846ad823bfb43b7fcb113"
            ],
            "layout": "IPY_MODEL_85623f4d39f349d19344dbea0db495cc"
          }
        },
        "580253ecc45f4abdbace93950ccf3555": {
          "model_module": "@jupyter-widgets/controls",
          "model_module_version": "1.5.0",
          "model_name": "HBoxModel",
          "state": {
            "_dom_classes": [],
            "_model_module": "@jupyter-widgets/controls",
            "_model_module_version": "1.5.0",
            "_model_name": "HBoxModel",
            "_view_count": null,
            "_view_module": "@jupyter-widgets/controls",
            "_view_module_version": "1.5.0",
            "_view_name": "HBoxView",
            "box_style": "",
            "children": [
              "IPY_MODEL_47c345ae9e4248c1ada37593163e4954",
              "IPY_MODEL_f8a77ead79ba44d2822dfd542dc7ee74",
              "IPY_MODEL_81e071c1fba14b43b3e77bc720ea5ad4"
            ],
            "layout": "IPY_MODEL_8992e482e377457da2fa98f1bbca822c"
          }
        },
        "5b5da53e65744dad8ddcad236f87df63": {
          "model_module": "@jupyter-widgets/controls",
          "model_module_version": "1.5.0",
          "model_name": "FloatProgressModel",
          "state": {
            "_dom_classes": [],
            "_model_module": "@jupyter-widgets/controls",
            "_model_module_version": "1.5.0",
            "_model_name": "FloatProgressModel",
            "_view_count": null,
            "_view_module": "@jupyter-widgets/controls",
            "_view_module_version": "1.5.0",
            "_view_name": "ProgressView",
            "bar_style": "success",
            "description": "",
            "description_tooltip": null,
            "layout": "IPY_MODEL_b718396bebea458b80653bb19f239474",
            "max": 8002,
            "min": 0,
            "orientation": "horizontal",
            "style": "IPY_MODEL_66d48b1ec3074c56a9b20735e72f5900",
            "value": 8002
          }
        },
        "5e4182a626724a1cadd620c73091950d": {
          "model_module": "@jupyter-widgets/base",
          "model_module_version": "1.2.0",
          "model_name": "LayoutModel",
          "state": {
            "_model_module": "@jupyter-widgets/base",
            "_model_module_version": "1.2.0",
            "_model_name": "LayoutModel",
            "_view_count": null,
            "_view_module": "@jupyter-widgets/base",
            "_view_module_version": "1.2.0",
            "_view_name": "LayoutView",
            "align_content": null,
            "align_items": null,
            "align_self": null,
            "border": null,
            "bottom": null,
            "display": null,
            "flex": null,
            "flex_flow": null,
            "grid_area": null,
            "grid_auto_columns": null,
            "grid_auto_flow": null,
            "grid_auto_rows": null,
            "grid_column": null,
            "grid_gap": null,
            "grid_row": null,
            "grid_template_areas": null,
            "grid_template_columns": null,
            "grid_template_rows": null,
            "height": null,
            "justify_content": null,
            "justify_items": null,
            "left": null,
            "margin": null,
            "max_height": null,
            "max_width": null,
            "min_height": null,
            "min_width": null,
            "object_fit": null,
            "object_position": null,
            "order": null,
            "overflow": null,
            "overflow_x": null,
            "overflow_y": null,
            "padding": null,
            "right": null,
            "top": null,
            "visibility": null,
            "width": null
          }
        },
        "6169e12f5ab14872b3aab1dde74aafb2": {
          "model_module": "@jupyter-widgets/controls",
          "model_module_version": "1.5.0",
          "model_name": "DescriptionStyleModel",
          "state": {
            "_model_module": "@jupyter-widgets/controls",
            "_model_module_version": "1.5.0",
            "_model_name": "DescriptionStyleModel",
            "_view_count": null,
            "_view_module": "@jupyter-widgets/base",
            "_view_module_version": "1.2.0",
            "_view_name": "StyleView",
            "description_width": ""
          }
        },
        "616c26649fac416faa36fd6d862912c1": {
          "model_module": "@jupyter-widgets/controls",
          "model_module_version": "1.5.0",
          "model_name": "HTMLModel",
          "state": {
            "_dom_classes": [],
            "_model_module": "@jupyter-widgets/controls",
            "_model_module_version": "1.5.0",
            "_model_name": "HTMLModel",
            "_view_count": null,
            "_view_module": "@jupyter-widgets/controls",
            "_view_module_version": "1.5.0",
            "_view_name": "HTMLView",
            "description": "",
            "description_tooltip": null,
            "layout": "IPY_MODEL_bffa851ed08b492a8bbbc5e344330662",
            "placeholder": "​",
            "style": "IPY_MODEL_9898897ec09d4a23b5aa55718a978497",
            "value": " 994/994 [00:00&lt;00:00, 23005.06 examples/s]"
          }
        },
        "621f61898aad461c83b66201dc5e35e2": {
          "model_module": "@jupyter-widgets/controls",
          "model_module_version": "1.5.0",
          "model_name": "ProgressStyleModel",
          "state": {
            "_model_module": "@jupyter-widgets/controls",
            "_model_module_version": "1.5.0",
            "_model_name": "ProgressStyleModel",
            "_view_count": null,
            "_view_module": "@jupyter-widgets/base",
            "_view_module_version": "1.2.0",
            "_view_name": "StyleView",
            "bar_color": null,
            "description_width": ""
          }
        },
        "66d48b1ec3074c56a9b20735e72f5900": {
          "model_module": "@jupyter-widgets/controls",
          "model_module_version": "1.5.0",
          "model_name": "ProgressStyleModel",
          "state": {
            "_model_module": "@jupyter-widgets/controls",
            "_model_module_version": "1.5.0",
            "_model_name": "ProgressStyleModel",
            "_view_count": null,
            "_view_module": "@jupyter-widgets/base",
            "_view_module_version": "1.2.0",
            "_view_name": "StyleView",
            "bar_color": null,
            "description_width": ""
          }
        },
        "73ddc4cfa7734011bb1fa917b1052002": {
          "model_module": "@jupyter-widgets/controls",
          "model_module_version": "1.5.0",
          "model_name": "HTMLModel",
          "state": {
            "_dom_classes": [],
            "_model_module": "@jupyter-widgets/controls",
            "_model_module_version": "1.5.0",
            "_model_name": "HTMLModel",
            "_view_count": null,
            "_view_module": "@jupyter-widgets/controls",
            "_view_module_version": "1.5.0",
            "_view_name": "HTMLView",
            "description": "",
            "description_tooltip": null,
            "layout": "IPY_MODEL_03ce90df7012481887d8cb6f7d9a80b1",
            "placeholder": "​",
            "style": "IPY_MODEL_44501831425d4374bebf10373eb8a12d",
            "value": "test-00000-of-00001.parquet: 100%"
          }
        },
        "76158fec5e0b455c8d9bec3c6f9272f0": {
          "model_module": "@jupyter-widgets/base",
          "model_module_version": "1.2.0",
          "model_name": "LayoutModel",
          "state": {
            "_model_module": "@jupyter-widgets/base",
            "_model_module_version": "1.2.0",
            "_model_name": "LayoutModel",
            "_view_count": null,
            "_view_module": "@jupyter-widgets/base",
            "_view_module_version": "1.2.0",
            "_view_name": "LayoutView",
            "align_content": null,
            "align_items": null,
            "align_self": null,
            "border": null,
            "bottom": null,
            "display": null,
            "flex": null,
            "flex_flow": null,
            "grid_area": null,
            "grid_auto_columns": null,
            "grid_auto_flow": null,
            "grid_auto_rows": null,
            "grid_column": null,
            "grid_gap": null,
            "grid_row": null,
            "grid_template_areas": null,
            "grid_template_columns": null,
            "grid_template_rows": null,
            "height": null,
            "justify_content": null,
            "justify_items": null,
            "left": null,
            "margin": null,
            "max_height": null,
            "max_width": null,
            "min_height": null,
            "min_width": null,
            "object_fit": null,
            "object_position": null,
            "order": null,
            "overflow": null,
            "overflow_x": null,
            "overflow_y": null,
            "padding": null,
            "right": null,
            "top": null,
            "visibility": null,
            "width": null
          }
        },
        "783e4bcb81e64d148e1ca0ea4a7a2d73": {
          "model_module": "@jupyter-widgets/controls",
          "model_module_version": "1.5.0",
          "model_name": "DescriptionStyleModel",
          "state": {
            "_model_module": "@jupyter-widgets/controls",
            "_model_module_version": "1.5.0",
            "_model_name": "DescriptionStyleModel",
            "_view_count": null,
            "_view_module": "@jupyter-widgets/base",
            "_view_module_version": "1.2.0",
            "_view_name": "StyleView",
            "description_width": ""
          }
        },
        "81e071c1fba14b43b3e77bc720ea5ad4": {
          "model_module": "@jupyter-widgets/controls",
          "model_module_version": "1.5.0",
          "model_name": "HTMLModel",
          "state": {
            "_dom_classes": [],
            "_model_module": "@jupyter-widgets/controls",
            "_model_module_version": "1.5.0",
            "_model_name": "HTMLModel",
            "_view_count": null,
            "_view_module": "@jupyter-widgets/controls",
            "_view_module_version": "1.5.0",
            "_view_name": "HTMLView",
            "description": "",
            "description_tooltip": null,
            "layout": "IPY_MODEL_d2621e038a434c6db6cb7f89482de60f",
            "placeholder": "​",
            "style": "IPY_MODEL_fa476e39cd7d40df8810cdc229b1aafa",
            "value": " 96.6k/96.6k [00:00&lt;00:00, 3.86MB/s]"
          }
        },
        "84acb679f49143638a92daaeb5a17c51": {
          "model_module": "@jupyter-widgets/controls",
          "model_module_version": "1.5.0",
          "model_name": "DescriptionStyleModel",
          "state": {
            "_model_module": "@jupyter-widgets/controls",
            "_model_module_version": "1.5.0",
            "_model_name": "DescriptionStyleModel",
            "_view_count": null,
            "_view_module": "@jupyter-widgets/base",
            "_view_module_version": "1.2.0",
            "_view_name": "StyleView",
            "description_width": ""
          }
        },
        "85623f4d39f349d19344dbea0db495cc": {
          "model_module": "@jupyter-widgets/base",
          "model_module_version": "1.2.0",
          "model_name": "LayoutModel",
          "state": {
            "_model_module": "@jupyter-widgets/base",
            "_model_module_version": "1.2.0",
            "_model_name": "LayoutModel",
            "_view_count": null,
            "_view_module": "@jupyter-widgets/base",
            "_view_module_version": "1.2.0",
            "_view_name": "LayoutView",
            "align_content": null,
            "align_items": null,
            "align_self": null,
            "border": null,
            "bottom": null,
            "display": null,
            "flex": null,
            "flex_flow": null,
            "grid_area": null,
            "grid_auto_columns": null,
            "grid_auto_flow": null,
            "grid_auto_rows": null,
            "grid_column": null,
            "grid_gap": null,
            "grid_row": null,
            "grid_template_areas": null,
            "grid_template_columns": null,
            "grid_template_rows": null,
            "height": null,
            "justify_content": null,
            "justify_items": null,
            "left": null,
            "margin": null,
            "max_height": null,
            "max_width": null,
            "min_height": null,
            "min_width": null,
            "object_fit": null,
            "object_position": null,
            "order": null,
            "overflow": null,
            "overflow_x": null,
            "overflow_y": null,
            "padding": null,
            "right": null,
            "top": null,
            "visibility": null,
            "width": null
          }
        },
        "8920dc1efafb40579401906ded8a65bc": {
          "model_module": "@jupyter-widgets/base",
          "model_module_version": "1.2.0",
          "model_name": "LayoutModel",
          "state": {
            "_model_module": "@jupyter-widgets/base",
            "_model_module_version": "1.2.0",
            "_model_name": "LayoutModel",
            "_view_count": null,
            "_view_module": "@jupyter-widgets/base",
            "_view_module_version": "1.2.0",
            "_view_name": "LayoutView",
            "align_content": null,
            "align_items": null,
            "align_self": null,
            "border": null,
            "bottom": null,
            "display": null,
            "flex": null,
            "flex_flow": null,
            "grid_area": null,
            "grid_auto_columns": null,
            "grid_auto_flow": null,
            "grid_auto_rows": null,
            "grid_column": null,
            "grid_gap": null,
            "grid_row": null,
            "grid_template_areas": null,
            "grid_template_columns": null,
            "grid_template_rows": null,
            "height": null,
            "justify_content": null,
            "justify_items": null,
            "left": null,
            "margin": null,
            "max_height": null,
            "max_width": null,
            "min_height": null,
            "min_width": null,
            "object_fit": null,
            "object_position": null,
            "order": null,
            "overflow": null,
            "overflow_x": null,
            "overflow_y": null,
            "padding": null,
            "right": null,
            "top": null,
            "visibility": null,
            "width": null
          }
        },
        "8992e482e377457da2fa98f1bbca822c": {
          "model_module": "@jupyter-widgets/base",
          "model_module_version": "1.2.0",
          "model_name": "LayoutModel",
          "state": {
            "_model_module": "@jupyter-widgets/base",
            "_model_module_version": "1.2.0",
            "_model_name": "LayoutModel",
            "_view_count": null,
            "_view_module": "@jupyter-widgets/base",
            "_view_module_version": "1.2.0",
            "_view_name": "LayoutView",
            "align_content": null,
            "align_items": null,
            "align_self": null,
            "border": null,
            "bottom": null,
            "display": null,
            "flex": null,
            "flex_flow": null,
            "grid_area": null,
            "grid_auto_columns": null,
            "grid_auto_flow": null,
            "grid_auto_rows": null,
            "grid_column": null,
            "grid_gap": null,
            "grid_row": null,
            "grid_template_areas": null,
            "grid_template_columns": null,
            "grid_template_rows": null,
            "height": null,
            "justify_content": null,
            "justify_items": null,
            "left": null,
            "margin": null,
            "max_height": null,
            "max_width": null,
            "min_height": null,
            "min_width": null,
            "object_fit": null,
            "object_position": null,
            "order": null,
            "overflow": null,
            "overflow_x": null,
            "overflow_y": null,
            "padding": null,
            "right": null,
            "top": null,
            "visibility": null,
            "width": null
          }
        },
        "8f1e2989b11e4de281a4d88f16020c7c": {
          "model_module": "@jupyter-widgets/base",
          "model_module_version": "1.2.0",
          "model_name": "LayoutModel",
          "state": {
            "_model_module": "@jupyter-widgets/base",
            "_model_module_version": "1.2.0",
            "_model_name": "LayoutModel",
            "_view_count": null,
            "_view_module": "@jupyter-widgets/base",
            "_view_module_version": "1.2.0",
            "_view_name": "LayoutView",
            "align_content": null,
            "align_items": null,
            "align_self": null,
            "border": null,
            "bottom": null,
            "display": null,
            "flex": null,
            "flex_flow": null,
            "grid_area": null,
            "grid_auto_columns": null,
            "grid_auto_flow": null,
            "grid_auto_rows": null,
            "grid_column": null,
            "grid_gap": null,
            "grid_row": null,
            "grid_template_areas": null,
            "grid_template_columns": null,
            "grid_template_rows": null,
            "height": null,
            "justify_content": null,
            "justify_items": null,
            "left": null,
            "margin": null,
            "max_height": null,
            "max_width": null,
            "min_height": null,
            "min_width": null,
            "object_fit": null,
            "object_position": null,
            "order": null,
            "overflow": null,
            "overflow_x": null,
            "overflow_y": null,
            "padding": null,
            "right": null,
            "top": null,
            "visibility": null,
            "width": null
          }
        },
        "8fd68620b9c44caea4de01b21da98fb4": {
          "model_module": "@jupyter-widgets/base",
          "model_module_version": "1.2.0",
          "model_name": "LayoutModel",
          "state": {
            "_model_module": "@jupyter-widgets/base",
            "_model_module_version": "1.2.0",
            "_model_name": "LayoutModel",
            "_view_count": null,
            "_view_module": "@jupyter-widgets/base",
            "_view_module_version": "1.2.0",
            "_view_name": "LayoutView",
            "align_content": null,
            "align_items": null,
            "align_self": null,
            "border": null,
            "bottom": null,
            "display": null,
            "flex": null,
            "flex_flow": null,
            "grid_area": null,
            "grid_auto_columns": null,
            "grid_auto_flow": null,
            "grid_auto_rows": null,
            "grid_column": null,
            "grid_gap": null,
            "grid_row": null,
            "grid_template_areas": null,
            "grid_template_columns": null,
            "grid_template_rows": null,
            "height": null,
            "justify_content": null,
            "justify_items": null,
            "left": null,
            "margin": null,
            "max_height": null,
            "max_width": null,
            "min_height": null,
            "min_width": null,
            "object_fit": null,
            "object_position": null,
            "order": null,
            "overflow": null,
            "overflow_x": null,
            "overflow_y": null,
            "padding": null,
            "right": null,
            "top": null,
            "visibility": null,
            "width": null
          }
        },
        "90dc904528b846ad823bfb43b7fcb113": {
          "model_module": "@jupyter-widgets/controls",
          "model_module_version": "1.5.0",
          "model_name": "HTMLModel",
          "state": {
            "_dom_classes": [],
            "_model_module": "@jupyter-widgets/controls",
            "_model_module_version": "1.5.0",
            "_model_name": "HTMLModel",
            "_view_count": null,
            "_view_module": "@jupyter-widgets/controls",
            "_view_module_version": "1.5.0",
            "_view_name": "HTMLView",
            "description": "",
            "description_tooltip": null,
            "layout": "IPY_MODEL_01c16b1bdeb9431aa822b9fcdcfcf85a",
            "placeholder": "​",
            "style": "IPY_MODEL_55876ce7e3e14d49b49a1eca387cc79a",
            "value": " 2.54k/2.54k [00:00&lt;00:00, 123kB/s]"
          }
        },
        "9193c870b4bb4433a334e567723aac5b": {
          "model_module": "@jupyter-widgets/controls",
          "model_module_version": "1.5.0",
          "model_name": "ProgressStyleModel",
          "state": {
            "_model_module": "@jupyter-widgets/controls",
            "_model_module_version": "1.5.0",
            "_model_name": "ProgressStyleModel",
            "_view_count": null,
            "_view_module": "@jupyter-widgets/base",
            "_view_module_version": "1.2.0",
            "_view_name": "StyleView",
            "bar_color": null,
            "description_width": ""
          }
        },
        "9898897ec09d4a23b5aa55718a978497": {
          "model_module": "@jupyter-widgets/controls",
          "model_module_version": "1.5.0",
          "model_name": "DescriptionStyleModel",
          "state": {
            "_model_module": "@jupyter-widgets/controls",
            "_model_module_version": "1.5.0",
            "_model_name": "DescriptionStyleModel",
            "_view_count": null,
            "_view_module": "@jupyter-widgets/base",
            "_view_module_version": "1.2.0",
            "_view_name": "StyleView",
            "description_width": ""
          }
        },
        "9fbe2a03768e4ce1872daff2313a8d5c": {
          "model_module": "@jupyter-widgets/base",
          "model_module_version": "1.2.0",
          "model_name": "LayoutModel",
          "state": {
            "_model_module": "@jupyter-widgets/base",
            "_model_module_version": "1.2.0",
            "_model_name": "LayoutModel",
            "_view_count": null,
            "_view_module": "@jupyter-widgets/base",
            "_view_module_version": "1.2.0",
            "_view_name": "LayoutView",
            "align_content": null,
            "align_items": null,
            "align_self": null,
            "border": null,
            "bottom": null,
            "display": null,
            "flex": null,
            "flex_flow": null,
            "grid_area": null,
            "grid_auto_columns": null,
            "grid_auto_flow": null,
            "grid_auto_rows": null,
            "grid_column": null,
            "grid_gap": null,
            "grid_row": null,
            "grid_template_areas": null,
            "grid_template_columns": null,
            "grid_template_rows": null,
            "height": null,
            "justify_content": null,
            "justify_items": null,
            "left": null,
            "margin": null,
            "max_height": null,
            "max_width": null,
            "min_height": null,
            "min_width": null,
            "object_fit": null,
            "object_position": null,
            "order": null,
            "overflow": null,
            "overflow_x": null,
            "overflow_y": null,
            "padding": null,
            "right": null,
            "top": null,
            "visibility": null,
            "width": null
          }
        },
        "a76c5da2514d4f2197e78f11c6cf0e0c": {
          "model_module": "@jupyter-widgets/base",
          "model_module_version": "1.2.0",
          "model_name": "LayoutModel",
          "state": {
            "_model_module": "@jupyter-widgets/base",
            "_model_module_version": "1.2.0",
            "_model_name": "LayoutModel",
            "_view_count": null,
            "_view_module": "@jupyter-widgets/base",
            "_view_module_version": "1.2.0",
            "_view_name": "LayoutView",
            "align_content": null,
            "align_items": null,
            "align_self": null,
            "border": null,
            "bottom": null,
            "display": null,
            "flex": null,
            "flex_flow": null,
            "grid_area": null,
            "grid_auto_columns": null,
            "grid_auto_flow": null,
            "grid_auto_rows": null,
            "grid_column": null,
            "grid_gap": null,
            "grid_row": null,
            "grid_template_areas": null,
            "grid_template_columns": null,
            "grid_template_rows": null,
            "height": null,
            "justify_content": null,
            "justify_items": null,
            "left": null,
            "margin": null,
            "max_height": null,
            "max_width": null,
            "min_height": null,
            "min_width": null,
            "object_fit": null,
            "object_position": null,
            "order": null,
            "overflow": null,
            "overflow_x": null,
            "overflow_y": null,
            "padding": null,
            "right": null,
            "top": null,
            "visibility": null,
            "width": null
          }
        },
        "a7dbb0968bb746e19fef157837a92523": {
          "model_module": "@jupyter-widgets/controls",
          "model_module_version": "1.5.0",
          "model_name": "HTMLModel",
          "state": {
            "_dom_classes": [],
            "_model_module": "@jupyter-widgets/controls",
            "_model_module_version": "1.5.0",
            "_model_name": "HTMLModel",
            "_view_count": null,
            "_view_module": "@jupyter-widgets/controls",
            "_view_module_version": "1.5.0",
            "_view_name": "HTMLView",
            "description": "",
            "description_tooltip": null,
            "layout": "IPY_MODEL_5e4182a626724a1cadd620c73091950d",
            "placeholder": "​",
            "style": "IPY_MODEL_054face69c9e489da83f7b0c9a13e2f2",
            "value": "train-00000-of-00001.parquet: 100%"
          }
        },
        "a94aa845077548c58f19e95505f9c94a": {
          "model_module": "@jupyter-widgets/controls",
          "model_module_version": "1.5.0",
          "model_name": "FloatProgressModel",
          "state": {
            "_dom_classes": [],
            "_model_module": "@jupyter-widgets/controls",
            "_model_module_version": "1.5.0",
            "_model_name": "FloatProgressModel",
            "_view_count": null,
            "_view_module": "@jupyter-widgets/controls",
            "_view_module_version": "1.5.0",
            "_view_name": "ProgressView",
            "bar_style": "success",
            "description": "",
            "description_tooltip": null,
            "layout": "IPY_MODEL_13c77c0d994d4b078fddfbb65b22568b",
            "max": 787162,
            "min": 0,
            "orientation": "horizontal",
            "style": "IPY_MODEL_4f921a19a08945daadf4234b922dd8d9",
            "value": 787162
          }
        },
        "a9b0a370b948487cbaa398f93a5ac29e": {
          "model_module": "@jupyter-widgets/base",
          "model_module_version": "1.2.0",
          "model_name": "LayoutModel",
          "state": {
            "_model_module": "@jupyter-widgets/base",
            "_model_module_version": "1.2.0",
            "_model_name": "LayoutModel",
            "_view_count": null,
            "_view_module": "@jupyter-widgets/base",
            "_view_module_version": "1.2.0",
            "_view_name": "LayoutView",
            "align_content": null,
            "align_items": null,
            "align_self": null,
            "border": null,
            "bottom": null,
            "display": null,
            "flex": null,
            "flex_flow": null,
            "grid_area": null,
            "grid_auto_columns": null,
            "grid_auto_flow": null,
            "grid_auto_rows": null,
            "grid_column": null,
            "grid_gap": null,
            "grid_row": null,
            "grid_template_areas": null,
            "grid_template_columns": null,
            "grid_template_rows": null,
            "height": null,
            "justify_content": null,
            "justify_items": null,
            "left": null,
            "margin": null,
            "max_height": null,
            "max_width": null,
            "min_height": null,
            "min_width": null,
            "object_fit": null,
            "object_position": null,
            "order": null,
            "overflow": null,
            "overflow_x": null,
            "overflow_y": null,
            "padding": null,
            "right": null,
            "top": null,
            "visibility": null,
            "width": null
          }
        },
        "a9f18a93c4a24124aac07d6bc95ec464": {
          "model_module": "@jupyter-widgets/controls",
          "model_module_version": "1.5.0",
          "model_name": "HBoxModel",
          "state": {
            "_dom_classes": [],
            "_model_module": "@jupyter-widgets/controls",
            "_model_module_version": "1.5.0",
            "_model_name": "HBoxModel",
            "_view_count": null,
            "_view_module": "@jupyter-widgets/controls",
            "_view_module_version": "1.5.0",
            "_view_name": "HBoxView",
            "box_style": "",
            "children": [
              "IPY_MODEL_522d39c715e0479cb08ed92a52a851b4",
              "IPY_MODEL_5b5da53e65744dad8ddcad236f87df63",
              "IPY_MODEL_3efb3b3c8a8a48149ece9a7d8d138214"
            ],
            "layout": "IPY_MODEL_288c951d86aa4aeab0beaa03b7d84b5d"
          }
        },
        "b718396bebea458b80653bb19f239474": {
          "model_module": "@jupyter-widgets/base",
          "model_module_version": "1.2.0",
          "model_name": "LayoutModel",
          "state": {
            "_model_module": "@jupyter-widgets/base",
            "_model_module_version": "1.2.0",
            "_model_name": "LayoutModel",
            "_view_count": null,
            "_view_module": "@jupyter-widgets/base",
            "_view_module_version": "1.2.0",
            "_view_name": "LayoutView",
            "align_content": null,
            "align_items": null,
            "align_self": null,
            "border": null,
            "bottom": null,
            "display": null,
            "flex": null,
            "flex_flow": null,
            "grid_area": null,
            "grid_auto_columns": null,
            "grid_auto_flow": null,
            "grid_auto_rows": null,
            "grid_column": null,
            "grid_gap": null,
            "grid_row": null,
            "grid_template_areas": null,
            "grid_template_columns": null,
            "grid_template_rows": null,
            "height": null,
            "justify_content": null,
            "justify_items": null,
            "left": null,
            "margin": null,
            "max_height": null,
            "max_width": null,
            "min_height": null,
            "min_width": null,
            "object_fit": null,
            "object_position": null,
            "order": null,
            "overflow": null,
            "overflow_x": null,
            "overflow_y": null,
            "padding": null,
            "right": null,
            "top": null,
            "visibility": null,
            "width": null
          }
        },
        "b94a0901eced4cfbac0dc6352961e0fd": {
          "model_module": "@jupyter-widgets/controls",
          "model_module_version": "1.5.0",
          "model_name": "DescriptionStyleModel",
          "state": {
            "_model_module": "@jupyter-widgets/controls",
            "_model_module_version": "1.5.0",
            "_model_name": "DescriptionStyleModel",
            "_view_count": null,
            "_view_module": "@jupyter-widgets/base",
            "_view_module_version": "1.2.0",
            "_view_name": "StyleView",
            "description_width": ""
          }
        },
        "bc262c84e7d14d879f2273d5199e994b": {
          "model_module": "@jupyter-widgets/base",
          "model_module_version": "1.2.0",
          "model_name": "LayoutModel",
          "state": {
            "_model_module": "@jupyter-widgets/base",
            "_model_module_version": "1.2.0",
            "_model_name": "LayoutModel",
            "_view_count": null,
            "_view_module": "@jupyter-widgets/base",
            "_view_module_version": "1.2.0",
            "_view_name": "LayoutView",
            "align_content": null,
            "align_items": null,
            "align_self": null,
            "border": null,
            "bottom": null,
            "display": null,
            "flex": null,
            "flex_flow": null,
            "grid_area": null,
            "grid_auto_columns": null,
            "grid_auto_flow": null,
            "grid_auto_rows": null,
            "grid_column": null,
            "grid_gap": null,
            "grid_row": null,
            "grid_template_areas": null,
            "grid_template_columns": null,
            "grid_template_rows": null,
            "height": null,
            "justify_content": null,
            "justify_items": null,
            "left": null,
            "margin": null,
            "max_height": null,
            "max_width": null,
            "min_height": null,
            "min_width": null,
            "object_fit": null,
            "object_position": null,
            "order": null,
            "overflow": null,
            "overflow_x": null,
            "overflow_y": null,
            "padding": null,
            "right": null,
            "top": null,
            "visibility": null,
            "width": null
          }
        },
        "bffa851ed08b492a8bbbc5e344330662": {
          "model_module": "@jupyter-widgets/base",
          "model_module_version": "1.2.0",
          "model_name": "LayoutModel",
          "state": {
            "_model_module": "@jupyter-widgets/base",
            "_model_module_version": "1.2.0",
            "_model_name": "LayoutModel",
            "_view_count": null,
            "_view_module": "@jupyter-widgets/base",
            "_view_module_version": "1.2.0",
            "_view_name": "LayoutView",
            "align_content": null,
            "align_items": null,
            "align_self": null,
            "border": null,
            "bottom": null,
            "display": null,
            "flex": null,
            "flex_flow": null,
            "grid_area": null,
            "grid_auto_columns": null,
            "grid_auto_flow": null,
            "grid_auto_rows": null,
            "grid_column": null,
            "grid_gap": null,
            "grid_row": null,
            "grid_template_areas": null,
            "grid_template_columns": null,
            "grid_template_rows": null,
            "height": null,
            "justify_content": null,
            "justify_items": null,
            "left": null,
            "margin": null,
            "max_height": null,
            "max_width": null,
            "min_height": null,
            "min_width": null,
            "object_fit": null,
            "object_position": null,
            "order": null,
            "overflow": null,
            "overflow_x": null,
            "overflow_y": null,
            "padding": null,
            "right": null,
            "top": null,
            "visibility": null,
            "width": null
          }
        },
        "c47cce0dd15740868d1101da7345516f": {
          "model_module": "@jupyter-widgets/controls",
          "model_module_version": "1.5.0",
          "model_name": "HBoxModel",
          "state": {
            "_dom_classes": [],
            "_model_module": "@jupyter-widgets/controls",
            "_model_module_version": "1.5.0",
            "_model_name": "HBoxModel",
            "_view_count": null,
            "_view_module": "@jupyter-widgets/controls",
            "_view_module_version": "1.5.0",
            "_view_name": "HBoxView",
            "box_style": "",
            "children": [
              "IPY_MODEL_a7dbb0968bb746e19fef157837a92523",
              "IPY_MODEL_a94aa845077548c58f19e95505f9c94a",
              "IPY_MODEL_05b1d177fe1944879070794a7ba6524c"
            ],
            "layout": "IPY_MODEL_bc262c84e7d14d879f2273d5199e994b"
          }
        },
        "c946ffde64c24542b2020b55354abee7": {
          "model_module": "@jupyter-widgets/controls",
          "model_module_version": "1.5.0",
          "model_name": "FloatProgressModel",
          "state": {
            "_dom_classes": [],
            "_model_module": "@jupyter-widgets/controls",
            "_model_module_version": "1.5.0",
            "_model_name": "FloatProgressModel",
            "_view_count": null,
            "_view_module": "@jupyter-widgets/controls",
            "_view_module_version": "1.5.0",
            "_view_name": "ProgressView",
            "bar_style": "success",
            "description": "",
            "description_tooltip": null,
            "layout": "IPY_MODEL_8f1e2989b11e4de281a4d88f16020c7c",
            "max": 994,
            "min": 0,
            "orientation": "horizontal",
            "style": "IPY_MODEL_dda2a3005aa74050a38a146f593439d8",
            "value": 994
          }
        },
        "d115796a58f9402f8cf600e53f38c5da": {
          "model_module": "@jupyter-widgets/base",
          "model_module_version": "1.2.0",
          "model_name": "LayoutModel",
          "state": {
            "_model_module": "@jupyter-widgets/base",
            "_model_module_version": "1.2.0",
            "_model_name": "LayoutModel",
            "_view_count": null,
            "_view_module": "@jupyter-widgets/base",
            "_view_module_version": "1.2.0",
            "_view_name": "LayoutView",
            "align_content": null,
            "align_items": null,
            "align_self": null,
            "border": null,
            "bottom": null,
            "display": null,
            "flex": null,
            "flex_flow": null,
            "grid_area": null,
            "grid_auto_columns": null,
            "grid_auto_flow": null,
            "grid_auto_rows": null,
            "grid_column": null,
            "grid_gap": null,
            "grid_row": null,
            "grid_template_areas": null,
            "grid_template_columns": null,
            "grid_template_rows": null,
            "height": null,
            "justify_content": null,
            "justify_items": null,
            "left": null,
            "margin": null,
            "max_height": null,
            "max_width": null,
            "min_height": null,
            "min_width": null,
            "object_fit": null,
            "object_position": null,
            "order": null,
            "overflow": null,
            "overflow_x": null,
            "overflow_y": null,
            "padding": null,
            "right": null,
            "top": null,
            "visibility": null,
            "width": null
          }
        },
        "d2621e038a434c6db6cb7f89482de60f": {
          "model_module": "@jupyter-widgets/base",
          "model_module_version": "1.2.0",
          "model_name": "LayoutModel",
          "state": {
            "_model_module": "@jupyter-widgets/base",
            "_model_module_version": "1.2.0",
            "_model_name": "LayoutModel",
            "_view_count": null,
            "_view_module": "@jupyter-widgets/base",
            "_view_module_version": "1.2.0",
            "_view_name": "LayoutView",
            "align_content": null,
            "align_items": null,
            "align_self": null,
            "border": null,
            "bottom": null,
            "display": null,
            "flex": null,
            "flex_flow": null,
            "grid_area": null,
            "grid_auto_columns": null,
            "grid_auto_flow": null,
            "grid_auto_rows": null,
            "grid_column": null,
            "grid_gap": null,
            "grid_row": null,
            "grid_template_areas": null,
            "grid_template_columns": null,
            "grid_template_rows": null,
            "height": null,
            "justify_content": null,
            "justify_items": null,
            "left": null,
            "margin": null,
            "max_height": null,
            "max_width": null,
            "min_height": null,
            "min_width": null,
            "object_fit": null,
            "object_position": null,
            "order": null,
            "overflow": null,
            "overflow_x": null,
            "overflow_y": null,
            "padding": null,
            "right": null,
            "top": null,
            "visibility": null,
            "width": null
          }
        },
        "db03ef3faf634723937bd63b0bdf5743": {
          "model_module": "@jupyter-widgets/base",
          "model_module_version": "1.2.0",
          "model_name": "LayoutModel",
          "state": {
            "_model_module": "@jupyter-widgets/base",
            "_model_module_version": "1.2.0",
            "_model_name": "LayoutModel",
            "_view_count": null,
            "_view_module": "@jupyter-widgets/base",
            "_view_module_version": "1.2.0",
            "_view_name": "LayoutView",
            "align_content": null,
            "align_items": null,
            "align_self": null,
            "border": null,
            "bottom": null,
            "display": null,
            "flex": null,
            "flex_flow": null,
            "grid_area": null,
            "grid_auto_columns": null,
            "grid_auto_flow": null,
            "grid_auto_rows": null,
            "grid_column": null,
            "grid_gap": null,
            "grid_row": null,
            "grid_template_areas": null,
            "grid_template_columns": null,
            "grid_template_rows": null,
            "height": null,
            "justify_content": null,
            "justify_items": null,
            "left": null,
            "margin": null,
            "max_height": null,
            "max_width": null,
            "min_height": null,
            "min_width": null,
            "object_fit": null,
            "object_position": null,
            "order": null,
            "overflow": null,
            "overflow_x": null,
            "overflow_y": null,
            "padding": null,
            "right": null,
            "top": null,
            "visibility": null,
            "width": null
          }
        },
        "dda2a3005aa74050a38a146f593439d8": {
          "model_module": "@jupyter-widgets/controls",
          "model_module_version": "1.5.0",
          "model_name": "ProgressStyleModel",
          "state": {
            "_model_module": "@jupyter-widgets/controls",
            "_model_module_version": "1.5.0",
            "_model_name": "ProgressStyleModel",
            "_view_count": null,
            "_view_module": "@jupyter-widgets/base",
            "_view_module_version": "1.2.0",
            "_view_name": "StyleView",
            "bar_color": null,
            "description_width": ""
          }
        },
        "e413fc2e24c94e1aa74b17fb379af604": {
          "model_module": "@jupyter-widgets/base",
          "model_module_version": "1.2.0",
          "model_name": "LayoutModel",
          "state": {
            "_model_module": "@jupyter-widgets/base",
            "_model_module_version": "1.2.0",
            "_model_name": "LayoutModel",
            "_view_count": null,
            "_view_module": "@jupyter-widgets/base",
            "_view_module_version": "1.2.0",
            "_view_name": "LayoutView",
            "align_content": null,
            "align_items": null,
            "align_self": null,
            "border": null,
            "bottom": null,
            "display": null,
            "flex": null,
            "flex_flow": null,
            "grid_area": null,
            "grid_auto_columns": null,
            "grid_auto_flow": null,
            "grid_auto_rows": null,
            "grid_column": null,
            "grid_gap": null,
            "grid_row": null,
            "grid_template_areas": null,
            "grid_template_columns": null,
            "grid_template_rows": null,
            "height": null,
            "justify_content": null,
            "justify_items": null,
            "left": null,
            "margin": null,
            "max_height": null,
            "max_width": null,
            "min_height": null,
            "min_width": null,
            "object_fit": null,
            "object_position": null,
            "order": null,
            "overflow": null,
            "overflow_x": null,
            "overflow_y": null,
            "padding": null,
            "right": null,
            "top": null,
            "visibility": null,
            "width": null
          }
        },
        "ec7c298ca2654039ac0f5ba61a1817fd": {
          "model_module": "@jupyter-widgets/controls",
          "model_module_version": "1.5.0",
          "model_name": "HTMLModel",
          "state": {
            "_dom_classes": [],
            "_model_module": "@jupyter-widgets/controls",
            "_model_module_version": "1.5.0",
            "_model_name": "HTMLModel",
            "_view_count": null,
            "_view_module": "@jupyter-widgets/controls",
            "_view_module_version": "1.5.0",
            "_view_name": "HTMLView",
            "description": "",
            "description_tooltip": null,
            "layout": "IPY_MODEL_9fbe2a03768e4ce1872daff2313a8d5c",
            "placeholder": "​",
            "style": "IPY_MODEL_008bbb24a07a44269a22ffa7d7aa137a",
            "value": " 1007/1007 [00:00&lt;00:00, 19201.27 examples/s]"
          }
        },
        "ed0232a544e9463dbb465e5aca4844e6": {
          "model_module": "@jupyter-widgets/controls",
          "model_module_version": "1.5.0",
          "model_name": "HTMLModel",
          "state": {
            "_dom_classes": [],
            "_model_module": "@jupyter-widgets/controls",
            "_model_module_version": "1.5.0",
            "_model_name": "HTMLModel",
            "_view_count": null,
            "_view_module": "@jupyter-widgets/controls",
            "_view_module_version": "1.5.0",
            "_view_name": "HTMLView",
            "description": "",
            "description_tooltip": null,
            "layout": "IPY_MODEL_d115796a58f9402f8cf600e53f38c5da",
            "placeholder": "​",
            "style": "IPY_MODEL_6169e12f5ab14872b3aab1dde74aafb2",
            "value": " 103k/103k [00:00&lt;00:00, 3.25MB/s]"
          }
        },
        "ee28779cea59400398cc71c1221dc031": {
          "model_module": "@jupyter-widgets/base",
          "model_module_version": "1.2.0",
          "model_name": "LayoutModel",
          "state": {
            "_model_module": "@jupyter-widgets/base",
            "_model_module_version": "1.2.0",
            "_model_name": "LayoutModel",
            "_view_count": null,
            "_view_module": "@jupyter-widgets/base",
            "_view_module_version": "1.2.0",
            "_view_name": "LayoutView",
            "align_content": null,
            "align_items": null,
            "align_self": null,
            "border": null,
            "bottom": null,
            "display": null,
            "flex": null,
            "flex_flow": null,
            "grid_area": null,
            "grid_auto_columns": null,
            "grid_auto_flow": null,
            "grid_auto_rows": null,
            "grid_column": null,
            "grid_gap": null,
            "grid_row": null,
            "grid_template_areas": null,
            "grid_template_columns": null,
            "grid_template_rows": null,
            "height": null,
            "justify_content": null,
            "justify_items": null,
            "left": null,
            "margin": null,
            "max_height": null,
            "max_width": null,
            "min_height": null,
            "min_width": null,
            "object_fit": null,
            "object_position": null,
            "order": null,
            "overflow": null,
            "overflow_x": null,
            "overflow_y": null,
            "padding": null,
            "right": null,
            "top": null,
            "visibility": null,
            "width": null
          }
        },
        "f00644a1498c49bcad5dd8e5489711cc": {
          "model_module": "@jupyter-widgets/controls",
          "model_module_version": "1.5.0",
          "model_name": "DescriptionStyleModel",
          "state": {
            "_model_module": "@jupyter-widgets/controls",
            "_model_module_version": "1.5.0",
            "_model_name": "DescriptionStyleModel",
            "_view_count": null,
            "_view_module": "@jupyter-widgets/base",
            "_view_module_version": "1.2.0",
            "_view_name": "StyleView",
            "description_width": ""
          }
        },
        "f249bc03ed774224a105fddeb848fe85": {
          "model_module": "@jupyter-widgets/controls",
          "model_module_version": "1.5.0",
          "model_name": "HBoxModel",
          "state": {
            "_dom_classes": [],
            "_model_module": "@jupyter-widgets/controls",
            "_model_module_version": "1.5.0",
            "_model_name": "HBoxModel",
            "_view_count": null,
            "_view_module": "@jupyter-widgets/controls",
            "_view_module_version": "1.5.0",
            "_view_name": "HBoxView",
            "box_style": "",
            "children": [
              "IPY_MODEL_73ddc4cfa7734011bb1fa917b1052002",
              "IPY_MODEL_01eb65ca545847e6b37e527f75e8483b",
              "IPY_MODEL_ed0232a544e9463dbb465e5aca4844e6"
            ],
            "layout": "IPY_MODEL_a9b0a370b948487cbaa398f93a5ac29e"
          }
        },
        "f7d71b43b2ee4ddea005d55d894e5055": {
          "model_module": "@jupyter-widgets/base",
          "model_module_version": "1.2.0",
          "model_name": "LayoutModel",
          "state": {
            "_model_module": "@jupyter-widgets/base",
            "_model_module_version": "1.2.0",
            "_model_name": "LayoutModel",
            "_view_count": null,
            "_view_module": "@jupyter-widgets/base",
            "_view_module_version": "1.2.0",
            "_view_name": "LayoutView",
            "align_content": null,
            "align_items": null,
            "align_self": null,
            "border": null,
            "bottom": null,
            "display": null,
            "flex": null,
            "flex_flow": null,
            "grid_area": null,
            "grid_auto_columns": null,
            "grid_auto_flow": null,
            "grid_auto_rows": null,
            "grid_column": null,
            "grid_gap": null,
            "grid_row": null,
            "grid_template_areas": null,
            "grid_template_columns": null,
            "grid_template_rows": null,
            "height": null,
            "justify_content": null,
            "justify_items": null,
            "left": null,
            "margin": null,
            "max_height": null,
            "max_width": null,
            "min_height": null,
            "min_width": null,
            "object_fit": null,
            "object_position": null,
            "order": null,
            "overflow": null,
            "overflow_x": null,
            "overflow_y": null,
            "padding": null,
            "right": null,
            "top": null,
            "visibility": null,
            "width": null
          }
        },
        "f8a77ead79ba44d2822dfd542dc7ee74": {
          "model_module": "@jupyter-widgets/controls",
          "model_module_version": "1.5.0",
          "model_name": "FloatProgressModel",
          "state": {
            "_dom_classes": [],
            "_model_module": "@jupyter-widgets/controls",
            "_model_module_version": "1.5.0",
            "_model_name": "FloatProgressModel",
            "_view_count": null,
            "_view_module": "@jupyter-widgets/controls",
            "_view_module_version": "1.5.0",
            "_view_name": "ProgressView",
            "bar_style": "success",
            "description": "",
            "description_tooltip": null,
            "layout": "IPY_MODEL_a76c5da2514d4f2197e78f11c6cf0e0c",
            "max": 96610,
            "min": 0,
            "orientation": "horizontal",
            "style": "IPY_MODEL_fdebe9ec20484e379e4ae5b8f1e90b49",
            "value": 96610
          }
        },
        "f8ed7d9c007a4465a75744444e9bf82d": {
          "model_module": "@jupyter-widgets/controls",
          "model_module_version": "1.5.0",
          "model_name": "HTMLModel",
          "state": {
            "_dom_classes": [],
            "_model_module": "@jupyter-widgets/controls",
            "_model_module_version": "1.5.0",
            "_model_name": "HTMLModel",
            "_view_count": null,
            "_view_module": "@jupyter-widgets/controls",
            "_view_module_version": "1.5.0",
            "_view_name": "HTMLView",
            "description": "",
            "description_tooltip": null,
            "layout": "IPY_MODEL_f7d71b43b2ee4ddea005d55d894e5055",
            "placeholder": "​",
            "style": "IPY_MODEL_783e4bcb81e64d148e1ca0ea4a7a2d73",
            "value": "Generating validation split: 100%"
          }
        },
        "fa476e39cd7d40df8810cdc229b1aafa": {
          "model_module": "@jupyter-widgets/controls",
          "model_module_version": "1.5.0",
          "model_name": "DescriptionStyleModel",
          "state": {
            "_model_module": "@jupyter-widgets/controls",
            "_model_module_version": "1.5.0",
            "_model_name": "DescriptionStyleModel",
            "_view_count": null,
            "_view_module": "@jupyter-widgets/base",
            "_view_module_version": "1.2.0",
            "_view_name": "StyleView",
            "description_width": ""
          }
        },
        "fdebe9ec20484e379e4ae5b8f1e90b49": {
          "model_module": "@jupyter-widgets/controls",
          "model_module_version": "1.5.0",
          "model_name": "ProgressStyleModel",
          "state": {
            "_model_module": "@jupyter-widgets/controls",
            "_model_module_version": "1.5.0",
            "_model_name": "ProgressStyleModel",
            "_view_count": null,
            "_view_module": "@jupyter-widgets/base",
            "_view_module_version": "1.2.0",
            "_view_name": "StyleView",
            "bar_color": null,
            "description_width": ""
          }
        },
        "ff25792dde18424189d6dde2f6a094bc": {
          "model_module": "@jupyter-widgets/controls",
          "model_module_version": "1.5.0",
          "model_name": "HTMLModel",
          "state": {
            "_dom_classes": [],
            "_model_module": "@jupyter-widgets/controls",
            "_model_module_version": "1.5.0",
            "_model_name": "HTMLModel",
            "_view_count": null,
            "_view_module": "@jupyter-widgets/controls",
            "_view_module_version": "1.5.0",
            "_view_name": "HTMLView",
            "description": "",
            "description_tooltip": null,
            "layout": "IPY_MODEL_1247ac16448847e3a7450df0761e5fe5",
            "placeholder": "​",
            "style": "IPY_MODEL_b94a0901eced4cfbac0dc6352961e0fd",
            "value": "README.md: 100%"
          }
        },
        "ff83d248844442a6b0a9515edc2408cf": {
          "model_module": "@jupyter-widgets/controls",
          "model_module_version": "1.5.0",
          "model_name": "DescriptionStyleModel",
          "state": {
            "_model_module": "@jupyter-widgets/controls",
            "_model_module_version": "1.5.0",
            "_model_name": "DescriptionStyleModel",
            "_view_count": null,
            "_view_module": "@jupyter-widgets/base",
            "_view_module_version": "1.2.0",
            "_view_name": "StyleView",
            "description_width": ""
          }
        }
      }
    }
  },
  "nbformat": 4,
  "nbformat_minor": 0
}
